{
 "cells": [
  {
   "attachments": {},
   "cell_type": "markdown",
   "metadata": {},
   "source": [
    "Welcome to the first `biobuild` tutorial, where we shall learn the basics of operating with `biobuild`!\n",
    "\n",
    "> ### In this tutorial we will cover:\n",
    "> - which (main) classes and modules exist and when to use them\n",
    "> - how to read input to make `Molecule`s\n",
    "> - how to connect two molecules together"
   ]
  },
  {
   "attachments": {},
   "cell_type": "markdown",
   "metadata": {},
   "source": [
    "## Main Classes in `biobuild`\n",
    "\n",
    "The most important class is the `Molecule` class which houses ~90% of all functionality that the average user is likely to use. \n",
    "Next, comes the `Linkage` class that defines how multiple molecules can be connected, so the user can build larger structures. Third,\n",
    "are the `ResidueGraph` and `Rotatron` environments of the `optimizers` module - to optimize conformations. Finally, the  `MoleculeViewer3D` may come in quite handy. It is essentially just a plotly 3D-plot but it can be selectively colored easily so as to highlight specific parts of your molecule - it is a great tool to check if your building process is working (or to debug why it may not be). \n",
    "That's already about it, there is a lot more - but everything else is mostly underneath the surface and will most likely not bother the average user directly. "
   ]
  },
  {
   "attachments": {},
   "cell_type": "markdown",
   "metadata": {},
   "source": [
    "```mermaid\n",
    "\n",
    "flowchart TB\n",
    "  node_0[\"core\"]\n",
    "  node_1(\"Molecule\")\n",
    "  node_2(\"ResidueGraph\")\n",
    "  node_3(\"MoleculeViewer3D\")\n",
    "  node_4[\"Optimizers\"]\n",
    "  node_6(\"Rotatron\")\n",
    "  node_7{\"{}_optimize\"}\n",
    "  node_5[\"Linkage\"]\n",
    "  node_1 -.-> node_2\n",
    "  node_1 -.-> node_3\n",
    "  node_0 --- node_1\n",
    "  node_4 --- node_6\n",
    "  node_4 --- node_7\n",
    "  node_6 -.-> node_7\n",
    "  node_2 -.-> node_7\n",
    "  node_0 --- node_5\n",
    "\n",
    "```"
   ]
  },
  {
   "cell_type": "code",
   "execution_count": 1,
   "metadata": {},
   "outputs": [
    {
     "data": {
      "application/vnd.jupyter.widget-view+json": {
       "model_id": "f239add84a9c4513a68f6a900f2b1b2a",
       "version_major": 2,
       "version_minor": 0
      },
      "text/plain": []
     },
     "metadata": {},
     "output_type": "display_data"
    }
   ],
   "source": [
    "import biobuild as bb"
   ]
  },
  {
   "attachments": {},
   "cell_type": "markdown",
   "metadata": {},
   "source": [
    "### Molecules\n",
    "\n",
    "Molecules are the essential data unit in `biobuild`. Each Molecule houses atoms that form a molecular structure. We can generate Molecules from:\n",
    "- a PDB or CIF file (e.g. \"my_structure.pdb\")\n",
    "- a PDB ID (e.g. \"GLC\" - the PDB id for alpha-D-glucose)\n",
    "- a trivial name (e.g. \"triacetamide\")\n",
    "- a chemical formula (e.g. \"C2H6O\" - caution, may produce ambiguities!)\n",
    "- SMILES and InChI/InChIKey\n",
    "\n",
    "The `Molecule` class has classmethods for all of these named `from_pdb`, `from_compound` (for PDB ID, name etc.), `from_pubchem` and so forth. But there also exists the toplevel `molecule` function that will try to automatically figure out the user input and generate a molecule for you."
   ]
  },
  {
   "cell_type": "code",
   "execution_count": 2,
   "metadata": {},
   "outputs": [
    {
     "data": {
      "application/vnd.plotly.v1+json": {
       "config": {
        "plotlyServerURL": "https://plot.ly"
       },
       "data": [
        {
         "hovertemplate": "<b>%{hovertext}</b><br><br>color=H<br>x=%{x}<br>y=%{y}<br>z=%{z}<extra></extra>",
         "hovertext": [
          "H",
          "H2",
          "HA",
          "HB2",
          "HB3",
          "HG",
          "HXT"
         ],
         "legendgroup": "H",
         "marker": {
          "color": "lightgray",
          "opacity": 0.3,
          "symbol": "circle"
         },
         "mode": "markers",
         "name": "H",
         "scene": "scene",
         "showlegend": true,
         "type": "scatter3d",
         "x": [
          1.867,
          1.574,
          -0.316,
          -0.225,
          -1.699,
          -0.978,
          -1.183
         ],
         "y": [
          -0.449,
          0.707,
          1.471,
          -1.491,
          -0.507,
          -0.679,
          0.142
         ],
         "z": [
          -0.499,
          -1.593,
          -0.354,
          -1.081,
          -0.92,
          -3.088,
          2.828
         ]
        },
        {
         "hovertemplate": "<b>%{hovertext}</b><br><br>color=C<br>x=%{x}<br>y=%{y}<br>z=%{z}<extra></extra>",
         "hovertext": [
          "CA",
          "C",
          "CB"
         ],
         "legendgroup": "C",
         "marker": {
          "color": "black",
          "opacity": 0.3,
          "symbol": "circle"
         },
         "mode": "markers",
         "name": "C",
         "scene": "scene",
         "showlegend": true,
         "type": "scatter3d",
         "x": [
          0.1,
          -0.053,
          -0.642
         ],
         "y": [
          0.469,
          0.004,
          -0.489
         ],
         "z": [
          -0.252,
          1.173,
          -1.184
         ]
        },
        {
         "hovertemplate": "<b>%{hovertext}</b><br><br>color=N<br>x=%{x}<br>y=%{y}<br>z=%{z}<extra></extra>",
         "hovertext": [
          "N"
         ],
         "legendgroup": "N",
         "marker": {
          "color": "blue",
          "opacity": 0.3,
          "symbol": "circle"
         },
         "mode": "markers",
         "name": "N",
         "scene": "scene",
         "showlegend": true,
         "type": "scatter3d",
         "x": [
          1.525
         ],
         "y": [
          0.493
         ],
         "z": [
          -0.608
         ]
        },
        {
         "hovertemplate": "<b>%{hovertext}</b><br><br>color=O<br>x=%{x}<br>y=%{y}<br>z=%{z}<extra></extra>",
         "hovertext": [
          "O",
          "OG",
          "OXT"
         ],
         "legendgroup": "O",
         "marker": {
          "color": "red",
          "opacity": 0.3,
          "symbol": "circle"
         },
         "mode": "markers",
         "name": "O",
         "scene": "scene",
         "showlegend": true,
         "type": "scatter3d",
         "x": [
          0.751,
          -0.496,
          -1.084
         ],
         "y": [
          -0.76,
          -0.049,
          0.44
         ],
         "z": [
          1.649,
          -2.535,
          1.913
         ]
        },
        {
         "hoverinfo": "skip",
         "line": {
          "color": "black",
          "width": 1
         },
         "mode": "lines",
         "showlegend": false,
         "type": "scatter3d",
         "x": [
          1.525,
          0.1
         ],
         "y": [
          0.493,
          0.469
         ],
         "z": [
          -0.608,
          -0.252
         ]
        },
        {
         "hoverinfo": "skip",
         "line": {
          "color": "black",
          "width": 1
         },
         "mode": "lines",
         "showlegend": false,
         "type": "scatter3d",
         "x": [
          1.525,
          1.867
         ],
         "y": [
          0.493,
          -0.449
         ],
         "z": [
          -0.608,
          -0.499
         ]
        },
        {
         "hoverinfo": "skip",
         "line": {
          "color": "black",
          "width": 1
         },
         "mode": "lines",
         "showlegend": false,
         "type": "scatter3d",
         "x": [
          1.525,
          1.574
         ],
         "y": [
          0.493,
          0.707
         ],
         "z": [
          -0.608,
          -1.593
         ]
        },
        {
         "hoverinfo": "skip",
         "line": {
          "color": "black",
          "width": 1
         },
         "mode": "lines",
         "showlegend": false,
         "type": "scatter3d",
         "x": [
          0.1,
          -0.053
         ],
         "y": [
          0.469,
          0.004
         ],
         "z": [
          -0.252,
          1.173
         ]
        },
        {
         "hoverinfo": "skip",
         "line": {
          "color": "black",
          "width": 1
         },
         "mode": "lines",
         "showlegend": false,
         "type": "scatter3d",
         "x": [
          0.1,
          -0.642
         ],
         "y": [
          0.469,
          -0.489
         ],
         "z": [
          -0.252,
          -1.184
         ]
        },
        {
         "hoverinfo": "skip",
         "line": {
          "color": "black",
          "width": 1
         },
         "mode": "lines",
         "showlegend": false,
         "type": "scatter3d",
         "x": [
          0.1,
          -0.316
         ],
         "y": [
          0.469,
          1.471
         ],
         "z": [
          -0.252,
          -0.354
         ]
        },
        {
         "hoverinfo": "skip",
         "line": {
          "color": "black",
          "width": 1
         },
         "mode": "lines",
         "showlegend": false,
         "type": "scatter3d",
         "x": [
          -0.053,
          0.751
         ],
         "y": [
          0.004,
          -0.76
         ],
         "z": [
          1.173,
          1.649
         ]
        },
        {
         "hoverinfo": "skip",
         "line": {
          "color": "black",
          "width": 1
         },
         "mode": "lines",
         "showlegend": false,
         "type": "scatter3d",
         "x": [
          -0.053,
          0.751
         ],
         "y": [
          0.004,
          -0.76
         ],
         "z": [
          1.173,
          1.649
         ]
        },
        {
         "hoverinfo": "skip",
         "line": {
          "color": "black",
          "width": 1
         },
         "mode": "lines",
         "showlegend": false,
         "type": "scatter3d",
         "x": [
          -0.053,
          -1.084
         ],
         "y": [
          0.004,
          0.44
         ],
         "z": [
          1.173,
          1.913
         ]
        },
        {
         "hoverinfo": "skip",
         "line": {
          "color": "black",
          "width": 1
         },
         "mode": "lines",
         "showlegend": false,
         "type": "scatter3d",
         "x": [
          -0.642,
          -0.496
         ],
         "y": [
          -0.489,
          -0.049
         ],
         "z": [
          -1.184,
          -2.535
         ]
        },
        {
         "hoverinfo": "skip",
         "line": {
          "color": "black",
          "width": 1
         },
         "mode": "lines",
         "showlegend": false,
         "type": "scatter3d",
         "x": [
          -0.642,
          -0.225
         ],
         "y": [
          -0.489,
          -1.491
         ],
         "z": [
          -1.184,
          -1.081
         ]
        },
        {
         "hoverinfo": "skip",
         "line": {
          "color": "black",
          "width": 1
         },
         "mode": "lines",
         "showlegend": false,
         "type": "scatter3d",
         "x": [
          -0.642,
          -1.699
         ],
         "y": [
          -0.489,
          -0.507
         ],
         "z": [
          -1.184,
          -0.92
         ]
        },
        {
         "hoverinfo": "skip",
         "line": {
          "color": "black",
          "width": 1
         },
         "mode": "lines",
         "showlegend": false,
         "type": "scatter3d",
         "x": [
          -0.496,
          -0.978
         ],
         "y": [
          -0.049,
          -0.679
         ],
         "z": [
          -2.535,
          -3.088
         ]
        },
        {
         "hoverinfo": "skip",
         "line": {
          "color": "black",
          "width": 1
         },
         "mode": "lines",
         "showlegend": false,
         "type": "scatter3d",
         "x": [
          -1.084,
          -1.183
         ],
         "y": [
          0.44,
          0.142
         ],
         "z": [
          1.913,
          2.828
         ]
        }
       ],
       "layout": {
        "legend": {
         "title": {
          "text": "color"
         },
         "tracegroupgap": 0
        },
        "margin": {
         "t": 60
        },
        "scene": {
         "domain": {
          "x": [
           0,
           1
          ],
          "y": [
           0,
           1
          ]
         },
         "xaxis": {
          "showgrid": false,
          "showline": false,
          "showticklabels": false,
          "title": {
           "text": "x"
          }
         },
         "yaxis": {
          "showgrid": false,
          "showline": false,
          "showticklabels": false,
          "title": {
           "text": "y"
          }
         },
         "zaxis": {
          "showgrid": false,
          "showline": false,
          "showticklabels": false,
          "title": {
           "text": "z"
          }
         }
        },
        "template": {
         "data": {
          "scatter": [
           {
            "type": "scatter"
           }
          ]
         }
        }
       }
      }
     },
     "metadata": {},
     "output_type": "display_data"
    }
   ],
   "source": [
    "# get a serine\n",
    "ser = bb.molecule(\"SER\") # (using the PDB id)\n",
    "\n",
    "# check what it looks like\n",
    "ser.show()"
   ]
  },
  {
   "cell_type": "code",
   "execution_count": 3,
   "metadata": {},
   "outputs": [
    {
     "data": {
      "application/vnd.plotly.v1+json": {
       "config": {
        "plotlyServerURL": "https://plot.ly"
       },
       "data": [
        {
         "hovertemplate": "<b>%{hovertext}</b><br><br>color=H<br>x=%{x}<br>y=%{y}<br>z=%{z}<extra></extra>",
         "hovertext": [
          "H1",
          "H2",
          "H3",
          "H4",
          "H5",
          "H6",
          "H7"
         ],
         "legendgroup": "H",
         "marker": {
          "color": "lightgray",
          "opacity": 0.3,
          "symbol": "circle"
         },
         "mode": "markers",
         "name": "H",
         "scene": "scene",
         "showlegend": true,
         "type": "scatter3d",
         "x": [
          -0.0002,
          3.3262,
          2.3822,
          2.2873,
          -2.3264,
          -2.3386,
          -3.3287
         ],
         "y": [
          1.6402,
          0.4099,
          1.5068,
          1.6495,
          1.5897,
          1.5714,
          0.4071
         ],
         "z": [
          0.004,
          0.091,
          -0.948,
          0.8303,
          -0.8857,
          0.9008,
          -0.0116
         ]
        },
        {
         "hovertemplate": "<b>%{hovertext}</b><br><br>color=C<br>x=%{x}<br>y=%{y}<br>z=%{z}<extra></extra>",
         "hovertext": [
          "C1",
          "C2",
          "C3",
          "C4"
         ],
         "legendgroup": "C",
         "marker": {
          "color": "black",
          "opacity": 0.3,
          "symbol": "circle"
         },
         "mode": "markers",
         "name": "C",
         "scene": "scene",
         "showlegend": true,
         "type": "scatter3d",
         "x": [
          1.2341,
          -1.2342,
          2.381,
          -2.3805
         ],
         "y": [
          -0.0239,
          -0.024,
          0.9511,
          0.9515
         ],
         "z": [
          0.0049,
          -0.0009,
          -0.0062,
          0.0007
         ]
        },
        {
         "hovertemplate": "<b>%{hovertext}</b><br><br>color=N<br>x=%{x}<br>y=%{y}<br>z=%{z}<extra></extra>",
         "hovertext": [
          "N1"
         ],
         "legendgroup": "N",
         "marker": {
          "color": "blue",
          "opacity": 0.3,
          "symbol": "circle"
         },
         "mode": "markers",
         "name": "N",
         "scene": "scene",
         "showlegend": true,
         "type": "scatter3d",
         "x": [
          -0.0001
         ],
         "y": [
          0.6228
         ],
         "z": [
          0.0038
         ]
        },
        {
         "hovertemplate": "<b>%{hovertext}</b><br><br>color=O<br>x=%{x}<br>y=%{y}<br>z=%{z}<extra></extra>",
         "hovertext": [
          "O1",
          "O2"
         ],
         "legendgroup": "O",
         "marker": {
          "color": "red",
          "opacity": 0.3,
          "symbol": "circle"
         },
         "mode": "markers",
         "name": "O",
         "scene": "scene",
         "showlegend": true,
         "type": "scatter3d",
         "x": [
          1.4126,
          -1.4128
         ],
         "y": [
          -1.2387,
          -1.2388
         ],
         "z": [
          0.0021,
          -0.0045
         ]
        },
        {
         "hoverinfo": "skip",
         "line": {
          "color": "black",
          "width": 1
         },
         "mode": "lines",
         "showlegend": false,
         "type": "scatter3d",
         "x": [
          1.4126,
          1.2341
         ],
         "y": [
          -1.2387,
          -0.0239
         ],
         "z": [
          0.0021,
          0.0049
         ]
        },
        {
         "hoverinfo": "skip",
         "line": {
          "color": "black",
          "width": 1
         },
         "mode": "lines",
         "showlegend": false,
         "type": "scatter3d",
         "x": [
          -1.4128,
          -1.2342
         ],
         "y": [
          -1.2388,
          -0.024
         ],
         "z": [
          -0.0045,
          -0.0009
         ]
        },
        {
         "hoverinfo": "skip",
         "line": {
          "color": "black",
          "width": 1
         },
         "mode": "lines",
         "showlegend": false,
         "type": "scatter3d",
         "x": [
          -0.0001,
          1.2341
         ],
         "y": [
          0.6228,
          -0.0239
         ],
         "z": [
          0.0038,
          0.0049
         ]
        },
        {
         "hoverinfo": "skip",
         "line": {
          "color": "black",
          "width": 1
         },
         "mode": "lines",
         "showlegend": false,
         "type": "scatter3d",
         "x": [
          -0.0001,
          -1.2342
         ],
         "y": [
          0.6228,
          -0.024
         ],
         "z": [
          0.0038,
          -0.0009
         ]
        },
        {
         "hoverinfo": "skip",
         "line": {
          "color": "black",
          "width": 1
         },
         "mode": "lines",
         "showlegend": false,
         "type": "scatter3d",
         "x": [
          -0.0001,
          -0.0002
         ],
         "y": [
          0.6228,
          1.6402
         ],
         "z": [
          0.0038,
          0.004
         ]
        },
        {
         "hoverinfo": "skip",
         "line": {
          "color": "black",
          "width": 1
         },
         "mode": "lines",
         "showlegend": false,
         "type": "scatter3d",
         "x": [
          1.2341,
          2.381
         ],
         "y": [
          -0.0239,
          0.9511
         ],
         "z": [
          0.0049,
          -0.0062
         ]
        },
        {
         "hoverinfo": "skip",
         "line": {
          "color": "black",
          "width": 1
         },
         "mode": "lines",
         "showlegend": false,
         "type": "scatter3d",
         "x": [
          -1.2342,
          -2.3805
         ],
         "y": [
          -0.024,
          0.9515
         ],
         "z": [
          -0.0009,
          0.0007
         ]
        },
        {
         "hoverinfo": "skip",
         "line": {
          "color": "black",
          "width": 1
         },
         "mode": "lines",
         "showlegend": false,
         "type": "scatter3d",
         "x": [
          2.381,
          3.3262
         ],
         "y": [
          0.9511,
          0.4099
         ],
         "z": [
          -0.0062,
          0.091
         ]
        },
        {
         "hoverinfo": "skip",
         "line": {
          "color": "black",
          "width": 1
         },
         "mode": "lines",
         "showlegend": false,
         "type": "scatter3d",
         "x": [
          2.381,
          2.3822
         ],
         "y": [
          0.9511,
          1.5068
         ],
         "z": [
          -0.0062,
          -0.948
         ]
        },
        {
         "hoverinfo": "skip",
         "line": {
          "color": "black",
          "width": 1
         },
         "mode": "lines",
         "showlegend": false,
         "type": "scatter3d",
         "x": [
          2.381,
          2.2873
         ],
         "y": [
          0.9511,
          1.6495
         ],
         "z": [
          -0.0062,
          0.8303
         ]
        },
        {
         "hoverinfo": "skip",
         "line": {
          "color": "black",
          "width": 1
         },
         "mode": "lines",
         "showlegend": false,
         "type": "scatter3d",
         "x": [
          -2.3805,
          -2.3264
         ],
         "y": [
          0.9515,
          1.5897
         ],
         "z": [
          0.0007,
          -0.8857
         ]
        },
        {
         "hoverinfo": "skip",
         "line": {
          "color": "black",
          "width": 1
         },
         "mode": "lines",
         "showlegend": false,
         "type": "scatter3d",
         "x": [
          -2.3805,
          -2.3386
         ],
         "y": [
          0.9515,
          1.5714
         ],
         "z": [
          0.0007,
          0.9008
         ]
        },
        {
         "hoverinfo": "skip",
         "line": {
          "color": "black",
          "width": 1
         },
         "mode": "lines",
         "showlegend": false,
         "type": "scatter3d",
         "x": [
          -2.3805,
          -3.3287
         ],
         "y": [
          0.9515,
          0.4071
         ],
         "z": [
          0.0007,
          -0.0116
         ]
        }
       ],
       "layout": {
        "legend": {
         "title": {
          "text": "color"
         },
         "tracegroupgap": 0
        },
        "margin": {
         "t": 60
        },
        "scene": {
         "domain": {
          "x": [
           0,
           1
          ],
          "y": [
           0,
           1
          ]
         },
         "xaxis": {
          "showgrid": false,
          "showline": false,
          "showticklabels": false,
          "title": {
           "text": "x"
          }
         },
         "yaxis": {
          "showgrid": false,
          "showline": false,
          "showticklabels": false,
          "title": {
           "text": "y"
          }
         },
         "zaxis": {
          "showgrid": false,
          "showline": false,
          "showticklabels": false,
          "title": {
           "text": "z"
          }
         }
        },
        "template": {
         "data": {
          "scatter": [
           {
            "type": "scatter"
           }
          ]
         }
        }
       }
      }
     },
     "metadata": {},
     "output_type": "display_data"
    }
   ],
   "source": [
    "# get a diacetamide (using its name)\n",
    "tri = bb.molecule(\"diacetamide\")\n",
    "\n",
    "# check what it looks like\n",
    "tri.show()"
   ]
  },
  {
   "attachments": {},
   "cell_type": "markdown",
   "metadata": {},
   "source": [
    "### Linkage \n",
    "\n",
    "Now assuming we want to take _diacetamide_ and connect the _serine_ to it. We can define a `Linkage` to specify which atoms to link between the two. To do so, we need to know what the atoms are labelled as (another reason to always visualize the structures). In the Linkage definition we specify, for instance, that the diacetamide-N1 should be connected to serine-C. In the process, we remove the diacetamide-H1 and the serine's OXT and HXT.\n",
    "\n",
    "> #### Note\n",
    "> The linkages do *not* need to follow chemical reasoning - they only connect structures by adding and removing connections. Hence, we could connect the molecules by one of the methyl-groups making one of the hydrogens the leaving group (even though chemically such a reaction would probably never occur) - biobuild builds structures, but it does not imitate chemical reactions! "
   ]
  },
  {
   "cell_type": "code",
   "execution_count": 4,
   "metadata": {},
   "outputs": [],
   "source": [
    "# define the linkage between the two molecules\n",
    "# remember to check the atom labelling as these atom labels must match\n",
    "# the existing atom labels in both molecules\n",
    "link = bb.linkage(atom1=\"N1\", atom2=\"C\", delete_in_target=[\"H1\"], delete_in_source=[\"OXT\", \"HXT\"])"
   ]
  },
  {
   "attachments": {},
   "cell_type": "markdown",
   "metadata": {},
   "source": [
    "Now we can connect the two molecules for example using the `connect` function:"
   ]
  },
  {
   "cell_type": "code",
   "execution_count": 5,
   "metadata": {},
   "outputs": [
    {
     "data": {
      "application/vnd.plotly.v1+json": {
       "config": {
        "plotlyServerURL": "https://plot.ly"
       },
       "data": [
        {
         "hovertemplate": "<b>%{hovertext}</b><br><br>color=H<br>x=%{x}<br>y=%{y}<br>z=%{z}<extra></extra>",
         "hovertext": [
          "H2",
          "H3",
          "H4",
          "H5",
          "H6",
          "H7",
          "H",
          "H2",
          "HA",
          "HB2",
          "HB3",
          "HG"
         ],
         "legendgroup": "H",
         "marker": {
          "color": "lightgray",
          "opacity": 0.3,
          "symbol": "circle"
         },
         "mode": "markers",
         "name": "H",
         "scene": "scene",
         "showlegend": true,
         "type": "scatter3d",
         "x": [
          3.3262,
          2.3822,
          2.2873,
          -2.3264,
          -2.3386,
          -3.3287,
          -0.19359104103646047,
          -1.109871053871114,
          -1.2057719841804555,
          -2.035074717460226,
          -2.7019427965939387,
          -3.985597718427805
         ],
         "y": [
          0.4099,
          1.5068,
          1.6495,
          1.5897,
          1.5714,
          0.4071,
          4.346916801755359,
          4.349668176154224,
          1.9660322990709775,
          3.3986786481278264,
          1.8577198174074947,
          3.6631256437518402
         ],
         "z": [
          0.091,
          -0.948,
          0.8303,
          -0.8857,
          0.9008,
          -0.0116,
          -0.41483691577417264,
          -1.7487950740455047,
          -1.7489256396653068,
          0.8142823922955768,
          0.22471827614065154,
          -0.360421744583946
         ]
        },
        {
         "hovertemplate": "<b>%{hovertext}</b><br><br>color=C<br>x=%{x}<br>y=%{y}<br>z=%{z}<extra></extra>",
         "hovertext": [
          "C1",
          "C2",
          "C3",
          "C4",
          "CA",
          "C",
          "CB"
         ],
         "legendgroup": "C",
         "marker": {
          "color": "black",
          "opacity": 0.3,
          "symbol": "circle"
         },
         "mode": "markers",
         "name": "C",
         "scene": "scene",
         "showlegend": true,
         "type": "scatter3d",
         "x": [
          1.2341,
          -1.2342,
          2.381,
          -2.3805,
          -0.9782232412198044,
          -0.0002159468046586399,
          -2.2640185240794874
         ],
         "y": [
          -0.0239,
          -0.024,
          0.9511,
          0.9515,
          2.5548184892599055,
          1.802442790597749,
          2.809675477903725
         ],
         "z": [
          0.0049,
          -0.0009,
          -0.0062,
          0.0007,
          -0.860659693104349,
          0.004031893609317327,
          -0.07406551189322733
         ]
        },
        {
         "hovertemplate": "<b>%{hovertext}</b><br><br>color=N<br>x=%{x}<br>y=%{y}<br>z=%{z}<extra></extra>",
         "hovertext": [
          "N1",
          "N"
         ],
         "legendgroup": "N",
         "marker": {
          "color": "blue",
          "opacity": 0.3,
          "symbol": "circle"
         },
         "mode": "markers",
         "name": "N",
         "scene": "scene",
         "showlegend": true,
         "type": "scatter3d",
         "x": [
          -0.0001,
          -0.3879300103216527
         ],
         "y": [
          0.6228,
          3.838337051209326
         ],
         "z": [
          0.0038,
          -1.2632401231889634
         ]
        },
        {
         "hovertemplate": "<b>%{hovertext}</b><br><br>color=O<br>x=%{x}<br>y=%{y}<br>z=%{z}<extra></extra>",
         "hovertext": [
          "O1",
          "O2",
          "O",
          "OG"
         ],
         "legendgroup": "O",
         "marker": {
          "color": "red",
          "opacity": 0.3,
          "symbol": "circle"
         },
         "mode": "markers",
         "name": "O",
         "scene": "scene",
         "showlegend": true,
         "type": "scatter3d",
         "x": [
          1.4126,
          -1.4128,
          0.7827725533011959,
          -3.1907526699555873
         ],
         "y": [
          -1.2387,
          -1.2388,
          2.405853855063337,
          3.523983665222758
         ],
         "z": [
          0.0021,
          -0.0045,
          0.6965000127184136,
          -0.8932386537846673
         ]
        },
        {
         "hoverinfo": "skip",
         "line": {
          "color": "black",
          "width": 1
         },
         "mode": "lines",
         "showlegend": false,
         "type": "scatter3d",
         "x": [
          1.4126,
          1.2341
         ],
         "y": [
          -1.2387,
          -0.0239
         ],
         "z": [
          0.0021,
          0.0049
         ]
        },
        {
         "hoverinfo": "skip",
         "line": {
          "color": "black",
          "width": 1
         },
         "mode": "lines",
         "showlegend": false,
         "type": "scatter3d",
         "x": [
          -1.4128,
          -1.2342
         ],
         "y": [
          -1.2388,
          -0.024
         ],
         "z": [
          -0.0045,
          -0.0009
         ]
        },
        {
         "hoverinfo": "skip",
         "line": {
          "color": "black",
          "width": 1
         },
         "mode": "lines",
         "showlegend": false,
         "type": "scatter3d",
         "x": [
          -0.0001,
          1.2341
         ],
         "y": [
          0.6228,
          -0.0239
         ],
         "z": [
          0.0038,
          0.0049
         ]
        },
        {
         "hoverinfo": "skip",
         "line": {
          "color": "black",
          "width": 1
         },
         "mode": "lines",
         "showlegend": false,
         "type": "scatter3d",
         "x": [
          -0.0001,
          -1.2342
         ],
         "y": [
          0.6228,
          -0.024
         ],
         "z": [
          0.0038,
          -0.0009
         ]
        },
        {
         "hoverinfo": "skip",
         "line": {
          "color": "black",
          "width": 1
         },
         "mode": "lines",
         "showlegend": false,
         "type": "scatter3d",
         "x": [
          1.2341,
          2.381
         ],
         "y": [
          -0.0239,
          0.9511
         ],
         "z": [
          0.0049,
          -0.0062
         ]
        },
        {
         "hoverinfo": "skip",
         "line": {
          "color": "black",
          "width": 1
         },
         "mode": "lines",
         "showlegend": false,
         "type": "scatter3d",
         "x": [
          -1.2342,
          -2.3805
         ],
         "y": [
          -0.024,
          0.9515
         ],
         "z": [
          -0.0009,
          0.0007
         ]
        },
        {
         "hoverinfo": "skip",
         "line": {
          "color": "black",
          "width": 1
         },
         "mode": "lines",
         "showlegend": false,
         "type": "scatter3d",
         "x": [
          2.381,
          3.3262
         ],
         "y": [
          0.9511,
          0.4099
         ],
         "z": [
          -0.0062,
          0.091
         ]
        },
        {
         "hoverinfo": "skip",
         "line": {
          "color": "black",
          "width": 1
         },
         "mode": "lines",
         "showlegend": false,
         "type": "scatter3d",
         "x": [
          2.381,
          2.3822
         ],
         "y": [
          0.9511,
          1.5068
         ],
         "z": [
          -0.0062,
          -0.948
         ]
        },
        {
         "hoverinfo": "skip",
         "line": {
          "color": "black",
          "width": 1
         },
         "mode": "lines",
         "showlegend": false,
         "type": "scatter3d",
         "x": [
          2.381,
          2.2873
         ],
         "y": [
          0.9511,
          1.6495
         ],
         "z": [
          -0.0062,
          0.8303
         ]
        },
        {
         "hoverinfo": "skip",
         "line": {
          "color": "black",
          "width": 1
         },
         "mode": "lines",
         "showlegend": false,
         "type": "scatter3d",
         "x": [
          -2.3805,
          -2.3264
         ],
         "y": [
          0.9515,
          1.5897
         ],
         "z": [
          0.0007,
          -0.8857
         ]
        },
        {
         "hoverinfo": "skip",
         "line": {
          "color": "black",
          "width": 1
         },
         "mode": "lines",
         "showlegend": false,
         "type": "scatter3d",
         "x": [
          -2.3805,
          -2.3386
         ],
         "y": [
          0.9515,
          1.5714
         ],
         "z": [
          0.0007,
          0.9008
         ]
        },
        {
         "hoverinfo": "skip",
         "line": {
          "color": "black",
          "width": 1
         },
         "mode": "lines",
         "showlegend": false,
         "type": "scatter3d",
         "x": [
          -2.3805,
          -3.3287
         ],
         "y": [
          0.9515,
          0.4071
         ],
         "z": [
          0.0007,
          -0.0116
         ]
        },
        {
         "hoverinfo": "skip",
         "line": {
          "color": "black",
          "width": 1
         },
         "mode": "lines",
         "showlegend": false,
         "type": "scatter3d",
         "x": [
          -0.3879300103216527,
          -0.9782232412198044
         ],
         "y": [
          3.838337051209326,
          2.5548184892599055
         ],
         "z": [
          -1.2632401231889634,
          -0.860659693104349
         ]
        },
        {
         "hoverinfo": "skip",
         "line": {
          "color": "black",
          "width": 1
         },
         "mode": "lines",
         "showlegend": false,
         "type": "scatter3d",
         "x": [
          -0.3879300103216527,
          -0.19359104103646047
         ],
         "y": [
          3.838337051209326,
          4.346916801755359
         ],
         "z": [
          -1.2632401231889634,
          -0.41483691577417264
         ]
        },
        {
         "hoverinfo": "skip",
         "line": {
          "color": "black",
          "width": 1
         },
         "mode": "lines",
         "showlegend": false,
         "type": "scatter3d",
         "x": [
          -0.3879300103216527,
          -1.109871053871114
         ],
         "y": [
          3.838337051209326,
          4.349668176154224
         ],
         "z": [
          -1.2632401231889634,
          -1.7487950740455047
         ]
        },
        {
         "hoverinfo": "skip",
         "line": {
          "color": "black",
          "width": 1
         },
         "mode": "lines",
         "showlegend": false,
         "type": "scatter3d",
         "x": [
          -0.9782232412198044,
          -0.0002159468046586399
         ],
         "y": [
          2.5548184892599055,
          1.802442790597749
         ],
         "z": [
          -0.860659693104349,
          0.004031893609317327
         ]
        },
        {
         "hoverinfo": "skip",
         "line": {
          "color": "black",
          "width": 1
         },
         "mode": "lines",
         "showlegend": false,
         "type": "scatter3d",
         "x": [
          -0.9782232412198044,
          -2.2640185240794874
         ],
         "y": [
          2.5548184892599055,
          2.809675477903725
         ],
         "z": [
          -0.860659693104349,
          -0.07406551189322733
         ]
        },
        {
         "hoverinfo": "skip",
         "line": {
          "color": "black",
          "width": 1
         },
         "mode": "lines",
         "showlegend": false,
         "type": "scatter3d",
         "x": [
          -0.9782232412198044,
          -1.2057719841804555
         ],
         "y": [
          2.5548184892599055,
          1.9660322990709775
         ],
         "z": [
          -0.860659693104349,
          -1.7489256396653068
         ]
        },
        {
         "hoverinfo": "skip",
         "line": {
          "color": "black",
          "width": 1
         },
         "mode": "lines",
         "showlegend": false,
         "type": "scatter3d",
         "x": [
          -0.0002159468046586399,
          0.7827725533011959
         ],
         "y": [
          1.802442790597749,
          2.405853855063337
         ],
         "z": [
          0.004031893609317327,
          0.6965000127184136
         ]
        },
        {
         "hoverinfo": "skip",
         "line": {
          "color": "black",
          "width": 1
         },
         "mode": "lines",
         "showlegend": false,
         "type": "scatter3d",
         "x": [
          -0.0002159468046586399,
          0.7827725533011959
         ],
         "y": [
          1.802442790597749,
          2.405853855063337
         ],
         "z": [
          0.004031893609317327,
          0.6965000127184136
         ]
        },
        {
         "hoverinfo": "skip",
         "line": {
          "color": "black",
          "width": 1
         },
         "mode": "lines",
         "showlegend": false,
         "type": "scatter3d",
         "x": [
          -2.2640185240794874,
          -3.1907526699555873
         ],
         "y": [
          2.809675477903725,
          3.523983665222758
         ],
         "z": [
          -0.07406551189322733,
          -0.8932386537846673
         ]
        },
        {
         "hoverinfo": "skip",
         "line": {
          "color": "black",
          "width": 1
         },
         "mode": "lines",
         "showlegend": false,
         "type": "scatter3d",
         "x": [
          -2.2640185240794874,
          -2.035074717460226
         ],
         "y": [
          2.809675477903725,
          3.3986786481278264
         ],
         "z": [
          -0.07406551189322733,
          0.8142823922955768
         ]
        },
        {
         "hoverinfo": "skip",
         "line": {
          "color": "black",
          "width": 1
         },
         "mode": "lines",
         "showlegend": false,
         "type": "scatter3d",
         "x": [
          -2.2640185240794874,
          -2.7019427965939387
         ],
         "y": [
          2.809675477903725,
          1.8577198174074947
         ],
         "z": [
          -0.07406551189322733,
          0.22471827614065154
         ]
        },
        {
         "hoverinfo": "skip",
         "line": {
          "color": "black",
          "width": 1
         },
         "mode": "lines",
         "showlegend": false,
         "type": "scatter3d",
         "x": [
          -3.1907526699555873,
          -3.985597718427805
         ],
         "y": [
          3.523983665222758,
          3.6631256437518402
         ],
         "z": [
          -0.8932386537846673,
          -0.360421744583946
         ]
        },
        {
         "hoverinfo": "skip",
         "line": {
          "color": "black",
          "width": 1
         },
         "mode": "lines",
         "showlegend": false,
         "type": "scatter3d",
         "x": [
          -0.0001,
          -0.0002159468046586399
         ],
         "y": [
          0.6228,
          1.802442790597749
         ],
         "z": [
          0.0038,
          0.004031893609317327
         ]
        }
       ],
       "layout": {
        "legend": {
         "title": {
          "text": "color"
         },
         "tracegroupgap": 0
        },
        "margin": {
         "t": 60
        },
        "scene": {
         "domain": {
          "x": [
           0,
           1
          ],
          "y": [
           0,
           1
          ]
         },
         "xaxis": {
          "showgrid": false,
          "showline": false,
          "showticklabels": false,
          "title": {
           "text": "x"
          }
         },
         "yaxis": {
          "showgrid": false,
          "showline": false,
          "showticklabels": false,
          "title": {
           "text": "y"
          }
         },
         "zaxis": {
          "showgrid": false,
          "showline": false,
          "showticklabels": false,
          "title": {
           "text": "z"
          }
         }
        },
        "template": {
         "data": {
          "scatter": [
           {
            "type": "scatter"
           }
          ]
         }
        }
       }
      }
     },
     "metadata": {},
     "output_type": "display_data"
    }
   ],
   "source": [
    "new = bb.connect(tri, ser, link)\n",
    "\n",
    "# and check what it looks like\n",
    "new.show()"
   ]
  },
  {
   "attachments": {},
   "cell_type": "markdown",
   "metadata": {},
   "source": [
    "If we observe a clash in the resulting conformation, we can apply an optimization. There is a quick way to do so by simply calling the `optimize` method of any `Molecule`:"
   ]
  },
  {
   "cell_type": "code",
   "execution_count": 6,
   "metadata": {},
   "outputs": [
    {
     "data": {
      "application/vnd.plotly.v1+json": {
       "config": {
        "plotlyServerURL": "https://plot.ly"
       },
       "data": [
        {
         "hovertemplate": "<b>%{hovertext}</b><br><br>color=H<br>x=%{x}<br>y=%{y}<br>z=%{z}<extra></extra>",
         "hovertext": [
          "H2",
          "H3",
          "H4",
          "H5",
          "H6",
          "H7",
          "H",
          "H2",
          "HA",
          "HB2",
          "HB3",
          "HG"
         ],
         "legendgroup": "H",
         "marker": {
          "color": "lightgray",
          "opacity": 0.3,
          "symbol": "circle"
         },
         "mode": "markers",
         "name": "H",
         "scene": "scene",
         "showlegend": true,
         "type": "scatter3d",
         "x": [
          3.3262,
          2.3822,
          2.2873,
          -2.3264,
          -2.3386,
          -3.3287,
          -0.2659008037371491,
          -1.407259789053516,
          -1.50153070344093,
          -1.8561210888107886,
          -2.6181343966200137,
          -3.986194529924919
         ],
         "y": [
          0.4099,
          1.5068,
          1.6495,
          1.5897,
          1.5714,
          0.4071,
          4.346901517413101,
          4.349594077065278,
          1.9659549606978193,
          3.3986268629681247,
          1.8576331952456409,
          3.662983446393868
         ],
         "z": [
          0.091,
          -0.948,
          0.8303,
          -0.8857,
          0.9008,
          -0.0116,
          -0.37324034805439366,
          -1.5205473761685395,
          -1.5033846950400647,
          1.1671903140260436,
          0.7072694134780805,
          0.3626378096736706
         ]
        },
        {
         "hovertemplate": "<b>%{hovertext}</b><br><br>color=C<br>x=%{x}<br>y=%{y}<br>z=%{z}<extra></extra>",
         "hovertext": [
          "C1",
          "C2",
          "C3",
          "C4",
          "CA",
          "C",
          "CB"
         ],
         "legendgroup": "C",
         "marker": {
          "color": "black",
          "opacity": 0.3,
          "symbol": "circle"
         },
         "mode": "markers",
         "name": "C",
         "scene": "scene",
         "showlegend": true,
         "type": "scatter3d",
         "x": [
          1.2341,
          -1.2342,
          2.381,
          -2.3805,
          -1.1178816033182257,
          -0.00021594680465863986,
          -2.241157220871387
         ],
         "y": [
          -0.0239,
          -0.024,
          0.9511,
          0.9515,
          2.5547673948910354,
          1.802442790597749,
          2.8095973999181085
         ],
         "z": [
          0.0049,
          -0.0009,
          -0.0062,
          0.0007,
          -0.6705718197106193,
          0.004031893609317327,
          0.3345478525416297
         ]
        },
        {
         "hovertemplate": "<b>%{hovertext}</b><br><br>color=N<br>x=%{x}<br>y=%{y}<br>z=%{z}<extra></extra>",
         "hovertext": [
          "N1",
          "N"
         ],
         "legendgroup": "N",
         "marker": {
          "color": "blue",
          "opacity": 0.3,
          "symbol": "circle"
         },
         "mode": "markers",
         "name": "N",
         "scene": "scene",
         "showlegend": true,
         "type": "scatter3d",
         "x": [
          -0.0001,
          -0.6097121905571821
         ],
         "y": [
          0.6228,
          3.838297477184594
         ],
         "z": [
          0.0038,
          -1.1728181494947074
         ]
        },
        {
         "hovertemplate": "<b>%{hovertext}</b><br><br>color=O<br>x=%{x}<br>y=%{y}<br>z=%{z}<extra></extra>",
         "hovertext": [
          "O1",
          "O2",
          "O",
          "OG"
         ],
         "legendgroup": "O",
         "marker": {
          "color": "red",
          "opacity": 0.3,
          "symbol": "circle"
         },
         "mode": "markers",
         "name": "O",
         "scene": "scene",
         "showlegend": true,
         "type": "scatter3d",
         "x": [
          1.4126,
          -1.4128,
          0.894573794631512,
          -3.300194561238081
         ],
         "y": [
          -1.2387,
          -1.2388,
          2.4058947642207436,
          3.523857175434321
         ],
         "z": [
          0.0021,
          -0.0045,
          0.5442957496566222,
          -0.3045060456458155
         ]
        },
        {
         "hoverinfo": "skip",
         "line": {
          "color": "black",
          "width": 1
         },
         "mode": "lines",
         "showlegend": false,
         "type": "scatter3d",
         "x": [
          1.4126,
          1.2341
         ],
         "y": [
          -1.2387,
          -0.0239
         ],
         "z": [
          0.0021,
          0.0049
         ]
        },
        {
         "hoverinfo": "skip",
         "line": {
          "color": "black",
          "width": 1
         },
         "mode": "lines",
         "showlegend": false,
         "type": "scatter3d",
         "x": [
          -1.4128,
          -1.2342
         ],
         "y": [
          -1.2388,
          -0.024
         ],
         "z": [
          -0.0045,
          -0.0009
         ]
        },
        {
         "hoverinfo": "skip",
         "line": {
          "color": "black",
          "width": 1
         },
         "mode": "lines",
         "showlegend": false,
         "type": "scatter3d",
         "x": [
          -0.0001,
          1.2341
         ],
         "y": [
          0.6228,
          -0.0239
         ],
         "z": [
          0.0038,
          0.0049
         ]
        },
        {
         "hoverinfo": "skip",
         "line": {
          "color": "black",
          "width": 1
         },
         "mode": "lines",
         "showlegend": false,
         "type": "scatter3d",
         "x": [
          -0.0001,
          -1.2342
         ],
         "y": [
          0.6228,
          -0.024
         ],
         "z": [
          0.0038,
          -0.0009
         ]
        },
        {
         "hoverinfo": "skip",
         "line": {
          "color": "black",
          "width": 1
         },
         "mode": "lines",
         "showlegend": false,
         "type": "scatter3d",
         "x": [
          1.2341,
          2.381
         ],
         "y": [
          -0.0239,
          0.9511
         ],
         "z": [
          0.0049,
          -0.0062
         ]
        },
        {
         "hoverinfo": "skip",
         "line": {
          "color": "black",
          "width": 1
         },
         "mode": "lines",
         "showlegend": false,
         "type": "scatter3d",
         "x": [
          -1.2342,
          -2.3805
         ],
         "y": [
          -0.024,
          0.9515
         ],
         "z": [
          -0.0009,
          0.0007
         ]
        },
        {
         "hoverinfo": "skip",
         "line": {
          "color": "black",
          "width": 1
         },
         "mode": "lines",
         "showlegend": false,
         "type": "scatter3d",
         "x": [
          2.381,
          3.3262
         ],
         "y": [
          0.9511,
          0.4099
         ],
         "z": [
          -0.0062,
          0.091
         ]
        },
        {
         "hoverinfo": "skip",
         "line": {
          "color": "black",
          "width": 1
         },
         "mode": "lines",
         "showlegend": false,
         "type": "scatter3d",
         "x": [
          2.381,
          2.3822
         ],
         "y": [
          0.9511,
          1.5068
         ],
         "z": [
          -0.0062,
          -0.948
         ]
        },
        {
         "hoverinfo": "skip",
         "line": {
          "color": "black",
          "width": 1
         },
         "mode": "lines",
         "showlegend": false,
         "type": "scatter3d",
         "x": [
          2.381,
          2.2873
         ],
         "y": [
          0.9511,
          1.6495
         ],
         "z": [
          -0.0062,
          0.8303
         ]
        },
        {
         "hoverinfo": "skip",
         "line": {
          "color": "black",
          "width": 1
         },
         "mode": "lines",
         "showlegend": false,
         "type": "scatter3d",
         "x": [
          -2.3805,
          -2.3264
         ],
         "y": [
          0.9515,
          1.5897
         ],
         "z": [
          0.0007,
          -0.8857
         ]
        },
        {
         "hoverinfo": "skip",
         "line": {
          "color": "black",
          "width": 1
         },
         "mode": "lines",
         "showlegend": false,
         "type": "scatter3d",
         "x": [
          -2.3805,
          -2.3386
         ],
         "y": [
          0.9515,
          1.5714
         ],
         "z": [
          0.0007,
          0.9008
         ]
        },
        {
         "hoverinfo": "skip",
         "line": {
          "color": "black",
          "width": 1
         },
         "mode": "lines",
         "showlegend": false,
         "type": "scatter3d",
         "x": [
          -2.3805,
          -3.3287
         ],
         "y": [
          0.9515,
          0.4071
         ],
         "z": [
          0.0007,
          -0.0116
         ]
        },
        {
         "hoverinfo": "skip",
         "line": {
          "color": "black",
          "width": 1
         },
         "mode": "lines",
         "showlegend": false,
         "type": "scatter3d",
         "x": [
          -0.6097121905571821,
          -1.1178816033182257
         ],
         "y": [
          3.838297477184594,
          2.5547673948910354
         ],
         "z": [
          -1.1728181494947074,
          -0.6705718197106193
         ]
        },
        {
         "hoverinfo": "skip",
         "line": {
          "color": "black",
          "width": 1
         },
         "mode": "lines",
         "showlegend": false,
         "type": "scatter3d",
         "x": [
          -0.6097121905571821,
          -0.2659008037371491
         ],
         "y": [
          3.838297477184594,
          4.346901517413101
         ],
         "z": [
          -1.1728181494947074,
          -0.37324034805439366
         ]
        },
        {
         "hoverinfo": "skip",
         "line": {
          "color": "black",
          "width": 1
         },
         "mode": "lines",
         "showlegend": false,
         "type": "scatter3d",
         "x": [
          -0.6097121905571821,
          -1.407259789053516
         ],
         "y": [
          3.838297477184594,
          4.349594077065278
         ],
         "z": [
          -1.1728181494947074,
          -1.5205473761685395
         ]
        },
        {
         "hoverinfo": "skip",
         "line": {
          "color": "black",
          "width": 1
         },
         "mode": "lines",
         "showlegend": false,
         "type": "scatter3d",
         "x": [
          -1.1178816033182257,
          -0.00021594680465863986
         ],
         "y": [
          2.5547673948910354,
          1.802442790597749
         ],
         "z": [
          -0.6705718197106193,
          0.004031893609317327
         ]
        },
        {
         "hoverinfo": "skip",
         "line": {
          "color": "black",
          "width": 1
         },
         "mode": "lines",
         "showlegend": false,
         "type": "scatter3d",
         "x": [
          -1.1178816033182257,
          -2.241157220871387
         ],
         "y": [
          2.5547673948910354,
          2.8095973999181085
         ],
         "z": [
          -0.6705718197106193,
          0.3345478525416297
         ]
        },
        {
         "hoverinfo": "skip",
         "line": {
          "color": "black",
          "width": 1
         },
         "mode": "lines",
         "showlegend": false,
         "type": "scatter3d",
         "x": [
          -1.1178816033182257,
          -1.50153070344093
         ],
         "y": [
          2.5547673948910354,
          1.9659549606978193
         ],
         "z": [
          -0.6705718197106193,
          -1.5033846950400647
         ]
        },
        {
         "hoverinfo": "skip",
         "line": {
          "color": "black",
          "width": 1
         },
         "mode": "lines",
         "showlegend": false,
         "type": "scatter3d",
         "x": [
          -0.00021594680465863986,
          0.894573794631512
         ],
         "y": [
          1.802442790597749,
          2.4058947642207436
         ],
         "z": [
          0.004031893609317327,
          0.5442957496566222
         ]
        },
        {
         "hoverinfo": "skip",
         "line": {
          "color": "black",
          "width": 1
         },
         "mode": "lines",
         "showlegend": false,
         "type": "scatter3d",
         "x": [
          -0.00021594680465863986,
          0.894573794631512
         ],
         "y": [
          1.802442790597749,
          2.4058947642207436
         ],
         "z": [
          0.004031893609317327,
          0.5442957496566222
         ]
        },
        {
         "hoverinfo": "skip",
         "line": {
          "color": "black",
          "width": 1
         },
         "mode": "lines",
         "showlegend": false,
         "type": "scatter3d",
         "x": [
          -2.241157220871387,
          -3.300194561238081
         ],
         "y": [
          2.8095973999181085,
          3.523857175434321
         ],
         "z": [
          0.3345478525416297,
          -0.3045060456458155
         ]
        },
        {
         "hoverinfo": "skip",
         "line": {
          "color": "black",
          "width": 1
         },
         "mode": "lines",
         "showlegend": false,
         "type": "scatter3d",
         "x": [
          -2.241157220871387,
          -1.8561210888107886
         ],
         "y": [
          2.8095973999181085,
          3.3986268629681247
         ],
         "z": [
          0.3345478525416297,
          1.1671903140260436
         ]
        },
        {
         "hoverinfo": "skip",
         "line": {
          "color": "black",
          "width": 1
         },
         "mode": "lines",
         "showlegend": false,
         "type": "scatter3d",
         "x": [
          -2.241157220871387,
          -2.6181343966200137
         ],
         "y": [
          2.8095973999181085,
          1.8576331952456409
         ],
         "z": [
          0.3345478525416297,
          0.7072694134780805
         ]
        },
        {
         "hoverinfo": "skip",
         "line": {
          "color": "black",
          "width": 1
         },
         "mode": "lines",
         "showlegend": false,
         "type": "scatter3d",
         "x": [
          -3.300194561238081,
          -3.986194529924919
         ],
         "y": [
          3.523857175434321,
          3.662983446393868
         ],
         "z": [
          -0.3045060456458155,
          0.3626378096736706
         ]
        },
        {
         "hoverinfo": "skip",
         "line": {
          "color": "black",
          "width": 1
         },
         "mode": "lines",
         "showlegend": false,
         "type": "scatter3d",
         "x": [
          -0.0001,
          -0.00021594680465863986
         ],
         "y": [
          0.6228,
          1.802442790597749
         ],
         "z": [
          0.0038,
          0.004031893609317327
         ]
        }
       ],
       "layout": {
        "legend": {
         "title": {
          "text": "color"
         },
         "tracegroupgap": 0
        },
        "margin": {
         "t": 60
        },
        "scene": {
         "domain": {
          "x": [
           0,
           1
          ],
          "y": [
           0,
           1
          ]
         },
         "xaxis": {
          "showgrid": false,
          "showline": false,
          "showticklabels": false,
          "title": {
           "text": "x"
          }
         },
         "yaxis": {
          "showgrid": false,
          "showline": false,
          "showticklabels": false,
          "title": {
           "text": "y"
          }
         },
         "zaxis": {
          "showgrid": false,
          "showline": false,
          "showticklabels": false,
          "title": {
           "text": "z"
          }
         }
        },
        "template": {
         "data": {
          "scatter": [
           {
            "type": "scatter"
           }
          ]
         }
        }
       }
      }
     },
     "metadata": {},
     "output_type": "display_data"
    }
   ],
   "source": [
    "# optimize the geometry (at least a bit)\n",
    "new.optimize()\n",
    "\n",
    "# and check what it looks like\n",
    "new.show()"
   ]
  },
  {
   "attachments": {},
   "cell_type": "markdown",
   "metadata": {},
   "source": [
    "The implementation of the `optimize` method is quite rudimentary and does not consider any particulars of the existing conformation. Hence, it may not produce satisfactory results, especially for smaller structures such as our toy example. However, we can set up a more intricate optimization by ourself with not too much extra effort.\n",
    "\n",
    "The steps are always the same:\n",
    "- generate a `ResidueGraph` from your molecule to optimize\n",
    "- make the graph \"detailed\" \n",
    "- choose which bonds within your molecule to rotate around\n",
    "- generate an environment of your choice from your graph and rotatable bonds\n",
    "- choose an optimization function and call it on your environment\n",
    "- apply the solution back to your molecule"
   ]
  },
  {
   "cell_type": "code",
   "execution_count": 20,
   "metadata": {},
   "outputs": [
    {
     "data": {
      "application/vnd.plotly.v1+json": {
       "config": {
        "plotlyServerURL": "https://plot.ly"
       },
       "data": [
        {
         "hovertemplate": "<b>%{hovertext}</b><br><br>color=H<br>x=%{x}<br>y=%{y}<br>z=%{z}<extra></extra>",
         "hovertext": [
          "H2",
          "H3",
          "H4",
          "H5",
          "H6",
          "H7",
          "H",
          "H2",
          "HA",
          "HB2",
          "HB3",
          "HG"
         ],
         "legendgroup": "H",
         "marker": {
          "color": "lightgray",
          "opacity": 0.3,
          "symbol": "circle"
         },
         "mode": "markers",
         "name": "H",
         "scene": "scene",
         "showlegend": true,
         "type": "scatter3d",
         "x": [
          3.3262,
          2.3822,
          2.2873,
          -2.3264,
          -2.3386,
          -3.3287,
          0.45775529725337816,
          2.0070483590945285,
          2.0361698845734875,
          -0.15380531517847543,
          0.6104138202333808,
          1.558017471903475
         ],
         "y": [
          0.4099,
          1.5068,
          1.6495,
          1.5897,
          1.5714,
          0.4071,
          4.346909504728735,
          4.349732922849469,
          1.966127425619875,
          3.399452221767689,
          1.8586079438282783,
          3.6643233909442428
         ],
         "z": [
          0.091,
          -0.948,
          0.8303,
          -0.8857,
          0.9008,
          -0.0116,
          -0.05204377219496208,
          -0.5197018062764777,
          -0.6118634595311427,
          -2.1802520125431775,
          -2.6370025179744583,
          -3.6815541171730306
         ]
        },
        {
         "hovertemplate": "<b>%{hovertext}</b><br><br>color=C<br>x=%{x}<br>y=%{y}<br>z=%{z}<extra></extra>",
         "hovertext": [
          "C1",
          "C2",
          "C3",
          "C4",
          "CA",
          "C",
          "CB"
         ],
         "legendgroup": "C",
         "marker": {
          "color": "black",
          "opacity": 0.3,
          "symbol": "circle"
         },
         "mode": "markers",
         "name": "C",
         "scene": "scene",
         "showlegend": true,
         "type": "scatter3d",
         "x": [
          1.2341,
          -1.2342,
          2.381,
          -2.3805,
          1.1207945650493099,
          -0.0002159468046586399,
          0.7620719440717879
         ],
         "y": [
          -0.023900000000000032,
          -0.024,
          0.9511,
          0.9515,
          2.554986289893149,
          1.802442790597749,
          2.8103768041999055
         ],
         "z": [
          0.0049000000000000155,
          -0.0009,
          -0.0062,
          0.0007,
          -0.6647526112808132,
          0.004031893609317327,
          -2.1286671464915092
         ]
        },
        {
         "hovertemplate": "<b>%{hovertext}</b><br><br>color=N<br>x=%{x}<br>y=%{y}<br>z=%{z}<extra></extra>",
         "hovertext": [
          "N1",
          "N"
         ],
         "legendgroup": "N",
         "marker": {
          "color": "blue",
          "opacity": 0.3,
          "symbol": "circle"
         },
         "mode": "markers",
         "name": "N",
         "scene": "scene",
         "showlegend": true,
         "type": "scatter3d",
         "x": [
          -0.0001,
          1.3250668481229688
         ],
         "y": [
          0.6228,
          3.8382530836047613
         ],
         "z": [
          0.0038,
          0.02040151045019724
         ]
        },
        {
         "hovertemplate": "<b>%{hovertext}</b><br><br>color=O<br>x=%{x}<br>y=%{y}<br>z=%{z}<extra></extra>",
         "hovertext": [
          "O1",
          "O2",
          "O",
          "OG"
         ],
         "legendgroup": "O",
         "marker": {
          "color": "red",
          "opacity": 0.3,
          "symbol": "circle"
         },
         "mode": "markers",
         "name": "O",
         "scene": "scene",
         "showlegend": true,
         "type": "scatter3d",
         "x": [
          1.4126,
          -1.4128,
          -0.897811172169071,
          1.824135073640366
         ],
         "y": [
          -1.2387,
          -1.2388,
          2.4057194711299594,
          3.5248440251815856
         ],
         "z": [
          0.0021,
          -0.0045,
          0.5398192190744184,
          -2.7624458925486115
         ]
        },
        {
         "hoverinfo": "skip",
         "line": {
          "color": "black",
          "width": 1
         },
         "mode": "lines",
         "showlegend": false,
         "type": "scatter3d",
         "x": [
          1.4126,
          1.2341
         ],
         "y": [
          -1.2387,
          -0.023900000000000032
         ],
         "z": [
          0.0021,
          0.0049000000000000155
         ]
        },
        {
         "hoverinfo": "skip",
         "line": {
          "color": "black",
          "width": 1
         },
         "mode": "lines",
         "showlegend": false,
         "type": "scatter3d",
         "x": [
          -1.4128,
          -1.2342
         ],
         "y": [
          -1.2388,
          -0.024
         ],
         "z": [
          -0.0045,
          -0.0009
         ]
        },
        {
         "hoverinfo": "skip",
         "line": {
          "color": "black",
          "width": 1
         },
         "mode": "lines",
         "showlegend": false,
         "type": "scatter3d",
         "x": [
          -0.0001,
          1.2341
         ],
         "y": [
          0.6228,
          -0.023900000000000032
         ],
         "z": [
          0.0038,
          0.0049000000000000155
         ]
        },
        {
         "hoverinfo": "skip",
         "line": {
          "color": "black",
          "width": 1
         },
         "mode": "lines",
         "showlegend": false,
         "type": "scatter3d",
         "x": [
          -0.0001,
          -1.2342
         ],
         "y": [
          0.6228,
          -0.024
         ],
         "z": [
          0.0038,
          -0.0009
         ]
        },
        {
         "hoverinfo": "skip",
         "line": {
          "color": "black",
          "width": 1
         },
         "mode": "lines",
         "showlegend": false,
         "type": "scatter3d",
         "x": [
          1.2341,
          2.381
         ],
         "y": [
          -0.023900000000000032,
          0.9511
         ],
         "z": [
          0.0049000000000000155,
          -0.0062
         ]
        },
        {
         "hoverinfo": "skip",
         "line": {
          "color": "black",
          "width": 1
         },
         "mode": "lines",
         "showlegend": false,
         "type": "scatter3d",
         "x": [
          -1.2342,
          -2.3805
         ],
         "y": [
          -0.024,
          0.9515
         ],
         "z": [
          -0.0009,
          0.0007
         ]
        },
        {
         "hoverinfo": "skip",
         "line": {
          "color": "black",
          "width": 1
         },
         "mode": "lines",
         "showlegend": false,
         "type": "scatter3d",
         "x": [
          2.381,
          3.3262
         ],
         "y": [
          0.9511,
          0.4099
         ],
         "z": [
          -0.0062,
          0.091
         ]
        },
        {
         "hoverinfo": "skip",
         "line": {
          "color": "black",
          "width": 1
         },
         "mode": "lines",
         "showlegend": false,
         "type": "scatter3d",
         "x": [
          2.381,
          2.3822
         ],
         "y": [
          0.9511,
          1.5068
         ],
         "z": [
          -0.0062,
          -0.948
         ]
        },
        {
         "hoverinfo": "skip",
         "line": {
          "color": "black",
          "width": 1
         },
         "mode": "lines",
         "showlegend": false,
         "type": "scatter3d",
         "x": [
          2.381,
          2.2873
         ],
         "y": [
          0.9511,
          1.6495
         ],
         "z": [
          -0.0062,
          0.8303
         ]
        },
        {
         "hoverinfo": "skip",
         "line": {
          "color": "black",
          "width": 1
         },
         "mode": "lines",
         "showlegend": false,
         "type": "scatter3d",
         "x": [
          -2.3805,
          -2.3264
         ],
         "y": [
          0.9515,
          1.5897
         ],
         "z": [
          0.0007,
          -0.8857
         ]
        },
        {
         "hoverinfo": "skip",
         "line": {
          "color": "black",
          "width": 1
         },
         "mode": "lines",
         "showlegend": false,
         "type": "scatter3d",
         "x": [
          -2.3805,
          -2.3386
         ],
         "y": [
          0.9515,
          1.5714
         ],
         "z": [
          0.0007,
          0.9008
         ]
        },
        {
         "hoverinfo": "skip",
         "line": {
          "color": "black",
          "width": 1
         },
         "mode": "lines",
         "showlegend": false,
         "type": "scatter3d",
         "x": [
          -2.3805,
          -3.3287
         ],
         "y": [
          0.9515,
          0.4071
         ],
         "z": [
          0.0007,
          -0.0116
         ]
        },
        {
         "hoverinfo": "skip",
         "line": {
          "color": "black",
          "width": 1
         },
         "mode": "lines",
         "showlegend": false,
         "type": "scatter3d",
         "x": [
          1.3250668481229688,
          1.1207945650493099
         ],
         "y": [
          3.8382530836047613,
          2.554986289893149
         ],
         "z": [
          0.02040151045019724,
          -0.6647526112808132
         ]
        },
        {
         "hoverinfo": "skip",
         "line": {
          "color": "black",
          "width": 1
         },
         "mode": "lines",
         "showlegend": false,
         "type": "scatter3d",
         "x": [
          1.3250668481229688,
          0.45775529725337816
         ],
         "y": [
          3.8382530836047613,
          4.346909504728735
         ],
         "z": [
          0.02040151045019724,
          -0.05204377219496208
         ]
        },
        {
         "hoverinfo": "skip",
         "line": {
          "color": "black",
          "width": 1
         },
         "mode": "lines",
         "showlegend": false,
         "type": "scatter3d",
         "x": [
          1.3250668481229688,
          2.0070483590945285
         ],
         "y": [
          3.8382530836047613,
          4.349732922849469
         ],
         "z": [
          0.02040151045019724,
          -0.5197018062764777
         ]
        },
        {
         "hoverinfo": "skip",
         "line": {
          "color": "black",
          "width": 1
         },
         "mode": "lines",
         "showlegend": false,
         "type": "scatter3d",
         "x": [
          1.1207945650493099,
          -0.0002159468046586399
         ],
         "y": [
          2.554986289893149,
          1.802442790597749
         ],
         "z": [
          -0.6647526112808132,
          0.004031893609317327
         ]
        },
        {
         "hoverinfo": "skip",
         "line": {
          "color": "black",
          "width": 1
         },
         "mode": "lines",
         "showlegend": false,
         "type": "scatter3d",
         "x": [
          1.1207945650493099,
          0.7620719440717879
         ],
         "y": [
          2.554986289893149,
          2.8103768041999055
         ],
         "z": [
          -0.6647526112808132,
          -2.1286671464915092
         ]
        },
        {
         "hoverinfo": "skip",
         "line": {
          "color": "black",
          "width": 1
         },
         "mode": "lines",
         "showlegend": false,
         "type": "scatter3d",
         "x": [
          1.1207945650493099,
          2.0361698845734875
         ],
         "y": [
          2.554986289893149,
          1.966127425619875
         ],
         "z": [
          -0.6647526112808132,
          -0.6118634595311427
         ]
        },
        {
         "hoverinfo": "skip",
         "line": {
          "color": "black",
          "width": 1
         },
         "mode": "lines",
         "showlegend": false,
         "type": "scatter3d",
         "x": [
          -0.0002159468046586399,
          -0.897811172169071
         ],
         "y": [
          1.802442790597749,
          2.4057194711299594
         ],
         "z": [
          0.004031893609317327,
          0.5398192190744184
         ]
        },
        {
         "hoverinfo": "skip",
         "line": {
          "color": "black",
          "width": 1
         },
         "mode": "lines",
         "showlegend": false,
         "type": "scatter3d",
         "x": [
          -0.0002159468046586399,
          -0.897811172169071
         ],
         "y": [
          1.802442790597749,
          2.4057194711299594
         ],
         "z": [
          0.004031893609317327,
          0.5398192190744184
         ]
        },
        {
         "hoverinfo": "skip",
         "line": {
          "color": "black",
          "width": 1
         },
         "mode": "lines",
         "showlegend": false,
         "type": "scatter3d",
         "x": [
          0.7620719440717879,
          1.824135073640366
         ],
         "y": [
          2.8103768041999055,
          3.5248440251815856
         ],
         "z": [
          -2.1286671464915092,
          -2.7624458925486115
         ]
        },
        {
         "hoverinfo": "skip",
         "line": {
          "color": "black",
          "width": 1
         },
         "mode": "lines",
         "showlegend": false,
         "type": "scatter3d",
         "x": [
          0.7620719440717879,
          -0.15380531517847543
         ],
         "y": [
          2.8103768041999055,
          3.399452221767689
         ],
         "z": [
          -2.1286671464915092,
          -2.1802520125431775
         ]
        },
        {
         "hoverinfo": "skip",
         "line": {
          "color": "black",
          "width": 1
         },
         "mode": "lines",
         "showlegend": false,
         "type": "scatter3d",
         "x": [
          0.7620719440717879,
          0.6104138202333808
         ],
         "y": [
          2.8103768041999055,
          1.8586079438282783
         ],
         "z": [
          -2.1286671464915092,
          -2.6370025179744583
         ]
        },
        {
         "hoverinfo": "skip",
         "line": {
          "color": "black",
          "width": 1
         },
         "mode": "lines",
         "showlegend": false,
         "type": "scatter3d",
         "x": [
          1.824135073640366,
          1.558017471903475
         ],
         "y": [
          3.5248440251815856,
          3.6643233909442428
         ],
         "z": [
          -2.7624458925486115,
          -3.6815541171730306
         ]
        },
        {
         "hoverinfo": "skip",
         "line": {
          "color": "black",
          "width": 1
         },
         "mode": "lines",
         "showlegend": false,
         "type": "scatter3d",
         "x": [
          -0.0001,
          -0.0002159468046586399
         ],
         "y": [
          0.6228,
          1.802442790597749
         ],
         "z": [
          0.0038,
          0.004031893609317327
         ]
        }
       ],
       "layout": {
        "legend": {
         "title": {
          "text": "color"
         },
         "tracegroupgap": 0
        },
        "margin": {
         "t": 60
        },
        "scene": {
         "domain": {
          "x": [
           0,
           1
          ],
          "y": [
           0,
           1
          ]
         },
         "xaxis": {
          "showgrid": false,
          "showline": false,
          "showticklabels": false,
          "title": {
           "text": "x"
          }
         },
         "yaxis": {
          "showgrid": false,
          "showline": false,
          "showticklabels": false,
          "title": {
           "text": "y"
          }
         },
         "zaxis": {
          "showgrid": false,
          "showline": false,
          "showticklabels": false,
          "title": {
           "text": "z"
          }
         }
        },
        "template": {
         "data": {
          "scatter": [
           {
            "type": "scatter"
           }
          ]
         }
        }
       }
      }
     },
     "metadata": {},
     "output_type": "display_data"
    }
   ],
   "source": [
    "from biobuild import optimizers\n",
    "\n",
    "# generate a residue graph\n",
    "graph = new.make_residue_graph()\n",
    "graph.make_detailed(True, True, 0.1)\n",
    "\n",
    "# choose only the the bond between N1 and C (in serine) to be rotatable\n",
    "bonds = new.get_bonds(\"N1\", \"C\")\n",
    "\n",
    "# let's use the standard \"MultiBondRotatron\" environment\n",
    "env = optimizers.MultiBondRotatron(graph, bonds)\n",
    "\n",
    "# and optimize the geometry using particle-swarm optimization\n",
    "# we immediately apply the solution to a copy of the molecule\n",
    "out = optimizers.swarm_optimize(env, molecule=new.copy())\n",
    "\n",
    "# and check what it looks like\n",
    "out.show()"
   ]
  }
 ],
 "metadata": {
  "kernelspec": {
   "display_name": "glyco2",
   "language": "python",
   "name": "python3"
  },
  "language_info": {
   "codemirror_mode": {
    "name": "ipython",
    "version": 3
   },
   "file_extension": ".py",
   "mimetype": "text/x-python",
   "name": "python",
   "nbconvert_exporter": "python",
   "pygments_lexer": "ipython3",
   "version": "3.11.2"
  },
  "orig_nbformat": 4
 },
 "nbformat": 4,
 "nbformat_minor": 2
}
