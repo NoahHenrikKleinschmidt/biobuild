{
 "cells": [
  {
   "attachments": {},
   "cell_type": "markdown",
   "metadata": {},
   "source": [
    "> ### In this tutorial we will cover:\n",
    "> - which built-in resources are available\n",
    "> - how to set your own default settings"
   ]
  },
  {
   "attachments": {},
   "cell_type": "markdown",
   "metadata": {},
   "source": [
    "## Built-in resources\n",
    "\n",
    "`biubuild` has three built-in data resources: the _CHARMM_ force field, the _PDBE compound library_, and _PubChem_ (remotely queried)."
   ]
  },
  {
   "attachments": {},
   "cell_type": "markdown",
   "metadata": {},
   "source": [
    "```mermaid\n",
    "\n",
    "flowchart TB\n",
    "  node_1((\"CHARMM\"))\n",
    "  node_2[\"pre-defined linkages\"]\n",
    "  node_3((\"PDBE Compounds\"))\n",
    "  node_4[\"small molecules\"]\n",
    "  node_5((\"PubChem\"))\n",
    "  node_7[\"amino acids\"]\n",
    "  node_8[\"sugars\"]\n",
    "  node_9[\"lipids\"]\n",
    "  node_6[\"any other available molecule\"]\n",
    "  node_10[\"nucleotides\"]\n",
    "  node_1 --> node_2\n",
    "  node_3 --> node_4\n",
    "  node_3 --> node_7\n",
    "  node_3 --> node_8\n",
    "  node_3 --> node_9\n",
    "  node_5 --> node_6\n",
    "  node_3 --> node_10\n",
    "\n",
    "\n",
    "```"
   ]
  },
  {
   "attachments": {},
   "cell_type": "markdown",
   "metadata": {},
   "source": [
    "### CHARMM Force Field\n",
    "\n",
    "In order to connect molecules together, the user may define their own `Linkage` by specifying which atoms to connect and which atoms to remove in the process. However, to make life easier, `biobuild` references the CHARMM force field which already specifies a number of linkage types - so-called `patches`. Each _patch_ specifies the atoms to connect and remove as well as the _internal coordinates_ around the newly formed bond. This allows biobuild to generate structures by pure matrix transformation as the resulting geometry is already specified. "
   ]
  },
  {
   "attachments": {},
   "cell_type": "markdown",
   "metadata": {},
   "source": [
    "We can check what linkages are available by default using:"
   ]
  },
  {
   "cell_type": "code",
   "execution_count": 14,
   "metadata": {},
   "outputs": [
    {
     "data": {
      "text/plain": [
       "[Linkage(SCK0),\n",
       " Linkage(SCK1),\n",
       " Linkage(LLLO),\n",
       " Linkage(CERA),\n",
       " Linkage(CERB),\n",
       " Linkage(DAGA),\n",
       " Linkage(DAGB),\n",
       " Linkage(INS2A),\n",
       " Linkage(INS2B),\n",
       " Linkage(INS6A),\n",
       " Linkage(INS6B),\n",
       " Linkage(SGPA),\n",
       " Linkage(TGPA),\n",
       " Linkage(SGPB),\n",
       " Linkage(TGPB),\n",
       " Linkage(NGLA),\n",
       " Linkage(11aa),\n",
       " Linkage(11ab),\n",
       " Linkage(11bb),\n",
       " Linkage(12aa),\n",
       " Linkage(12ab),\n",
       " Linkage(12ba),\n",
       " Linkage(12bb),\n",
       " Linkage(13aa),\n",
       " Linkage(13ab),\n",
       " Linkage(13ba),\n",
       " Linkage(13bb),\n",
       " Linkage(14aa),\n",
       " Linkage(14ab),\n",
       " Linkage(14ba),\n",
       " Linkage(14bb),\n",
       " Linkage(16aa),\n",
       " Linkage(16ab),\n",
       " Linkage(SUCR),\n",
       " Linkage(LCTL),\n",
       " Linkage(AB15),\n",
       " Linkage(SA23AB),\n",
       " Linkage(my_12aa)]"
      ]
     },
     "execution_count": 14,
     "metadata": {},
     "output_type": "execute_result"
    }
   ],
   "source": [
    "import biobuild as bb\n",
    "\n",
    "bb.available_linkages()"
   ]
  },
  {
   "attachments": {},
   "cell_type": "markdown",
   "metadata": {},
   "source": [
    "Each linkage is identified by an ID within the CHARMM force field - e.g. `12aa` stands for the `1->2 alpha glycosydic linkage`. Each of the pre-defined available linkages can be referenced by their (string) id when connecting molecules together.\n",
    "\n",
    "For example, we can connect two mannoses using a `12aa` linkage by:"
   ]
  },
  {
   "cell_type": "code",
   "execution_count": 15,
   "metadata": {},
   "outputs": [
    {
     "data": {
      "application/vnd.plotly.v1+json": {
       "config": {
        "plotlyServerURL": "https://plot.ly"
       },
       "data": [
        {
         "hovertemplate": "<b>%{hovertext}</b><br><br>color=H<br>x=%{x}<br>y=%{y}<br>z=%{z}<extra></extra>",
         "hovertext": [
          "H1",
          "H2",
          "H3",
          "H4",
          "H5",
          "H6",
          "H7",
          "H8",
          "H9",
          "H10",
          "H11",
          "H12",
          "H1",
          "H2",
          "H3",
          "H4",
          "H5",
          "H6",
          "H7",
          "H8",
          "H9",
          "H10",
          "H11",
          "H12"
         ],
         "legendgroup": "H",
         "marker": {
          "color": "lightgray",
          "opacity": 0.3,
          "symbol": "circle"
         },
         "mode": "markers",
         "name": "H",
         "scene": "scene",
         "showlegend": true,
         "type": "scatter3d",
         "x": [
          -2.7070000171661377,
          -1.3539999723434448,
          0.4909999966621399,
          1.2669999599456787,
          0.0020000000949949026,
          0.9150000214576721,
          1.7100000381469727,
          -2.259999990463257,
          -1.7170000076293945,
          0.9340000152587891,
          2.9579999446868896,
          0.27000001072883606,
          -0.25565868519978896,
          -0.2949108386616103,
          -2.1022199935144137,
          -3.949280207040538,
          -2.950223394841518,
          -4.904386205299733,
          -5.335051862231696,
          -0.7287206002457909,
          -0.768668970751222,
          -1.7922430161990737,
          -4.834260148825296,
          -5.070101815136402
         ],
         "y": [
          0.2160000056028366,
          -0.4099999964237213,
          -1.5520000457763672,
          1.2070000171661377,
          -1.1890000104904175,
          1.5210000276565552,
          -0.039000000804662704,
          -1.6720000505447388,
          1.8040000200271606,
          -0.5009999871253967,
          -0.3050000071525574,
          0.5820000171661377,
          1.4499676863750557,
          3.806592112361317,
          3.6739600371282792,
          3.211841479868891,
          1.2951007523660447,
          0.8906657808850063,
          0.9486291493251882,
          0.5408730802463706,
          3.2850950849368195,
          5.664678368914775,
          4.281812836456174,
          -1.1906763645652347
         ],
         "z": [
          -0.4569999873638153,
          -2.430000066757202,
          -1.2999999523162842,
          -0.24400000274181366,
          1.1619999408721924,
          2.2260000705718994,
          2.5429999828338623,
          0.7570000290870667,
          -1.9550000429153442,
          -3.2929999828338623,
          -0.5870000123977661,
          4.215000152587891,
          -3.7998902219890986,
          -3.060034747613992,
          -1.4165229018679568,
          -3.8048713444084976,
          -1.6494439141034405,
          -3.9575699457277684,
          -2.2320898793490853,
          -1.749562401593868,
          -5.2424150899385715,
          -2.518273162167079,
          -1.9786060238845755,
          -3.0118323588910245
         ]
        },
        {
         "hovertemplate": "<b>%{hovertext}</b><br><br>color=C<br>x=%{x}<br>y=%{y}<br>z=%{z}<extra></extra>",
         "hovertext": [
          "C1",
          "C2",
          "C3",
          "C4",
          "C5",
          "C6",
          "C1",
          "C2",
          "C3",
          "C4",
          "C5",
          "C6"
         ],
         "legendgroup": "C",
         "marker": {
          "color": "black",
          "opacity": 0.3,
          "symbol": "circle"
         },
         "mode": "markers",
         "name": "C",
         "scene": "scene",
         "showlegend": true,
         "type": "scatter3d",
         "x": [
          -1.6920000314712524,
          -0.878000020980835,
          0.5350000262260437,
          1.1260000467300415,
          0.1599999964237213,
          0.7570000290870667,
          -1.0931820107506458,
          -1.203334340809717,
          -2.3677562969542185,
          -3.6248745155678894,
          -3.2977458877940067,
          -4.556138251847967
         ],
         "y": [
          -0.15600000321865082,
          0.09099999815225601,
          -0.46700000762939453,
          0.1340000033378601,
          -0.11699999868869781,
          0.4480000138282776,
          1.8200590595826083,
          3.3138803481558834,
          3.8089097878328975,
          2.9936381484343637,
          1.5048676455759873,
          0.6817423825693534
         ],
         "z": [
          -0.3160000145435333,
          -1.5880000591278076,
          -1.3910000324249268,
          -0.11100000143051147,
          1.0479999780654907,
          2.3389999866485596,
          -3.1800841679402683,
          -3.3519088227132006,
          -2.464721903389643,
          -2.7870072765284806,
          -2.6605670588119157,
          -2.9455737081602447
         ]
        },
        {
         "hovertemplate": "<b>%{hovertext}</b><br><br>color=O<br>x=%{x}<br>y=%{y}<br>z=%{z}<extra></extra>",
         "hovertext": [
          "O1",
          "O2",
          "O3",
          "O4",
          "O5",
          "O6",
          "O2",
          "O3",
          "O4",
          "O5",
          "O6"
         ],
         "legendgroup": "O",
         "marker": {
          "color": "red",
          "opacity": 0.3,
          "symbol": "circle"
         },
         "mode": "markers",
         "name": "O",
         "scene": "scene",
         "showlegend": true,
         "type": "scatter3d",
         "x": [
          -1.7350000143051147,
          -0.8080000281333923,
          1.350000023841858,
          2.384000062942505,
          -1.0870000123977661,
          -0.1420000046491623,
          -1.51012364132999,
          -2.611820685411075,
          -4.665362026194243,
          -2.274875094174473,
          -4.253404077253808
         ],
         "y": [
          -1.5579999685287476,
          1.49399995803833,
          -0.11299999803304672,
          -0.4819999933242798,
          0.5199999809265137,
          0.210999995470047,
          3.618507841367067,
          5.193806512603625,
          3.336537517958618,
          1.132857850498579,
          -0.7085889267663315
         ],
         "z": [
          -0.04600000008940697,
          -1.8450000286102295,
          -2.510999917984009,
          0.17000000178813934,
          0.7839999794960022,
          3.4230000972747803,
          -4.719383628523054,
          -2.7224695316938243,
          -1.870062824688067,
          -3.596493767759649,
          -2.8240953792214816
         ]
        },
        {
         "hoverinfo": "skip",
         "line": {
          "color": "black",
          "width": 1
         },
         "mode": "lines",
         "showlegend": false,
         "type": "scatter3d",
         "x": [
          -1.6920000314712524,
          -0.878000020980835
         ],
         "y": [
          -0.15600000321865082,
          0.09099999815225601
         ],
         "z": [
          -0.3160000145435333,
          -1.5880000591278076
         ]
        },
        {
         "hoverinfo": "skip",
         "line": {
          "color": "black",
          "width": 1
         },
         "mode": "lines",
         "showlegend": false,
         "type": "scatter3d",
         "x": [
          -1.6920000314712524,
          -1.7350000143051147
         ],
         "y": [
          -0.15600000321865082,
          -1.5579999685287476
         ],
         "z": [
          -0.3160000145435333,
          -0.04600000008940697
         ]
        },
        {
         "hoverinfo": "skip",
         "line": {
          "color": "black",
          "width": 1
         },
         "mode": "lines",
         "showlegend": false,
         "type": "scatter3d",
         "x": [
          -1.6920000314712524,
          -1.0870000123977661
         ],
         "y": [
          -0.15600000321865082,
          0.5199999809265137
         ],
         "z": [
          -0.3160000145435333,
          0.7839999794960022
         ]
        },
        {
         "hoverinfo": "skip",
         "line": {
          "color": "black",
          "width": 1
         },
         "mode": "lines",
         "showlegend": false,
         "type": "scatter3d",
         "x": [
          -1.6920000314712524,
          -2.7070000171661377
         ],
         "y": [
          -0.15600000321865082,
          0.2160000056028366
         ],
         "z": [
          -0.3160000145435333,
          -0.4569999873638153
         ]
        },
        {
         "hoverinfo": "skip",
         "line": {
          "color": "black",
          "width": 1
         },
         "mode": "lines",
         "showlegend": false,
         "type": "scatter3d",
         "x": [
          -0.878000020980835,
          0.5350000262260437
         ],
         "y": [
          0.09099999815225601,
          -0.46700000762939453
         ],
         "z": [
          -1.5880000591278076,
          -1.3910000324249268
         ]
        },
        {
         "hoverinfo": "skip",
         "line": {
          "color": "black",
          "width": 1
         },
         "mode": "lines",
         "showlegend": false,
         "type": "scatter3d",
         "x": [
          -0.878000020980835,
          -0.8080000281333923
         ],
         "y": [
          0.09099999815225601,
          1.49399995803833
         ],
         "z": [
          -1.5880000591278076,
          -1.8450000286102295
         ]
        },
        {
         "hoverinfo": "skip",
         "line": {
          "color": "black",
          "width": 1
         },
         "mode": "lines",
         "showlegend": false,
         "type": "scatter3d",
         "x": [
          -0.878000020980835,
          -1.3539999723434448
         ],
         "y": [
          0.09099999815225601,
          -0.4099999964237213
         ],
         "z": [
          -1.5880000591278076,
          -2.430000066757202
         ]
        },
        {
         "hoverinfo": "skip",
         "line": {
          "color": "black",
          "width": 1
         },
         "mode": "lines",
         "showlegend": false,
         "type": "scatter3d",
         "x": [
          -1.7350000143051147,
          -2.259999990463257
         ],
         "y": [
          -1.5579999685287476,
          -1.6720000505447388
         ],
         "z": [
          -0.04600000008940697,
          0.7570000290870667
         ]
        },
        {
         "hoverinfo": "skip",
         "line": {
          "color": "black",
          "width": 1
         },
         "mode": "lines",
         "showlegend": false,
         "type": "scatter3d",
         "x": [
          -1.0870000123977661,
          0.1599999964237213
         ],
         "y": [
          0.5199999809265137,
          -0.11699999868869781
         ],
         "z": [
          0.7839999794960022,
          1.0479999780654907
         ]
        },
        {
         "hoverinfo": "skip",
         "line": {
          "color": "black",
          "width": 1
         },
         "mode": "lines",
         "showlegend": false,
         "type": "scatter3d",
         "x": [
          0.5350000262260437,
          1.1260000467300415
         ],
         "y": [
          -0.46700000762939453,
          0.1340000033378601
         ],
         "z": [
          -1.3910000324249268,
          -0.11100000143051147
         ]
        },
        {
         "hoverinfo": "skip",
         "line": {
          "color": "black",
          "width": 1
         },
         "mode": "lines",
         "showlegend": false,
         "type": "scatter3d",
         "x": [
          0.5350000262260437,
          1.350000023841858
         ],
         "y": [
          -0.46700000762939453,
          -0.11299999803304672
         ],
         "z": [
          -1.3910000324249268,
          -2.510999917984009
         ]
        },
        {
         "hoverinfo": "skip",
         "line": {
          "color": "black",
          "width": 1
         },
         "mode": "lines",
         "showlegend": false,
         "type": "scatter3d",
         "x": [
          0.5350000262260437,
          0.4909999966621399
         ],
         "y": [
          -0.46700000762939453,
          -1.5520000457763672
         ],
         "z": [
          -1.3910000324249268,
          -1.2999999523162842
         ]
        },
        {
         "hoverinfo": "skip",
         "line": {
          "color": "black",
          "width": 1
         },
         "mode": "lines",
         "showlegend": false,
         "type": "scatter3d",
         "x": [
          -0.8080000281333923,
          -1.7170000076293945
         ],
         "y": [
          1.49399995803833,
          1.8040000200271606
         ],
         "z": [
          -1.8450000286102295,
          -1.9550000429153442
         ]
        },
        {
         "hoverinfo": "skip",
         "line": {
          "color": "black",
          "width": 1
         },
         "mode": "lines",
         "showlegend": false,
         "type": "scatter3d",
         "x": [
          0.1599999964237213,
          1.1260000467300415
         ],
         "y": [
          -0.11699999868869781,
          0.1340000033378601
         ],
         "z": [
          1.0479999780654907,
          -0.11100000143051147
         ]
        },
        {
         "hoverinfo": "skip",
         "line": {
          "color": "black",
          "width": 1
         },
         "mode": "lines",
         "showlegend": false,
         "type": "scatter3d",
         "x": [
          0.1599999964237213,
          0.7570000290870667
         ],
         "y": [
          -0.11699999868869781,
          0.4480000138282776
         ],
         "z": [
          1.0479999780654907,
          2.3389999866485596
         ]
        },
        {
         "hoverinfo": "skip",
         "line": {
          "color": "black",
          "width": 1
         },
         "mode": "lines",
         "showlegend": false,
         "type": "scatter3d",
         "x": [
          0.1599999964237213,
          0.0020000000949949026
         ],
         "y": [
          -0.11699999868869781,
          -1.1890000104904175
         ],
         "z": [
          1.0479999780654907,
          1.1619999408721924
         ]
        },
        {
         "hoverinfo": "skip",
         "line": {
          "color": "black",
          "width": 1
         },
         "mode": "lines",
         "showlegend": false,
         "type": "scatter3d",
         "x": [
          1.1260000467300415,
          2.384000062942505
         ],
         "y": [
          0.1340000033378601,
          -0.4819999933242798
         ],
         "z": [
          -0.11100000143051147,
          0.17000000178813934
         ]
        },
        {
         "hoverinfo": "skip",
         "line": {
          "color": "black",
          "width": 1
         },
         "mode": "lines",
         "showlegend": false,
         "type": "scatter3d",
         "x": [
          1.1260000467300415,
          1.2669999599456787
         ],
         "y": [
          0.1340000033378601,
          1.2070000171661377
         ],
         "z": [
          -0.11100000143051147,
          -0.24400000274181366
         ]
        },
        {
         "hoverinfo": "skip",
         "line": {
          "color": "black",
          "width": 1
         },
         "mode": "lines",
         "showlegend": false,
         "type": "scatter3d",
         "x": [
          1.350000023841858,
          0.9340000152587891
         ],
         "y": [
          -0.11299999803304672,
          -0.5009999871253967
         ],
         "z": [
          -2.510999917984009,
          -3.2929999828338623
         ]
        },
        {
         "hoverinfo": "skip",
         "line": {
          "color": "black",
          "width": 1
         },
         "mode": "lines",
         "showlegend": false,
         "type": "scatter3d",
         "x": [
          2.384000062942505,
          2.9579999446868896
         ],
         "y": [
          -0.4819999933242798,
          -0.3050000071525574
         ],
         "z": [
          0.17000000178813934,
          -0.5870000123977661
         ]
        },
        {
         "hoverinfo": "skip",
         "line": {
          "color": "black",
          "width": 1
         },
         "mode": "lines",
         "showlegend": false,
         "type": "scatter3d",
         "x": [
          0.7570000290870667,
          -0.1420000046491623
         ],
         "y": [
          0.4480000138282776,
          0.210999995470047
         ],
         "z": [
          2.3389999866485596,
          3.4230000972747803
         ]
        },
        {
         "hoverinfo": "skip",
         "line": {
          "color": "black",
          "width": 1
         },
         "mode": "lines",
         "showlegend": false,
         "type": "scatter3d",
         "x": [
          0.7570000290870667,
          0.9150000214576721
         ],
         "y": [
          0.4480000138282776,
          1.5210000276565552
         ],
         "z": [
          2.3389999866485596,
          2.2260000705718994
         ]
        },
        {
         "hoverinfo": "skip",
         "line": {
          "color": "black",
          "width": 1
         },
         "mode": "lines",
         "showlegend": false,
         "type": "scatter3d",
         "x": [
          0.7570000290870667,
          1.7100000381469727
         ],
         "y": [
          0.4480000138282776,
          -0.039000000804662704
         ],
         "z": [
          2.3389999866485596,
          2.5429999828338623
         ]
        },
        {
         "hoverinfo": "skip",
         "line": {
          "color": "black",
          "width": 1
         },
         "mode": "lines",
         "showlegend": false,
         "type": "scatter3d",
         "x": [
          -0.1420000046491623,
          0.27000001072883606
         ],
         "y": [
          0.210999995470047,
          0.5820000171661377
         ],
         "z": [
          3.4230000972747803,
          4.215000152587891
         ]
        },
        {
         "hoverinfo": "skip",
         "line": {
          "color": "black",
          "width": 1
         },
         "mode": "lines",
         "showlegend": false,
         "type": "scatter3d",
         "x": [
          -1.0931820107506458,
          -1.203334340809717
         ],
         "y": [
          1.8200590595826083,
          3.3138803481558834
         ],
         "z": [
          -3.1800841679402683,
          -3.3519088227132006
         ]
        },
        {
         "hoverinfo": "skip",
         "line": {
          "color": "black",
          "width": 1
         },
         "mode": "lines",
         "showlegend": false,
         "type": "scatter3d",
         "x": [
          -1.0931820107506458,
          -2.274875094174473
         ],
         "y": [
          1.8200590595826083,
          1.132857850498579
         ],
         "z": [
          -3.1800841679402683,
          -3.596493767759649
         ]
        },
        {
         "hoverinfo": "skip",
         "line": {
          "color": "black",
          "width": 1
         },
         "mode": "lines",
         "showlegend": false,
         "type": "scatter3d",
         "x": [
          -1.0931820107506458,
          -0.25565868519978896
         ],
         "y": [
          1.8200590595826083,
          1.4499676863750557
         ],
         "z": [
          -3.1800841679402683,
          -3.7998902219890986
         ]
        },
        {
         "hoverinfo": "skip",
         "line": {
          "color": "black",
          "width": 1
         },
         "mode": "lines",
         "showlegend": false,
         "type": "scatter3d",
         "x": [
          -1.203334340809717,
          -2.3677562969542185
         ],
         "y": [
          3.3138803481558834,
          3.8089097878328975
         ],
         "z": [
          -3.3519088227132006,
          -2.464721903389643
         ]
        },
        {
         "hoverinfo": "skip",
         "line": {
          "color": "black",
          "width": 1
         },
         "mode": "lines",
         "showlegend": false,
         "type": "scatter3d",
         "x": [
          -1.203334340809717,
          -1.51012364132999
         ],
         "y": [
          3.3138803481558834,
          3.618507841367067
         ],
         "z": [
          -3.3519088227132006,
          -4.719383628523054
         ]
        },
        {
         "hoverinfo": "skip",
         "line": {
          "color": "black",
          "width": 1
         },
         "mode": "lines",
         "showlegend": false,
         "type": "scatter3d",
         "x": [
          -1.203334340809717,
          -0.2949108386616103
         ],
         "y": [
          3.3138803481558834,
          3.806592112361317
         ],
         "z": [
          -3.3519088227132006,
          -3.060034747613992
         ]
        },
        {
         "hoverinfo": "skip",
         "line": {
          "color": "black",
          "width": 1
         },
         "mode": "lines",
         "showlegend": false,
         "type": "scatter3d",
         "x": [
          -2.274875094174473,
          -3.2977458877940067
         ],
         "y": [
          1.132857850498579,
          1.5048676455759873
         ],
         "z": [
          -3.596493767759649,
          -2.6605670588119157
         ]
        },
        {
         "hoverinfo": "skip",
         "line": {
          "color": "black",
          "width": 1
         },
         "mode": "lines",
         "showlegend": false,
         "type": "scatter3d",
         "x": [
          -2.3677562969542185,
          -3.6248745155678894
         ],
         "y": [
          3.8089097878328975,
          2.9936381484343637
         ],
         "z": [
          -2.464721903389643,
          -2.7870072765284806
         ]
        },
        {
         "hoverinfo": "skip",
         "line": {
          "color": "black",
          "width": 1
         },
         "mode": "lines",
         "showlegend": false,
         "type": "scatter3d",
         "x": [
          -2.3677562969542185,
          -2.611820685411075
         ],
         "y": [
          3.8089097878328975,
          5.193806512603625
         ],
         "z": [
          -2.464721903389643,
          -2.7224695316938243
         ]
        },
        {
         "hoverinfo": "skip",
         "line": {
          "color": "black",
          "width": 1
         },
         "mode": "lines",
         "showlegend": false,
         "type": "scatter3d",
         "x": [
          -2.3677562969542185,
          -2.1022199935144137
         ],
         "y": [
          3.8089097878328975,
          3.6739600371282792
         ],
         "z": [
          -2.464721903389643,
          -1.4165229018679568
         ]
        },
        {
         "hoverinfo": "skip",
         "line": {
          "color": "black",
          "width": 1
         },
         "mode": "lines",
         "showlegend": false,
         "type": "scatter3d",
         "x": [
          -1.51012364132999,
          -0.768668970751222
         ],
         "y": [
          3.618507841367067,
          3.2850950849368195
         ],
         "z": [
          -4.719383628523054,
          -5.2424150899385715
         ]
        },
        {
         "hoverinfo": "skip",
         "line": {
          "color": "black",
          "width": 1
         },
         "mode": "lines",
         "showlegend": false,
         "type": "scatter3d",
         "x": [
          -3.2977458877940067,
          -3.6248745155678894
         ],
         "y": [
          1.5048676455759873,
          2.9936381484343637
         ],
         "z": [
          -2.6605670588119157,
          -2.7870072765284806
         ]
        },
        {
         "hoverinfo": "skip",
         "line": {
          "color": "black",
          "width": 1
         },
         "mode": "lines",
         "showlegend": false,
         "type": "scatter3d",
         "x": [
          -3.2977458877940067,
          -4.556138251847967
         ],
         "y": [
          1.5048676455759873,
          0.6817423825693534
         ],
         "z": [
          -2.6605670588119157,
          -2.9455737081602447
         ]
        },
        {
         "hoverinfo": "skip",
         "line": {
          "color": "black",
          "width": 1
         },
         "mode": "lines",
         "showlegend": false,
         "type": "scatter3d",
         "x": [
          -3.2977458877940067,
          -2.950223394841518
         ],
         "y": [
          1.5048676455759873,
          1.2951007523660447
         ],
         "z": [
          -2.6605670588119157,
          -1.6494439141034405
         ]
        },
        {
         "hoverinfo": "skip",
         "line": {
          "color": "black",
          "width": 1
         },
         "mode": "lines",
         "showlegend": false,
         "type": "scatter3d",
         "x": [
          -3.6248745155678894,
          -4.665362026194243
         ],
         "y": [
          2.9936381484343637,
          3.336537517958618
         ],
         "z": [
          -2.7870072765284806,
          -1.870062824688067
         ]
        },
        {
         "hoverinfo": "skip",
         "line": {
          "color": "black",
          "width": 1
         },
         "mode": "lines",
         "showlegend": false,
         "type": "scatter3d",
         "x": [
          -3.6248745155678894,
          -3.949280207040538
         ],
         "y": [
          2.9936381484343637,
          3.211841479868891
         ],
         "z": [
          -2.7870072765284806,
          -3.8048713444084976
         ]
        },
        {
         "hoverinfo": "skip",
         "line": {
          "color": "black",
          "width": 1
         },
         "mode": "lines",
         "showlegend": false,
         "type": "scatter3d",
         "x": [
          -2.611820685411075,
          -1.7922430161990737
         ],
         "y": [
          5.193806512603625,
          5.664678368914775
         ],
         "z": [
          -2.7224695316938243,
          -2.518273162167079
         ]
        },
        {
         "hoverinfo": "skip",
         "line": {
          "color": "black",
          "width": 1
         },
         "mode": "lines",
         "showlegend": false,
         "type": "scatter3d",
         "x": [
          -4.665362026194243,
          -4.834260148825296
         ],
         "y": [
          3.336537517958618,
          4.281812836456174
         ],
         "z": [
          -1.870062824688067,
          -1.9786060238845755
         ]
        },
        {
         "hoverinfo": "skip",
         "line": {
          "color": "black",
          "width": 1
         },
         "mode": "lines",
         "showlegend": false,
         "type": "scatter3d",
         "x": [
          -4.556138251847967,
          -4.253404077253808
         ],
         "y": [
          0.6817423825693534,
          -0.7085889267663315
         ],
         "z": [
          -2.9455737081602447,
          -2.8240953792214816
         ]
        },
        {
         "hoverinfo": "skip",
         "line": {
          "color": "black",
          "width": 1
         },
         "mode": "lines",
         "showlegend": false,
         "type": "scatter3d",
         "x": [
          -4.556138251847967,
          -4.904386205299733
         ],
         "y": [
          0.6817423825693534,
          0.8906657808850063
         ],
         "z": [
          -2.9455737081602447,
          -3.9575699457277684
         ]
        },
        {
         "hoverinfo": "skip",
         "line": {
          "color": "black",
          "width": 1
         },
         "mode": "lines",
         "showlegend": false,
         "type": "scatter3d",
         "x": [
          -4.556138251847967,
          -5.335051862231696
         ],
         "y": [
          0.6817423825693534,
          0.9486291493251882
         ],
         "z": [
          -2.9455737081602447,
          -2.2320898793490853
         ]
        },
        {
         "hoverinfo": "skip",
         "line": {
          "color": "black",
          "width": 1
         },
         "mode": "lines",
         "showlegend": false,
         "type": "scatter3d",
         "x": [
          -4.253404077253808,
          -5.070101815136402
         ],
         "y": [
          -0.7085889267663315,
          -1.1906763645652347
         ],
         "z": [
          -2.8240953792214816,
          -3.0118323588910245
         ]
        },
        {
         "hoverinfo": "skip",
         "line": {
          "color": "black",
          "width": 1
         },
         "mode": "lines",
         "showlegend": false,
         "type": "scatter3d",
         "x": [
          -0.8080000281333923,
          -1.0931820107506458
         ],
         "y": [
          1.49399995803833,
          1.8200590595826083
         ],
         "z": [
          -1.8450000286102295,
          -3.1800841679402683
         ]
        }
       ],
       "layout": {
        "legend": {
         "title": {
          "text": "color"
         },
         "tracegroupgap": 0
        },
        "margin": {
         "t": 60
        },
        "scene": {
         "domain": {
          "x": [
           0,
           1
          ],
          "y": [
           0,
           1
          ]
         },
         "xaxis": {
          "showgrid": false,
          "showline": false,
          "showticklabels": false,
          "title": {
           "text": "x"
          }
         },
         "yaxis": {
          "showgrid": false,
          "showline": false,
          "showticklabels": false,
          "title": {
           "text": "y"
          }
         },
         "zaxis": {
          "showgrid": false,
          "showline": false,
          "showticklabels": false,
          "title": {
           "text": "z"
          }
         }
        },
        "template": {
         "data": {
          "scatter": [
           {
            "type": "scatter"
           }
          ]
         }
        }
       }
      }
     },
     "metadata": {},
     "output_type": "display_data"
    }
   ],
   "source": [
    "man = bb.molecule(\"files/MAN.pdb\")\n",
    "\n",
    "# use pre-defined 12aa linkage\n",
    "man2 = bb.connect(man, man, \"12aa\")\n",
    "man2.show()"
   ]
  },
  {
   "attachments": {},
   "cell_type": "markdown",
   "metadata": {},
   "source": [
    "#### Adding custom linkages\n",
    "\n",
    "If a user has a particular kind of linkage that they keep using all the time but do not wish to store in a module of their own or copy/paste into their code repeatedly, they can use the `add_linkage` function to add their own linkage to the available defaults. This will make these linkages available by id throughout the entire session. If additionally `overwrite=True` is set, the linkage is added permanently to the defaults and will be available in all future sessions."
   ]
  },
  {
   "cell_type": "code",
   "execution_count": 16,
   "metadata": {},
   "outputs": [
    {
     "data": {
      "text/plain": [
       "[Linkage(SCK0),\n",
       " Linkage(SCK1),\n",
       " Linkage(LLLO),\n",
       " Linkage(CERA),\n",
       " Linkage(CERB),\n",
       " Linkage(DAGA),\n",
       " Linkage(DAGB),\n",
       " Linkage(INS2A),\n",
       " Linkage(INS2B),\n",
       " Linkage(INS6A),\n",
       " Linkage(INS6B),\n",
       " Linkage(SGPA),\n",
       " Linkage(TGPA),\n",
       " Linkage(SGPB),\n",
       " Linkage(TGPB),\n",
       " Linkage(NGLA),\n",
       " Linkage(11aa),\n",
       " Linkage(11ab),\n",
       " Linkage(11bb),\n",
       " Linkage(12aa),\n",
       " Linkage(12ab),\n",
       " Linkage(12ba),\n",
       " Linkage(12bb),\n",
       " Linkage(13aa),\n",
       " Linkage(13ab),\n",
       " Linkage(13ba),\n",
       " Linkage(13bb),\n",
       " Linkage(14aa),\n",
       " Linkage(14ab),\n",
       " Linkage(14ba),\n",
       " Linkage(14bb),\n",
       " Linkage(16aa),\n",
       " Linkage(16ab),\n",
       " Linkage(SUCR),\n",
       " Linkage(LCTL),\n",
       " Linkage(AB15),\n",
       " Linkage(SA23AB),\n",
       " Linkage(my_12aa)]"
      ]
     },
     "execution_count": 16,
     "metadata": {},
     "output_type": "execute_result"
    }
   ],
   "source": [
    "# define a custom 1->2 glycosydic linkage\n",
    "my_12aa = bb.linkage(\"C1\", \"O2\", [\"O1\", \"HO1\"], [\"O2\"], id=\"my_12aa\")\n",
    "\n",
    "# add the linkage to the library\n",
    "bb.add_linkage(my_12aa)\n",
    "\n",
    "bb.available_linkages()"
   ]
  },
  {
   "attachments": {},
   "cell_type": "markdown",
   "metadata": {},
   "source": [
    "If the set of available linkages is quite large and we want to check if a particular one is available, we can also use the `has_linkage` function to check if a linkage with a given id is pre-loaded in the current session."
   ]
  },
  {
   "cell_type": "code",
   "execution_count": 17,
   "metadata": {},
   "outputs": [
    {
     "data": {
      "text/plain": [
       "True"
      ]
     },
     "execution_count": 17,
     "metadata": {},
     "output_type": "execute_result"
    }
   ],
   "source": [
    "bb.has_linkage(\"my_12aa\")"
   ]
  },
  {
   "attachments": {},
   "cell_type": "markdown",
   "metadata": {},
   "source": [
    "#### The `CHARMMTopology` class\n",
    "\n",
    "The data from the CHARMM force field is handled by the `CHARMMTopology` class, which parses (you guessed it) a CHARMM topology file (**not** parameter file) and stores its data in a dictionary structure. Its purpose is to store linkages.\n",
    "\n",
    "The default instance of this class can be accessed using the `get_default_topology` function. Why is this useful? Well, if there is a \"get\"-default topology function there may be a \"set\"-version as well (which is totally the case). If you have your own CHARMM topology file with defined linkages and molecules, you can `read_topology` to parse your own file, use `set_default=True` to make your topology the default, and thus tailor biobuild to your specific needs. "
   ]
  },
  {
   "cell_type": "code",
   "execution_count": 18,
   "metadata": {},
   "outputs": [
    {
     "data": {
      "text/plain": [
       "[Linkage(my_14bb), Linkage(my_16ab)]"
      ]
     },
     "execution_count": 18,
     "metadata": {},
     "output_type": "execute_result"
    }
   ],
   "source": [
    "# read a custom topology file to make a CHARMMTopology\n",
    "# (but don't set it as the default topology)\n",
    "my_top = bb.read_topology(\"files/my_top.top\", set_default=False)\n",
    "\n",
    "# check out the patches (linkages) in the topology\n",
    "my_top.patches"
   ]
  },
  {
   "attachments": {},
   "cell_type": "markdown",
   "metadata": {},
   "source": [
    "If we want to use a non-default topology we can either specify the topology we want to use as an argument to functions and methods which accept a `_topology` argument, or we directly provide the linkage objects we obtain from the topology."
   ]
  },
  {
   "cell_type": "code",
   "execution_count": 19,
   "metadata": {},
   "outputs": [
    {
     "data": {
      "application/vnd.plotly.v1+json": {
       "config": {
        "plotlyServerURL": "https://plot.ly"
       },
       "data": [
        {
         "hovertemplate": "<b>%{hovertext}</b><br><br>color=H<br>x=%{x}<br>y=%{y}<br>z=%{z}<extra></extra>",
         "hovertext": [
          "H1",
          "H2",
          "H3",
          "H4",
          "H5",
          "H6",
          "H7",
          "H8",
          "H9",
          "H10",
          "H11",
          "H12",
          "H1",
          "H2",
          "H3",
          "H4",
          "H5",
          "H6",
          "H7",
          "H8",
          "H9",
          "H10",
          "H11",
          "H12"
         ],
         "legendgroup": "H",
         "marker": {
          "color": "lightgray",
          "opacity": 0.3,
          "symbol": "circle"
         },
         "mode": "markers",
         "name": "H",
         "scene": "scene",
         "showlegend": true,
         "type": "scatter3d",
         "x": [
          -2.7070000171661377,
          -1.3539999723434448,
          0.4909999966621399,
          1.2669999599456787,
          0.0020000000949949026,
          0.9150000214576721,
          1.7100000381469727,
          -2.259999990463257,
          -1.7170000076293945,
          0.9340000152587891,
          2.9579999446868896,
          0.27000001072883606,
          1.431745763388523,
          -0.3234000196076905,
          -2.3009591438362635,
          -1.5596211584570017,
          -1.3485595723711175,
          -0.7486207529141975,
          -2.1162225520193756,
          0.35264396321074676,
          1.0811548620767708,
          -2.4951236577067863,
          -3.7859572606922853,
          -0.3265683623132789
         ],
         "y": [
          0.2160000056028366,
          -0.4099999964237213,
          -1.5520000457763672,
          1.2070000171661377,
          -1.1890000104904175,
          1.5210000276565552,
          -0.039000000804662704,
          -1.6720000505447388,
          1.8040000200271606,
          -0.5009999871253967,
          -0.3050000071525574,
          0.5820000171661377,
          0.37658026779488146,
          -0.9634633135466836,
          0.07961067946639422,
          2.5454311511643666,
          2.001596955984942,
          4.502605310561858,
          4.3006956477075,
          0.5796536030616178,
          0.3438082776049489,
          -0.8059210304043564,
          2.192808639921832,
          5.361656058916991
         ],
         "z": [
          -0.4569999873638153,
          -2.430000066757202,
          -1.2999999523162842,
          -0.24400000274181366,
          1.1619999408721924,
          2.2260000705718994,
          2.5429999828338623,
          0.7570000290870667,
          -1.9550000429153442,
          -3.2929999828338623,
          -0.5870000123977661,
          4.215000152587891,
          4.697815628951862,
          5.8056829304944415,
          4.81253370153487,
          6.455561598172507,
          3.4593015439026313,
          5.10088502854232,
          3.9806118802690644,
          2.686034842869931,
          7.061651260987929,
          6.922280741208668,
          6.028527469939486,
          3.018153657418028
         ]
        },
        {
         "hovertemplate": "<b>%{hovertext}</b><br><br>color=C<br>x=%{x}<br>y=%{y}<br>z=%{z}<extra></extra>",
         "hovertext": [
          "C1",
          "C2",
          "C3",
          "C4",
          "C5",
          "C6",
          "C1",
          "C2",
          "C3",
          "C4",
          "C5",
          "C6"
         ],
         "legendgroup": "C",
         "marker": {
          "color": "black",
          "opacity": 0.3,
          "symbol": "circle"
         },
         "mode": "markers",
         "name": "C",
         "scene": "scene",
         "showlegend": true,
         "type": "scatter3d",
         "x": [
          -1.6920000314712524,
          -0.878000020980835,
          0.5350000262260437,
          1.1260000467300415,
          0.1599999964237213,
          0.7570000290870667,
          0.3743205055333192,
          -0.3776070934056487,
          -1.8540216813230135,
          -1.9099608773999068,
          -1.0108188183255127,
          -1.086966173643944
         ],
         "y": [
          -0.15600000321865082,
          0.09099999815225601,
          -0.46700000762939453,
          0.1340000033378601,
          -0.11699999868869781,
          0.4480000138282776,
          0.6927195870971918,
          0.11004853814525717,
          0.5512251030599102,
          2.0753382703573378,
          2.492664909274871,
          4.010266854932126
         ],
         "z": [
          -0.3160000145435333,
          -1.5880000591278076,
          -1.3910000324249268,
          -0.11100000143051147,
          1.0479999780654907,
          2.3389999866485596,
          4.636034443782528,
          5.804213190664669,
          5.687330163868566,
          5.536228268016474,
          4.371402138501914,
          4.188642062180141
         ]
        },
        {
         "hovertemplate": "<b>%{hovertext}</b><br><br>color=O<br>x=%{x}<br>y=%{y}<br>z=%{z}<extra></extra>",
         "hovertext": [
          "O1",
          "O2",
          "O3",
          "O4",
          "O5",
          "O6",
          "O2",
          "O3",
          "O4",
          "O5",
          "O6"
         ],
         "legendgroup": "O",
         "marker": {
          "color": "red",
          "opacity": 0.3,
          "symbol": "circle"
         },
         "mode": "markers",
         "name": "O",
         "scene": "scene",
         "showlegend": true,
         "type": "scatter3d",
         "x": [
          -1.7350000143051147,
          -0.8080000281333923,
          1.350000023841858,
          2.384000062942505,
          -1.0870000123977661,
          -0.1420000046491623,
          0.1581697020865067,
          -2.567861028249701,
          -3.2545782270424093,
          0.35185268097632766,
          -0.2509725567612593
         ],
         "y": [
          -1.5579999685287476,
          1.49399995803833,
          -0.11299999803304672,
          -0.4819999933242798,
          0.5199999809265137,
          0.210999995470047,
          0.6293219072566473,
          0.15643582568939163,
          2.4809422060281503,
          2.1195282631661785,
          4.401226282337869
         ],
         "z": [
          -0.04600000008940697,
          -1.8450000286102295,
          -2.510999917984009,
          0.17000000178813934,
          0.7839999794960022,
          3.4230000972747803,
          7.029072647991113,
          6.861431955512919,
          5.274558637453062,
          4.629615818233287,
          3.0988294575356448
         ]
        },
        {
         "hoverinfo": "skip",
         "line": {
          "color": "black",
          "width": 1
         },
         "mode": "lines",
         "showlegend": false,
         "type": "scatter3d",
         "x": [
          -1.6920000314712524,
          -0.878000020980835
         ],
         "y": [
          -0.15600000321865082,
          0.09099999815225601
         ],
         "z": [
          -0.3160000145435333,
          -1.5880000591278076
         ]
        },
        {
         "hoverinfo": "skip",
         "line": {
          "color": "black",
          "width": 1
         },
         "mode": "lines",
         "showlegend": false,
         "type": "scatter3d",
         "x": [
          -1.6920000314712524,
          -1.7350000143051147
         ],
         "y": [
          -0.15600000321865082,
          -1.5579999685287476
         ],
         "z": [
          -0.3160000145435333,
          -0.04600000008940697
         ]
        },
        {
         "hoverinfo": "skip",
         "line": {
          "color": "black",
          "width": 1
         },
         "mode": "lines",
         "showlegend": false,
         "type": "scatter3d",
         "x": [
          -1.6920000314712524,
          -1.0870000123977661
         ],
         "y": [
          -0.15600000321865082,
          0.5199999809265137
         ],
         "z": [
          -0.3160000145435333,
          0.7839999794960022
         ]
        },
        {
         "hoverinfo": "skip",
         "line": {
          "color": "black",
          "width": 1
         },
         "mode": "lines",
         "showlegend": false,
         "type": "scatter3d",
         "x": [
          -1.6920000314712524,
          -2.7070000171661377
         ],
         "y": [
          -0.15600000321865082,
          0.2160000056028366
         ],
         "z": [
          -0.3160000145435333,
          -0.4569999873638153
         ]
        },
        {
         "hoverinfo": "skip",
         "line": {
          "color": "black",
          "width": 1
         },
         "mode": "lines",
         "showlegend": false,
         "type": "scatter3d",
         "x": [
          -0.878000020980835,
          0.5350000262260437
         ],
         "y": [
          0.09099999815225601,
          -0.46700000762939453
         ],
         "z": [
          -1.5880000591278076,
          -1.3910000324249268
         ]
        },
        {
         "hoverinfo": "skip",
         "line": {
          "color": "black",
          "width": 1
         },
         "mode": "lines",
         "showlegend": false,
         "type": "scatter3d",
         "x": [
          -0.878000020980835,
          -0.8080000281333923
         ],
         "y": [
          0.09099999815225601,
          1.49399995803833
         ],
         "z": [
          -1.5880000591278076,
          -1.8450000286102295
         ]
        },
        {
         "hoverinfo": "skip",
         "line": {
          "color": "black",
          "width": 1
         },
         "mode": "lines",
         "showlegend": false,
         "type": "scatter3d",
         "x": [
          -0.878000020980835,
          -1.3539999723434448
         ],
         "y": [
          0.09099999815225601,
          -0.4099999964237213
         ],
         "z": [
          -1.5880000591278076,
          -2.430000066757202
         ]
        },
        {
         "hoverinfo": "skip",
         "line": {
          "color": "black",
          "width": 1
         },
         "mode": "lines",
         "showlegend": false,
         "type": "scatter3d",
         "x": [
          -1.7350000143051147,
          -2.259999990463257
         ],
         "y": [
          -1.5579999685287476,
          -1.6720000505447388
         ],
         "z": [
          -0.04600000008940697,
          0.7570000290870667
         ]
        },
        {
         "hoverinfo": "skip",
         "line": {
          "color": "black",
          "width": 1
         },
         "mode": "lines",
         "showlegend": false,
         "type": "scatter3d",
         "x": [
          -1.0870000123977661,
          0.1599999964237213
         ],
         "y": [
          0.5199999809265137,
          -0.11699999868869781
         ],
         "z": [
          0.7839999794960022,
          1.0479999780654907
         ]
        },
        {
         "hoverinfo": "skip",
         "line": {
          "color": "black",
          "width": 1
         },
         "mode": "lines",
         "showlegend": false,
         "type": "scatter3d",
         "x": [
          0.5350000262260437,
          1.1260000467300415
         ],
         "y": [
          -0.46700000762939453,
          0.1340000033378601
         ],
         "z": [
          -1.3910000324249268,
          -0.11100000143051147
         ]
        },
        {
         "hoverinfo": "skip",
         "line": {
          "color": "black",
          "width": 1
         },
         "mode": "lines",
         "showlegend": false,
         "type": "scatter3d",
         "x": [
          0.5350000262260437,
          1.350000023841858
         ],
         "y": [
          -0.46700000762939453,
          -0.11299999803304672
         ],
         "z": [
          -1.3910000324249268,
          -2.510999917984009
         ]
        },
        {
         "hoverinfo": "skip",
         "line": {
          "color": "black",
          "width": 1
         },
         "mode": "lines",
         "showlegend": false,
         "type": "scatter3d",
         "x": [
          0.5350000262260437,
          0.4909999966621399
         ],
         "y": [
          -0.46700000762939453,
          -1.5520000457763672
         ],
         "z": [
          -1.3910000324249268,
          -1.2999999523162842
         ]
        },
        {
         "hoverinfo": "skip",
         "line": {
          "color": "black",
          "width": 1
         },
         "mode": "lines",
         "showlegend": false,
         "type": "scatter3d",
         "x": [
          -0.8080000281333923,
          -1.7170000076293945
         ],
         "y": [
          1.49399995803833,
          1.8040000200271606
         ],
         "z": [
          -1.8450000286102295,
          -1.9550000429153442
         ]
        },
        {
         "hoverinfo": "skip",
         "line": {
          "color": "black",
          "width": 1
         },
         "mode": "lines",
         "showlegend": false,
         "type": "scatter3d",
         "x": [
          0.1599999964237213,
          1.1260000467300415
         ],
         "y": [
          -0.11699999868869781,
          0.1340000033378601
         ],
         "z": [
          1.0479999780654907,
          -0.11100000143051147
         ]
        },
        {
         "hoverinfo": "skip",
         "line": {
          "color": "black",
          "width": 1
         },
         "mode": "lines",
         "showlegend": false,
         "type": "scatter3d",
         "x": [
          0.1599999964237213,
          0.7570000290870667
         ],
         "y": [
          -0.11699999868869781,
          0.4480000138282776
         ],
         "z": [
          1.0479999780654907,
          2.3389999866485596
         ]
        },
        {
         "hoverinfo": "skip",
         "line": {
          "color": "black",
          "width": 1
         },
         "mode": "lines",
         "showlegend": false,
         "type": "scatter3d",
         "x": [
          0.1599999964237213,
          0.0020000000949949026
         ],
         "y": [
          -0.11699999868869781,
          -1.1890000104904175
         ],
         "z": [
          1.0479999780654907,
          1.1619999408721924
         ]
        },
        {
         "hoverinfo": "skip",
         "line": {
          "color": "black",
          "width": 1
         },
         "mode": "lines",
         "showlegend": false,
         "type": "scatter3d",
         "x": [
          1.1260000467300415,
          2.384000062942505
         ],
         "y": [
          0.1340000033378601,
          -0.4819999933242798
         ],
         "z": [
          -0.11100000143051147,
          0.17000000178813934
         ]
        },
        {
         "hoverinfo": "skip",
         "line": {
          "color": "black",
          "width": 1
         },
         "mode": "lines",
         "showlegend": false,
         "type": "scatter3d",
         "x": [
          1.1260000467300415,
          1.2669999599456787
         ],
         "y": [
          0.1340000033378601,
          1.2070000171661377
         ],
         "z": [
          -0.11100000143051147,
          -0.24400000274181366
         ]
        },
        {
         "hoverinfo": "skip",
         "line": {
          "color": "black",
          "width": 1
         },
         "mode": "lines",
         "showlegend": false,
         "type": "scatter3d",
         "x": [
          1.350000023841858,
          0.9340000152587891
         ],
         "y": [
          -0.11299999803304672,
          -0.5009999871253967
         ],
         "z": [
          -2.510999917984009,
          -3.2929999828338623
         ]
        },
        {
         "hoverinfo": "skip",
         "line": {
          "color": "black",
          "width": 1
         },
         "mode": "lines",
         "showlegend": false,
         "type": "scatter3d",
         "x": [
          2.384000062942505,
          2.9579999446868896
         ],
         "y": [
          -0.4819999933242798,
          -0.3050000071525574
         ],
         "z": [
          0.17000000178813934,
          -0.5870000123977661
         ]
        },
        {
         "hoverinfo": "skip",
         "line": {
          "color": "black",
          "width": 1
         },
         "mode": "lines",
         "showlegend": false,
         "type": "scatter3d",
         "x": [
          0.7570000290870667,
          -0.1420000046491623
         ],
         "y": [
          0.4480000138282776,
          0.210999995470047
         ],
         "z": [
          2.3389999866485596,
          3.4230000972747803
         ]
        },
        {
         "hoverinfo": "skip",
         "line": {
          "color": "black",
          "width": 1
         },
         "mode": "lines",
         "showlegend": false,
         "type": "scatter3d",
         "x": [
          0.7570000290870667,
          0.9150000214576721
         ],
         "y": [
          0.4480000138282776,
          1.5210000276565552
         ],
         "z": [
          2.3389999866485596,
          2.2260000705718994
         ]
        },
        {
         "hoverinfo": "skip",
         "line": {
          "color": "black",
          "width": 1
         },
         "mode": "lines",
         "showlegend": false,
         "type": "scatter3d",
         "x": [
          0.7570000290870667,
          1.7100000381469727
         ],
         "y": [
          0.4480000138282776,
          -0.039000000804662704
         ],
         "z": [
          2.3389999866485596,
          2.5429999828338623
         ]
        },
        {
         "hoverinfo": "skip",
         "line": {
          "color": "black",
          "width": 1
         },
         "mode": "lines",
         "showlegend": false,
         "type": "scatter3d",
         "x": [
          -0.1420000046491623,
          0.27000001072883606
         ],
         "y": [
          0.210999995470047,
          0.5820000171661377
         ],
         "z": [
          3.4230000972747803,
          4.215000152587891
         ]
        },
        {
         "hoverinfo": "skip",
         "line": {
          "color": "black",
          "width": 1
         },
         "mode": "lines",
         "showlegend": false,
         "type": "scatter3d",
         "x": [
          0.3743205055333192,
          -0.3776070934056487
         ],
         "y": [
          0.6927195870971918,
          0.11004853814525717
         ],
         "z": [
          4.636034443782528,
          5.804213190664669
         ]
        },
        {
         "hoverinfo": "skip",
         "line": {
          "color": "black",
          "width": 1
         },
         "mode": "lines",
         "showlegend": false,
         "type": "scatter3d",
         "x": [
          0.3743205055333192,
          0.35185268097632766
         ],
         "y": [
          0.6927195870971918,
          2.1195282631661785
         ],
         "z": [
          4.636034443782528,
          4.629615818233287
         ]
        },
        {
         "hoverinfo": "skip",
         "line": {
          "color": "black",
          "width": 1
         },
         "mode": "lines",
         "showlegend": false,
         "type": "scatter3d",
         "x": [
          0.3743205055333192,
          1.431745763388523
         ],
         "y": [
          0.6927195870971918,
          0.37658026779488146
         ],
         "z": [
          4.636034443782528,
          4.697815628951862
         ]
        },
        {
         "hoverinfo": "skip",
         "line": {
          "color": "black",
          "width": 1
         },
         "mode": "lines",
         "showlegend": false,
         "type": "scatter3d",
         "x": [
          -0.3776070934056487,
          -1.8540216813230135
         ],
         "y": [
          0.11004853814525717,
          0.5512251030599102
         ],
         "z": [
          5.804213190664669,
          5.687330163868566
         ]
        },
        {
         "hoverinfo": "skip",
         "line": {
          "color": "black",
          "width": 1
         },
         "mode": "lines",
         "showlegend": false,
         "type": "scatter3d",
         "x": [
          -0.3776070934056487,
          0.1581697020865067
         ],
         "y": [
          0.11004853814525717,
          0.6293219072566473
         ],
         "z": [
          5.804213190664669,
          7.029072647991113
         ]
        },
        {
         "hoverinfo": "skip",
         "line": {
          "color": "black",
          "width": 1
         },
         "mode": "lines",
         "showlegend": false,
         "type": "scatter3d",
         "x": [
          -0.3776070934056487,
          -0.3234000196076905
         ],
         "y": [
          0.11004853814525717,
          -0.9634633135466836
         ],
         "z": [
          5.804213190664669,
          5.8056829304944415
         ]
        },
        {
         "hoverinfo": "skip",
         "line": {
          "color": "black",
          "width": 1
         },
         "mode": "lines",
         "showlegend": false,
         "type": "scatter3d",
         "x": [
          0.35185268097632766,
          -1.0108188183255127
         ],
         "y": [
          2.1195282631661785,
          2.492664909274871
         ],
         "z": [
          4.629615818233287,
          4.371402138501914
         ]
        },
        {
         "hoverinfo": "skip",
         "line": {
          "color": "black",
          "width": 1
         },
         "mode": "lines",
         "showlegend": false,
         "type": "scatter3d",
         "x": [
          -1.8540216813230135,
          -1.9099608773999068
         ],
         "y": [
          0.5512251030599102,
          2.0753382703573378
         ],
         "z": [
          5.687330163868566,
          5.536228268016474
         ]
        },
        {
         "hoverinfo": "skip",
         "line": {
          "color": "black",
          "width": 1
         },
         "mode": "lines",
         "showlegend": false,
         "type": "scatter3d",
         "x": [
          -1.8540216813230135,
          -2.567861028249701
         ],
         "y": [
          0.5512251030599102,
          0.15643582568939163
         ],
         "z": [
          5.687330163868566,
          6.861431955512919
         ]
        },
        {
         "hoverinfo": "skip",
         "line": {
          "color": "black",
          "width": 1
         },
         "mode": "lines",
         "showlegend": false,
         "type": "scatter3d",
         "x": [
          -1.8540216813230135,
          -2.3009591438362635
         ],
         "y": [
          0.5512251030599102,
          0.07961067946639422
         ],
         "z": [
          5.687330163868566,
          4.81253370153487
         ]
        },
        {
         "hoverinfo": "skip",
         "line": {
          "color": "black",
          "width": 1
         },
         "mode": "lines",
         "showlegend": false,
         "type": "scatter3d",
         "x": [
          0.1581697020865067,
          1.0811548620767708
         ],
         "y": [
          0.6293219072566473,
          0.3438082776049489
         ],
         "z": [
          7.029072647991113,
          7.061651260987929
         ]
        },
        {
         "hoverinfo": "skip",
         "line": {
          "color": "black",
          "width": 1
         },
         "mode": "lines",
         "showlegend": false,
         "type": "scatter3d",
         "x": [
          -1.0108188183255127,
          -1.9099608773999068
         ],
         "y": [
          2.492664909274871,
          2.0753382703573378
         ],
         "z": [
          4.371402138501914,
          5.536228268016474
         ]
        },
        {
         "hoverinfo": "skip",
         "line": {
          "color": "black",
          "width": 1
         },
         "mode": "lines",
         "showlegend": false,
         "type": "scatter3d",
         "x": [
          -1.0108188183255127,
          -1.086966173643944
         ],
         "y": [
          2.492664909274871,
          4.010266854932126
         ],
         "z": [
          4.371402138501914,
          4.188642062180141
         ]
        },
        {
         "hoverinfo": "skip",
         "line": {
          "color": "black",
          "width": 1
         },
         "mode": "lines",
         "showlegend": false,
         "type": "scatter3d",
         "x": [
          -1.0108188183255127,
          -1.3485595723711175
         ],
         "y": [
          2.492664909274871,
          2.001596955984942
         ],
         "z": [
          4.371402138501914,
          3.4593015439026313
         ]
        },
        {
         "hoverinfo": "skip",
         "line": {
          "color": "black",
          "width": 1
         },
         "mode": "lines",
         "showlegend": false,
         "type": "scatter3d",
         "x": [
          -1.9099608773999068,
          -3.2545782270424093
         ],
         "y": [
          2.0753382703573378,
          2.4809422060281503
         ],
         "z": [
          5.536228268016474,
          5.274558637453062
         ]
        },
        {
         "hoverinfo": "skip",
         "line": {
          "color": "black",
          "width": 1
         },
         "mode": "lines",
         "showlegend": false,
         "type": "scatter3d",
         "x": [
          -1.9099608773999068,
          -1.5596211584570017
         ],
         "y": [
          2.0753382703573378,
          2.5454311511643666
         ],
         "z": [
          5.536228268016474,
          6.455561598172507
         ]
        },
        {
         "hoverinfo": "skip",
         "line": {
          "color": "black",
          "width": 1
         },
         "mode": "lines",
         "showlegend": false,
         "type": "scatter3d",
         "x": [
          -2.567861028249701,
          -2.4951236577067863
         ],
         "y": [
          0.15643582568939163,
          -0.8059210304043564
         ],
         "z": [
          6.861431955512919,
          6.922280741208668
         ]
        },
        {
         "hoverinfo": "skip",
         "line": {
          "color": "black",
          "width": 1
         },
         "mode": "lines",
         "showlegend": false,
         "type": "scatter3d",
         "x": [
          -3.2545782270424093,
          -3.7859572606922853
         ],
         "y": [
          2.4809422060281503,
          2.192808639921832
         ],
         "z": [
          5.274558637453062,
          6.028527469939486
         ]
        },
        {
         "hoverinfo": "skip",
         "line": {
          "color": "black",
          "width": 1
         },
         "mode": "lines",
         "showlegend": false,
         "type": "scatter3d",
         "x": [
          -1.086966173643944,
          -0.2509725567612593
         ],
         "y": [
          4.010266854932126,
          4.401226282337869
         ],
         "z": [
          4.188642062180141,
          3.0988294575356448
         ]
        },
        {
         "hoverinfo": "skip",
         "line": {
          "color": "black",
          "width": 1
         },
         "mode": "lines",
         "showlegend": false,
         "type": "scatter3d",
         "x": [
          -1.086966173643944,
          -0.7486207529141975
         ],
         "y": [
          4.010266854932126,
          4.502605310561858
         ],
         "z": [
          4.188642062180141,
          5.10088502854232
         ]
        },
        {
         "hoverinfo": "skip",
         "line": {
          "color": "black",
          "width": 1
         },
         "mode": "lines",
         "showlegend": false,
         "type": "scatter3d",
         "x": [
          -1.086966173643944,
          -2.1162225520193756
         ],
         "y": [
          4.010266854932126,
          4.3006956477075
         ],
         "z": [
          4.188642062180141,
          3.9806118802690644
         ]
        },
        {
         "hoverinfo": "skip",
         "line": {
          "color": "black",
          "width": 1
         },
         "mode": "lines",
         "showlegend": false,
         "type": "scatter3d",
         "x": [
          -0.2509725567612593,
          -0.3265683623132789
         ],
         "y": [
          4.401226282337869,
          5.361656058916991
         ],
         "z": [
          3.0988294575356448,
          3.018153657418028
         ]
        },
        {
         "hoverinfo": "skip",
         "line": {
          "color": "black",
          "width": 1
         },
         "mode": "lines",
         "showlegend": false,
         "type": "scatter3d",
         "x": [
          -0.1420000046491623,
          0.3743205055333192
         ],
         "y": [
          0.210999995470047,
          0.6927195870971918
         ],
         "z": [
          3.4230000972747803,
          4.636034443782528
         ]
        }
       ],
       "layout": {
        "legend": {
         "title": {
          "text": "color"
         },
         "tracegroupgap": 0
        },
        "margin": {
         "t": 60
        },
        "scene": {
         "domain": {
          "x": [
           0,
           1
          ],
          "y": [
           0,
           1
          ]
         },
         "xaxis": {
          "showgrid": false,
          "showline": false,
          "showticklabels": false,
          "title": {
           "text": "x"
          }
         },
         "yaxis": {
          "showgrid": false,
          "showline": false,
          "showticklabels": false,
          "title": {
           "text": "y"
          }
         },
         "zaxis": {
          "showgrid": false,
          "showline": false,
          "showticklabels": false,
          "title": {
           "text": "z"
          }
         }
        },
        "template": {
         "data": {
          "scatter": [
           {
            "type": "scatter"
           }
          ]
         }
        }
       }
      }
     },
     "metadata": {},
     "output_type": "display_data"
    }
   ],
   "source": [
    "# connect the two clucoses using the `my_16ab` linkage from my_top\n",
    "\n",
    "my_man2 = bb.connect(man, man, \"my_16ab\", _topology=my_top)\n",
    "# or\n",
    "my_16ab = my_top.get_patch(\"my_16ab\")\n",
    "my_man2 = bb.connect(man, man, my_16ab)\n",
    "\n",
    "my_man2.show()"
   ]
  },
  {
   "attachments": {},
   "cell_type": "markdown",
   "metadata": {},
   "source": [
    "### PDBE Compounds\n",
    "\n",
    "biobuild maintains a part of the PDBE component library of small molecules, common sugar, lipid, nucleotides, and amino acid compounds and derivatives to directly obtain molecular structures while coding, without the need to download any pdb files externally. Molecules can be obtained from the library using their _PDB ID_, their names or some other available identifier such as SMILES. "
   ]
  },
  {
   "cell_type": "markdown",
   "metadata": {},
   "source": [
    "To reduce memory load, biobuild loads by default an empty library which can then be populated according to the user's needs using functions:\n",
    "\n",
    "- `load_small_molecules()` \n",
    "- `load_sugars()`\n",
    "- `load_lipids()`\n",
    "- `load_amino_acids()`\n",
    "- `load_nucleotides()`\n",
    "- or `load_all_compounds()` (to perform all of the above)\n",
    "\n",
    "All of the above also have an `unload_` equivalent to again remove the compounds from the currently loaded default compounds.\n",
    "\n",
    "Of course, we can set a custom default library to load automatically using the `set_default_compounds` function (see below)."
   ]
  },
  {
   "cell_type": "code",
   "execution_count": 20,
   "metadata": {},
   "outputs": [
    {
     "data": {
      "application/vnd.plotly.v1+json": {
       "config": {
        "plotlyServerURL": "https://plot.ly"
       },
       "data": [
        {
         "hovertemplate": "<b>%{hovertext}</b><br><br>color=H<br>x=%{x}<br>y=%{y}<br>z=%{z}<extra></extra>",
         "hovertext": [
          "H1",
          "H2",
          "H3",
          "H4",
          "H5",
          "H61",
          "H62",
          "HO1",
          "HO2",
          "HO3",
          "HO4",
          "H1",
          "H2",
          "H3",
          "H4",
          "H5",
          "H61",
          "H62",
          "HO2",
          "HO3",
          "HO4",
          "HO6"
         ],
         "legendgroup": "H",
         "marker": {
          "color": "lightgray",
          "opacity": 0.3,
          "symbol": "circle"
         },
         "mode": "markers",
         "name": "H",
         "scene": "scene",
         "showlegend": true,
         "type": "scatter3d",
         "x": [
          -0.822,
          -1.583,
          -1.223,
          0.281,
          1.187,
          2.913,
          2.627,
          0.017,
          -3.197,
          -3,
          0.102,
          5.033420994356329,
          6.783571152225411,
          4.527136626510066,
          6.948496940659405,
          3.967270777313826,
          5.327965739848097,
          6.404390279014973,
          5.438285191963489,
          6.2800717234307175,
          6.1960341447306515,
          4.662616197393663
         ],
         "y": [
          2.466,
          0.264,
          -0.619,
          -1.429,
          0.184,
          -1.315,
          -0.503,
          2.566,
          1.682,
          -1.684,
          -3.118,
          0.134390229562253,
          1.331452841596771,
          2.207409471098838,
          0.41396352237632583,
          -0.24046852227762938,
          -1.531607200598568,
          -2.042622087283024,
          2.555069806888833,
          3.8017609918634716,
          1.6918862219363033,
          -3.6291151154596775
         ],
         "z": [
          -0.815,
          -1.626,
          1.276,
          -1.257,
          1.173,
          0.129,
          -1.428,
          1.42,
          -0.576,
          0.08,
          0.427,
          -1.226835254365421,
          -0.045347294383392744,
          1.81800887511055,
          2.322757186720813,
          2.2154526578609657,
          3.8880204837734187,
          2.566822922064251,
          -1.5981470906776845,
          1.4899360566399018,
          4.199278253666883,
          2.959484252142866
         ]
        },
        {
         "hovertemplate": "<b>%{hovertext}</b><br><br>color=C<br>x=%{x}<br>y=%{y}<br>z=%{z}<extra></extra>",
         "hovertext": [
          "C1",
          "C2",
          "C3",
          "C4",
          "C5",
          "C6",
          "C1",
          "C2",
          "C3",
          "C4",
          "C5",
          "C6"
         ],
         "legendgroup": "C",
         "marker": {
          "color": "black",
          "opacity": 0.3,
          "symbol": "circle"
         },
         "mode": "markers",
         "name": "C",
         "scene": "scene",
         "showlegend": true,
         "type": "scatter3d",
         "x": [
          -0.567,
          -1.578,
          -1.179,
          0.249,
          1.189,
          2.607,
          4.84532804005647,
          5.7352258616828,
          5.560606528326746,
          5.90036842769594,
          5.013338057877738,
          5.387863288063112
         ],
         "y": [
          1.572,
          0.465,
          -0.806,
          -1.195,
          -0.024,
          -0.383,
          0.35916438905876996,
          1.5700166829347466,
          1.9139518424434718,
          0.6773550995080697,
          -0.48865857214208375,
          -1.7429736514372267
         ],
         "z": [
          -0.245,
          -0.554,
          0.203,
          -0.192,
          0.102,
          -0.345,
          -0.1835216352817889,
          0.11624807546297572,
          1.6334646196513471,
          2.4712714870728236,
          2.0298349224963186,
          2.820934495121286
         ]
        },
        {
         "hovertemplate": "<b>%{hovertext}</b><br><br>color=O<br>x=%{x}<br>y=%{y}<br>z=%{z}<extra></extra>",
         "hovertext": [
          "O1",
          "O2",
          "O3",
          "O4",
          "O5",
          "O6",
          "O2",
          "O3",
          "O4",
          "O5",
          "O6"
         ],
         "legendgroup": "O",
         "marker": {
          "color": "red",
          "opacity": 0.3,
          "symbol": "circle"
         },
         "mode": "markers",
         "name": "O",
         "scene": "scene",
         "showlegend": true,
         "type": "scatter3d",
         "x": [
          -0.6,
          -2.881,
          -2.075,
          0.658,
          0.744,
          3.506,
          5.35449526730252,
          6.4352436295669575,
          5.668402432626431,
          5.1987577593194825,
          4.484025466823145
         ],
         "y": [
          1.871,
          0.879,
          -1.866,
          -2.338,
          1.133,
          0.661,
          2.6996166148776157,
          2.9870001173680696,
          0.9587585064571473,
          -0.7379029078020796,
          -2.800826494523947
         ],
         "z": [
          1.151,
          -0.139,
          -0.137,
          0.562,
          -0.608,
          0.035,
          -0.6454039622188312,
          1.987856127472091,
          3.853027579763883,
          0.6303897724894117,
          2.4944968207184535
         ]
        },
        {
         "hoverinfo": "skip",
         "line": {
          "color": "black",
          "width": 1
         },
         "mode": "lines",
         "showlegend": false,
         "type": "scatter3d",
         "x": [
          -0.567,
          -1.578
         ],
         "y": [
          1.572,
          0.465
         ],
         "z": [
          -0.245,
          -0.554
         ]
        },
        {
         "hoverinfo": "skip",
         "line": {
          "color": "black",
          "width": 1
         },
         "mode": "lines",
         "showlegend": false,
         "type": "scatter3d",
         "x": [
          -0.567,
          -0.6
         ],
         "y": [
          1.572,
          1.871
         ],
         "z": [
          -0.245,
          1.151
         ]
        },
        {
         "hoverinfo": "skip",
         "line": {
          "color": "black",
          "width": 1
         },
         "mode": "lines",
         "showlegend": false,
         "type": "scatter3d",
         "x": [
          -0.567,
          0.744
         ],
         "y": [
          1.572,
          1.133
         ],
         "z": [
          -0.245,
          -0.608
         ]
        },
        {
         "hoverinfo": "skip",
         "line": {
          "color": "black",
          "width": 1
         },
         "mode": "lines",
         "showlegend": false,
         "type": "scatter3d",
         "x": [
          -0.567,
          -0.822
         ],
         "y": [
          1.572,
          2.466
         ],
         "z": [
          -0.245,
          -0.815
         ]
        },
        {
         "hoverinfo": "skip",
         "line": {
          "color": "black",
          "width": 1
         },
         "mode": "lines",
         "showlegend": false,
         "type": "scatter3d",
         "x": [
          -1.578,
          -1.179
         ],
         "y": [
          0.465,
          -0.806
         ],
         "z": [
          -0.554,
          0.203
         ]
        },
        {
         "hoverinfo": "skip",
         "line": {
          "color": "black",
          "width": 1
         },
         "mode": "lines",
         "showlegend": false,
         "type": "scatter3d",
         "x": [
          -1.578,
          -2.881
         ],
         "y": [
          0.465,
          0.879
         ],
         "z": [
          -0.554,
          -0.139
         ]
        },
        {
         "hoverinfo": "skip",
         "line": {
          "color": "black",
          "width": 1
         },
         "mode": "lines",
         "showlegend": false,
         "type": "scatter3d",
         "x": [
          -1.578,
          -1.583
         ],
         "y": [
          0.465,
          0.264
         ],
         "z": [
          -0.554,
          -1.626
         ]
        },
        {
         "hoverinfo": "skip",
         "line": {
          "color": "black",
          "width": 1
         },
         "mode": "lines",
         "showlegend": false,
         "type": "scatter3d",
         "x": [
          -1.179,
          0.249
         ],
         "y": [
          -0.806,
          -1.195
         ],
         "z": [
          0.203,
          -0.192
         ]
        },
        {
         "hoverinfo": "skip",
         "line": {
          "color": "black",
          "width": 1
         },
         "mode": "lines",
         "showlegend": false,
         "type": "scatter3d",
         "x": [
          -1.179,
          -2.075
         ],
         "y": [
          -0.806,
          -1.866
         ],
         "z": [
          0.203,
          -0.137
         ]
        },
        {
         "hoverinfo": "skip",
         "line": {
          "color": "black",
          "width": 1
         },
         "mode": "lines",
         "showlegend": false,
         "type": "scatter3d",
         "x": [
          -1.179,
          -1.223
         ],
         "y": [
          -0.806,
          -0.619
         ],
         "z": [
          0.203,
          1.276
         ]
        },
        {
         "hoverinfo": "skip",
         "line": {
          "color": "black",
          "width": 1
         },
         "mode": "lines",
         "showlegend": false,
         "type": "scatter3d",
         "x": [
          0.249,
          1.189
         ],
         "y": [
          -1.195,
          -0.024
         ],
         "z": [
          -0.192,
          0.102
         ]
        },
        {
         "hoverinfo": "skip",
         "line": {
          "color": "black",
          "width": 1
         },
         "mode": "lines",
         "showlegend": false,
         "type": "scatter3d",
         "x": [
          0.249,
          0.658
         ],
         "y": [
          -1.195,
          -2.338
         ],
         "z": [
          -0.192,
          0.562
         ]
        },
        {
         "hoverinfo": "skip",
         "line": {
          "color": "black",
          "width": 1
         },
         "mode": "lines",
         "showlegend": false,
         "type": "scatter3d",
         "x": [
          0.249,
          0.281
         ],
         "y": [
          -1.195,
          -1.429
         ],
         "z": [
          -0.192,
          -1.257
         ]
        },
        {
         "hoverinfo": "skip",
         "line": {
          "color": "black",
          "width": 1
         },
         "mode": "lines",
         "showlegend": false,
         "type": "scatter3d",
         "x": [
          1.189,
          2.607
         ],
         "y": [
          -0.024,
          -0.383
         ],
         "z": [
          0.102,
          -0.345
         ]
        },
        {
         "hoverinfo": "skip",
         "line": {
          "color": "black",
          "width": 1
         },
         "mode": "lines",
         "showlegend": false,
         "type": "scatter3d",
         "x": [
          1.189,
          0.744
         ],
         "y": [
          -0.024,
          1.133
         ],
         "z": [
          0.102,
          -0.608
         ]
        },
        {
         "hoverinfo": "skip",
         "line": {
          "color": "black",
          "width": 1
         },
         "mode": "lines",
         "showlegend": false,
         "type": "scatter3d",
         "x": [
          1.189,
          1.187
         ],
         "y": [
          -0.024,
          0.184
         ],
         "z": [
          0.102,
          1.173
         ]
        },
        {
         "hoverinfo": "skip",
         "line": {
          "color": "black",
          "width": 1
         },
         "mode": "lines",
         "showlegend": false,
         "type": "scatter3d",
         "x": [
          2.607,
          3.506
         ],
         "y": [
          -0.383,
          0.661
         ],
         "z": [
          -0.345,
          0.035
         ]
        },
        {
         "hoverinfo": "skip",
         "line": {
          "color": "black",
          "width": 1
         },
         "mode": "lines",
         "showlegend": false,
         "type": "scatter3d",
         "x": [
          2.607,
          2.913
         ],
         "y": [
          -0.383,
          -1.315
         ],
         "z": [
          -0.345,
          0.129
         ]
        },
        {
         "hoverinfo": "skip",
         "line": {
          "color": "black",
          "width": 1
         },
         "mode": "lines",
         "showlegend": false,
         "type": "scatter3d",
         "x": [
          2.607,
          2.627
         ],
         "y": [
          -0.383,
          -0.503
         ],
         "z": [
          -0.345,
          -1.428
         ]
        },
        {
         "hoverinfo": "skip",
         "line": {
          "color": "black",
          "width": 1
         },
         "mode": "lines",
         "showlegend": false,
         "type": "scatter3d",
         "x": [
          -0.6,
          0.017
         ],
         "y": [
          1.871,
          2.566
         ],
         "z": [
          1.151,
          1.42
         ]
        },
        {
         "hoverinfo": "skip",
         "line": {
          "color": "black",
          "width": 1
         },
         "mode": "lines",
         "showlegend": false,
         "type": "scatter3d",
         "x": [
          -2.881,
          -3.197
         ],
         "y": [
          0.879,
          1.682
         ],
         "z": [
          -0.139,
          -0.576
         ]
        },
        {
         "hoverinfo": "skip",
         "line": {
          "color": "black",
          "width": 1
         },
         "mode": "lines",
         "showlegend": false,
         "type": "scatter3d",
         "x": [
          -2.075,
          -3
         ],
         "y": [
          -1.866,
          -1.684
         ],
         "z": [
          -0.137,
          0.08
         ]
        },
        {
         "hoverinfo": "skip",
         "line": {
          "color": "black",
          "width": 1
         },
         "mode": "lines",
         "showlegend": false,
         "type": "scatter3d",
         "x": [
          0.658,
          0.102
         ],
         "y": [
          -2.338,
          -3.118
         ],
         "z": [
          0.562,
          0.427
         ]
        },
        {
         "hoverinfo": "skip",
         "line": {
          "color": "black",
          "width": 1
         },
         "mode": "lines",
         "showlegend": false,
         "type": "scatter3d",
         "x": [
          4.84532804005647,
          5.7352258616828
         ],
         "y": [
          0.35916438905876996,
          1.5700166829347466
         ],
         "z": [
          -0.1835216352817889,
          0.11624807546297572
         ]
        },
        {
         "hoverinfo": "skip",
         "line": {
          "color": "black",
          "width": 1
         },
         "mode": "lines",
         "showlegend": false,
         "type": "scatter3d",
         "x": [
          4.84532804005647,
          5.1987577593194825
         ],
         "y": [
          0.35916438905876996,
          -0.7379029078020796
         ],
         "z": [
          -0.1835216352817889,
          0.6303897724894117
         ]
        },
        {
         "hoverinfo": "skip",
         "line": {
          "color": "black",
          "width": 1
         },
         "mode": "lines",
         "showlegend": false,
         "type": "scatter3d",
         "x": [
          4.84532804005647,
          5.033420994356329
         ],
         "y": [
          0.35916438905876996,
          0.134390229562253
         ],
         "z": [
          -0.1835216352817889,
          -1.226835254365421
         ]
        },
        {
         "hoverinfo": "skip",
         "line": {
          "color": "black",
          "width": 1
         },
         "mode": "lines",
         "showlegend": false,
         "type": "scatter3d",
         "x": [
          5.7352258616828,
          5.560606528326746
         ],
         "y": [
          1.5700166829347466,
          1.9139518424434718
         ],
         "z": [
          0.11624807546297572,
          1.6334646196513471
         ]
        },
        {
         "hoverinfo": "skip",
         "line": {
          "color": "black",
          "width": 1
         },
         "mode": "lines",
         "showlegend": false,
         "type": "scatter3d",
         "x": [
          5.7352258616828,
          5.35449526730252
         ],
         "y": [
          1.5700166829347466,
          2.6996166148776157
         ],
         "z": [
          0.11624807546297572,
          -0.6454039622188312
         ]
        },
        {
         "hoverinfo": "skip",
         "line": {
          "color": "black",
          "width": 1
         },
         "mode": "lines",
         "showlegend": false,
         "type": "scatter3d",
         "x": [
          5.7352258616828,
          6.783571152225411
         ],
         "y": [
          1.5700166829347466,
          1.331452841596771
         ],
         "z": [
          0.11624807546297572,
          -0.045347294383392744
         ]
        },
        {
         "hoverinfo": "skip",
         "line": {
          "color": "black",
          "width": 1
         },
         "mode": "lines",
         "showlegend": false,
         "type": "scatter3d",
         "x": [
          5.560606528326746,
          5.90036842769594
         ],
         "y": [
          1.9139518424434718,
          0.6773550995080697
         ],
         "z": [
          1.6334646196513471,
          2.4712714870728236
         ]
        },
        {
         "hoverinfo": "skip",
         "line": {
          "color": "black",
          "width": 1
         },
         "mode": "lines",
         "showlegend": false,
         "type": "scatter3d",
         "x": [
          5.560606528326746,
          6.4352436295669575
         ],
         "y": [
          1.9139518424434718,
          2.9870001173680696
         ],
         "z": [
          1.6334646196513471,
          1.987856127472091
         ]
        },
        {
         "hoverinfo": "skip",
         "line": {
          "color": "black",
          "width": 1
         },
         "mode": "lines",
         "showlegend": false,
         "type": "scatter3d",
         "x": [
          5.560606528326746,
          4.527136626510066
         ],
         "y": [
          1.9139518424434718,
          2.207409471098838
         ],
         "z": [
          1.6334646196513471,
          1.81800887511055
         ]
        },
        {
         "hoverinfo": "skip",
         "line": {
          "color": "black",
          "width": 1
         },
         "mode": "lines",
         "showlegend": false,
         "type": "scatter3d",
         "x": [
          5.90036842769594,
          5.013338057877738
         ],
         "y": [
          0.6773550995080697,
          -0.48865857214208375
         ],
         "z": [
          2.4712714870728236,
          2.0298349224963186
         ]
        },
        {
         "hoverinfo": "skip",
         "line": {
          "color": "black",
          "width": 1
         },
         "mode": "lines",
         "showlegend": false,
         "type": "scatter3d",
         "x": [
          5.90036842769594,
          5.668402432626431
         ],
         "y": [
          0.6773550995080697,
          0.9587585064571473
         ],
         "z": [
          2.4712714870728236,
          3.853027579763883
         ]
        },
        {
         "hoverinfo": "skip",
         "line": {
          "color": "black",
          "width": 1
         },
         "mode": "lines",
         "showlegend": false,
         "type": "scatter3d",
         "x": [
          5.90036842769594,
          6.948496940659405
         ],
         "y": [
          0.6773550995080697,
          0.41396352237632583
         ],
         "z": [
          2.4712714870728236,
          2.322757186720813
         ]
        },
        {
         "hoverinfo": "skip",
         "line": {
          "color": "black",
          "width": 1
         },
         "mode": "lines",
         "showlegend": false,
         "type": "scatter3d",
         "x": [
          5.013338057877738,
          5.387863288063112
         ],
         "y": [
          -0.48865857214208375,
          -1.7429736514372267
         ],
         "z": [
          2.0298349224963186,
          2.820934495121286
         ]
        },
        {
         "hoverinfo": "skip",
         "line": {
          "color": "black",
          "width": 1
         },
         "mode": "lines",
         "showlegend": false,
         "type": "scatter3d",
         "x": [
          5.013338057877738,
          5.1987577593194825
         ],
         "y": [
          -0.48865857214208375,
          -0.7379029078020796
         ],
         "z": [
          2.0298349224963186,
          0.6303897724894117
         ]
        },
        {
         "hoverinfo": "skip",
         "line": {
          "color": "black",
          "width": 1
         },
         "mode": "lines",
         "showlegend": false,
         "type": "scatter3d",
         "x": [
          5.013338057877738,
          3.967270777313826
         ],
         "y": [
          -0.48865857214208375,
          -0.24046852227762938
         ],
         "z": [
          2.0298349224963186,
          2.2154526578609657
         ]
        },
        {
         "hoverinfo": "skip",
         "line": {
          "color": "black",
          "width": 1
         },
         "mode": "lines",
         "showlegend": false,
         "type": "scatter3d",
         "x": [
          5.387863288063112,
          4.484025466823145
         ],
         "y": [
          -1.7429736514372267,
          -2.800826494523947
         ],
         "z": [
          2.820934495121286,
          2.4944968207184535
         ]
        },
        {
         "hoverinfo": "skip",
         "line": {
          "color": "black",
          "width": 1
         },
         "mode": "lines",
         "showlegend": false,
         "type": "scatter3d",
         "x": [
          5.387863288063112,
          5.327965739848097
         ],
         "y": [
          -1.7429736514372267,
          -1.531607200598568
         ],
         "z": [
          2.820934495121286,
          3.8880204837734187
         ]
        },
        {
         "hoverinfo": "skip",
         "line": {
          "color": "black",
          "width": 1
         },
         "mode": "lines",
         "showlegend": false,
         "type": "scatter3d",
         "x": [
          5.387863288063112,
          6.404390279014973
         ],
         "y": [
          -1.7429736514372267,
          -2.042622087283024
         ],
         "z": [
          2.820934495121286,
          2.566822922064251
         ]
        },
        {
         "hoverinfo": "skip",
         "line": {
          "color": "black",
          "width": 1
         },
         "mode": "lines",
         "showlegend": false,
         "type": "scatter3d",
         "x": [
          5.35449526730252,
          5.438285191963489
         ],
         "y": [
          2.6996166148776157,
          2.555069806888833
         ],
         "z": [
          -0.6454039622188312,
          -1.5981470906776845
         ]
        },
        {
         "hoverinfo": "skip",
         "line": {
          "color": "black",
          "width": 1
         },
         "mode": "lines",
         "showlegend": false,
         "type": "scatter3d",
         "x": [
          6.4352436295669575,
          6.2800717234307175
         ],
         "y": [
          2.9870001173680696,
          3.8017609918634716
         ],
         "z": [
          1.987856127472091,
          1.4899360566399018
         ]
        },
        {
         "hoverinfo": "skip",
         "line": {
          "color": "black",
          "width": 1
         },
         "mode": "lines",
         "showlegend": false,
         "type": "scatter3d",
         "x": [
          5.668402432626431,
          6.1960341447306515
         ],
         "y": [
          0.9587585064571473,
          1.6918862219363033
         ],
         "z": [
          3.853027579763883,
          4.199278253666883
         ]
        },
        {
         "hoverinfo": "skip",
         "line": {
          "color": "black",
          "width": 1
         },
         "mode": "lines",
         "showlegend": false,
         "type": "scatter3d",
         "x": [
          4.484025466823145,
          4.662616197393663
         ],
         "y": [
          -2.800826494523947,
          -3.6291151154596775
         ],
         "z": [
          2.4944968207184535,
          2.959484252142866
         ]
        },
        {
         "hoverinfo": "skip",
         "line": {
          "color": "black",
          "width": 1
         },
         "mode": "lines",
         "showlegend": false,
         "type": "scatter3d",
         "x": [
          3.506,
          4.84532804005647
         ],
         "y": [
          0.661,
          0.35916438905876996
         ],
         "z": [
          0.035,
          -0.1835216352817889
         ]
        }
       ],
       "layout": {
        "legend": {
         "title": {
          "text": "color"
         },
         "tracegroupgap": 0
        },
        "margin": {
         "t": 60
        },
        "scene": {
         "domain": {
          "x": [
           0,
           1
          ],
          "y": [
           0,
           1
          ]
         },
         "xaxis": {
          "showgrid": false,
          "showline": false,
          "showticklabels": false,
          "title": {
           "text": "x"
          }
         },
         "yaxis": {
          "showgrid": false,
          "showline": false,
          "showticklabels": false,
          "title": {
           "text": "y"
          }
         },
         "zaxis": {
          "showgrid": false,
          "showline": false,
          "showticklabels": false,
          "title": {
           "text": "z"
          }
         }
        },
        "template": {
         "data": {
          "scatter": [
           {
            "type": "scatter"
           }
          ]
         }
        }
       }
      }
     },
     "metadata": {},
     "output_type": "display_data"
    }
   ],
   "source": [
    "# we are interested in working with sugars so we load the sugars\n",
    "bb.load_sugars()\n",
    "\n",
    "# now we are able to refer to sugar compounds we want to use directly by their pdb ID or name\n",
    "# for example, we can connect two glucose molecules using the 1->6 linkage\n",
    "glc = bb.molecule(\"GLC\")\n",
    "glc2 = bb.connect(glc, glc, \"16ab\")\n",
    "glc2.show()"
   ]
  },
  {
   "cell_type": "markdown",
   "metadata": {},
   "source": [
    "If we would like to make the molecule makery a bit quicker by removing the overhead of first figuring out what kind of input we provided, we can use the `get_compound` function instead of the `molecule` function - this also works with all sorts of inputs automatically. One step further would be the `Molecule.from_compound` classmethod which requires the user to specify which type of input they use:"
   ]
  },
  {
   "cell_type": "code",
   "execution_count": 21,
   "metadata": {},
   "outputs": [],
   "source": [
    "# get a galactose (slowest)\n",
    "gal = bb.molecule(\"GAL\")\n",
    "# or (faster)\n",
    "gal = bb.get_compound(\"GAL\")\n",
    "# or (fastest)\n",
    "gal = bb.Molecule.from_compound(\"GAL\", by=\"id\")"
   ]
  },
  {
   "attachments": {},
   "cell_type": "markdown",
   "metadata": {},
   "source": [
    "Similar to the CHARMM topology, we can get the default instance of the `PDBECompounds` class that handles the databse using"
   ]
  },
  {
   "cell_type": "code",
   "execution_count": 22,
   "metadata": {},
   "outputs": [
    {
     "data": {
      "text/plain": [
       "1069"
      ]
     },
     "execution_count": 22,
     "metadata": {},
     "output_type": "execute_result"
    }
   ],
   "source": [
    "comp = bb.get_default_compounds()\n",
    "# print how many (currently sugar-only) compounds are available in the library\n",
    "len(comp)"
   ]
  },
  {
   "cell_type": "markdown",
   "metadata": {},
   "source": [
    "### Adding custom compounds\n",
    "\n",
    "If a user has built a specific molecule that they are going to use a lot and do not wish to save and load all the time from their own file, they can add custom molecules to the default compounds using the `add_compound` function.\n",
    "\n",
    "Let's say our current project revolves around our two-glucose molecule, we can add it to the default compounds to ensure that it will always be available in the future."
   ]
  },
  {
   "cell_type": "code",
   "execution_count": 23,
   "metadata": {},
   "outputs": [
    {
     "data": {
      "application/vnd.plotly.v1+json": {
       "config": {
        "plotlyServerURL": "https://plot.ly"
       },
       "data": [
        {
         "hovertemplate": "<b>%{hovertext}</b><br><br>color=H<br>x=%{x}<br>y=%{y}<br>z=%{z}<extra></extra>",
         "hovertext": [
          "H1",
          "H2",
          "H3",
          "H4",
          "H5",
          "H61",
          "H62",
          "HO1",
          "HO2",
          "HO3",
          "HO4",
          "H1",
          "H2",
          "H3",
          "H4",
          "H5",
          "H61",
          "H62",
          "HO2",
          "HO3",
          "HO4",
          "HO6"
         ],
         "legendgroup": "H",
         "marker": {
          "color": "lightgray",
          "opacity": 0.3,
          "symbol": "circle"
         },
         "mode": "markers",
         "name": "H",
         "scene": "scene",
         "showlegend": true,
         "type": "scatter3d",
         "x": [
          -0.822,
          -1.583,
          -1.223,
          0.281,
          1.187,
          2.913,
          2.627,
          0.017,
          -3.197,
          -3,
          0.102,
          5.033420994356329,
          6.783571152225411,
          4.527136626510066,
          6.948496940659405,
          3.967270777313826,
          5.327965739848097,
          6.404390279014973,
          5.438285191963489,
          6.2800717234307175,
          6.1960341447306515,
          4.662616197393663
         ],
         "y": [
          2.466,
          0.264,
          -0.619,
          -1.429,
          0.184,
          -1.315,
          -0.503,
          2.566,
          1.682,
          -1.684,
          -3.118,
          0.134390229562253,
          1.331452841596771,
          2.207409471098838,
          0.41396352237632583,
          -0.24046852227762938,
          -1.531607200598568,
          -2.042622087283024,
          2.555069806888833,
          3.8017609918634716,
          1.6918862219363033,
          -3.6291151154596775
         ],
         "z": [
          -0.815,
          -1.626,
          1.276,
          -1.257,
          1.173,
          0.129,
          -1.428,
          1.42,
          -0.576,
          0.08,
          0.427,
          -1.226835254365421,
          -0.045347294383392744,
          1.81800887511055,
          2.322757186720813,
          2.2154526578609657,
          3.8880204837734187,
          2.566822922064251,
          -1.5981470906776845,
          1.4899360566399018,
          4.199278253666883,
          2.959484252142866
         ]
        },
        {
         "hovertemplate": "<b>%{hovertext}</b><br><br>color=C<br>x=%{x}<br>y=%{y}<br>z=%{z}<extra></extra>",
         "hovertext": [
          "C1",
          "C2",
          "C3",
          "C4",
          "C5",
          "C6",
          "C1",
          "C2",
          "C3",
          "C4",
          "C5",
          "C6"
         ],
         "legendgroup": "C",
         "marker": {
          "color": "black",
          "opacity": 0.3,
          "symbol": "circle"
         },
         "mode": "markers",
         "name": "C",
         "scene": "scene",
         "showlegend": true,
         "type": "scatter3d",
         "x": [
          -0.567,
          -1.578,
          -1.179,
          0.249,
          1.189,
          2.607,
          4.84532804005647,
          5.7352258616828,
          5.560606528326746,
          5.90036842769594,
          5.013338057877738,
          5.387863288063112
         ],
         "y": [
          1.572,
          0.465,
          -0.806,
          -1.195,
          -0.024,
          -0.383,
          0.35916438905876996,
          1.5700166829347466,
          1.9139518424434718,
          0.6773550995080697,
          -0.48865857214208375,
          -1.7429736514372267
         ],
         "z": [
          -0.245,
          -0.554,
          0.203,
          -0.192,
          0.102,
          -0.345,
          -0.1835216352817889,
          0.11624807546297572,
          1.6334646196513471,
          2.4712714870728236,
          2.0298349224963186,
          2.820934495121286
         ]
        },
        {
         "hovertemplate": "<b>%{hovertext}</b><br><br>color=O<br>x=%{x}<br>y=%{y}<br>z=%{z}<extra></extra>",
         "hovertext": [
          "O1",
          "O2",
          "O3",
          "O4",
          "O5",
          "O6",
          "O2",
          "O3",
          "O4",
          "O5",
          "O6"
         ],
         "legendgroup": "O",
         "marker": {
          "color": "red",
          "opacity": 0.3,
          "symbol": "circle"
         },
         "mode": "markers",
         "name": "O",
         "scene": "scene",
         "showlegend": true,
         "type": "scatter3d",
         "x": [
          -0.6,
          -2.881,
          -2.075,
          0.658,
          0.744,
          3.506,
          5.35449526730252,
          6.4352436295669575,
          5.668402432626431,
          5.1987577593194825,
          4.484025466823145
         ],
         "y": [
          1.871,
          0.879,
          -1.866,
          -2.338,
          1.133,
          0.661,
          2.6996166148776157,
          2.9870001173680696,
          0.9587585064571473,
          -0.7379029078020796,
          -2.800826494523947
         ],
         "z": [
          1.151,
          -0.139,
          -0.137,
          0.562,
          -0.608,
          0.035,
          -0.6454039622188312,
          1.987856127472091,
          3.853027579763883,
          0.6303897724894117,
          2.4944968207184535
         ]
        },
        {
         "hoverinfo": "skip",
         "line": {
          "color": "black",
          "width": 1
         },
         "mode": "lines",
         "showlegend": false,
         "type": "scatter3d",
         "x": [
          -0.567,
          -1.578
         ],
         "y": [
          1.572,
          0.465
         ],
         "z": [
          -0.245,
          -0.554
         ]
        },
        {
         "hoverinfo": "skip",
         "line": {
          "color": "black",
          "width": 1
         },
         "mode": "lines",
         "showlegend": false,
         "type": "scatter3d",
         "x": [
          -0.567,
          -0.6
         ],
         "y": [
          1.572,
          1.871
         ],
         "z": [
          -0.245,
          1.151
         ]
        },
        {
         "hoverinfo": "skip",
         "line": {
          "color": "black",
          "width": 1
         },
         "mode": "lines",
         "showlegend": false,
         "type": "scatter3d",
         "x": [
          -0.567,
          0.744
         ],
         "y": [
          1.572,
          1.133
         ],
         "z": [
          -0.245,
          -0.608
         ]
        },
        {
         "hoverinfo": "skip",
         "line": {
          "color": "black",
          "width": 1
         },
         "mode": "lines",
         "showlegend": false,
         "type": "scatter3d",
         "x": [
          -0.567,
          -0.822
         ],
         "y": [
          1.572,
          2.466
         ],
         "z": [
          -0.245,
          -0.815
         ]
        },
        {
         "hoverinfo": "skip",
         "line": {
          "color": "black",
          "width": 1
         },
         "mode": "lines",
         "showlegend": false,
         "type": "scatter3d",
         "x": [
          -1.578,
          -1.179
         ],
         "y": [
          0.465,
          -0.806
         ],
         "z": [
          -0.554,
          0.203
         ]
        },
        {
         "hoverinfo": "skip",
         "line": {
          "color": "black",
          "width": 1
         },
         "mode": "lines",
         "showlegend": false,
         "type": "scatter3d",
         "x": [
          -1.578,
          -2.881
         ],
         "y": [
          0.465,
          0.879
         ],
         "z": [
          -0.554,
          -0.139
         ]
        },
        {
         "hoverinfo": "skip",
         "line": {
          "color": "black",
          "width": 1
         },
         "mode": "lines",
         "showlegend": false,
         "type": "scatter3d",
         "x": [
          -1.578,
          -1.583
         ],
         "y": [
          0.465,
          0.264
         ],
         "z": [
          -0.554,
          -1.626
         ]
        },
        {
         "hoverinfo": "skip",
         "line": {
          "color": "black",
          "width": 1
         },
         "mode": "lines",
         "showlegend": false,
         "type": "scatter3d",
         "x": [
          -1.179,
          0.249
         ],
         "y": [
          -0.806,
          -1.195
         ],
         "z": [
          0.203,
          -0.192
         ]
        },
        {
         "hoverinfo": "skip",
         "line": {
          "color": "black",
          "width": 1
         },
         "mode": "lines",
         "showlegend": false,
         "type": "scatter3d",
         "x": [
          -1.179,
          -2.075
         ],
         "y": [
          -0.806,
          -1.866
         ],
         "z": [
          0.203,
          -0.137
         ]
        },
        {
         "hoverinfo": "skip",
         "line": {
          "color": "black",
          "width": 1
         },
         "mode": "lines",
         "showlegend": false,
         "type": "scatter3d",
         "x": [
          -1.179,
          -1.223
         ],
         "y": [
          -0.806,
          -0.619
         ],
         "z": [
          0.203,
          1.276
         ]
        },
        {
         "hoverinfo": "skip",
         "line": {
          "color": "black",
          "width": 1
         },
         "mode": "lines",
         "showlegend": false,
         "type": "scatter3d",
         "x": [
          0.249,
          1.189
         ],
         "y": [
          -1.195,
          -0.024
         ],
         "z": [
          -0.192,
          0.102
         ]
        },
        {
         "hoverinfo": "skip",
         "line": {
          "color": "black",
          "width": 1
         },
         "mode": "lines",
         "showlegend": false,
         "type": "scatter3d",
         "x": [
          0.249,
          0.658
         ],
         "y": [
          -1.195,
          -2.338
         ],
         "z": [
          -0.192,
          0.562
         ]
        },
        {
         "hoverinfo": "skip",
         "line": {
          "color": "black",
          "width": 1
         },
         "mode": "lines",
         "showlegend": false,
         "type": "scatter3d",
         "x": [
          0.249,
          0.281
         ],
         "y": [
          -1.195,
          -1.429
         ],
         "z": [
          -0.192,
          -1.257
         ]
        },
        {
         "hoverinfo": "skip",
         "line": {
          "color": "black",
          "width": 1
         },
         "mode": "lines",
         "showlegend": false,
         "type": "scatter3d",
         "x": [
          1.189,
          2.607
         ],
         "y": [
          -0.024,
          -0.383
         ],
         "z": [
          0.102,
          -0.345
         ]
        },
        {
         "hoverinfo": "skip",
         "line": {
          "color": "black",
          "width": 1
         },
         "mode": "lines",
         "showlegend": false,
         "type": "scatter3d",
         "x": [
          1.189,
          0.744
         ],
         "y": [
          -0.024,
          1.133
         ],
         "z": [
          0.102,
          -0.608
         ]
        },
        {
         "hoverinfo": "skip",
         "line": {
          "color": "black",
          "width": 1
         },
         "mode": "lines",
         "showlegend": false,
         "type": "scatter3d",
         "x": [
          1.189,
          1.187
         ],
         "y": [
          -0.024,
          0.184
         ],
         "z": [
          0.102,
          1.173
         ]
        },
        {
         "hoverinfo": "skip",
         "line": {
          "color": "black",
          "width": 1
         },
         "mode": "lines",
         "showlegend": false,
         "type": "scatter3d",
         "x": [
          2.607,
          3.506
         ],
         "y": [
          -0.383,
          0.661
         ],
         "z": [
          -0.345,
          0.035
         ]
        },
        {
         "hoverinfo": "skip",
         "line": {
          "color": "black",
          "width": 1
         },
         "mode": "lines",
         "showlegend": false,
         "type": "scatter3d",
         "x": [
          2.607,
          2.913
         ],
         "y": [
          -0.383,
          -1.315
         ],
         "z": [
          -0.345,
          0.129
         ]
        },
        {
         "hoverinfo": "skip",
         "line": {
          "color": "black",
          "width": 1
         },
         "mode": "lines",
         "showlegend": false,
         "type": "scatter3d",
         "x": [
          2.607,
          2.627
         ],
         "y": [
          -0.383,
          -0.503
         ],
         "z": [
          -0.345,
          -1.428
         ]
        },
        {
         "hoverinfo": "skip",
         "line": {
          "color": "black",
          "width": 1
         },
         "mode": "lines",
         "showlegend": false,
         "type": "scatter3d",
         "x": [
          -0.6,
          0.017
         ],
         "y": [
          1.871,
          2.566
         ],
         "z": [
          1.151,
          1.42
         ]
        },
        {
         "hoverinfo": "skip",
         "line": {
          "color": "black",
          "width": 1
         },
         "mode": "lines",
         "showlegend": false,
         "type": "scatter3d",
         "x": [
          -2.881,
          -3.197
         ],
         "y": [
          0.879,
          1.682
         ],
         "z": [
          -0.139,
          -0.576
         ]
        },
        {
         "hoverinfo": "skip",
         "line": {
          "color": "black",
          "width": 1
         },
         "mode": "lines",
         "showlegend": false,
         "type": "scatter3d",
         "x": [
          -2.075,
          -3
         ],
         "y": [
          -1.866,
          -1.684
         ],
         "z": [
          -0.137,
          0.08
         ]
        },
        {
         "hoverinfo": "skip",
         "line": {
          "color": "black",
          "width": 1
         },
         "mode": "lines",
         "showlegend": false,
         "type": "scatter3d",
         "x": [
          0.658,
          0.102
         ],
         "y": [
          -2.338,
          -3.118
         ],
         "z": [
          0.562,
          0.427
         ]
        },
        {
         "hoverinfo": "skip",
         "line": {
          "color": "black",
          "width": 1
         },
         "mode": "lines",
         "showlegend": false,
         "type": "scatter3d",
         "x": [
          4.84532804005647,
          5.7352258616828
         ],
         "y": [
          0.35916438905876996,
          1.5700166829347466
         ],
         "z": [
          -0.1835216352817889,
          0.11624807546297572
         ]
        },
        {
         "hoverinfo": "skip",
         "line": {
          "color": "black",
          "width": 1
         },
         "mode": "lines",
         "showlegend": false,
         "type": "scatter3d",
         "x": [
          4.84532804005647,
          5.1987577593194825
         ],
         "y": [
          0.35916438905876996,
          -0.7379029078020796
         ],
         "z": [
          -0.1835216352817889,
          0.6303897724894117
         ]
        },
        {
         "hoverinfo": "skip",
         "line": {
          "color": "black",
          "width": 1
         },
         "mode": "lines",
         "showlegend": false,
         "type": "scatter3d",
         "x": [
          4.84532804005647,
          5.033420994356329
         ],
         "y": [
          0.35916438905876996,
          0.134390229562253
         ],
         "z": [
          -0.1835216352817889,
          -1.226835254365421
         ]
        },
        {
         "hoverinfo": "skip",
         "line": {
          "color": "black",
          "width": 1
         },
         "mode": "lines",
         "showlegend": false,
         "type": "scatter3d",
         "x": [
          5.7352258616828,
          5.560606528326746
         ],
         "y": [
          1.5700166829347466,
          1.9139518424434718
         ],
         "z": [
          0.11624807546297572,
          1.6334646196513471
         ]
        },
        {
         "hoverinfo": "skip",
         "line": {
          "color": "black",
          "width": 1
         },
         "mode": "lines",
         "showlegend": false,
         "type": "scatter3d",
         "x": [
          5.7352258616828,
          5.35449526730252
         ],
         "y": [
          1.5700166829347466,
          2.6996166148776157
         ],
         "z": [
          0.11624807546297572,
          -0.6454039622188312
         ]
        },
        {
         "hoverinfo": "skip",
         "line": {
          "color": "black",
          "width": 1
         },
         "mode": "lines",
         "showlegend": false,
         "type": "scatter3d",
         "x": [
          5.7352258616828,
          6.783571152225411
         ],
         "y": [
          1.5700166829347466,
          1.331452841596771
         ],
         "z": [
          0.11624807546297572,
          -0.045347294383392744
         ]
        },
        {
         "hoverinfo": "skip",
         "line": {
          "color": "black",
          "width": 1
         },
         "mode": "lines",
         "showlegend": false,
         "type": "scatter3d",
         "x": [
          5.560606528326746,
          5.90036842769594
         ],
         "y": [
          1.9139518424434718,
          0.6773550995080697
         ],
         "z": [
          1.6334646196513471,
          2.4712714870728236
         ]
        },
        {
         "hoverinfo": "skip",
         "line": {
          "color": "black",
          "width": 1
         },
         "mode": "lines",
         "showlegend": false,
         "type": "scatter3d",
         "x": [
          5.560606528326746,
          6.4352436295669575
         ],
         "y": [
          1.9139518424434718,
          2.9870001173680696
         ],
         "z": [
          1.6334646196513471,
          1.987856127472091
         ]
        },
        {
         "hoverinfo": "skip",
         "line": {
          "color": "black",
          "width": 1
         },
         "mode": "lines",
         "showlegend": false,
         "type": "scatter3d",
         "x": [
          5.560606528326746,
          4.527136626510066
         ],
         "y": [
          1.9139518424434718,
          2.207409471098838
         ],
         "z": [
          1.6334646196513471,
          1.81800887511055
         ]
        },
        {
         "hoverinfo": "skip",
         "line": {
          "color": "black",
          "width": 1
         },
         "mode": "lines",
         "showlegend": false,
         "type": "scatter3d",
         "x": [
          5.90036842769594,
          5.013338057877738
         ],
         "y": [
          0.6773550995080697,
          -0.48865857214208375
         ],
         "z": [
          2.4712714870728236,
          2.0298349224963186
         ]
        },
        {
         "hoverinfo": "skip",
         "line": {
          "color": "black",
          "width": 1
         },
         "mode": "lines",
         "showlegend": false,
         "type": "scatter3d",
         "x": [
          5.90036842769594,
          5.668402432626431
         ],
         "y": [
          0.6773550995080697,
          0.9587585064571473
         ],
         "z": [
          2.4712714870728236,
          3.853027579763883
         ]
        },
        {
         "hoverinfo": "skip",
         "line": {
          "color": "black",
          "width": 1
         },
         "mode": "lines",
         "showlegend": false,
         "type": "scatter3d",
         "x": [
          5.90036842769594,
          6.948496940659405
         ],
         "y": [
          0.6773550995080697,
          0.41396352237632583
         ],
         "z": [
          2.4712714870728236,
          2.322757186720813
         ]
        },
        {
         "hoverinfo": "skip",
         "line": {
          "color": "black",
          "width": 1
         },
         "mode": "lines",
         "showlegend": false,
         "type": "scatter3d",
         "x": [
          5.013338057877738,
          5.387863288063112
         ],
         "y": [
          -0.48865857214208375,
          -1.7429736514372267
         ],
         "z": [
          2.0298349224963186,
          2.820934495121286
         ]
        },
        {
         "hoverinfo": "skip",
         "line": {
          "color": "black",
          "width": 1
         },
         "mode": "lines",
         "showlegend": false,
         "type": "scatter3d",
         "x": [
          5.013338057877738,
          5.1987577593194825
         ],
         "y": [
          -0.48865857214208375,
          -0.7379029078020796
         ],
         "z": [
          2.0298349224963186,
          0.6303897724894117
         ]
        },
        {
         "hoverinfo": "skip",
         "line": {
          "color": "black",
          "width": 1
         },
         "mode": "lines",
         "showlegend": false,
         "type": "scatter3d",
         "x": [
          5.013338057877738,
          3.967270777313826
         ],
         "y": [
          -0.48865857214208375,
          -0.24046852227762938
         ],
         "z": [
          2.0298349224963186,
          2.2154526578609657
         ]
        },
        {
         "hoverinfo": "skip",
         "line": {
          "color": "black",
          "width": 1
         },
         "mode": "lines",
         "showlegend": false,
         "type": "scatter3d",
         "x": [
          5.387863288063112,
          4.484025466823145
         ],
         "y": [
          -1.7429736514372267,
          -2.800826494523947
         ],
         "z": [
          2.820934495121286,
          2.4944968207184535
         ]
        },
        {
         "hoverinfo": "skip",
         "line": {
          "color": "black",
          "width": 1
         },
         "mode": "lines",
         "showlegend": false,
         "type": "scatter3d",
         "x": [
          5.387863288063112,
          5.327965739848097
         ],
         "y": [
          -1.7429736514372267,
          -1.531607200598568
         ],
         "z": [
          2.820934495121286,
          3.8880204837734187
         ]
        },
        {
         "hoverinfo": "skip",
         "line": {
          "color": "black",
          "width": 1
         },
         "mode": "lines",
         "showlegend": false,
         "type": "scatter3d",
         "x": [
          5.387863288063112,
          6.404390279014973
         ],
         "y": [
          -1.7429736514372267,
          -2.042622087283024
         ],
         "z": [
          2.820934495121286,
          2.566822922064251
         ]
        },
        {
         "hoverinfo": "skip",
         "line": {
          "color": "black",
          "width": 1
         },
         "mode": "lines",
         "showlegend": false,
         "type": "scatter3d",
         "x": [
          5.35449526730252,
          5.438285191963489
         ],
         "y": [
          2.6996166148776157,
          2.555069806888833
         ],
         "z": [
          -0.6454039622188312,
          -1.5981470906776845
         ]
        },
        {
         "hoverinfo": "skip",
         "line": {
          "color": "black",
          "width": 1
         },
         "mode": "lines",
         "showlegend": false,
         "type": "scatter3d",
         "x": [
          6.4352436295669575,
          6.2800717234307175
         ],
         "y": [
          2.9870001173680696,
          3.8017609918634716
         ],
         "z": [
          1.987856127472091,
          1.4899360566399018
         ]
        },
        {
         "hoverinfo": "skip",
         "line": {
          "color": "black",
          "width": 1
         },
         "mode": "lines",
         "showlegend": false,
         "type": "scatter3d",
         "x": [
          5.668402432626431,
          6.1960341447306515
         ],
         "y": [
          0.9587585064571473,
          1.6918862219363033
         ],
         "z": [
          3.853027579763883,
          4.199278253666883
         ]
        },
        {
         "hoverinfo": "skip",
         "line": {
          "color": "black",
          "width": 1
         },
         "mode": "lines",
         "showlegend": false,
         "type": "scatter3d",
         "x": [
          4.484025466823145,
          4.662616197393663
         ],
         "y": [
          -2.800826494523947,
          -3.6291151154596775
         ],
         "z": [
          2.4944968207184535,
          2.959484252142866
         ]
        },
        {
         "hoverinfo": "skip",
         "line": {
          "color": "black",
          "width": 1
         },
         "mode": "lines",
         "showlegend": false,
         "type": "scatter3d",
         "x": [
          3.506,
          4.84532804005647
         ],
         "y": [
          0.661,
          0.35916438905876996
         ],
         "z": [
          0.035,
          -0.1835216352817889
         ]
        }
       ],
       "layout": {
        "legend": {
         "title": {
          "text": "color"
         },
         "tracegroupgap": 0
        },
        "margin": {
         "t": 60
        },
        "scene": {
         "domain": {
          "x": [
           0,
           1
          ],
          "y": [
           0,
           1
          ]
         },
         "xaxis": {
          "showgrid": false,
          "showline": false,
          "showticklabels": false,
          "title": {
           "text": "x"
          }
         },
         "yaxis": {
          "showgrid": false,
          "showline": false,
          "showticklabels": false,
          "title": {
           "text": "y"
          }
         },
         "zaxis": {
          "showgrid": false,
          "showline": false,
          "showticklabels": false,
          "title": {
           "text": "z"
          }
         }
        },
        "template": {
         "data": {
          "scatter": [
           {
            "type": "scatter"
           }
          ]
         }
        }
       }
      }
     },
     "metadata": {},
     "output_type": "display_data"
    }
   ],
   "source": [
    "glc2.id = \"glc2\" # we need to give the molecule a unique ID\n",
    "bb.add_compound(glc2, \n",
    "                type=\"my_project_basic_molecules\", # we can add some descriptive tag here (optional)\n",
    "                names=[\"di-glucose\"] # provide some name aliases (optional)\n",
    "                )\n",
    "\n",
    "# now we can refer to the compound by our self-given name 'di-glucose'\n",
    "bb.molecule(\"di-glucose\").show()"
   ]
  },
  {
   "cell_type": "markdown",
   "metadata": {},
   "source": [
    "### Setting default compounds\n",
    "\n",
    "If we have a custom set of compounds that we are always using, we can set them to be the defaults that are loaded by biobuild in every session. We can do so using the `set_default_compounds` function, just like with the CHARMM topology. Using the option `overwrite=True` we can ensure that biobuild will load the currently set default PDBE compounds library automatically in every future session."
   ]
  },
  {
   "cell_type": "markdown",
   "metadata": {},
   "source": [
    "```python\n",
    "# get the currently loaded compounds (including our newly added one)\n",
    "current_compounds = bb.get_default_compounds()\n",
    "\n",
    "# save the current compounds as defaults for every future session\n",
    "bb.set_default_compounds(current_compounds, overwrite=True)\n",
    "\n",
    "# if we realize later that we would like to reset our defaults again\n",
    "# we can use:\n",
    "bb.restore_default_compounds()\n",
    "```"
   ]
  },
  {
   "cell_type": "markdown",
   "metadata": {},
   "source": [
    "# PubChem\n",
    "\n",
    "PubChem maintains an enormous database of readily available 3D structures for molecules. They offer a handy API in the form of the `pubchempy` package, which is integrated into biobuild. In fact, any call to `molecule` will eventually end up calling on PubChem if no compound or file could be identified for the given inputs. Hence, to use PubChem the user needs not learn anything new. Alternatively, there is a classmethod `Molecule.from_pubchem` that can be used as well."
   ]
  },
  {
   "cell_type": "markdown",
   "metadata": {},
   "source": [
    "Let's get an aspirin molecule"
   ]
  },
  {
   "cell_type": "code",
   "execution_count": 24,
   "metadata": {},
   "outputs": [
    {
     "data": {
      "text/plain": [
       "False"
      ]
     },
     "execution_count": 24,
     "metadata": {},
     "output_type": "execute_result"
    }
   ],
   "source": [
    "bb.has_compound(\"aspirin\")"
   ]
  },
  {
   "cell_type": "markdown",
   "metadata": {},
   "source": [
    "So, apparently, aspirin is not available from the loaded sugar compounds (no surprise there), but it is actually also not going to be part of any of the other pre-defined sets. So, we need to refer to pubchem to get it..."
   ]
  },
  {
   "cell_type": "code",
   "execution_count": 25,
   "metadata": {},
   "outputs": [
    {
     "data": {
      "application/vnd.plotly.v1+json": {
       "config": {
        "plotlyServerURL": "https://plot.ly"
       },
       "data": [
        {
         "hovertemplate": "<b>%{hovertext}</b><br><br>color=H<br>x=%{x}<br>y=%{y}<br>z=%{z}<extra></extra>",
         "hovertext": [
          "H1",
          "H2",
          "H3",
          "H4",
          "H5",
          "H6",
          "H7",
          "H8"
         ],
         "legendgroup": "H",
         "marker": {
          "color": "lightgray",
          "opacity": 0.3,
          "symbol": "circle"
         },
         "mode": "markers",
         "name": "H",
         "scene": "scene",
         "showlegend": true,
         "type": "scatter3d",
         "x": [
          -0.1851,
          -2.7247,
          -2.5797,
          -3.8374,
          3.729,
          4.2045,
          3.7105,
          -0.2555
         ],
         "y": [
          2.7545,
          -1.3605,
          2.8872,
          0.8238,
          1.4184,
          0.6969,
          -0.3659,
          -3.5916
         ],
         "z": [
          0.6593,
          -0.4564,
          0.0506,
          -0.509,
          0.8593,
          -0.6924,
          0.6426,
          -0.7337
         ]
        },
        {
         "hovertemplate": "<b>%{hovertext}</b><br><br>color=C<br>x=%{x}<br>y=%{y}<br>z=%{z}<extra></extra>",
         "hovertext": [
          "C1",
          "C2",
          "C3",
          "C4",
          "C5",
          "C6",
          "C7",
          "C8",
          "C9"
         ],
         "legendgroup": "C",
         "marker": {
          "color": "black",
          "opacity": 0.3,
          "symbol": "circle"
         },
         "mode": "markers",
         "name": "C",
         "scene": "scene",
         "showlegend": true,
         "type": "scatter3d",
         "x": [
          -0.0857,
          -0.7927,
          -0.7288,
          -2.1426,
          -2.0787,
          -2.7855,
          -0.1409,
          2.1094,
          3.5305
         ],
         "y": [
          0.6088,
          -0.5515,
          1.8464,
          -0.4741,
          1.9238,
          0.7636,
          -1.8536,
          0.6715,
          0.5996
         ],
         "z": [
          0.4403,
          0.1244,
          0.4133,
          -0.2184,
          0.0706,
          -0.2453,
          0.1477,
          -0.3113,
          0.1635
         ]
        },
        {
         "hovertemplate": "<b>%{hovertext}</b><br><br>color=O<br>x=%{x}<br>y=%{y}<br>z=%{z}<extra></extra>",
         "hovertext": [
          "O1",
          "O2",
          "O3",
          "O4"
         ],
         "legendgroup": "O",
         "marker": {
          "color": "red",
          "opacity": 0.3,
          "symbol": "circle"
         },
         "mode": "markers",
         "name": "O",
         "scene": "scene",
         "showlegend": true,
         "type": "scatter3d",
         "x": [
          1.2333,
          -0.6952,
          0.7958,
          1.7813
         ],
         "y": [
          0.554,
          -2.7148,
          -2.1843,
          0.8105
         ],
         "z": [
          0.7792,
          -0.7502,
          0.8685,
          -1.4821
         ]
        },
        {
         "hoverinfo": "skip",
         "line": {
          "color": "black",
          "width": 1
         },
         "mode": "lines",
         "showlegend": false,
         "type": "scatter3d",
         "x": [
          1.2333,
          -0.0857
         ],
         "y": [
          0.554,
          0.6088
         ],
         "z": [
          0.7792,
          0.4403
         ]
        },
        {
         "hoverinfo": "skip",
         "line": {
          "color": "black",
          "width": 1
         },
         "mode": "lines",
         "showlegend": false,
         "type": "scatter3d",
         "x": [
          1.2333,
          2.1094
         ],
         "y": [
          0.554,
          0.6715
         ],
         "z": [
          0.7792,
          -0.3113
         ]
        },
        {
         "hoverinfo": "skip",
         "line": {
          "color": "black",
          "width": 1
         },
         "mode": "lines",
         "showlegend": false,
         "type": "scatter3d",
         "x": [
          -0.6952,
          -0.1409
         ],
         "y": [
          -2.7148,
          -1.8536
         ],
         "z": [
          -0.7502,
          0.1477
         ]
        },
        {
         "hoverinfo": "skip",
         "line": {
          "color": "black",
          "width": 1
         },
         "mode": "lines",
         "showlegend": false,
         "type": "scatter3d",
         "x": [
          -0.6952,
          -0.2555
         ],
         "y": [
          -2.7148,
          -3.5916
         ],
         "z": [
          -0.7502,
          -0.7337
         ]
        },
        {
         "hoverinfo": "skip",
         "line": {
          "color": "black",
          "width": 1
         },
         "mode": "lines",
         "showlegend": false,
         "type": "scatter3d",
         "x": [
          0.7958,
          -0.1409
         ],
         "y": [
          -2.1843,
          -1.8536
         ],
         "z": [
          0.8685,
          0.1477
         ]
        },
        {
         "hoverinfo": "skip",
         "line": {
          "color": "black",
          "width": 1
         },
         "mode": "lines",
         "showlegend": false,
         "type": "scatter3d",
         "x": [
          1.7813,
          2.1094
         ],
         "y": [
          0.8105,
          0.6715
         ],
         "z": [
          -1.4821,
          -0.3113
         ]
        },
        {
         "hoverinfo": "skip",
         "line": {
          "color": "black",
          "width": 1
         },
         "mode": "lines",
         "showlegend": false,
         "type": "scatter3d",
         "x": [
          -0.0857,
          -0.7927
         ],
         "y": [
          0.6088,
          -0.5515
         ],
         "z": [
          0.4403,
          0.1244
         ]
        },
        {
         "hoverinfo": "skip",
         "line": {
          "color": "black",
          "width": 1
         },
         "mode": "lines",
         "showlegend": false,
         "type": "scatter3d",
         "x": [
          -0.0857,
          -0.7288
         ],
         "y": [
          0.6088,
          1.8464
         ],
         "z": [
          0.4403,
          0.4133
         ]
        },
        {
         "hoverinfo": "skip",
         "line": {
          "color": "black",
          "width": 1
         },
         "mode": "lines",
         "showlegend": false,
         "type": "scatter3d",
         "x": [
          -0.7927,
          -2.1426
         ],
         "y": [
          -0.5515,
          -0.4741
         ],
         "z": [
          0.1244,
          -0.2184
         ]
        },
        {
         "hoverinfo": "skip",
         "line": {
          "color": "black",
          "width": 1
         },
         "mode": "lines",
         "showlegend": false,
         "type": "scatter3d",
         "x": [
          -0.7927,
          -0.1409
         ],
         "y": [
          -0.5515,
          -1.8536
         ],
         "z": [
          0.1244,
          0.1477
         ]
        },
        {
         "hoverinfo": "skip",
         "line": {
          "color": "black",
          "width": 1
         },
         "mode": "lines",
         "showlegend": false,
         "type": "scatter3d",
         "x": [
          -0.7288,
          -2.0787
         ],
         "y": [
          1.8464,
          1.9238
         ],
         "z": [
          0.4133,
          0.0706
         ]
        },
        {
         "hoverinfo": "skip",
         "line": {
          "color": "black",
          "width": 1
         },
         "mode": "lines",
         "showlegend": false,
         "type": "scatter3d",
         "x": [
          -0.7288,
          -0.1851
         ],
         "y": [
          1.8464,
          2.7545
         ],
         "z": [
          0.4133,
          0.6593
         ]
        },
        {
         "hoverinfo": "skip",
         "line": {
          "color": "black",
          "width": 1
         },
         "mode": "lines",
         "showlegend": false,
         "type": "scatter3d",
         "x": [
          -2.1426,
          -2.7855
         ],
         "y": [
          -0.4741,
          0.7636
         ],
         "z": [
          -0.2184,
          -0.2453
         ]
        },
        {
         "hoverinfo": "skip",
         "line": {
          "color": "black",
          "width": 1
         },
         "mode": "lines",
         "showlegend": false,
         "type": "scatter3d",
         "x": [
          -2.1426,
          -2.7247
         ],
         "y": [
          -0.4741,
          -1.3605
         ],
         "z": [
          -0.2184,
          -0.4564
         ]
        },
        {
         "hoverinfo": "skip",
         "line": {
          "color": "black",
          "width": 1
         },
         "mode": "lines",
         "showlegend": false,
         "type": "scatter3d",
         "x": [
          -2.0787,
          -2.7855
         ],
         "y": [
          1.9238,
          0.7636
         ],
         "z": [
          0.0706,
          -0.2453
         ]
        },
        {
         "hoverinfo": "skip",
         "line": {
          "color": "black",
          "width": 1
         },
         "mode": "lines",
         "showlegend": false,
         "type": "scatter3d",
         "x": [
          -2.0787,
          -2.5797
         ],
         "y": [
          1.9238,
          2.8872
         ],
         "z": [
          0.0706,
          0.0506
         ]
        },
        {
         "hoverinfo": "skip",
         "line": {
          "color": "black",
          "width": 1
         },
         "mode": "lines",
         "showlegend": false,
         "type": "scatter3d",
         "x": [
          -2.7855,
          -3.8374
         ],
         "y": [
          0.7636,
          0.8238
         ],
         "z": [
          -0.2453,
          -0.509
         ]
        },
        {
         "hoverinfo": "skip",
         "line": {
          "color": "black",
          "width": 1
         },
         "mode": "lines",
         "showlegend": false,
         "type": "scatter3d",
         "x": [
          2.1094,
          3.5305
         ],
         "y": [
          0.6715,
          0.5996
         ],
         "z": [
          -0.3113,
          0.1635
         ]
        },
        {
         "hoverinfo": "skip",
         "line": {
          "color": "black",
          "width": 1
         },
         "mode": "lines",
         "showlegend": false,
         "type": "scatter3d",
         "x": [
          3.5305,
          3.729
         ],
         "y": [
          0.5996,
          1.4184
         ],
         "z": [
          0.1635,
          0.8593
         ]
        },
        {
         "hoverinfo": "skip",
         "line": {
          "color": "black",
          "width": 1
         },
         "mode": "lines",
         "showlegend": false,
         "type": "scatter3d",
         "x": [
          3.5305,
          4.2045
         ],
         "y": [
          0.5996,
          0.6969
         ],
         "z": [
          0.1635,
          -0.6924
         ]
        },
        {
         "hoverinfo": "skip",
         "line": {
          "color": "black",
          "width": 1
         },
         "mode": "lines",
         "showlegend": false,
         "type": "scatter3d",
         "x": [
          3.5305,
          3.7105
         ],
         "y": [
          0.5996,
          -0.3659
         ],
         "z": [
          0.1635,
          0.6426
         ]
        }
       ],
       "layout": {
        "legend": {
         "title": {
          "text": "color"
         },
         "tracegroupgap": 0
        },
        "margin": {
         "t": 60
        },
        "scene": {
         "domain": {
          "x": [
           0,
           1
          ],
          "y": [
           0,
           1
          ]
         },
         "xaxis": {
          "showgrid": false,
          "showline": false,
          "showticklabels": false,
          "title": {
           "text": "x"
          }
         },
         "yaxis": {
          "showgrid": false,
          "showline": false,
          "showticklabels": false,
          "title": {
           "text": "y"
          }
         },
         "zaxis": {
          "showgrid": false,
          "showline": false,
          "showticklabels": false,
          "title": {
           "text": "z"
          }
         }
        },
        "template": {
         "data": {
          "scatter": [
           {
            "type": "scatter"
           }
          ]
         }
        }
       }
      }
     },
     "metadata": {},
     "output_type": "display_data"
    }
   ],
   "source": [
    "aspirin = bb.Molecule.from_pubchem(\"aspirin\")\n",
    "aspirin.show()"
   ]
  },
  {
   "cell_type": "markdown",
   "metadata": {},
   "source": [
    "And there it is! Again, using the `molecule` function would be all we need. The call to PubChem is automatically handled by biobuild if a reference to PDBECompounds does not yield any results."
   ]
  }
 ],
 "metadata": {
  "kernelspec": {
   "display_name": "glyco2",
   "language": "python",
   "name": "python3"
  },
  "language_info": {
   "codemirror_mode": {
    "name": "ipython",
    "version": 3
   },
   "file_extension": ".py",
   "mimetype": "text/x-python",
   "name": "python",
   "nbconvert_exporter": "python",
   "pygments_lexer": "ipython3",
   "version": "3.11.2"
  },
  "orig_nbformat": 4
 },
 "nbformat": 4,
 "nbformat_minor": 2
}
