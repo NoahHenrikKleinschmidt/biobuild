{
 "cells": [
  {
   "attachments": {},
   "cell_type": "markdown",
   "metadata": {},
   "source": [
    "> ### In this tutorial we will cover:\n",
    "> - which built-in resources are available\n",
    "> - how to set your own default settings"
   ]
  },
  {
   "attachments": {},
   "cell_type": "markdown",
   "metadata": {},
   "source": [
    "## Built-in resources\n",
    "\n",
    "`biubuild` has three built-in data resources: the _CHARMM_ force field, the _PDBE compound library_, and _PubChem_ (remotely queried)."
   ]
  },
  {
   "attachments": {},
   "cell_type": "markdown",
   "metadata": {},
   "source": [
    "```mermaid\n",
    "\n",
    "flowchart TB\n",
    "  node_1((\"CHARMM\"))\n",
    "  node_2[\"pre-defined linkages\"]\n",
    "  node_3((\"PDBE Compounds\"))\n",
    "  node_4[\"small molecules\"]\n",
    "  node_5((\"PubChem\"))\n",
    "  node_6[\"large(er) molecules as well\"]\n",
    "  node_1 --> node_2\n",
    "  node_3 --> node_4\n",
    "  node_5 --> node_4\n",
    "  node_5 --> node_6\n",
    "  \n",
    "  \n",
    "\n",
    "```"
   ]
  },
  {
   "attachments": {},
   "cell_type": "markdown",
   "metadata": {},
   "source": [
    "### CHARMM Force Field\n",
    "\n",
    "In order to connect molecules together, the user may define their own `Linkage` by specifying which atoms to connect and which atoms to remove in the process. However, to make life easier, `biobuild` references the CHARMM force field which already specifies a number of linkage types - so-called `patches`. Each _patch_ specifies the atoms to connect and remove as well as the _internal coordinates_ around the newly formed bond. This allows biobuild to generate structures by pure matrix transformation as the resulting geometry is already specified. "
   ]
  },
  {
   "attachments": {},
   "cell_type": "markdown",
   "metadata": {},
   "source": [
    "We can check what linkages are available by default using:"
   ]
  },
  {
   "cell_type": "code",
   "execution_count": 2,
   "metadata": {},
   "outputs": [
    {
     "data": {
      "application/vnd.jupyter.widget-view+json": {
       "model_id": "c5b8a1e18e8846db9d4c2bb892e0301b",
       "version_major": 2,
       "version_minor": 0
      },
      "text/plain": []
     },
     "metadata": {},
     "output_type": "display_data"
    },
    {
     "data": {
      "text/plain": [
       "[Linkage(12aa),\n",
       " Linkage(12ab),\n",
       " Linkage(12ba),\n",
       " Linkage(12bb),\n",
       " Linkage(14bb),\n",
       " Linkage(16ab),\n",
       " Linkage(16bb),\n",
       " Linkage(26ab),\n",
       " Linkage(13ab),\n",
       " Linkage(NGLB),\n",
       " Linkage(WGPA),\n",
       " Linkage(CERB)]"
      ]
     },
     "execution_count": 2,
     "metadata": {},
     "output_type": "execute_result"
    }
   ],
   "source": [
    "import biobuild as bb\n",
    "\n",
    "bb.available_linkages()"
   ]
  },
  {
   "attachments": {},
   "cell_type": "markdown",
   "metadata": {},
   "source": [
    "Each linkage is identified by an ID within the CHARMM force field - e.g. `12aa` stands for the `1->2 alpha glycosydic linkage`. Each of the pre-defined available linkages can be referenced by their (string) id when connecting molecules together.\n",
    "\n",
    "For example, we can connect two glucoses using a `12aa` linkage by:"
   ]
  },
  {
   "cell_type": "code",
   "execution_count": 3,
   "metadata": {},
   "outputs": [
    {
     "data": {
      "application/vnd.plotly.v1+json": {
       "config": {
        "plotlyServerURL": "https://plot.ly"
       },
       "data": [
        {
         "hovertemplate": "<b>%{hovertext}</b><br><br>color=H<br>x=%{x}<br>y=%{y}<br>z=%{z}<extra></extra>",
         "hovertext": [
          "H1",
          "H2",
          "H3",
          "H4",
          "H5",
          "H61",
          "H62",
          "HO1",
          "HO3",
          "HO4",
          "HO6",
          "H1",
          "H2",
          "H3",
          "H4",
          "H5",
          "H61",
          "H62",
          "HO2",
          "HO3",
          "HO4",
          "HO6"
         ],
         "legendgroup": "H",
         "marker": {
          "color": "lightgray",
          "opacity": 0.3,
          "symbol": "circle"
         },
         "mode": "markers",
         "name": "H",
         "scene": "scene",
         "showlegend": true,
         "type": "scatter3d",
         "x": [
          -0.822,
          -1.583,
          -1.223,
          0.281,
          1.187,
          2.913,
          2.627,
          0.017,
          -3,
          0.102,
          4.425,
          -3.8098870953234214,
          -5.370275480532728,
          -3.95744576021739,
          -4.02304042195499,
          -1.7448452293655798,
          -1.1115740802750445,
          -1.8659614714424748,
          -5.924871100699146,
          -6.284348590631552,
          -3.8241429093513775,
          0.4703034503582275
         ],
         "y": [
          2.466,
          0.264,
          -0.619,
          -1.429,
          0.184,
          -1.315,
          -0.503,
          2.566,
          -1.684,
          -3.118,
          0.501,
          -0.9276749568142503,
          -0.3470743742150364,
          2.3610729144082194,
          0.1664005174262766,
          1.1584522280092215,
          0.4509686542121185,
          -1.1298375247990244,
          0.3682357699231835,
          2.409988667422467,
          2.402399121006251,
          -1.1453887675751249
         ],
         "z": [
          -0.815,
          -1.626,
          1.276,
          -1.257,
          1.173,
          0.129,
          -1.428,
          1.42,
          0.08,
          0.427,
          -0.218,
          -0.09764987554747162,
          1.7105876395029633,
          1.6833214605225755,
          3.807777958141923,
          2.032062590186813,
          4.358959159554869,
          4.046964787093141,
          -0.5027752082436925,
          2.2360424271210966,
          4.6332281530468,
          3.550432437682077
         ]
        },
        {
         "hovertemplate": "<b>%{hovertext}</b><br><br>color=C<br>x=%{x}<br>y=%{y}<br>z=%{z}<extra></extra>",
         "hovertext": [
          "C1",
          "C2",
          "C3",
          "C4",
          "C5",
          "C6",
          "C1",
          "C2",
          "C3",
          "C4",
          "C5",
          "C6"
         ],
         "legendgroup": "C",
         "marker": {
          "color": "black",
          "opacity": 0.3,
          "symbol": "circle"
         },
         "mode": "markers",
         "name": "C",
         "scene": "scene",
         "showlegend": true,
         "type": "scatter3d",
         "x": [
          -0.567,
          -1.578,
          -1.179,
          0.249,
          1.189,
          2.607,
          -3.55859109420746,
          -4.834169091856101,
          -4.4544105372765905,
          -3.5079056047251838,
          -2.281997388639346,
          -1.3603630392133168
         ],
         "y": [
          1.572,
          0.465,
          -0.806,
          -1.195,
          -0.024,
          -0.383,
          -0.10524671484168524,
          0.4479081832179309,
          1.5425964077011043,
          0.952768660520263,
          0.3643466742731929,
          -0.27947082272891866
         ],
         "z": [
          -0.245,
          -0.554,
          0.203,
          -0.192,
          0.102,
          -0.345,
          0.5973570284679077,
          1.1781897674447501,
          2.2042400898026364,
          3.254364673512317,
          2.5528052591828603,
          3.5898699420797344
         ]
        },
        {
         "hovertemplate": "<b>%{hovertext}</b><br><br>color=O<br>x=%{x}<br>y=%{y}<br>z=%{z}<extra></extra>",
         "hovertext": [
          "O1",
          "O2",
          "O3",
          "O4",
          "O5",
          "O6",
          "O2",
          "O3",
          "O4",
          "O5",
          "O6"
         ],
         "legendgroup": "O",
         "marker": {
          "color": "red",
          "opacity": 0.3,
          "symbol": "circle"
         },
         "mode": "markers",
         "name": "O",
         "scene": "scene",
         "showlegend": true,
         "type": "scatter3d",
         "x": [
          -0.6,
          -2.881,
          -2.075,
          0.658,
          0.744,
          3.506,
          -5.652688812935617,
          -5.636351659214027,
          -3.0952862845475915,
          -2.6871440584587365,
          -0.16156759572495893
         ],
         "y": [
          1.871,
          0.879,
          -1.866,
          -2.338,
          1.133,
          0.661,
          1.005145710486383,
          2.0278253922294383,
          1.9816079732007432,
          -0.6364505919008928,
          -0.7249928823391009
         ],
         "z": [
          1.151,
          -0.139,
          -0.137,
          0.562,
          -0.608,
          0.035,
          0.17242589501339922,
          2.8442276028424445,
          4.156296469880168,
          1.5975787563273012,
          2.9519541333147767
         ]
        },
        {
         "hoverinfo": "skip",
         "line": {
          "color": "black",
          "width": 1
         },
         "mode": "lines",
         "showlegend": false,
         "type": "scatter3d",
         "x": [
          -0.567,
          -1.578
         ],
         "y": [
          1.572,
          0.465
         ],
         "z": [
          -0.245,
          -0.554
         ]
        },
        {
         "hoverinfo": "skip",
         "line": {
          "color": "black",
          "width": 1
         },
         "mode": "lines",
         "showlegend": false,
         "type": "scatter3d",
         "x": [
          -0.567,
          -0.6
         ],
         "y": [
          1.572,
          1.871
         ],
         "z": [
          -0.245,
          1.151
         ]
        },
        {
         "hoverinfo": "skip",
         "line": {
          "color": "black",
          "width": 1
         },
         "mode": "lines",
         "showlegend": false,
         "type": "scatter3d",
         "x": [
          -0.567,
          0.744
         ],
         "y": [
          1.572,
          1.133
         ],
         "z": [
          -0.245,
          -0.608
         ]
        },
        {
         "hoverinfo": "skip",
         "line": {
          "color": "black",
          "width": 1
         },
         "mode": "lines",
         "showlegend": false,
         "type": "scatter3d",
         "x": [
          -0.567,
          -0.822
         ],
         "y": [
          1.572,
          2.466
         ],
         "z": [
          -0.245,
          -0.815
         ]
        },
        {
         "hoverinfo": "skip",
         "line": {
          "color": "black",
          "width": 1
         },
         "mode": "lines",
         "showlegend": false,
         "type": "scatter3d",
         "x": [
          -1.578,
          -1.179
         ],
         "y": [
          0.465,
          -0.806
         ],
         "z": [
          -0.554,
          0.203
         ]
        },
        {
         "hoverinfo": "skip",
         "line": {
          "color": "black",
          "width": 1
         },
         "mode": "lines",
         "showlegend": false,
         "type": "scatter3d",
         "x": [
          -1.578,
          -2.881
         ],
         "y": [
          0.465,
          0.879
         ],
         "z": [
          -0.554,
          -0.139
         ]
        },
        {
         "hoverinfo": "skip",
         "line": {
          "color": "black",
          "width": 1
         },
         "mode": "lines",
         "showlegend": false,
         "type": "scatter3d",
         "x": [
          -1.578,
          -1.583
         ],
         "y": [
          0.465,
          0.264
         ],
         "z": [
          -0.554,
          -1.626
         ]
        },
        {
         "hoverinfo": "skip",
         "line": {
          "color": "black",
          "width": 1
         },
         "mode": "lines",
         "showlegend": false,
         "type": "scatter3d",
         "x": [
          -1.179,
          0.249
         ],
         "y": [
          -0.806,
          -1.195
         ],
         "z": [
          0.203,
          -0.192
         ]
        },
        {
         "hoverinfo": "skip",
         "line": {
          "color": "black",
          "width": 1
         },
         "mode": "lines",
         "showlegend": false,
         "type": "scatter3d",
         "x": [
          -1.179,
          -2.075
         ],
         "y": [
          -0.806,
          -1.866
         ],
         "z": [
          0.203,
          -0.137
         ]
        },
        {
         "hoverinfo": "skip",
         "line": {
          "color": "black",
          "width": 1
         },
         "mode": "lines",
         "showlegend": false,
         "type": "scatter3d",
         "x": [
          -1.179,
          -1.223
         ],
         "y": [
          -0.806,
          -0.619
         ],
         "z": [
          0.203,
          1.276
         ]
        },
        {
         "hoverinfo": "skip",
         "line": {
          "color": "black",
          "width": 1
         },
         "mode": "lines",
         "showlegend": false,
         "type": "scatter3d",
         "x": [
          0.249,
          1.189
         ],
         "y": [
          -1.195,
          -0.024
         ],
         "z": [
          -0.192,
          0.102
         ]
        },
        {
         "hoverinfo": "skip",
         "line": {
          "color": "black",
          "width": 1
         },
         "mode": "lines",
         "showlegend": false,
         "type": "scatter3d",
         "x": [
          0.249,
          0.658
         ],
         "y": [
          -1.195,
          -2.338
         ],
         "z": [
          -0.192,
          0.562
         ]
        },
        {
         "hoverinfo": "skip",
         "line": {
          "color": "black",
          "width": 1
         },
         "mode": "lines",
         "showlegend": false,
         "type": "scatter3d",
         "x": [
          0.249,
          0.281
         ],
         "y": [
          -1.195,
          -1.429
         ],
         "z": [
          -0.192,
          -1.257
         ]
        },
        {
         "hoverinfo": "skip",
         "line": {
          "color": "black",
          "width": 1
         },
         "mode": "lines",
         "showlegend": false,
         "type": "scatter3d",
         "x": [
          1.189,
          2.607
         ],
         "y": [
          -0.024,
          -0.383
         ],
         "z": [
          0.102,
          -0.345
         ]
        },
        {
         "hoverinfo": "skip",
         "line": {
          "color": "black",
          "width": 1
         },
         "mode": "lines",
         "showlegend": false,
         "type": "scatter3d",
         "x": [
          1.189,
          0.744
         ],
         "y": [
          -0.024,
          1.133
         ],
         "z": [
          0.102,
          -0.608
         ]
        },
        {
         "hoverinfo": "skip",
         "line": {
          "color": "black",
          "width": 1
         },
         "mode": "lines",
         "showlegend": false,
         "type": "scatter3d",
         "x": [
          1.189,
          1.187
         ],
         "y": [
          -0.024,
          0.184
         ],
         "z": [
          0.102,
          1.173
         ]
        },
        {
         "hoverinfo": "skip",
         "line": {
          "color": "black",
          "width": 1
         },
         "mode": "lines",
         "showlegend": false,
         "type": "scatter3d",
         "x": [
          2.607,
          3.506
         ],
         "y": [
          -0.383,
          0.661
         ],
         "z": [
          -0.345,
          0.035
         ]
        },
        {
         "hoverinfo": "skip",
         "line": {
          "color": "black",
          "width": 1
         },
         "mode": "lines",
         "showlegend": false,
         "type": "scatter3d",
         "x": [
          2.607,
          2.913
         ],
         "y": [
          -0.383,
          -1.315
         ],
         "z": [
          -0.345,
          0.129
         ]
        },
        {
         "hoverinfo": "skip",
         "line": {
          "color": "black",
          "width": 1
         },
         "mode": "lines",
         "showlegend": false,
         "type": "scatter3d",
         "x": [
          2.607,
          2.627
         ],
         "y": [
          -0.383,
          -0.503
         ],
         "z": [
          -0.345,
          -1.428
         ]
        },
        {
         "hoverinfo": "skip",
         "line": {
          "color": "black",
          "width": 1
         },
         "mode": "lines",
         "showlegend": false,
         "type": "scatter3d",
         "x": [
          -0.6,
          0.017
         ],
         "y": [
          1.871,
          2.566
         ],
         "z": [
          1.151,
          1.42
         ]
        },
        {
         "hoverinfo": "skip",
         "line": {
          "color": "black",
          "width": 1
         },
         "mode": "lines",
         "showlegend": false,
         "type": "scatter3d",
         "x": [
          -2.075,
          -3
         ],
         "y": [
          -1.866,
          -1.684
         ],
         "z": [
          -0.137,
          0.08
         ]
        },
        {
         "hoverinfo": "skip",
         "line": {
          "color": "black",
          "width": 1
         },
         "mode": "lines",
         "showlegend": false,
         "type": "scatter3d",
         "x": [
          0.658,
          0.102
         ],
         "y": [
          -2.338,
          -3.118
         ],
         "z": [
          0.562,
          0.427
         ]
        },
        {
         "hoverinfo": "skip",
         "line": {
          "color": "black",
          "width": 1
         },
         "mode": "lines",
         "showlegend": false,
         "type": "scatter3d",
         "x": [
          3.506,
          4.425
         ],
         "y": [
          0.661,
          0.501
         ],
         "z": [
          0.035,
          -0.218
         ]
        },
        {
         "hoverinfo": "skip",
         "line": {
          "color": "black",
          "width": 1
         },
         "mode": "lines",
         "showlegend": false,
         "type": "scatter3d",
         "x": [
          -3.55859109420746,
          -4.834169091856101
         ],
         "y": [
          -0.10524671484168524,
          0.4479081832179309
         ],
         "z": [
          0.5973570284679077,
          1.1781897674447501
         ]
        },
        {
         "hoverinfo": "skip",
         "line": {
          "color": "black",
          "width": 1
         },
         "mode": "lines",
         "showlegend": false,
         "type": "scatter3d",
         "x": [
          -3.55859109420746,
          -2.6871440584587365
         ],
         "y": [
          -0.10524671484168524,
          -0.6364505919008928
         ],
         "z": [
          0.5973570284679077,
          1.5975787563273012
         ]
        },
        {
         "hoverinfo": "skip",
         "line": {
          "color": "black",
          "width": 1
         },
         "mode": "lines",
         "showlegend": false,
         "type": "scatter3d",
         "x": [
          -3.55859109420746,
          -3.8098870953234214
         ],
         "y": [
          -0.10524671484168524,
          -0.9276749568142503
         ],
         "z": [
          0.5973570284679077,
          -0.09764987554747162
         ]
        },
        {
         "hoverinfo": "skip",
         "line": {
          "color": "black",
          "width": 1
         },
         "mode": "lines",
         "showlegend": false,
         "type": "scatter3d",
         "x": [
          -4.834169091856101,
          -4.4544105372765905
         ],
         "y": [
          0.4479081832179309,
          1.5425964077011043
         ],
         "z": [
          1.1781897674447501,
          2.2042400898026364
         ]
        },
        {
         "hoverinfo": "skip",
         "line": {
          "color": "black",
          "width": 1
         },
         "mode": "lines",
         "showlegend": false,
         "type": "scatter3d",
         "x": [
          -4.834169091856101,
          -5.652688812935617
         ],
         "y": [
          0.4479081832179309,
          1.005145710486383
         ],
         "z": [
          1.1781897674447501,
          0.17242589501339922
         ]
        },
        {
         "hoverinfo": "skip",
         "line": {
          "color": "black",
          "width": 1
         },
         "mode": "lines",
         "showlegend": false,
         "type": "scatter3d",
         "x": [
          -4.834169091856101,
          -5.370275480532728
         ],
         "y": [
          0.4479081832179309,
          -0.3470743742150364
         ],
         "z": [
          1.1781897674447501,
          1.7105876395029633
         ]
        },
        {
         "hoverinfo": "skip",
         "line": {
          "color": "black",
          "width": 1
         },
         "mode": "lines",
         "showlegend": false,
         "type": "scatter3d",
         "x": [
          -4.4544105372765905,
          -3.5079056047251838
         ],
         "y": [
          1.5425964077011043,
          0.952768660520263
         ],
         "z": [
          2.2042400898026364,
          3.254364673512317
         ]
        },
        {
         "hoverinfo": "skip",
         "line": {
          "color": "black",
          "width": 1
         },
         "mode": "lines",
         "showlegend": false,
         "type": "scatter3d",
         "x": [
          -4.4544105372765905,
          -5.636351659214027
         ],
         "y": [
          1.5425964077011043,
          2.0278253922294383
         ],
         "z": [
          2.2042400898026364,
          2.8442276028424445
         ]
        },
        {
         "hoverinfo": "skip",
         "line": {
          "color": "black",
          "width": 1
         },
         "mode": "lines",
         "showlegend": false,
         "type": "scatter3d",
         "x": [
          -4.4544105372765905,
          -3.95744576021739
         ],
         "y": [
          1.5425964077011043,
          2.3610729144082194
         ],
         "z": [
          2.2042400898026364,
          1.6833214605225755
         ]
        },
        {
         "hoverinfo": "skip",
         "line": {
          "color": "black",
          "width": 1
         },
         "mode": "lines",
         "showlegend": false,
         "type": "scatter3d",
         "x": [
          -3.5079056047251838,
          -2.281997388639346
         ],
         "y": [
          0.952768660520263,
          0.3643466742731929
         ],
         "z": [
          3.254364673512317,
          2.5528052591828603
         ]
        },
        {
         "hoverinfo": "skip",
         "line": {
          "color": "black",
          "width": 1
         },
         "mode": "lines",
         "showlegend": false,
         "type": "scatter3d",
         "x": [
          -3.5079056047251838,
          -3.0952862845475915
         ],
         "y": [
          0.952768660520263,
          1.9816079732007432
         ],
         "z": [
          3.254364673512317,
          4.156296469880168
         ]
        },
        {
         "hoverinfo": "skip",
         "line": {
          "color": "black",
          "width": 1
         },
         "mode": "lines",
         "showlegend": false,
         "type": "scatter3d",
         "x": [
          -3.5079056047251838,
          -4.02304042195499
         ],
         "y": [
          0.952768660520263,
          0.1664005174262766
         ],
         "z": [
          3.254364673512317,
          3.807777958141923
         ]
        },
        {
         "hoverinfo": "skip",
         "line": {
          "color": "black",
          "width": 1
         },
         "mode": "lines",
         "showlegend": false,
         "type": "scatter3d",
         "x": [
          -2.281997388639346,
          -1.3603630392133168
         ],
         "y": [
          0.3643466742731929,
          -0.27947082272891866
         ],
         "z": [
          2.5528052591828603,
          3.5898699420797344
         ]
        },
        {
         "hoverinfo": "skip",
         "line": {
          "color": "black",
          "width": 1
         },
         "mode": "lines",
         "showlegend": false,
         "type": "scatter3d",
         "x": [
          -2.281997388639346,
          -2.6871440584587365
         ],
         "y": [
          0.3643466742731929,
          -0.6364505919008928
         ],
         "z": [
          2.5528052591828603,
          1.5975787563273012
         ]
        },
        {
         "hoverinfo": "skip",
         "line": {
          "color": "black",
          "width": 1
         },
         "mode": "lines",
         "showlegend": false,
         "type": "scatter3d",
         "x": [
          -2.281997388639346,
          -1.7448452293655798
         ],
         "y": [
          0.3643466742731929,
          1.1584522280092215
         ],
         "z": [
          2.5528052591828603,
          2.032062590186813
         ]
        },
        {
         "hoverinfo": "skip",
         "line": {
          "color": "black",
          "width": 1
         },
         "mode": "lines",
         "showlegend": false,
         "type": "scatter3d",
         "x": [
          -1.3603630392133168,
          -0.16156759572495893
         ],
         "y": [
          -0.27947082272891866,
          -0.7249928823391009
         ],
         "z": [
          3.5898699420797344,
          2.9519541333147767
         ]
        },
        {
         "hoverinfo": "skip",
         "line": {
          "color": "black",
          "width": 1
         },
         "mode": "lines",
         "showlegend": false,
         "type": "scatter3d",
         "x": [
          -1.3603630392133168,
          -1.1115740802750445
         ],
         "y": [
          -0.27947082272891866,
          0.4509686542121185
         ],
         "z": [
          3.5898699420797344,
          4.358959159554869
         ]
        },
        {
         "hoverinfo": "skip",
         "line": {
          "color": "black",
          "width": 1
         },
         "mode": "lines",
         "showlegend": false,
         "type": "scatter3d",
         "x": [
          -1.3603630392133168,
          -1.8659614714424748
         ],
         "y": [
          -0.27947082272891866,
          -1.1298375247990244
         ],
         "z": [
          3.5898699420797344,
          4.046964787093141
         ]
        },
        {
         "hoverinfo": "skip",
         "line": {
          "color": "black",
          "width": 1
         },
         "mode": "lines",
         "showlegend": false,
         "type": "scatter3d",
         "x": [
          -5.652688812935617,
          -5.924871100699146
         ],
         "y": [
          1.005145710486383,
          0.3682357699231835
         ],
         "z": [
          0.17242589501339922,
          -0.5027752082436925
         ]
        },
        {
         "hoverinfo": "skip",
         "line": {
          "color": "black",
          "width": 1
         },
         "mode": "lines",
         "showlegend": false,
         "type": "scatter3d",
         "x": [
          -5.636351659214027,
          -6.284348590631552
         ],
         "y": [
          2.0278253922294383,
          2.409988667422467
         ],
         "z": [
          2.8442276028424445,
          2.2360424271210966
         ]
        },
        {
         "hoverinfo": "skip",
         "line": {
          "color": "black",
          "width": 1
         },
         "mode": "lines",
         "showlegend": false,
         "type": "scatter3d",
         "x": [
          -3.0952862845475915,
          -3.8241429093513775
         ],
         "y": [
          1.9816079732007432,
          2.402399121006251
         ],
         "z": [
          4.156296469880168,
          4.6332281530468
         ]
        },
        {
         "hoverinfo": "skip",
         "line": {
          "color": "black",
          "width": 1
         },
         "mode": "lines",
         "showlegend": false,
         "type": "scatter3d",
         "x": [
          -0.16156759572495893,
          0.4703034503582275
         ],
         "y": [
          -0.7249928823391009,
          -1.1453887675751249
         ],
         "z": [
          2.9519541333147767,
          3.550432437682077
         ]
        },
        {
         "hoverinfo": "skip",
         "line": {
          "color": "black",
          "width": 1
         },
         "mode": "lines",
         "showlegend": false,
         "type": "scatter3d",
         "x": [
          -2.881,
          -3.55859109420746
         ],
         "y": [
          0.879,
          -0.10524671484168524
         ],
         "z": [
          -0.139,
          0.5973570284679077
         ]
        }
       ],
       "layout": {
        "legend": {
         "title": {
          "text": "color"
         },
         "tracegroupgap": 0
        },
        "margin": {
         "t": 60
        },
        "scene": {
         "domain": {
          "x": [
           0,
           1
          ],
          "y": [
           0,
           1
          ]
         },
         "xaxis": {
          "showgrid": false,
          "showline": false,
          "showticklabels": false,
          "title": {
           "text": "x"
          }
         },
         "yaxis": {
          "showgrid": false,
          "showline": false,
          "showticklabels": false,
          "title": {
           "text": "y"
          }
         },
         "zaxis": {
          "showgrid": false,
          "showline": false,
          "showticklabels": false,
          "title": {
           "text": "z"
          }
         }
        },
        "template": {
         "data": {
          "scatter": [
           {
            "type": "scatter"
           }
          ]
         }
        }
       }
      }
     },
     "metadata": {},
     "output_type": "display_data"
    }
   ],
   "source": [
    "glc = bb.molecule(\"GLC\")\n",
    "\n",
    "# use pre-defined 12aa linkage\n",
    "glc2 = bb.connect(glc, glc, \"12aa\")\n",
    "glc2.show()"
   ]
  },
  {
   "attachments": {},
   "cell_type": "markdown",
   "metadata": {},
   "source": [
    "#### Setting default linkages\n",
    "\n",
    "If a user has a particular kind of linkage that they keep using all the time but do not wish to store in a module of their own or copy/paste into their code repeatedly, they can use the `add_linkage` function to add their own linkage to the available defaults. This will make these linkages available by id throughout the entire session. If additionally `overwrite=True` is set, the linkage is added permanently to the defaults and will be available in all future sessions."
   ]
  },
  {
   "cell_type": "code",
   "execution_count": 4,
   "metadata": {},
   "outputs": [
    {
     "data": {
      "text/plain": [
       "[Linkage(12aa),\n",
       " Linkage(12ab),\n",
       " Linkage(12ba),\n",
       " Linkage(12bb),\n",
       " Linkage(14bb),\n",
       " Linkage(16ab),\n",
       " Linkage(16bb),\n",
       " Linkage(26ab),\n",
       " Linkage(13ab),\n",
       " Linkage(NGLB),\n",
       " Linkage(WGPA),\n",
       " Linkage(CERB),\n",
       " Linkage(my_12aa)]"
      ]
     },
     "execution_count": 4,
     "metadata": {},
     "output_type": "execute_result"
    }
   ],
   "source": [
    "# define a custom 1->2 glycosydic linkage\n",
    "my_12aa = bb.linkage(\"C1\", \"O2\", [\"O1\", \"HO1\"], [\"O2\"], id=\"my_12aa\")\n",
    "\n",
    "# add the linkage to the library\n",
    "bb.add_linkage(my_12aa)\n",
    "\n",
    "bb.available_linkages()"
   ]
  },
  {
   "attachments": {},
   "cell_type": "markdown",
   "metadata": {},
   "source": [
    "If the set of available linkages is quite large and we want to check if a particular one is available, we can also use the `has_linkage` function to check if a linkage with a given id is pre-loaded in the current session."
   ]
  },
  {
   "cell_type": "code",
   "execution_count": 5,
   "metadata": {},
   "outputs": [
    {
     "data": {
      "text/plain": [
       "True"
      ]
     },
     "execution_count": 5,
     "metadata": {},
     "output_type": "execute_result"
    }
   ],
   "source": [
    "bb.has_linkage(\"my_12aa\")"
   ]
  },
  {
   "attachments": {},
   "cell_type": "markdown",
   "metadata": {},
   "source": [
    "#### The `CHARMMTopology` class\n",
    "\n",
    "The data from the CHARMM force field is handled by the `CHARMMTopology` class, which parses (you guessed it) a CHARMM topology file (**not** parameter file) and stores its data in a dictionary structure. Its purpose is to store linkages.\n",
    "\n",
    "The default instance of this class can be accessed using the `get_default_topology` function. Why is this useful? Well, if there is a \"get\"-default topology function there may be a \"set\"-version as well (which is totally the case). If you have your own CHARMM topology file with defined linkages and molecules, you can `read_topology` to parse your own file, use `set_default=True` to make your topology the default, and thus tailor biobuild to your specific needs. "
   ]
  },
  {
   "cell_type": "code",
   "execution_count": 6,
   "metadata": {},
   "outputs": [
    {
     "data": {
      "text/plain": [
       "[Linkage(my_14bb), Linkage(my_16ab)]"
      ]
     },
     "execution_count": 6,
     "metadata": {},
     "output_type": "execute_result"
    }
   ],
   "source": [
    "# read a custom topology file to make a CHARMMTopology\n",
    "# (but don't set it as the default topology)\n",
    "my_top = bb.read_topology(\"files/my_top.top\", set_default=False)\n",
    "\n",
    "# check out the patches (linkages) in the topology\n",
    "my_top.patches"
   ]
  },
  {
   "attachments": {},
   "cell_type": "markdown",
   "metadata": {},
   "source": [
    "If we want to use a non-default topology we can either specify the topology we want to use as an argument to functions and methods which accept a `_topology` argument, or we directly provide the linkage objects we obtain from the topology."
   ]
  },
  {
   "cell_type": "code",
   "execution_count": 7,
   "metadata": {},
   "outputs": [
    {
     "data": {
      "application/vnd.plotly.v1+json": {
       "config": {
        "plotlyServerURL": "https://plot.ly"
       },
       "data": [
        {
         "hovertemplate": "<b>%{hovertext}</b><br><br>color=H<br>x=%{x}<br>y=%{y}<br>z=%{z}<extra></extra>",
         "hovertext": [
          "H1",
          "H2",
          "H3",
          "H4",
          "H5",
          "H61",
          "H62",
          "HO1",
          "HO2",
          "HO3",
          "HO4",
          "H1",
          "H2",
          "H3",
          "H4",
          "H5",
          "H61",
          "H62",
          "HO2",
          "HO3",
          "HO4",
          "HO6"
         ],
         "legendgroup": "H",
         "marker": {
          "color": "lightgray",
          "opacity": 0.3,
          "symbol": "circle"
         },
         "mode": "markers",
         "name": "H",
         "scene": "scene",
         "showlegend": true,
         "type": "scatter3d",
         "x": [
          -0.822,
          -1.583,
          -1.223,
          0.281,
          1.187,
          2.913,
          2.627,
          0.017,
          -3.197,
          -3,
          0.102,
          5.025594928348188,
          6.82445694054094,
          4.549905944399929,
          6.698207267483199,
          3.67791452974214,
          4.745228796718678,
          5.852581273880355,
          5.755278341608145,
          6.497737025675308,
          5.958907536977127,
          3.911760694470896
         ],
         "y": [
          2.466,
          0.264,
          -0.619,
          -1.429,
          0.184,
          -1.315,
          -0.503,
          2.566,
          1.682,
          -1.684,
          -3.118,
          -0.6853524355853908,
          0.9805864487502676,
          3.0173927880921525,
          2.5214908198987063,
          2.0753811952478243,
          2.8331411021391357,
          1.4442056735471815,
          0.2897582569877517,
          3.577883339106897,
          4.785925709019266,
          0.942945403181257
         ],
         "z": [
          -0.815,
          -1.626,
          1.276,
          -1.257,
          1.173,
          0.129,
          -1.428,
          1.42,
          -0.576,
          0.08,
          0.427,
          -0.05110215872184587,
          0.12396837916232345,
          0.2174066045876895,
          -1.8975609278298964,
          -1.9770781029712396,
          -4.122457598309164,
          -4.022368305545244,
          2.148279010723161,
          1.4879082460824082,
          -1.6821809347776129,
          -5.321165295029518
         ]
        },
        {
         "hovertemplate": "<b>%{hovertext}</b><br><br>color=C<br>x=%{x}<br>y=%{y}<br>z=%{z}<extra></extra>",
         "hovertext": [
          "C1",
          "C2",
          "C3",
          "C4",
          "C5",
          "C6",
          "C1",
          "C2",
          "C3",
          "C4",
          "C5",
          "C6"
         ],
         "legendgroup": "C",
         "marker": {
          "color": "black",
          "opacity": 0.3,
          "symbol": "circle"
         },
         "mode": "markers",
         "name": "C",
         "scene": "scene",
         "showlegend": true,
         "type": "scatter3d",
         "x": [
          -0.567,
          -1.578,
          -1.179,
          0.249,
          1.189,
          2.607,
          4.826995523051468,
          5.797767808733162,
          5.552922991926241,
          5.6799178368898415,
          4.698796619197704,
          4.861721398032241
         ],
         "y": [
          1.572,
          0.465,
          -0.806,
          -1.195,
          -0.024,
          -0.383,
          0.36429891858971514,
          1.2579695336585954,
          2.7111849513653725,
          2.7812076560284122,
          1.7919553152184535,
          1.813043251479385
         ],
         "z": [
          -0.245,
          -0.554,
          0.203,
          -0.192,
          0.102,
          -0.345,
          -0.33517868167676224,
          0.39179879466947876,
          -0.07996111911262,
          -1.6049198497621884,
          -2.2374212034337173,
          -3.7580871152585242
         ]
        },
        {
         "hovertemplate": "<b>%{hovertext}</b><br><br>color=O<br>x=%{x}<br>y=%{y}<br>z=%{z}<extra></extra>",
         "hovertext": [
          "O1",
          "O2",
          "O3",
          "O4",
          "O5",
          "O6",
          "O2",
          "O3",
          "O4",
          "O5",
          "O6"
         ],
         "legendgroup": "O",
         "marker": {
          "color": "red",
          "opacity": 0.3,
          "symbol": "circle"
         },
         "mode": "markers",
         "name": "O",
         "scene": "scene",
         "showlegend": true,
         "type": "scatter3d",
         "x": [
          -0.6,
          -2.881,
          -2.075,
          0.658,
          0.744,
          3.506,
          5.616076205396254,
          6.5175562756828676,
          5.377097041830382,
          4.956227181452358,
          3.867810651192266
         ],
         "y": [
          1.871,
          0.879,
          -1.866,
          -2.338,
          1.133,
          0.661,
          1.1773476775908696,
          3.5776004759135542,
          4.105482437569719,
          0.45771270386246293,
          0.9782766320381409
         ],
         "z": [
          1.151,
          -0.139,
          -0.137,
          0.562,
          -0.608,
          0.035,
          1.7898912518537107,
          0.520724128492819,
          -2.0485884975763873,
          -1.7532414599725517,
          -4.356287013605757
         ]
        },
        {
         "hoverinfo": "skip",
         "line": {
          "color": "black",
          "width": 1
         },
         "mode": "lines",
         "showlegend": false,
         "type": "scatter3d",
         "x": [
          -0.567,
          -1.578
         ],
         "y": [
          1.572,
          0.465
         ],
         "z": [
          -0.245,
          -0.554
         ]
        },
        {
         "hoverinfo": "skip",
         "line": {
          "color": "black",
          "width": 1
         },
         "mode": "lines",
         "showlegend": false,
         "type": "scatter3d",
         "x": [
          -0.567,
          -0.6
         ],
         "y": [
          1.572,
          1.871
         ],
         "z": [
          -0.245,
          1.151
         ]
        },
        {
         "hoverinfo": "skip",
         "line": {
          "color": "black",
          "width": 1
         },
         "mode": "lines",
         "showlegend": false,
         "type": "scatter3d",
         "x": [
          -0.567,
          0.744
         ],
         "y": [
          1.572,
          1.133
         ],
         "z": [
          -0.245,
          -0.608
         ]
        },
        {
         "hoverinfo": "skip",
         "line": {
          "color": "black",
          "width": 1
         },
         "mode": "lines",
         "showlegend": false,
         "type": "scatter3d",
         "x": [
          -0.567,
          -0.822
         ],
         "y": [
          1.572,
          2.466
         ],
         "z": [
          -0.245,
          -0.815
         ]
        },
        {
         "hoverinfo": "skip",
         "line": {
          "color": "black",
          "width": 1
         },
         "mode": "lines",
         "showlegend": false,
         "type": "scatter3d",
         "x": [
          -1.578,
          -1.179
         ],
         "y": [
          0.465,
          -0.806
         ],
         "z": [
          -0.554,
          0.203
         ]
        },
        {
         "hoverinfo": "skip",
         "line": {
          "color": "black",
          "width": 1
         },
         "mode": "lines",
         "showlegend": false,
         "type": "scatter3d",
         "x": [
          -1.578,
          -2.881
         ],
         "y": [
          0.465,
          0.879
         ],
         "z": [
          -0.554,
          -0.139
         ]
        },
        {
         "hoverinfo": "skip",
         "line": {
          "color": "black",
          "width": 1
         },
         "mode": "lines",
         "showlegend": false,
         "type": "scatter3d",
         "x": [
          -1.578,
          -1.583
         ],
         "y": [
          0.465,
          0.264
         ],
         "z": [
          -0.554,
          -1.626
         ]
        },
        {
         "hoverinfo": "skip",
         "line": {
          "color": "black",
          "width": 1
         },
         "mode": "lines",
         "showlegend": false,
         "type": "scatter3d",
         "x": [
          -1.179,
          0.249
         ],
         "y": [
          -0.806,
          -1.195
         ],
         "z": [
          0.203,
          -0.192
         ]
        },
        {
         "hoverinfo": "skip",
         "line": {
          "color": "black",
          "width": 1
         },
         "mode": "lines",
         "showlegend": false,
         "type": "scatter3d",
         "x": [
          -1.179,
          -2.075
         ],
         "y": [
          -0.806,
          -1.866
         ],
         "z": [
          0.203,
          -0.137
         ]
        },
        {
         "hoverinfo": "skip",
         "line": {
          "color": "black",
          "width": 1
         },
         "mode": "lines",
         "showlegend": false,
         "type": "scatter3d",
         "x": [
          -1.179,
          -1.223
         ],
         "y": [
          -0.806,
          -0.619
         ],
         "z": [
          0.203,
          1.276
         ]
        },
        {
         "hoverinfo": "skip",
         "line": {
          "color": "black",
          "width": 1
         },
         "mode": "lines",
         "showlegend": false,
         "type": "scatter3d",
         "x": [
          0.249,
          1.189
         ],
         "y": [
          -1.195,
          -0.024
         ],
         "z": [
          -0.192,
          0.102
         ]
        },
        {
         "hoverinfo": "skip",
         "line": {
          "color": "black",
          "width": 1
         },
         "mode": "lines",
         "showlegend": false,
         "type": "scatter3d",
         "x": [
          0.249,
          0.658
         ],
         "y": [
          -1.195,
          -2.338
         ],
         "z": [
          -0.192,
          0.562
         ]
        },
        {
         "hoverinfo": "skip",
         "line": {
          "color": "black",
          "width": 1
         },
         "mode": "lines",
         "showlegend": false,
         "type": "scatter3d",
         "x": [
          0.249,
          0.281
         ],
         "y": [
          -1.195,
          -1.429
         ],
         "z": [
          -0.192,
          -1.257
         ]
        },
        {
         "hoverinfo": "skip",
         "line": {
          "color": "black",
          "width": 1
         },
         "mode": "lines",
         "showlegend": false,
         "type": "scatter3d",
         "x": [
          1.189,
          2.607
         ],
         "y": [
          -0.024,
          -0.383
         ],
         "z": [
          0.102,
          -0.345
         ]
        },
        {
         "hoverinfo": "skip",
         "line": {
          "color": "black",
          "width": 1
         },
         "mode": "lines",
         "showlegend": false,
         "type": "scatter3d",
         "x": [
          1.189,
          0.744
         ],
         "y": [
          -0.024,
          1.133
         ],
         "z": [
          0.102,
          -0.608
         ]
        },
        {
         "hoverinfo": "skip",
         "line": {
          "color": "black",
          "width": 1
         },
         "mode": "lines",
         "showlegend": false,
         "type": "scatter3d",
         "x": [
          1.189,
          1.187
         ],
         "y": [
          -0.024,
          0.184
         ],
         "z": [
          0.102,
          1.173
         ]
        },
        {
         "hoverinfo": "skip",
         "line": {
          "color": "black",
          "width": 1
         },
         "mode": "lines",
         "showlegend": false,
         "type": "scatter3d",
         "x": [
          2.607,
          3.506
         ],
         "y": [
          -0.383,
          0.661
         ],
         "z": [
          -0.345,
          0.035
         ]
        },
        {
         "hoverinfo": "skip",
         "line": {
          "color": "black",
          "width": 1
         },
         "mode": "lines",
         "showlegend": false,
         "type": "scatter3d",
         "x": [
          2.607,
          2.913
         ],
         "y": [
          -0.383,
          -1.315
         ],
         "z": [
          -0.345,
          0.129
         ]
        },
        {
         "hoverinfo": "skip",
         "line": {
          "color": "black",
          "width": 1
         },
         "mode": "lines",
         "showlegend": false,
         "type": "scatter3d",
         "x": [
          2.607,
          2.627
         ],
         "y": [
          -0.383,
          -0.503
         ],
         "z": [
          -0.345,
          -1.428
         ]
        },
        {
         "hoverinfo": "skip",
         "line": {
          "color": "black",
          "width": 1
         },
         "mode": "lines",
         "showlegend": false,
         "type": "scatter3d",
         "x": [
          -0.6,
          0.017
         ],
         "y": [
          1.871,
          2.566
         ],
         "z": [
          1.151,
          1.42
         ]
        },
        {
         "hoverinfo": "skip",
         "line": {
          "color": "black",
          "width": 1
         },
         "mode": "lines",
         "showlegend": false,
         "type": "scatter3d",
         "x": [
          -2.881,
          -3.197
         ],
         "y": [
          0.879,
          1.682
         ],
         "z": [
          -0.139,
          -0.576
         ]
        },
        {
         "hoverinfo": "skip",
         "line": {
          "color": "black",
          "width": 1
         },
         "mode": "lines",
         "showlegend": false,
         "type": "scatter3d",
         "x": [
          -2.075,
          -3
         ],
         "y": [
          -1.866,
          -1.684
         ],
         "z": [
          -0.137,
          0.08
         ]
        },
        {
         "hoverinfo": "skip",
         "line": {
          "color": "black",
          "width": 1
         },
         "mode": "lines",
         "showlegend": false,
         "type": "scatter3d",
         "x": [
          0.658,
          0.102
         ],
         "y": [
          -2.338,
          -3.118
         ],
         "z": [
          0.562,
          0.427
         ]
        },
        {
         "hoverinfo": "skip",
         "line": {
          "color": "black",
          "width": 1
         },
         "mode": "lines",
         "showlegend": false,
         "type": "scatter3d",
         "x": [
          4.826995523051468,
          5.797767808733162
         ],
         "y": [
          0.36429891858971514,
          1.2579695336585954
         ],
         "z": [
          -0.33517868167676224,
          0.39179879466947876
         ]
        },
        {
         "hoverinfo": "skip",
         "line": {
          "color": "black",
          "width": 1
         },
         "mode": "lines",
         "showlegend": false,
         "type": "scatter3d",
         "x": [
          4.826995523051468,
          4.956227181452358
         ],
         "y": [
          0.36429891858971514,
          0.45771270386246293
         ],
         "z": [
          -0.33517868167676224,
          -1.7532414599725517
         ]
        },
        {
         "hoverinfo": "skip",
         "line": {
          "color": "black",
          "width": 1
         },
         "mode": "lines",
         "showlegend": false,
         "type": "scatter3d",
         "x": [
          4.826995523051468,
          5.025594928348188
         ],
         "y": [
          0.36429891858971514,
          -0.6853524355853908
         ],
         "z": [
          -0.33517868167676224,
          -0.05110215872184587
         ]
        },
        {
         "hoverinfo": "skip",
         "line": {
          "color": "black",
          "width": 1
         },
         "mode": "lines",
         "showlegend": false,
         "type": "scatter3d",
         "x": [
          5.797767808733162,
          5.552922991926241
         ],
         "y": [
          1.2579695336585954,
          2.7111849513653725
         ],
         "z": [
          0.39179879466947876,
          -0.07996111911262
         ]
        },
        {
         "hoverinfo": "skip",
         "line": {
          "color": "black",
          "width": 1
         },
         "mode": "lines",
         "showlegend": false,
         "type": "scatter3d",
         "x": [
          5.797767808733162,
          5.616076205396254
         ],
         "y": [
          1.2579695336585954,
          1.1773476775908696
         ],
         "z": [
          0.39179879466947876,
          1.7898912518537107
         ]
        },
        {
         "hoverinfo": "skip",
         "line": {
          "color": "black",
          "width": 1
         },
         "mode": "lines",
         "showlegend": false,
         "type": "scatter3d",
         "x": [
          5.797767808733162,
          6.82445694054094
         ],
         "y": [
          1.2579695336585954,
          0.9805864487502676
         ],
         "z": [
          0.39179879466947876,
          0.12396837916232345
         ]
        },
        {
         "hoverinfo": "skip",
         "line": {
          "color": "black",
          "width": 1
         },
         "mode": "lines",
         "showlegend": false,
         "type": "scatter3d",
         "x": [
          5.552922991926241,
          5.6799178368898415
         ],
         "y": [
          2.7111849513653725,
          2.7812076560284122
         ],
         "z": [
          -0.07996111911262,
          -1.6049198497621884
         ]
        },
        {
         "hoverinfo": "skip",
         "line": {
          "color": "black",
          "width": 1
         },
         "mode": "lines",
         "showlegend": false,
         "type": "scatter3d",
         "x": [
          5.552922991926241,
          6.5175562756828676
         ],
         "y": [
          2.7111849513653725,
          3.5776004759135542
         ],
         "z": [
          -0.07996111911262,
          0.520724128492819
         ]
        },
        {
         "hoverinfo": "skip",
         "line": {
          "color": "black",
          "width": 1
         },
         "mode": "lines",
         "showlegend": false,
         "type": "scatter3d",
         "x": [
          5.552922991926241,
          4.549905944399929
         ],
         "y": [
          2.7111849513653725,
          3.0173927880921525
         ],
         "z": [
          -0.07996111911262,
          0.2174066045876895
         ]
        },
        {
         "hoverinfo": "skip",
         "line": {
          "color": "black",
          "width": 1
         },
         "mode": "lines",
         "showlegend": false,
         "type": "scatter3d",
         "x": [
          5.6799178368898415,
          4.698796619197704
         ],
         "y": [
          2.7812076560284122,
          1.7919553152184535
         ],
         "z": [
          -1.6049198497621884,
          -2.2374212034337173
         ]
        },
        {
         "hoverinfo": "skip",
         "line": {
          "color": "black",
          "width": 1
         },
         "mode": "lines",
         "showlegend": false,
         "type": "scatter3d",
         "x": [
          5.6799178368898415,
          5.377097041830382
         ],
         "y": [
          2.7812076560284122,
          4.105482437569719
         ],
         "z": [
          -1.6049198497621884,
          -2.0485884975763873
         ]
        },
        {
         "hoverinfo": "skip",
         "line": {
          "color": "black",
          "width": 1
         },
         "mode": "lines",
         "showlegend": false,
         "type": "scatter3d",
         "x": [
          5.6799178368898415,
          6.698207267483199
         ],
         "y": [
          2.7812076560284122,
          2.5214908198987063
         ],
         "z": [
          -1.6049198497621884,
          -1.8975609278298964
         ]
        },
        {
         "hoverinfo": "skip",
         "line": {
          "color": "black",
          "width": 1
         },
         "mode": "lines",
         "showlegend": false,
         "type": "scatter3d",
         "x": [
          4.698796619197704,
          4.861721398032241
         ],
         "y": [
          1.7919553152184535,
          1.813043251479385
         ],
         "z": [
          -2.2374212034337173,
          -3.7580871152585242
         ]
        },
        {
         "hoverinfo": "skip",
         "line": {
          "color": "black",
          "width": 1
         },
         "mode": "lines",
         "showlegend": false,
         "type": "scatter3d",
         "x": [
          4.698796619197704,
          4.956227181452358
         ],
         "y": [
          1.7919553152184535,
          0.45771270386246293
         ],
         "z": [
          -2.2374212034337173,
          -1.7532414599725517
         ]
        },
        {
         "hoverinfo": "skip",
         "line": {
          "color": "black",
          "width": 1
         },
         "mode": "lines",
         "showlegend": false,
         "type": "scatter3d",
         "x": [
          4.698796619197704,
          3.67791452974214
         ],
         "y": [
          1.7919553152184535,
          2.0753811952478243
         ],
         "z": [
          -2.2374212034337173,
          -1.9770781029712396
         ]
        },
        {
         "hoverinfo": "skip",
         "line": {
          "color": "black",
          "width": 1
         },
         "mode": "lines",
         "showlegend": false,
         "type": "scatter3d",
         "x": [
          4.861721398032241,
          3.867810651192266
         ],
         "y": [
          1.813043251479385,
          0.9782766320381409
         ],
         "z": [
          -3.7580871152585242,
          -4.356287013605757
         ]
        },
        {
         "hoverinfo": "skip",
         "line": {
          "color": "black",
          "width": 1
         },
         "mode": "lines",
         "showlegend": false,
         "type": "scatter3d",
         "x": [
          4.861721398032241,
          4.745228796718678
         ],
         "y": [
          1.813043251479385,
          2.8331411021391357
         ],
         "z": [
          -3.7580871152585242,
          -4.122457598309164
         ]
        },
        {
         "hoverinfo": "skip",
         "line": {
          "color": "black",
          "width": 1
         },
         "mode": "lines",
         "showlegend": false,
         "type": "scatter3d",
         "x": [
          4.861721398032241,
          5.852581273880355
         ],
         "y": [
          1.813043251479385,
          1.4442056735471815
         ],
         "z": [
          -3.7580871152585242,
          -4.022368305545244
         ]
        },
        {
         "hoverinfo": "skip",
         "line": {
          "color": "black",
          "width": 1
         },
         "mode": "lines",
         "showlegend": false,
         "type": "scatter3d",
         "x": [
          5.616076205396254,
          5.755278341608145
         ],
         "y": [
          1.1773476775908696,
          0.2897582569877517
         ],
         "z": [
          1.7898912518537107,
          2.148279010723161
         ]
        },
        {
         "hoverinfo": "skip",
         "line": {
          "color": "black",
          "width": 1
         },
         "mode": "lines",
         "showlegend": false,
         "type": "scatter3d",
         "x": [
          6.5175562756828676,
          6.497737025675308
         ],
         "y": [
          3.5776004759135542,
          3.577883339106897
         ],
         "z": [
          0.520724128492819,
          1.4879082460824082
         ]
        },
        {
         "hoverinfo": "skip",
         "line": {
          "color": "black",
          "width": 1
         },
         "mode": "lines",
         "showlegend": false,
         "type": "scatter3d",
         "x": [
          5.377097041830382,
          5.958907536977127
         ],
         "y": [
          4.105482437569719,
          4.785925709019266
         ],
         "z": [
          -2.0485884975763873,
          -1.6821809347776129
         ]
        },
        {
         "hoverinfo": "skip",
         "line": {
          "color": "black",
          "width": 1
         },
         "mode": "lines",
         "showlegend": false,
         "type": "scatter3d",
         "x": [
          3.867810651192266,
          3.911760694470896
         ],
         "y": [
          0.9782766320381409,
          0.942945403181257
         ],
         "z": [
          -4.356287013605757,
          -5.321165295029518
         ]
        },
        {
         "hoverinfo": "skip",
         "line": {
          "color": "black",
          "width": 1
         },
         "mode": "lines",
         "showlegend": false,
         "type": "scatter3d",
         "x": [
          3.506,
          4.826995523051468
         ],
         "y": [
          0.661,
          0.36429891858971514
         ],
         "z": [
          0.035,
          -0.33517868167676224
         ]
        }
       ],
       "layout": {
        "legend": {
         "title": {
          "text": "color"
         },
         "tracegroupgap": 0
        },
        "margin": {
         "t": 60
        },
        "scene": {
         "domain": {
          "x": [
           0,
           1
          ],
          "y": [
           0,
           1
          ]
         },
         "xaxis": {
          "showgrid": false,
          "showline": false,
          "showticklabels": false,
          "title": {
           "text": "x"
          }
         },
         "yaxis": {
          "showgrid": false,
          "showline": false,
          "showticklabels": false,
          "title": {
           "text": "y"
          }
         },
         "zaxis": {
          "showgrid": false,
          "showline": false,
          "showticklabels": false,
          "title": {
           "text": "z"
          }
         }
        },
        "template": {
         "data": {
          "scatter": [
           {
            "type": "scatter"
           }
          ]
         }
        }
       }
      }
     },
     "metadata": {},
     "output_type": "display_data"
    }
   ],
   "source": [
    "# connect the two clucoses using the `my_16ab` linkage from my_top\n",
    "\n",
    "my_glc2 = bb.connect(glc, glc, \"my_16ab\", _topology=my_top)\n",
    "# or\n",
    "my_16ab = my_top.get_patch(\"my_16ab\")\n",
    "my_glc2 = bb.connect(glc, glc, my_16ab)\n",
    "\n",
    "my_glc2.show()"
   ]
  },
  {
   "attachments": {},
   "cell_type": "markdown",
   "metadata": {},
   "source": [
    "### PDBE Compounds\n",
    "\n",
    "biobuild maintains a part of the PDBE component library of small molecules to directly obtain molecular structures within while coding, without the need to download any pdb files externally. Molecules can be obtained from the library using their _PDB ID_, their names or some other available identifier such as SMILES. "
   ]
  },
  {
   "attachments": {},
   "cell_type": "markdown",
   "metadata": {},
   "source": [
    "> In fact, when we called `bb.molecule(\"GLC\")` earlier, the `molecule` function internally referenced the loaded PDBE compounds database, found that a compound with ID `\"GLC\"` was available, and returned the corresponding `Molecule` object. Referencing the built-in PDBE compounds database is the first go-to source for molecular structures in biobuild. "
   ]
  },
  {
   "attachments": {},
   "cell_type": "markdown",
   "metadata": {},
   "source": [
    "Similar to the CHARMM topology, we can get the default instance of the `PDBECompounds` class that handles the databse using"
   ]
  },
  {
   "cell_type": "code",
   "execution_count": 9,
   "metadata": {},
   "outputs": [
    {
     "data": {
      "text/plain": [
       "36335"
      ]
     },
     "execution_count": 9,
     "metadata": {},
     "output_type": "execute_result"
    }
   ],
   "source": [
    "comp = bb.get_default_compounds()\n",
    "# print how many compounds are available in the library\n",
    "len(comp)"
   ]
  },
  {
   "cell_type": "code",
   "execution_count": null,
   "metadata": {},
   "outputs": [],
   "source": []
  }
 ],
 "metadata": {
  "kernelspec": {
   "display_name": "glyco2",
   "language": "python",
   "name": "python3"
  },
  "language_info": {
   "codemirror_mode": {
    "name": "ipython",
    "version": 3
   },
   "file_extension": ".py",
   "mimetype": "text/x-python",
   "name": "python",
   "nbconvert_exporter": "python",
   "pygments_lexer": "ipython3",
   "version": "3.11.2"
  },
  "orig_nbformat": 4
 },
 "nbformat": 4,
 "nbformat_minor": 2
}
