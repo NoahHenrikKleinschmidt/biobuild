{
 "cells": [
  {
   "attachments": {},
   "cell_type": "markdown",
   "metadata": {},
   "source": [
    "> ### In this tutorial we will cover:\n",
    "> - how we can set custom default resources"
   ]
  },
  {
   "cell_type": "markdown",
   "metadata": {},
   "source": [
    "If you checked out the tutorial on _built-in_ data resources you know that biobuild comes with a variety of molecular structures for the user to work with directly, such as compounds containing amino acids or sugars. These can be easily loaded using functions such as `load_sugars()`. However, what if we are working on a drug discovery project and would like to engineer small variations of a promising compound? We may have a structure of the compound itself but we don't want to keep re-loading them every time we open a new notebook to use biobuild. But we would like for it to be available by default. \n",
    "\n",
    "Luckily, biobuild allows us to set our own _defaults_ that can be loaded in every future session. We can add _custom linkages_ and _custom structures_ to the default CHARMM topology and PDBE Compounds, respecitively using functions `add_linkage` and `add_compound`. Here's how:"
   ]
  },
  {
   "cell_type": "markdown",
   "metadata": {},
   "source": [
    "### Adding custom linkages\n",
    "\n",
    "You may know that you can refer to any registered linkage directly via its string identifier. For example, we can refer to a beta 1->4 glycosydic linkage by its id `14bb`. We do not need to get the linkage object first because biobuild will be able to interpret the id and search the linkage object automatically. To make a custom linkage available in such a way, we simply need to define it, give it an id (which is otherwise optional when creating a `Linkage` object). Then we call `add_linkage` with our new linkage and that's it!"
   ]
  },
  {
   "cell_type": "code",
   "execution_count": 1,
   "metadata": {},
   "outputs": [
    {
     "data": {
      "application/vnd.jupyter.widget-view+json": {
       "model_id": "da17d5f60592428cb8550eceddf7a2e2",
       "version_major": 2,
       "version_minor": 0
      },
      "text/plain": []
     },
     "metadata": {},
     "output_type": "display_data"
    },
    {
     "data": {
      "text/plain": [
       "[Linkage(SCK0),\n",
       " Linkage(SCK1),\n",
       " Linkage(LLLO),\n",
       " Linkage(CERA),\n",
       " Linkage(CERB),\n",
       " Linkage(DAGA),\n",
       " Linkage(DAGB),\n",
       " Linkage(INS2A),\n",
       " Linkage(INS2B),\n",
       " Linkage(INS6A),\n",
       " Linkage(INS6B),\n",
       " Linkage(SGPA),\n",
       " Linkage(TGPA),\n",
       " Linkage(SGPB),\n",
       " Linkage(TGPB),\n",
       " Linkage(NGLA),\n",
       " Linkage(11aa),\n",
       " Linkage(11ab),\n",
       " Linkage(11bb),\n",
       " Linkage(12aa),\n",
       " Linkage(12ab),\n",
       " Linkage(12ba),\n",
       " Linkage(12bb),\n",
       " Linkage(13aa),\n",
       " Linkage(13ab),\n",
       " Linkage(13ba),\n",
       " Linkage(13bb),\n",
       " Linkage(14aa),\n",
       " Linkage(14ab),\n",
       " Linkage(14ba),\n",
       " Linkage(14bb),\n",
       " Linkage(16aa),\n",
       " Linkage(16ab),\n",
       " Linkage(SUCR),\n",
       " Linkage(LCTL),\n",
       " Linkage(AB15),\n",
       " Linkage(SA23AB),\n",
       " Linkage(LINK),\n",
       " Linkage(my_14_glyco_link)]"
      ]
     },
     "execution_count": 1,
     "metadata": {},
     "output_type": "execute_result"
    }
   ],
   "source": [
    "import biobuild as bb\n",
    "\n",
    "# define a custom link\n",
    "my_link = bb.linkage(\"C1\", \"O4\", [\"O1\", \"HO1\"], [\"HO4\"], id=\"my_14_glyco_link\")\n",
    "\n",
    "# now add the link to the default CHARMM topology\n",
    "bb.add_linkage(my_link)\n",
    "\n",
    "# now we find it at the bottom of the list of 'out-of-the-box' available linkages\n",
    "bb.available_linkages()"
   ]
  },
  {
   "cell_type": "markdown",
   "metadata": {},
   "source": [
    "We can now make use of our custom linkage just as we would use any of the predefined ones. So, to connect a glucose and a mannose using our new linkage, we can do:"
   ]
  },
  {
   "cell_type": "code",
   "execution_count": 2,
   "metadata": {},
   "outputs": [
    {
     "data": {
      "application/vnd.plotly.v1+json": {
       "config": {
        "plotlyServerURL": "https://plot.ly"
       },
       "data": [
        {
         "customdata": [
          [
           "C1",
           1,
           1,
           "GLC",
           "A"
          ],
          [
           "C2",
           2,
           1,
           "GLC",
           "A"
          ],
          [
           "C3",
           3,
           1,
           "GLC",
           "A"
          ],
          [
           "C4",
           4,
           1,
           "GLC",
           "A"
          ],
          [
           "C5",
           5,
           1,
           "GLC",
           "A"
          ],
          [
           "C6",
           6,
           1,
           "GLC",
           "A"
          ],
          [
           "C1",
           23,
           2,
           "MAN",
           "A"
          ],
          [
           "C2",
           24,
           2,
           "MAN",
           "A"
          ],
          [
           "C3",
           25,
           2,
           "MAN",
           "A"
          ],
          [
           "C4",
           26,
           2,
           "MAN",
           "A"
          ],
          [
           "C5",
           27,
           2,
           "MAN",
           "A"
          ],
          [
           "C6",
           28,
           2,
           "MAN",
           "A"
          ]
         ],
         "hovertemplate": "atom_element=C<br>x=%{x}<br>y=%{y}<br>z=%{z}<br>atom_id=%{customdata[0]}<br>atom_serial=%{customdata[1]}<br>residue_serial=%{customdata[2]}<br>residue_name=%{customdata[3]}<br>chain_id=%{customdata[4]}<extra></extra>",
         "legendgroup": "C",
         "marker": {
          "color": "black",
          "opacity": 0.3,
          "symbol": "circle"
         },
         "mode": "markers",
         "name": "C",
         "scene": "scene",
         "showlegend": true,
         "type": "scatter3d",
         "x": [
          -0.567,
          -1.578,
          -1.179,
          0.249,
          1.189,
          2.607,
          -1.8736118579099155,
          -0.6474777493197257,
          -0.02756692226947255,
          -1.1143841441463695,
          -2.3039841104640826,
          -3.381323418560327
         ],
         "y": [
          1.572,
          0.465,
          -0.806,
          -1.195,
          -0.024,
          -0.383,
          5.267320319152243,
          5.446659437032138,
          4.073283899114296,
          3.1472582501965594,
          3.142587669492163,
          2.1927821785245833
         ],
         "z": [
          -0.245,
          -0.554,
          0.203,
          -0.192,
          0.102,
          -0.345,
          2.784077446710017,
          1.8862903736521544,
          1.6100799496005695,
          1.053135765881708,
          2.0145244000004907,
          1.4858235918315006
         ]
        },
        {
         "customdata": [
          [
           "O2",
           7,
           1,
           "GLC",
           "A"
          ],
          [
           "O3",
           8,
           1,
           "GLC",
           "A"
          ],
          [
           "O4",
           9,
           1,
           "GLC",
           "A"
          ],
          [
           "O5",
           10,
           1,
           "GLC",
           "A"
          ],
          [
           "O6",
           11,
           1,
           "GLC",
           "A"
          ],
          [
           "O1",
           29,
           2,
           "MAN",
           "A"
          ],
          [
           "O2",
           30,
           2,
           "MAN",
           "A"
          ],
          [
           "O3",
           31,
           2,
           "MAN",
           "A"
          ],
          [
           "O4",
           32,
           2,
           "MAN",
           "A"
          ],
          [
           "O5",
           33,
           2,
           "MAN",
           "A"
          ],
          [
           "O6",
           34,
           2,
           "MAN",
           "A"
          ]
         ],
         "hovertemplate": "atom_element=O<br>x=%{x}<br>y=%{y}<br>z=%{z}<br>atom_id=%{customdata[0]}<br>atom_serial=%{customdata[1]}<br>residue_serial=%{customdata[2]}<br>residue_name=%{customdata[3]}<br>chain_id=%{customdata[4]}<extra></extra>",
         "legendgroup": "O",
         "marker": {
          "color": "red",
          "opacity": 0.3,
          "symbol": "circle"
         },
         "mode": "markers",
         "name": "O",
         "scene": "scene",
         "showlegend": true,
         "type": "scatter3d",
         "x": [
          -2.881,
          -2.075,
          0.658,
          0.744,
          3.506,
          -1.4796377052479515,
          -1.0423332881378782,
          1.0276011874117463,
          -0.5946656044193567,
          -2.8427983842045292,
          -4.491255166156325
         ],
         "y": [
          0.879,
          -1.866,
          -2.338,
          1.133,
          0.661,
          4.635836457424932,
          6.051110556562303,
          4.207651890785209,
          1.8226671430723538,
          4.457301358065391,
          2.184221920263689
         ],
         "z": [
          -0.139,
          -0.137,
          0.562,
          -0.608,
          0.035,
          4.003243349863584,
          0.6541840683507995,
          0.6548278869877281,
          0.9253389021037,
          2.12260351681651,
          2.3843803444392586
         ]
        },
        {
         "customdata": [
          [
           "H1",
           12,
           1,
           "GLC",
           "A"
          ],
          [
           "H2",
           13,
           1,
           "GLC",
           "A"
          ],
          [
           "H3",
           14,
           1,
           "GLC",
           "A"
          ],
          [
           "H4",
           15,
           1,
           "GLC",
           "A"
          ],
          [
           "H5",
           16,
           1,
           "GLC",
           "A"
          ],
          [
           "H61",
           17,
           1,
           "GLC",
           "A"
          ],
          [
           "H62",
           18,
           1,
           "GLC",
           "A"
          ],
          [
           "HO2",
           19,
           1,
           "GLC",
           "A"
          ],
          [
           "HO3",
           20,
           1,
           "GLC",
           "A"
          ],
          [
           "HO4",
           21,
           1,
           "GLC",
           "A"
          ],
          [
           "HO6",
           22,
           1,
           "GLC",
           "A"
          ],
          [
           "H1",
           35,
           2,
           "MAN",
           "A"
          ],
          [
           "H2",
           36,
           2,
           "MAN",
           "A"
          ],
          [
           "H3",
           37,
           2,
           "MAN",
           "A"
          ],
          [
           "H4",
           38,
           2,
           "MAN",
           "A"
          ],
          [
           "H5",
           39,
           2,
           "MAN",
           "A"
          ],
          [
           "H61",
           40,
           2,
           "MAN",
           "A"
          ],
          [
           "H62",
           41,
           2,
           "MAN",
           "A"
          ],
          [
           "HO1",
           42,
           2,
           "MAN",
           "A"
          ],
          [
           "HO2",
           43,
           2,
           "MAN",
           "A"
          ],
          [
           "HO3",
           44,
           2,
           "MAN",
           "A"
          ],
          [
           "HO6",
           45,
           2,
           "MAN",
           "A"
          ]
         ],
         "hovertemplate": "atom_element=H<br>x=%{x}<br>y=%{y}<br>z=%{z}<br>atom_id=%{customdata[0]}<br>atom_serial=%{customdata[1]}<br>residue_serial=%{customdata[2]}<br>residue_name=%{customdata[3]}<br>chain_id=%{customdata[4]}<extra></extra>",
         "legendgroup": "H",
         "marker": {
          "color": "lightgray",
          "opacity": 0.3,
          "symbol": "circle"
         },
         "mode": "markers",
         "name": "H",
         "scene": "scene",
         "showlegend": true,
         "type": "scatter3d",
         "x": [
          -0.822,
          -1.583,
          -1.223,
          0.281,
          1.187,
          2.913,
          2.627,
          -3.197,
          -3,
          0.102,
          4.425,
          -2.3063902981563773,
          0.0821771333932545,
          0.3690099442384205,
          -1.4351609851636122,
          -1.9746090691521903,
          -3.7119585541562636,
          -2.971280277866483,
          -2.2766681701623135,
          -1.4327308330773758,
          1.6803441583353482,
          -5.145981351419492
         ],
         "y": [
          2.466,
          0.264,
          -0.619,
          -1.429,
          0.184,
          -1.315,
          -0.503,
          1.682,
          -1.684,
          -3.118,
          0.501,
          6.242979792097006,
          6.082414771416832,
          3.657460759106091,
          3.508990658154673,
          2.8044195094602267,
          2.530768230348396,
          1.1867333877634358,
          4.546382849592326,
          6.907423158141465,
          4.806951706086278,
          1.5761773879642078
         ],
         "z": [
          -0.815,
          -1.626,
          1.276,
          -1.257,
          1.173,
          0.129,
          -1.428,
          -0.576,
          0.08,
          0.427,
          -0.218,
          3.0060716234601896,
          2.386250278979081,
          2.535963260382494,
          0.0758175560340536,
          2.9965113539369495,
          0.5032210089517246,
          1.4038208273783233,
          4.541918103350443,
          0.8750901236818877,
          1.0419846321051724,
          2.0152401690702715
         ]
        },
        {
         "hoverinfo": "skip",
         "line": {
          "color": "black",
          "width": 1
         },
         "mode": "lines",
         "showlegend": false,
         "type": "scatter3d",
         "x": [
          -0.567,
          -1.578
         ],
         "y": [
          1.572,
          0.465
         ],
         "z": [
          -0.245,
          -0.554
         ]
        },
        {
         "hoverinfo": "skip",
         "line": {
          "color": "black",
          "width": 1
         },
         "mode": "lines",
         "showlegend": false,
         "type": "scatter3d",
         "x": [
          -0.567,
          0.744
         ],
         "y": [
          1.572,
          1.133
         ],
         "z": [
          -0.245,
          -0.608
         ]
        },
        {
         "hoverinfo": "skip",
         "line": {
          "color": "black",
          "width": 1
         },
         "mode": "lines",
         "showlegend": false,
         "type": "scatter3d",
         "x": [
          -0.567,
          -0.822
         ],
         "y": [
          1.572,
          2.466
         ],
         "z": [
          -0.245,
          -0.815
         ]
        },
        {
         "hoverinfo": "skip",
         "line": {
          "color": "black",
          "width": 1
         },
         "mode": "lines",
         "showlegend": false,
         "type": "scatter3d",
         "x": [
          -0.567,
          -0.5946656044193567
         ],
         "y": [
          1.572,
          1.8226671430723538
         ],
         "z": [
          -0.245,
          0.9253389021037
         ]
        },
        {
         "hoverinfo": "skip",
         "line": {
          "color": "black",
          "width": 1
         },
         "mode": "lines",
         "showlegend": false,
         "type": "scatter3d",
         "x": [
          -1.578,
          -1.179
         ],
         "y": [
          0.465,
          -0.806
         ],
         "z": [
          -0.554,
          0.203
         ]
        },
        {
         "hoverinfo": "skip",
         "line": {
          "color": "black",
          "width": 1
         },
         "mode": "lines",
         "showlegend": false,
         "type": "scatter3d",
         "x": [
          -1.578,
          -2.881
         ],
         "y": [
          0.465,
          0.879
         ],
         "z": [
          -0.554,
          -0.139
         ]
        },
        {
         "hoverinfo": "skip",
         "line": {
          "color": "black",
          "width": 1
         },
         "mode": "lines",
         "showlegend": false,
         "type": "scatter3d",
         "x": [
          -1.578,
          -1.583
         ],
         "y": [
          0.465,
          0.264
         ],
         "z": [
          -0.554,
          -1.626
         ]
        },
        {
         "hoverinfo": "skip",
         "line": {
          "color": "black",
          "width": 1
         },
         "mode": "lines",
         "showlegend": false,
         "type": "scatter3d",
         "x": [
          -1.179,
          0.249
         ],
         "y": [
          -0.806,
          -1.195
         ],
         "z": [
          0.203,
          -0.192
         ]
        },
        {
         "hoverinfo": "skip",
         "line": {
          "color": "black",
          "width": 1
         },
         "mode": "lines",
         "showlegend": false,
         "type": "scatter3d",
         "x": [
          -1.179,
          -2.075
         ],
         "y": [
          -0.806,
          -1.866
         ],
         "z": [
          0.203,
          -0.137
         ]
        },
        {
         "hoverinfo": "skip",
         "line": {
          "color": "black",
          "width": 1
         },
         "mode": "lines",
         "showlegend": false,
         "type": "scatter3d",
         "x": [
          -1.179,
          -1.223
         ],
         "y": [
          -0.806,
          -0.619
         ],
         "z": [
          0.203,
          1.276
         ]
        },
        {
         "hoverinfo": "skip",
         "line": {
          "color": "black",
          "width": 1
         },
         "mode": "lines",
         "showlegend": false,
         "type": "scatter3d",
         "x": [
          0.249,
          1.189
         ],
         "y": [
          -1.195,
          -0.024
         ],
         "z": [
          -0.192,
          0.102
         ]
        },
        {
         "hoverinfo": "skip",
         "line": {
          "color": "black",
          "width": 1
         },
         "mode": "lines",
         "showlegend": false,
         "type": "scatter3d",
         "x": [
          0.249,
          0.658
         ],
         "y": [
          -1.195,
          -2.338
         ],
         "z": [
          -0.192,
          0.562
         ]
        },
        {
         "hoverinfo": "skip",
         "line": {
          "color": "black",
          "width": 1
         },
         "mode": "lines",
         "showlegend": false,
         "type": "scatter3d",
         "x": [
          0.249,
          0.281
         ],
         "y": [
          -1.195,
          -1.429
         ],
         "z": [
          -0.192,
          -1.257
         ]
        },
        {
         "hoverinfo": "skip",
         "line": {
          "color": "black",
          "width": 1
         },
         "mode": "lines",
         "showlegend": false,
         "type": "scatter3d",
         "x": [
          1.189,
          2.607
         ],
         "y": [
          -0.024,
          -0.383
         ],
         "z": [
          0.102,
          -0.345
         ]
        },
        {
         "hoverinfo": "skip",
         "line": {
          "color": "black",
          "width": 1
         },
         "mode": "lines",
         "showlegend": false,
         "type": "scatter3d",
         "x": [
          1.189,
          0.744
         ],
         "y": [
          -0.024,
          1.133
         ],
         "z": [
          0.102,
          -0.608
         ]
        },
        {
         "hoverinfo": "skip",
         "line": {
          "color": "black",
          "width": 1
         },
         "mode": "lines",
         "showlegend": false,
         "type": "scatter3d",
         "x": [
          1.189,
          1.187
         ],
         "y": [
          -0.024,
          0.184
         ],
         "z": [
          0.102,
          1.173
         ]
        },
        {
         "hoverinfo": "skip",
         "line": {
          "color": "black",
          "width": 1
         },
         "mode": "lines",
         "showlegend": false,
         "type": "scatter3d",
         "x": [
          2.607,
          3.506
         ],
         "y": [
          -0.383,
          0.661
         ],
         "z": [
          -0.345,
          0.035
         ]
        },
        {
         "hoverinfo": "skip",
         "line": {
          "color": "black",
          "width": 1
         },
         "mode": "lines",
         "showlegend": false,
         "type": "scatter3d",
         "x": [
          2.607,
          2.913
         ],
         "y": [
          -0.383,
          -1.315
         ],
         "z": [
          -0.345,
          0.129
         ]
        },
        {
         "hoverinfo": "skip",
         "line": {
          "color": "black",
          "width": 1
         },
         "mode": "lines",
         "showlegend": false,
         "type": "scatter3d",
         "x": [
          2.607,
          2.627
         ],
         "y": [
          -0.383,
          -0.503
         ],
         "z": [
          -0.345,
          -1.428
         ]
        },
        {
         "hoverinfo": "skip",
         "line": {
          "color": "black",
          "width": 1
         },
         "mode": "lines",
         "showlegend": false,
         "type": "scatter3d",
         "x": [
          -2.881,
          -3.197
         ],
         "y": [
          0.879,
          1.682
         ],
         "z": [
          -0.139,
          -0.576
         ]
        },
        {
         "hoverinfo": "skip",
         "line": {
          "color": "black",
          "width": 1
         },
         "mode": "lines",
         "showlegend": false,
         "type": "scatter3d",
         "x": [
          -2.075,
          -3
         ],
         "y": [
          -1.866,
          -1.684
         ],
         "z": [
          -0.137,
          0.08
         ]
        },
        {
         "hoverinfo": "skip",
         "line": {
          "color": "black",
          "width": 1
         },
         "mode": "lines",
         "showlegend": false,
         "type": "scatter3d",
         "x": [
          0.658,
          0.102
         ],
         "y": [
          -2.338,
          -3.118
         ],
         "z": [
          0.562,
          0.427
         ]
        },
        {
         "hoverinfo": "skip",
         "line": {
          "color": "black",
          "width": 1
         },
         "mode": "lines",
         "showlegend": false,
         "type": "scatter3d",
         "x": [
          3.506,
          4.425
         ],
         "y": [
          0.661,
          0.501
         ],
         "z": [
          0.035,
          -0.218
         ]
        },
        {
         "hoverinfo": "skip",
         "line": {
          "color": "black",
          "width": 1
         },
         "mode": "lines",
         "showlegend": false,
         "type": "scatter3d",
         "x": [
          -1.8736118579099155,
          -0.6474777493197257
         ],
         "y": [
          5.267320319152243,
          5.446659437032138
         ],
         "z": [
          2.784077446710017,
          1.8862903736521544
         ]
        },
        {
         "hoverinfo": "skip",
         "line": {
          "color": "black",
          "width": 1
         },
         "mode": "lines",
         "showlegend": false,
         "type": "scatter3d",
         "x": [
          -1.8736118579099155,
          -1.4796377052479515
         ],
         "y": [
          5.267320319152243,
          4.635836457424932
         ],
         "z": [
          2.784077446710017,
          4.003243349863584
         ]
        },
        {
         "hoverinfo": "skip",
         "line": {
          "color": "black",
          "width": 1
         },
         "mode": "lines",
         "showlegend": false,
         "type": "scatter3d",
         "x": [
          -1.8736118579099155,
          -2.8427983842045292
         ],
         "y": [
          5.267320319152243,
          4.457301358065391
         ],
         "z": [
          2.784077446710017,
          2.12260351681651
         ]
        },
        {
         "hoverinfo": "skip",
         "line": {
          "color": "black",
          "width": 1
         },
         "mode": "lines",
         "showlegend": false,
         "type": "scatter3d",
         "x": [
          -1.8736118579099155,
          -2.3063902981563773
         ],
         "y": [
          5.267320319152243,
          6.242979792097006
         ],
         "z": [
          2.784077446710017,
          3.0060716234601896
         ]
        },
        {
         "hoverinfo": "skip",
         "line": {
          "color": "black",
          "width": 1
         },
         "mode": "lines",
         "showlegend": false,
         "type": "scatter3d",
         "x": [
          -0.6474777493197257,
          -0.02756692226947255
         ],
         "y": [
          5.446659437032138,
          4.073283899114296
         ],
         "z": [
          1.8862903736521544,
          1.6100799496005695
         ]
        },
        {
         "hoverinfo": "skip",
         "line": {
          "color": "black",
          "width": 1
         },
         "mode": "lines",
         "showlegend": false,
         "type": "scatter3d",
         "x": [
          -0.6474777493197257,
          -1.0423332881378782
         ],
         "y": [
          5.446659437032138,
          6.051110556562303
         ],
         "z": [
          1.8862903736521544,
          0.6541840683507995
         ]
        },
        {
         "hoverinfo": "skip",
         "line": {
          "color": "black",
          "width": 1
         },
         "mode": "lines",
         "showlegend": false,
         "type": "scatter3d",
         "x": [
          -0.6474777493197257,
          0.0821771333932545
         ],
         "y": [
          5.446659437032138,
          6.082414771416832
         ],
         "z": [
          1.8862903736521544,
          2.386250278979081
         ]
        },
        {
         "hoverinfo": "skip",
         "line": {
          "color": "black",
          "width": 1
         },
         "mode": "lines",
         "showlegend": false,
         "type": "scatter3d",
         "x": [
          -0.02756692226947255,
          -1.1143841441463695
         ],
         "y": [
          4.073283899114296,
          3.1472582501965594
         ],
         "z": [
          1.6100799496005695,
          1.053135765881708
         ]
        },
        {
         "hoverinfo": "skip",
         "line": {
          "color": "black",
          "width": 1
         },
         "mode": "lines",
         "showlegend": false,
         "type": "scatter3d",
         "x": [
          -0.02756692226947255,
          1.0276011874117463
         ],
         "y": [
          4.073283899114296,
          4.207651890785209
         ],
         "z": [
          1.6100799496005695,
          0.6548278869877281
         ]
        },
        {
         "hoverinfo": "skip",
         "line": {
          "color": "black",
          "width": 1
         },
         "mode": "lines",
         "showlegend": false,
         "type": "scatter3d",
         "x": [
          -0.02756692226947255,
          0.3690099442384205
         ],
         "y": [
          4.073283899114296,
          3.657460759106091
         ],
         "z": [
          1.6100799496005695,
          2.535963260382494
         ]
        },
        {
         "hoverinfo": "skip",
         "line": {
          "color": "black",
          "width": 1
         },
         "mode": "lines",
         "showlegend": false,
         "type": "scatter3d",
         "x": [
          -1.1143841441463695,
          -2.3039841104640826
         ],
         "y": [
          3.1472582501965594,
          3.142587669492163
         ],
         "z": [
          1.053135765881708,
          2.0145244000004907
         ]
        },
        {
         "hoverinfo": "skip",
         "line": {
          "color": "black",
          "width": 1
         },
         "mode": "lines",
         "showlegend": false,
         "type": "scatter3d",
         "x": [
          -1.1143841441463695,
          -0.5946656044193567
         ],
         "y": [
          3.1472582501965594,
          1.8226671430723538
         ],
         "z": [
          1.053135765881708,
          0.9253389021037
         ]
        },
        {
         "hoverinfo": "skip",
         "line": {
          "color": "black",
          "width": 1
         },
         "mode": "lines",
         "showlegend": false,
         "type": "scatter3d",
         "x": [
          -1.1143841441463695,
          -1.4351609851636122
         ],
         "y": [
          3.1472582501965594,
          3.508990658154673
         ],
         "z": [
          1.053135765881708,
          0.0758175560340536
         ]
        },
        {
         "hoverinfo": "skip",
         "line": {
          "color": "black",
          "width": 1
         },
         "mode": "lines",
         "showlegend": false,
         "type": "scatter3d",
         "x": [
          -2.3039841104640826,
          -3.381323418560327
         ],
         "y": [
          3.142587669492163,
          2.1927821785245833
         ],
         "z": [
          2.0145244000004907,
          1.4858235918315006
         ]
        },
        {
         "hoverinfo": "skip",
         "line": {
          "color": "black",
          "width": 1
         },
         "mode": "lines",
         "showlegend": false,
         "type": "scatter3d",
         "x": [
          -2.3039841104640826,
          -2.8427983842045292
         ],
         "y": [
          3.142587669492163,
          4.457301358065391
         ],
         "z": [
          2.0145244000004907,
          2.12260351681651
         ]
        },
        {
         "hoverinfo": "skip",
         "line": {
          "color": "black",
          "width": 1
         },
         "mode": "lines",
         "showlegend": false,
         "type": "scatter3d",
         "x": [
          -2.3039841104640826,
          -1.9746090691521903
         ],
         "y": [
          3.142587669492163,
          2.8044195094602267
         ],
         "z": [
          2.0145244000004907,
          2.9965113539369495
         ]
        },
        {
         "hoverinfo": "skip",
         "line": {
          "color": "black",
          "width": 1
         },
         "mode": "lines",
         "showlegend": false,
         "type": "scatter3d",
         "x": [
          -3.381323418560327,
          -4.491255166156325
         ],
         "y": [
          2.1927821785245833,
          2.184221920263689
         ],
         "z": [
          1.4858235918315006,
          2.3843803444392586
         ]
        },
        {
         "hoverinfo": "skip",
         "line": {
          "color": "black",
          "width": 1
         },
         "mode": "lines",
         "showlegend": false,
         "type": "scatter3d",
         "x": [
          -3.381323418560327,
          -3.7119585541562636
         ],
         "y": [
          2.1927821785245833,
          2.530768230348396
         ],
         "z": [
          1.4858235918315006,
          0.5032210089517246
         ]
        },
        {
         "hoverinfo": "skip",
         "line": {
          "color": "black",
          "width": 1
         },
         "mode": "lines",
         "showlegend": false,
         "type": "scatter3d",
         "x": [
          -3.381323418560327,
          -2.971280277866483
         ],
         "y": [
          2.1927821785245833,
          1.1867333877634358
         ],
         "z": [
          1.4858235918315006,
          1.4038208273783233
         ]
        },
        {
         "hoverinfo": "skip",
         "line": {
          "color": "black",
          "width": 1
         },
         "mode": "lines",
         "showlegend": false,
         "type": "scatter3d",
         "x": [
          -1.4796377052479515,
          -2.2766681701623135
         ],
         "y": [
          4.635836457424932,
          4.546382849592326
         ],
         "z": [
          4.003243349863584,
          4.541918103350443
         ]
        },
        {
         "hoverinfo": "skip",
         "line": {
          "color": "black",
          "width": 1
         },
         "mode": "lines",
         "showlegend": false,
         "type": "scatter3d",
         "x": [
          -1.0423332881378782,
          -1.4327308330773758
         ],
         "y": [
          6.051110556562303,
          6.907423158141465
         ],
         "z": [
          0.6541840683507995,
          0.8750901236818877
         ]
        },
        {
         "hoverinfo": "skip",
         "line": {
          "color": "black",
          "width": 1
         },
         "mode": "lines",
         "showlegend": false,
         "type": "scatter3d",
         "x": [
          1.0276011874117463,
          1.6803441583353482
         ],
         "y": [
          4.207651890785209,
          4.806951706086278
         ],
         "z": [
          0.6548278869877281,
          1.0419846321051724
         ]
        },
        {
         "hoverinfo": "skip",
         "line": {
          "color": "black",
          "width": 1
         },
         "mode": "lines",
         "showlegend": false,
         "type": "scatter3d",
         "x": [
          -4.491255166156325,
          -5.145981351419492
         ],
         "y": [
          2.184221920263689,
          1.5761773879642078
         ],
         "z": [
          2.3843803444392586,
          2.0152401690702715
         ]
        }
       ],
       "layout": {
        "scene": {
         "xaxis": {
          "showgrid": false,
          "showline": false,
          "showticklabels": false
         },
         "yaxis": {
          "showgrid": false,
          "showline": false,
          "showticklabels": false
         },
         "zaxis": {
          "showgrid": false,
          "showline": false,
          "showticklabels": false
         }
        },
        "template": {
         "data": {
          "bar": [
           {
            "error_x": {
             "color": "rgb(36,36,36)"
            },
            "error_y": {
             "color": "rgb(36,36,36)"
            },
            "marker": {
             "line": {
              "color": "white",
              "width": 0.5
             },
             "pattern": {
              "fillmode": "overlay",
              "size": 10,
              "solidity": 0.2
             }
            },
            "type": "bar"
           }
          ],
          "barpolar": [
           {
            "marker": {
             "line": {
              "color": "white",
              "width": 0.5
             },
             "pattern": {
              "fillmode": "overlay",
              "size": 10,
              "solidity": 0.2
             }
            },
            "type": "barpolar"
           }
          ],
          "carpet": [
           {
            "aaxis": {
             "endlinecolor": "rgb(36,36,36)",
             "gridcolor": "white",
             "linecolor": "white",
             "minorgridcolor": "white",
             "startlinecolor": "rgb(36,36,36)"
            },
            "baxis": {
             "endlinecolor": "rgb(36,36,36)",
             "gridcolor": "white",
             "linecolor": "white",
             "minorgridcolor": "white",
             "startlinecolor": "rgb(36,36,36)"
            },
            "type": "carpet"
           }
          ],
          "choropleth": [
           {
            "colorbar": {
             "outlinewidth": 1,
             "tickcolor": "rgb(36,36,36)",
             "ticks": "outside"
            },
            "type": "choropleth"
           }
          ],
          "contour": [
           {
            "colorbar": {
             "outlinewidth": 1,
             "tickcolor": "rgb(36,36,36)",
             "ticks": "outside"
            },
            "colorscale": [
             [
              0,
              "#440154"
             ],
             [
              0.1111111111111111,
              "#482878"
             ],
             [
              0.2222222222222222,
              "#3e4989"
             ],
             [
              0.3333333333333333,
              "#31688e"
             ],
             [
              0.4444444444444444,
              "#26828e"
             ],
             [
              0.5555555555555556,
              "#1f9e89"
             ],
             [
              0.6666666666666666,
              "#35b779"
             ],
             [
              0.7777777777777778,
              "#6ece58"
             ],
             [
              0.8888888888888888,
              "#b5de2b"
             ],
             [
              1,
              "#fde725"
             ]
            ],
            "type": "contour"
           }
          ],
          "contourcarpet": [
           {
            "colorbar": {
             "outlinewidth": 1,
             "tickcolor": "rgb(36,36,36)",
             "ticks": "outside"
            },
            "type": "contourcarpet"
           }
          ],
          "heatmap": [
           {
            "colorbar": {
             "outlinewidth": 1,
             "tickcolor": "rgb(36,36,36)",
             "ticks": "outside"
            },
            "colorscale": [
             [
              0,
              "#440154"
             ],
             [
              0.1111111111111111,
              "#482878"
             ],
             [
              0.2222222222222222,
              "#3e4989"
             ],
             [
              0.3333333333333333,
              "#31688e"
             ],
             [
              0.4444444444444444,
              "#26828e"
             ],
             [
              0.5555555555555556,
              "#1f9e89"
             ],
             [
              0.6666666666666666,
              "#35b779"
             ],
             [
              0.7777777777777778,
              "#6ece58"
             ],
             [
              0.8888888888888888,
              "#b5de2b"
             ],
             [
              1,
              "#fde725"
             ]
            ],
            "type": "heatmap"
           }
          ],
          "heatmapgl": [
           {
            "colorbar": {
             "outlinewidth": 1,
             "tickcolor": "rgb(36,36,36)",
             "ticks": "outside"
            },
            "colorscale": [
             [
              0,
              "#440154"
             ],
             [
              0.1111111111111111,
              "#482878"
             ],
             [
              0.2222222222222222,
              "#3e4989"
             ],
             [
              0.3333333333333333,
              "#31688e"
             ],
             [
              0.4444444444444444,
              "#26828e"
             ],
             [
              0.5555555555555556,
              "#1f9e89"
             ],
             [
              0.6666666666666666,
              "#35b779"
             ],
             [
              0.7777777777777778,
              "#6ece58"
             ],
             [
              0.8888888888888888,
              "#b5de2b"
             ],
             [
              1,
              "#fde725"
             ]
            ],
            "type": "heatmapgl"
           }
          ],
          "histogram": [
           {
            "marker": {
             "line": {
              "color": "white",
              "width": 0.6
             }
            },
            "type": "histogram"
           }
          ],
          "histogram2d": [
           {
            "colorbar": {
             "outlinewidth": 1,
             "tickcolor": "rgb(36,36,36)",
             "ticks": "outside"
            },
            "colorscale": [
             [
              0,
              "#440154"
             ],
             [
              0.1111111111111111,
              "#482878"
             ],
             [
              0.2222222222222222,
              "#3e4989"
             ],
             [
              0.3333333333333333,
              "#31688e"
             ],
             [
              0.4444444444444444,
              "#26828e"
             ],
             [
              0.5555555555555556,
              "#1f9e89"
             ],
             [
              0.6666666666666666,
              "#35b779"
             ],
             [
              0.7777777777777778,
              "#6ece58"
             ],
             [
              0.8888888888888888,
              "#b5de2b"
             ],
             [
              1,
              "#fde725"
             ]
            ],
            "type": "histogram2d"
           }
          ],
          "histogram2dcontour": [
           {
            "colorbar": {
             "outlinewidth": 1,
             "tickcolor": "rgb(36,36,36)",
             "ticks": "outside"
            },
            "colorscale": [
             [
              0,
              "#440154"
             ],
             [
              0.1111111111111111,
              "#482878"
             ],
             [
              0.2222222222222222,
              "#3e4989"
             ],
             [
              0.3333333333333333,
              "#31688e"
             ],
             [
              0.4444444444444444,
              "#26828e"
             ],
             [
              0.5555555555555556,
              "#1f9e89"
             ],
             [
              0.6666666666666666,
              "#35b779"
             ],
             [
              0.7777777777777778,
              "#6ece58"
             ],
             [
              0.8888888888888888,
              "#b5de2b"
             ],
             [
              1,
              "#fde725"
             ]
            ],
            "type": "histogram2dcontour"
           }
          ],
          "mesh3d": [
           {
            "colorbar": {
             "outlinewidth": 1,
             "tickcolor": "rgb(36,36,36)",
             "ticks": "outside"
            },
            "type": "mesh3d"
           }
          ],
          "parcoords": [
           {
            "line": {
             "colorbar": {
              "outlinewidth": 1,
              "tickcolor": "rgb(36,36,36)",
              "ticks": "outside"
             }
            },
            "type": "parcoords"
           }
          ],
          "pie": [
           {
            "automargin": true,
            "type": "pie"
           }
          ],
          "scatter": [
           {
            "fillpattern": {
             "fillmode": "overlay",
             "size": 10,
             "solidity": 0.2
            },
            "type": "scatter"
           }
          ],
          "scatter3d": [
           {
            "line": {
             "colorbar": {
              "outlinewidth": 1,
              "tickcolor": "rgb(36,36,36)",
              "ticks": "outside"
             }
            },
            "marker": {
             "colorbar": {
              "outlinewidth": 1,
              "tickcolor": "rgb(36,36,36)",
              "ticks": "outside"
             }
            },
            "type": "scatter3d"
           }
          ],
          "scattercarpet": [
           {
            "marker": {
             "colorbar": {
              "outlinewidth": 1,
              "tickcolor": "rgb(36,36,36)",
              "ticks": "outside"
             }
            },
            "type": "scattercarpet"
           }
          ],
          "scattergeo": [
           {
            "marker": {
             "colorbar": {
              "outlinewidth": 1,
              "tickcolor": "rgb(36,36,36)",
              "ticks": "outside"
             }
            },
            "type": "scattergeo"
           }
          ],
          "scattergl": [
           {
            "marker": {
             "colorbar": {
              "outlinewidth": 1,
              "tickcolor": "rgb(36,36,36)",
              "ticks": "outside"
             }
            },
            "type": "scattergl"
           }
          ],
          "scattermapbox": [
           {
            "marker": {
             "colorbar": {
              "outlinewidth": 1,
              "tickcolor": "rgb(36,36,36)",
              "ticks": "outside"
             }
            },
            "type": "scattermapbox"
           }
          ],
          "scatterpolar": [
           {
            "marker": {
             "colorbar": {
              "outlinewidth": 1,
              "tickcolor": "rgb(36,36,36)",
              "ticks": "outside"
             }
            },
            "type": "scatterpolar"
           }
          ],
          "scatterpolargl": [
           {
            "marker": {
             "colorbar": {
              "outlinewidth": 1,
              "tickcolor": "rgb(36,36,36)",
              "ticks": "outside"
             }
            },
            "type": "scatterpolargl"
           }
          ],
          "scatterternary": [
           {
            "marker": {
             "colorbar": {
              "outlinewidth": 1,
              "tickcolor": "rgb(36,36,36)",
              "ticks": "outside"
             }
            },
            "type": "scatterternary"
           }
          ],
          "surface": [
           {
            "colorbar": {
             "outlinewidth": 1,
             "tickcolor": "rgb(36,36,36)",
             "ticks": "outside"
            },
            "colorscale": [
             [
              0,
              "#440154"
             ],
             [
              0.1111111111111111,
              "#482878"
             ],
             [
              0.2222222222222222,
              "#3e4989"
             ],
             [
              0.3333333333333333,
              "#31688e"
             ],
             [
              0.4444444444444444,
              "#26828e"
             ],
             [
              0.5555555555555556,
              "#1f9e89"
             ],
             [
              0.6666666666666666,
              "#35b779"
             ],
             [
              0.7777777777777778,
              "#6ece58"
             ],
             [
              0.8888888888888888,
              "#b5de2b"
             ],
             [
              1,
              "#fde725"
             ]
            ],
            "type": "surface"
           }
          ],
          "table": [
           {
            "cells": {
             "fill": {
              "color": "rgb(237,237,237)"
             },
             "line": {
              "color": "white"
             }
            },
            "header": {
             "fill": {
              "color": "rgb(217,217,217)"
             },
             "line": {
              "color": "white"
             }
            },
            "type": "table"
           }
          ]
         },
         "layout": {
          "annotationdefaults": {
           "arrowhead": 0,
           "arrowwidth": 1
          },
          "autotypenumbers": "strict",
          "coloraxis": {
           "colorbar": {
            "outlinewidth": 1,
            "tickcolor": "rgb(36,36,36)",
            "ticks": "outside"
           }
          },
          "colorscale": {
           "diverging": [
            [
             0,
             "rgb(103,0,31)"
            ],
            [
             0.1,
             "rgb(178,24,43)"
            ],
            [
             0.2,
             "rgb(214,96,77)"
            ],
            [
             0.3,
             "rgb(244,165,130)"
            ],
            [
             0.4,
             "rgb(253,219,199)"
            ],
            [
             0.5,
             "rgb(247,247,247)"
            ],
            [
             0.6,
             "rgb(209,229,240)"
            ],
            [
             0.7,
             "rgb(146,197,222)"
            ],
            [
             0.8,
             "rgb(67,147,195)"
            ],
            [
             0.9,
             "rgb(33,102,172)"
            ],
            [
             1,
             "rgb(5,48,97)"
            ]
           ],
           "sequential": [
            [
             0,
             "#440154"
            ],
            [
             0.1111111111111111,
             "#482878"
            ],
            [
             0.2222222222222222,
             "#3e4989"
            ],
            [
             0.3333333333333333,
             "#31688e"
            ],
            [
             0.4444444444444444,
             "#26828e"
            ],
            [
             0.5555555555555556,
             "#1f9e89"
            ],
            [
             0.6666666666666666,
             "#35b779"
            ],
            [
             0.7777777777777778,
             "#6ece58"
            ],
            [
             0.8888888888888888,
             "#b5de2b"
            ],
            [
             1,
             "#fde725"
            ]
           ],
           "sequentialminus": [
            [
             0,
             "#440154"
            ],
            [
             0.1111111111111111,
             "#482878"
            ],
            [
             0.2222222222222222,
             "#3e4989"
            ],
            [
             0.3333333333333333,
             "#31688e"
            ],
            [
             0.4444444444444444,
             "#26828e"
            ],
            [
             0.5555555555555556,
             "#1f9e89"
            ],
            [
             0.6666666666666666,
             "#35b779"
            ],
            [
             0.7777777777777778,
             "#6ece58"
            ],
            [
             0.8888888888888888,
             "#b5de2b"
            ],
            [
             1,
             "#fde725"
            ]
           ]
          },
          "colorway": [
           "#1F77B4",
           "#FF7F0E",
           "#2CA02C",
           "#D62728",
           "#9467BD",
           "#8C564B",
           "#E377C2",
           "#7F7F7F",
           "#BCBD22",
           "#17BECF"
          ],
          "font": {
           "color": "rgb(36,36,36)"
          },
          "geo": {
           "bgcolor": "white",
           "lakecolor": "white",
           "landcolor": "white",
           "showlakes": true,
           "showland": true,
           "subunitcolor": "white"
          },
          "hoverlabel": {
           "align": "left"
          },
          "hovermode": "closest",
          "mapbox": {
           "style": "light"
          },
          "paper_bgcolor": "white",
          "plot_bgcolor": "white",
          "polar": {
           "angularaxis": {
            "gridcolor": "rgb(232,232,232)",
            "linecolor": "rgb(36,36,36)",
            "showgrid": false,
            "showline": true,
            "ticks": "outside"
           },
           "bgcolor": "white",
           "radialaxis": {
            "gridcolor": "rgb(232,232,232)",
            "linecolor": "rgb(36,36,36)",
            "showgrid": false,
            "showline": true,
            "ticks": "outside"
           }
          },
          "scene": {
           "xaxis": {
            "backgroundcolor": "white",
            "gridcolor": "rgb(232,232,232)",
            "gridwidth": 2,
            "linecolor": "rgb(36,36,36)",
            "showbackground": true,
            "showgrid": false,
            "showline": true,
            "ticks": "outside",
            "zeroline": false,
            "zerolinecolor": "rgb(36,36,36)"
           },
           "yaxis": {
            "backgroundcolor": "white",
            "gridcolor": "rgb(232,232,232)",
            "gridwidth": 2,
            "linecolor": "rgb(36,36,36)",
            "showbackground": true,
            "showgrid": false,
            "showline": true,
            "ticks": "outside",
            "zeroline": false,
            "zerolinecolor": "rgb(36,36,36)"
           },
           "zaxis": {
            "backgroundcolor": "white",
            "gridcolor": "rgb(232,232,232)",
            "gridwidth": 2,
            "linecolor": "rgb(36,36,36)",
            "showbackground": true,
            "showgrid": false,
            "showline": true,
            "ticks": "outside",
            "zeroline": false,
            "zerolinecolor": "rgb(36,36,36)"
           }
          },
          "shapedefaults": {
           "fillcolor": "black",
           "line": {
            "width": 0
           },
           "opacity": 0.3
          },
          "ternary": {
           "aaxis": {
            "gridcolor": "rgb(232,232,232)",
            "linecolor": "rgb(36,36,36)",
            "showgrid": false,
            "showline": true,
            "ticks": "outside"
           },
           "baxis": {
            "gridcolor": "rgb(232,232,232)",
            "linecolor": "rgb(36,36,36)",
            "showgrid": false,
            "showline": true,
            "ticks": "outside"
           },
           "bgcolor": "white",
           "caxis": {
            "gridcolor": "rgb(232,232,232)",
            "linecolor": "rgb(36,36,36)",
            "showgrid": false,
            "showline": true,
            "ticks": "outside"
           }
          },
          "title": {
           "x": 0.05
          },
          "xaxis": {
           "automargin": true,
           "gridcolor": "rgb(232,232,232)",
           "linecolor": "rgb(36,36,36)",
           "showgrid": false,
           "showline": true,
           "ticks": "outside",
           "title": {
            "standoff": 15
           },
           "zeroline": false,
           "zerolinecolor": "rgb(36,36,36)"
          },
          "yaxis": {
           "automargin": true,
           "gridcolor": "rgb(232,232,232)",
           "linecolor": "rgb(36,36,36)",
           "showgrid": false,
           "showline": true,
           "ticks": "outside",
           "title": {
            "standoff": 15
           },
           "zeroline": false,
           "zerolinecolor": "rgb(36,36,36)"
          }
         }
        }
       }
      }
     },
     "metadata": {},
     "output_type": "display_data"
    }
   ],
   "source": [
    "bb.load_sugars()\n",
    "\n",
    "glc = bb.molecule(\"GLC\")\n",
    "man = bb.molecule(\"MAN\")\n",
    "\n",
    "# connect using only the string identifier\n",
    "# instead of the actual Linkage object\n",
    "new = bb.connect(glc, man, \"my_14_glyco_link\")\n",
    "new.show()"
   ]
  },
  {
   "cell_type": "markdown",
   "metadata": {},
   "source": [
    "If we close the notebook, we will have lost `\"my_14_glyco_link\"` however. In order to ensure it is available in all future sessions, we can call `add_linkage` with the additional argument `overwrite=True`. This will permanently save the modified CHARMM topology as the new default."
   ]
  },
  {
   "cell_type": "code",
   "execution_count": 3,
   "metadata": {},
   "outputs": [],
   "source": [
    "# now the linkage is available even the next time we open a new notebook or restart the kernel\n",
    "bb.add_linkage(my_link, overwrite=True)"
   ]
  },
  {
   "cell_type": "markdown",
   "metadata": {},
   "source": [
    "### Adding custom structures\n",
    "\n",
    "While it is true that biobuild does not load sugar-compounds and the like automatically, it does actually load a default PDBE compounds instance (it just happens to be empty be default). It can be populated with anything we want, however, using the `add_compound` function. The function expects a molecule, alongside with some additional metadata such as identifiers and name synonyms by which the molecule can be found. The logic is identical to `add_linkage` and we can make the additions permanent using the `overwrite=True` argument when calling `add_compound`. "
   ]
  },
  {
   "cell_type": "code",
   "execution_count": 4,
   "metadata": {},
   "outputs": [],
   "source": [
    "# first we need to make sure the molecule has a good id\n",
    "# the id can be anything, but it needs to be unique\n",
    "new.id = \"my_sugar\"\n",
    "\n",
    "# now let's add our small sugar compound to the PDBE compounds\n",
    "# we provide as metadata only two names for the compound (more options are available)\n",
    "bb.add_compound(new, names=[\"my first sugar\", \"glucose-mannose\"])"
   ]
  },
  {
   "cell_type": "markdown",
   "metadata": {},
   "source": [
    "Now we can check if `\"my_sugar\"` is available as a compound using `bb.has_compound`:"
   ]
  },
  {
   "cell_type": "code",
   "execution_count": 5,
   "metadata": {},
   "outputs": [
    {
     "data": {
      "text/plain": [
       "(True, True)"
      ]
     },
     "execution_count": 5,
     "metadata": {},
     "output_type": "execute_result"
    }
   ],
   "source": [
    "# the has_compound function accepts both the \n",
    "# registered id as well as any of the name synonyms or identifiers\n",
    "bb.has_compound(\"my_sugar\"), bb.has_compound(\"my first sugar\")"
   ]
  },
  {
   "cell_type": "code",
   "execution_count": 6,
   "metadata": {},
   "outputs": [],
   "source": [
    "# again we can make the compound available for the next time we open a new notebook or restart the kernel\n",
    "# by using the overwrite=True option\n",
    "bb.add_compound(new, names=[\"my first sugar\", \"glucose-mannose\"], overwrite=True)"
   ]
  },
  {
   "cell_type": "markdown",
   "metadata": {},
   "source": [
    "> #### Warning\n",
    "> Using the `add_compound` function using `overwrite=True` can lead to an unwanted consequence: all other loaded compounds are automatically also added to the default compounds! That means, since we called `load_sugars` before, now the default loaded compounds will include not only our `my_sugar` molecule but also all the sugars that we loaded before! To prevent this from happening it would be better first to create a new instance of `PDBECompounds`, add the compound there. Then use the `save_as_default_compounds` function to permanently set the defaults in this way."
   ]
  },
  {
   "cell_type": "code",
   "execution_count": 7,
   "metadata": {},
   "outputs": [
    {
     "data": {
      "text/plain": [
       "['my_sugar']"
      ]
     },
     "execution_count": 7,
     "metadata": {},
     "output_type": "execute_result"
    }
   ],
   "source": [
    "# make a new empty PDBECompounds object\n",
    "new_compounds = bb.PDBECompounds()\n",
    "\n",
    "# now we can add our compound to the new object\n",
    "new_compounds.add(new, type=\"CUSTOM-MOLECULES\", names=[\"my first sugar\", \"glucose-mannose\"])\n",
    "\n",
    "# check what compounds are now available in the new object\n",
    "new_compounds.ids"
   ]
  },
  {
   "cell_type": "markdown",
   "metadata": {},
   "source": [
    "Now we can save this object as the future default using `save_as_default_compounds`, without saving the 1000-something sugar compounds that are currently also loaded."
   ]
  },
  {
   "cell_type": "code",
   "execution_count": 8,
   "metadata": {},
   "outputs": [
    {
     "data": {
      "text/plain": [
       "1069"
      ]
     },
     "execution_count": 8,
     "metadata": {},
     "output_type": "execute_result"
    }
   ],
   "source": [
    "# save as defaults\n",
    "bb.save_as_default_compounds(new_compounds)\n",
    "\n",
    "# print the number of currently loaded compounds\n",
    "len(bb.get_default_compounds())"
   ]
  },
  {
   "cell_type": "markdown",
   "metadata": {},
   "source": [
    "What if we have multiple compounds already added to our defaults which we would like to keep? The easiest way to handle this kind of scenario is using `subset_compounds_by_types` in order to get a new `PDBECompounds` object that only contains compounds of interest. For instance, if we always set the type of our custom molecules to be `CUSTOM-MOLECULES`, then we can always get our custom defaults using `subset_compounds_by_types(\"CUSTOM-MOLECULES\")`, add any new compound to this database, and use `save_as_default_compounds` to make sure we have our molecules available in the future. \n",
    "\n",
    "All this will leave the currently loaded default compounds of 1000-sugars and our custom molecules completely unaffected. "
   ]
  },
  {
   "cell_type": "code",
   "execution_count": 9,
   "metadata": {},
   "outputs": [],
   "source": [
    "# get all custom compounds we may have already added in the past\n",
    "my_compounds = bb.subset_compounds_by_types(\"CUSTOM-MOLECULES\")\n",
    "\n",
    "# now add the new compounds to the existing ones\n",
    "my_compounds.add(new, type=\"CUSTOM-MOLECULES\", names=[\"my first sugar\", \"glucose-mannose\"])\n",
    "\n",
    "# (if we have not already done so) also add it to the current defaults (just don't use overwrite=True)\n",
    "bb.add_compound(new, type=\"CUSTOM-MOLECULES\", names=[\"my first sugar\", \"glucose-mannose\"])\n",
    "\n",
    "# now save the new compounds as defaults\n",
    "bb.save_as_default_compounds(my_compounds)"
   ]
  },
  {
   "cell_type": "markdown",
   "metadata": {},
   "source": [
    "### Handling updates\n",
    "\n",
    "Setting defaults like this will overwrite some files in your local biobuild package directory. Since biobuild comes with these same files when you install it, every update would overwrite your custom defaults again. To make sure your custom settings are not simply lost, be sure to call `export_custom_resources` before updating. This will export your CHARMM Topology and PDBECompounds database to external files in some directory of your choice. After the update you can use `import_custom_resources` to point to these files and re-set your precious settings (again `import_custom_resources` can be used transiently or permanently, depending on whether or not we use `overwrite=True` or not).\n",
    "\n",
    "> #### Note\n",
    "> These functions will use the currently loaded default compounds."
   ]
  },
  {
   "cell_type": "code",
   "execution_count": 10,
   "metadata": {},
   "outputs": [],
   "source": [
    "# export the custom defaults we just made\n",
    "# to the current directory\n",
    "bb.export_custom_resources(\".\")\n",
    "\n",
    "# now we can load the custom resources from the current directory\n",
    "bb.import_custom_resources(\".\")"
   ]
  },
  {
   "cell_type": "markdown",
   "metadata": {},
   "source": [
    "### Restoring biobuild defaults\n",
    "\n",
    "Made a mistake and now your compounds are messed up? You can always call `restore_default_compounds` or `restore_default_topology` to get the previous settings back. This will restore your settings to biobuild factory defaults, i.e. an empty component library! Make sure to first export any compounds you would like to keep using `subset_compounds_by_types` or more thoroughly using `export_compounds` and later use the `PDBECompounds.merge` method to create a custom library to your liking. "
   ]
  }
 ],
 "metadata": {
  "kernelspec": {
   "display_name": "glyco2",
   "language": "python",
   "name": "python3"
  },
  "language_info": {
   "codemirror_mode": {
    "name": "ipython",
    "version": 3
   },
   "file_extension": ".py",
   "mimetype": "text/x-python",
   "name": "python",
   "nbconvert_exporter": "python",
   "pygments_lexer": "ipython3",
   "version": "3.11.2"
  },
  "orig_nbformat": 4
 },
 "nbformat": 4,
 "nbformat_minor": 2
}
