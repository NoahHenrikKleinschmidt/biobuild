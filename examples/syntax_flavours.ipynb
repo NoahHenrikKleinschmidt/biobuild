{
 "cells": [
  {
   "attachments": {},
   "cell_type": "markdown",
   "metadata": {},
   "source": [
    "> ### In this tutorial we will cover:\n",
    "> - the different syntax flavours of building molecules"
   ]
  },
  {
   "cell_type": "markdown",
   "metadata": {},
   "source": [
    "If you have checked out some of the other tutorials you will have definitely come accross the `bb.connect` function that is used to connect two molecules together. \n",
    "However, biobuild comprises three different syntaxes to use when performing different tasks. A _functional_, a _method-based_, and an _operator-based_ syntax. \n",
    "\n",
    "### Functional API\n",
    "Biobuild contains a lot of functions spread over a number of modules. Especially the `structural` module contains a great number of them. Most biobuild functions are intended for usage by an end-user, so it is completely fine to import whatever functions you need and use them. This gives a more R-like user experience. Many functions are also automatically imported when loading biobuild. \n",
    "\n",
    "#### Examples\n",
    "- `bb.connect`\n",
    "- `bb.read_pdb`\n",
    "- `bb.structural.autolabel`\n",
    "- `bb.get_compound`\n",
    "\n",
    "### Method API\n",
    "For convenience, most functions that a user is likely to use on a regular basis have already been integrated into methods of the `Molecule` or other classes. Hence, it is probably the most convenient for most users to rely on the method based API the most since it saves you the time of importing the modules necessary. Most methods support the full range of parameters that the functions they are linked to support, but this is not always the case! Of course, there are many methods that are only implemented as methods and not available as stand-alone functions. Additionally, there are some synonymous methods available such as `bb.Molecule.get_residue_graph` and `bb.Molecule.make_residue_graph` for historic reasons and compatibility in the code base.\n",
    "\n",
    "#### Examples\n",
    "- `bb.Molecule.attach`\n",
    "- `bb.Molecule.from_pdb`\n",
    "- `bb.Molecule.autolabel`\n",
    "- `bb.PDBEComponds.get`\n",
    "\n",
    "### Operator API\n",
    "Operators are a great way of writing very short code. Biobuild implements a syntax called \"molecular arithmetics\" that supports the basic operations for connecting molecules together. For instance, it allows us to connect `mol_c = mol_a + mol_b`. Naturally, this syntax is the most constrained out of the three, but it offers a wonderfully short way of creating larger structures. \n",
    "\n",
    "#### Available Operators\n",
    "| Function                                       | Method                                             | Attribute                               |  Operator                |\n",
    "|------------------------------------------------|----------------------------------------------------|-----------------------------------------|--------------------------|\n",
    "|                                              - |  `mol_a.set_linkage(link)`                         |  `mol_a.linkage = link`                 | `mol_a % link`\n",
    "|                                              - |  `mol_a.set_attach_residue(res)`                   | `mol_a.attach_residue = res`            |  `mol_a @ res`           |\n",
    "|                                              - |  `mol_a.set_root(root_atom)`                       |  `mol_a.root_atom = root_atom`          |  `mol_a ^ root_atom`     |\n",
    "| `mol_c = bb.connect(mol_a, mol_b, link)`       | `mol_c = mol_a.attach(mol_b, link, inplace=False)` |  -                                      |  `mol_c = mol_a + mol_b` |\n",
    "| `bb.connect(mol_a, mol_b, link, copy_a=False)` |  `mol_a.attach(mol_b, link)`  | - | `mol_a += mol_b`\n",
    "| `mol_c = bb.polymerize(mol_a, n, link)`        |  `mol_c = mol_a.repeat(n, link, inplace=False)`    |  -                                      |  `mol_c = mol_a * n`     |\n",
    "| `bb.polymerize(mol_a, n, link, inplace=True)`  |  `mol_a.repeat(n, link)`                           |  -                                      |  `mol_a *= n`            |\n",
    "\n",
    "\n",
    "<!-- \n",
    "\n",
    "Function;Method;Attribute; Operator\n",
    "-; `mol_a.set_linkage(link)`; `mol_a.linkage = link`, `mol_a % link`\n",
    "-; `mol_a.set_attach_residue(res)`;`mol_a.attach_residue = res`; `mol_a @ res`\n",
    "-; `mol_a.set_root(root_atom)`; `mol_a.root_atom = root_atom`; `mol_a ^ root_atom`\n",
    "`mol_c = bb.connect(mol_a, mol_b, link)`;`mol_c = mol_a.attach(mol_b, link, inplace=False)`; -; `mol_c = mol_a + mol_b`\n",
    "`bb.connect(mol_a, mol_b, link, copy_a=False)`; `mol_a.attach(mol_b, link)`, -, `mol_a += mol_b`\n",
    "`mol_c = bb.polymerize(mol_a, n, link)`; `mol_c = mol_a.repeat(n, link, inplace=False)`; -; `mol_c = mol_a * n`\n",
    "`bb.polymerize(mol_a, n, link, inplace=True)`; `mol_a.repeat(n, link)`; -; `mol_a *= n` -->"
   ]
  },
  {
   "cell_type": "markdown",
   "metadata": {},
   "source": [
    "> ### A general note on functions versus methods\n",
    "> The functional API is usually taylored toward **non-inplace** operations, while the method based API is taylored toward **inplace** operations. If you look at the table above closely, you will notice that the `copy` and `inplace` arguments are always switched between the two. So, when calling `Molecule.attach`, the operation will be in-place by default, while calling `connect` will by default return a copy."
   ]
  },
  {
   "cell_type": "markdown",
   "metadata": {},
   "source": [
    "## Examples"
   ]
  },
  {
   "cell_type": "markdown",
   "metadata": {},
   "source": [
    "Let's look at an example. Because we like sugars so much, we'll build a glycan structure (yep, not very creative, but it does the trick)... If you are unfamiliar with glycans, just tag along for the ride and don't think too much about it. It's just an example...\n",
    "\n",
    "```mermaid\n",
    "flowchart TB\n",
    "  node_1[\"Glucose\"]\n",
    "  node_2[\"Glucose\"]\n",
    "  node_3[\"Galactose\"]\n",
    "  node_4[\"Galactose\"]\n",
    "  node_5[\"Galactose\"]\n",
    "  node_6[\"Mannose\"]\n",
    "  node_7[\"Mannose\"]\n",
    "  node_8[\"Glucose\"]\n",
    "  node_1 --\"beta 1-4\"--> node_2\n",
    "  node_2 --\"alpha 1-3\"--> node_3\n",
    "  node_3 --\"alpha 1-4\"--> node_4\n",
    "  node_4 --\"alpha 1-3\"--> node_5\n",
    "  node_6 --\"beta 1-4\"--> node_7\n",
    "  node_7 --\"alpha 1-4\"--> node_8\n",
    "  node_2 --\"beta 1-2\"--> node_6\n",
    "```"
   ]
  },
  {
   "cell_type": "code",
   "execution_count": 1,
   "metadata": {},
   "outputs": [
    {
     "data": {
      "application/vnd.jupyter.widget-view+json": {
       "model_id": "f180efd1fedc4954813e2a3b0ae64463",
       "version_major": 2,
       "version_minor": 0
      },
      "text/plain": []
     },
     "metadata": {},
     "output_type": "display_data"
    }
   ],
   "source": [
    "import biobuild as bb\n",
    "# first get some compounds\n",
    "bb.load_sugars()\n",
    "\n",
    "glc = bb.molecule(\"GLC\")\n",
    "gal = bb.molecule(\"GAL\")\n",
    "man = bb.molecule(\"MAN\")\n",
    "fuc = bb.molecule(\"FUC\")"
   ]
  },
  {
   "cell_type": "markdown",
   "metadata": {},
   "source": [
    "#### Using functional syntax\n",
    "\n",
    "Now we will build the glycan only using the functional syntax of biobuild:"
   ]
  },
  {
   "cell_type": "code",
   "execution_count": 6,
   "metadata": {},
   "outputs": [
    {
     "data": {
      "application/vnd.plotly.v1+json": {
       "config": {
        "plotlyServerURL": "https://plot.ly"
       },
       "data": [
        {
         "customdata": [
          [
           "C1",
           1,
           1,
           "GLC",
           "A"
          ],
          [
           "C2",
           2,
           1,
           "GLC",
           "A"
          ],
          [
           "C3",
           3,
           1,
           "GLC",
           "A"
          ],
          [
           "C4",
           4,
           1,
           "GLC",
           "A"
          ],
          [
           "C5",
           5,
           1,
           "GLC",
           "A"
          ],
          [
           "C6",
           6,
           1,
           "GLC",
           "A"
          ],
          [
           "C1",
           24,
           2,
           "GLC",
           "A"
          ],
          [
           "C2",
           25,
           2,
           "GLC",
           "A"
          ],
          [
           "C3",
           26,
           2,
           "GLC",
           "A"
          ],
          [
           "C4",
           27,
           2,
           "GLC",
           "A"
          ],
          [
           "C5",
           28,
           2,
           "GLC",
           "A"
          ],
          [
           "C6",
           29,
           2,
           "GLC",
           "A"
          ],
          [
           "C1",
           44,
           3,
           "GAL",
           "A"
          ],
          [
           "C2",
           45,
           3,
           "GAL",
           "A"
          ],
          [
           "C3",
           46,
           3,
           "GAL",
           "A"
          ],
          [
           "C4",
           47,
           3,
           "GAL",
           "A"
          ],
          [
           "C5",
           48,
           3,
           "GAL",
           "A"
          ],
          [
           "C6",
           49,
           3,
           "GAL",
           "A"
          ],
          [
           "C1",
           65,
           4,
           "GAL",
           "A"
          ],
          [
           "C2",
           66,
           4,
           "GAL",
           "A"
          ],
          [
           "C3",
           67,
           4,
           "GAL",
           "A"
          ],
          [
           "C4",
           68,
           4,
           "GAL",
           "A"
          ],
          [
           "C5",
           69,
           4,
           "GAL",
           "A"
          ],
          [
           "C6",
           70,
           4,
           "GAL",
           "A"
          ],
          [
           "C1",
           86,
           5,
           "GAL",
           "A"
          ],
          [
           "C2",
           87,
           5,
           "GAL",
           "A"
          ],
          [
           "C3",
           88,
           5,
           "GAL",
           "A"
          ],
          [
           "C4",
           89,
           5,
           "GAL",
           "A"
          ],
          [
           "C5",
           90,
           5,
           "GAL",
           "A"
          ],
          [
           "C6",
           91,
           5,
           "GAL",
           "A"
          ],
          [
           "C1",
           108,
           6,
           "MAN",
           "A"
          ],
          [
           "C2",
           109,
           6,
           "MAN",
           "A"
          ],
          [
           "C3",
           110,
           6,
           "MAN",
           "A"
          ],
          [
           "C4",
           111,
           6,
           "MAN",
           "A"
          ],
          [
           "C5",
           112,
           6,
           "MAN",
           "A"
          ],
          [
           "C6",
           113,
           6,
           "MAN",
           "A"
          ],
          [
           "C1",
           129,
           7,
           "MAN",
           "A"
          ],
          [
           "C2",
           130,
           7,
           "MAN",
           "A"
          ],
          [
           "C3",
           131,
           7,
           "MAN",
           "A"
          ],
          [
           "C4",
           132,
           7,
           "MAN",
           "A"
          ],
          [
           "C5",
           133,
           7,
           "MAN",
           "A"
          ],
          [
           "C6",
           134,
           7,
           "MAN",
           "A"
          ],
          [
           "C1",
           150,
           8,
           "GLC",
           "A"
          ],
          [
           "C2",
           151,
           8,
           "GLC",
           "A"
          ],
          [
           "C3",
           152,
           8,
           "GLC",
           "A"
          ],
          [
           "C4",
           153,
           8,
           "GLC",
           "A"
          ],
          [
           "C5",
           154,
           8,
           "GLC",
           "A"
          ],
          [
           "C6",
           155,
           8,
           "GLC",
           "A"
          ]
         ],
         "hovertemplate": "atom_element=C<br>x=%{x}<br>y=%{y}<br>z=%{z}<br>atom_id=%{customdata[0]}<br>atom_serial=%{customdata[1]}<br>residue_serial=%{customdata[2]}<br>residue_name=%{customdata[3]}<br>chain_id=%{customdata[4]}<extra></extra>",
         "legendgroup": "C",
         "marker": {
          "color": "black",
          "opacity": 0.3,
          "symbol": "circle"
         },
         "mode": "markers",
         "name": "C",
         "scene": "scene",
         "showlegend": true,
         "type": "scatter3d",
         "x": [
          -0.567,
          -1.578,
          -1.179,
          0.249,
          1.189,
          2.607,
          0.28739188564117757,
          1.480320584831757,
          2.551855024989353,
          1.9213705212635026,
          0.6927362615491515,
          0.023121121966325875,
          4.237486750862175,
          5.523963815710901,
          6.10428264304959,
          5.060830356326786,
          3.788838332467794,
          2.72096606462462,
          5.554273632628828,
          4.866320224547968,
          5.751157293389989,
          6.07330214405259,
          6.739153388942177,
          7.009716398925608,
          5.6027960796688205,
          4.649374390469096,
          5.295886194255522,
          6.660546453315635,
          7.5366639424097706,
          8.879838771321644,
          3.370180722730016,
          4.342995410058376,
          4.126498442731845,
          4.250016685001658,
          3.2980461971580066,
          3.3870442548285054,
          4.831957159519671,
          5.329187133895838,
          4.075547144567605,
          3.310717872479277,
          3.009905516755846,
          2.214689135616443,
          1.0468634902201872,
          -0.20597664009523164,
          -0.6849548447210525,
          -0.8798524747248084,
          0.4288138977185758,
          0.22522448119490424
         ],
         "y": [
          1.572,
          0.465,
          -0.806,
          -1.195,
          -0.024,
          -0.383,
          -3.6208883690602627,
          -4.38081146590108,
          -4.515665510620807,
          -5.208421548159997,
          -4.415224134145273,
          -5.1331744330517735,
          -6.188240615228173,
          -6.745677888786662,
          -7.757267939027176,
          -8.832623734551518,
          -8.160416923057236,
          -9.2229501140345,
          -10.66905801919593,
          -11.96110913350714,
          -13.140014988518232,
          -13.01384827469256,
          -11.65932984087781,
          -11.500539508206224,
          -15.220517327694829,
          -16.345365490199164,
          -17.27658699181007,
          -17.75512648362009,
          -16.538619563471137,
          -17.007092653069904,
          -3.245639821141027,
          -4.428916027255673,
          -5.18045429619363,
          -4.176529332805269,
          -3.0070532722253507,
          -2.015203681937657,
          -5.593195159440236,
          -4.870704998502981,
          -4.580827415817252,
          -5.889649502127884,
          -6.5296736607298485,
          -7.8200460935412845,
          -4.990154715796645,
          -4.938024944128733,
          -6.394654914347475,
          -7.090527726959769,
          -7.030055455882299,
          -7.670400784764847
         ],
         "z": [
          -0.245,
          -0.554,
          0.203,
          -0.192,
          0.102,
          -0.345,
          0.17534369512279074,
          -0.41274579257047955,
          0.7251602592474138,
          1.937228063874931,
          2.387308854685344,
          3.5601587739595617,
          1.1610816637660615,
          0.608278934335493,
          1.6130244037803174,
          1.9306314540250489,
          2.4550609476843914,
          2.718030599247359,
          0.3929095272013239,
          0.7516217186823118,
          0.30897956916398894,
          -1.1831201780091027,
          -1.4415267029557937,
          -2.9382104664405033,
          1.5255678557714734,
          1.836618806379522,
          2.878109820237623,
          2.3733729262817733,
          2.0613135432581084,
          1.5001581785868408,
          -1.3736236257287506,
          -1.3962732208940924,
          -2.753791895336951,
          -3.9052083759000245,
          -3.649247570296521,
          -4.811413107548858,
          -5.8219384107945835,
          -7.077797304114505,
          -7.972010075359487,
          -8.197626854306272,
          -6.8414118997175954,
          -7.0532724477388005,
          -8.177596079112481,
          -9.011868998951723,
          -9.23982269406746,
          -7.889153992095739,
          -7.09857671562834,
          -5.724559536238704
         ]
        },
        {
         "customdata": [
          [
           "O1",
           7,
           1,
           "GLC",
           "A"
          ],
          [
           "O2",
           8,
           1,
           "GLC",
           "A"
          ],
          [
           "O3",
           9,
           1,
           "GLC",
           "A"
          ],
          [
           "O4",
           10,
           1,
           "GLC",
           "A"
          ],
          [
           "O5",
           11,
           1,
           "GLC",
           "A"
          ],
          [
           "O6",
           12,
           1,
           "GLC",
           "A"
          ],
          [
           "O2",
           30,
           2,
           "GLC",
           "A"
          ],
          [
           "O3",
           31,
           2,
           "GLC",
           "A"
          ],
          [
           "O4",
           32,
           2,
           "GLC",
           "A"
          ],
          [
           "O5",
           33,
           2,
           "GLC",
           "A"
          ],
          [
           "O6",
           34,
           2,
           "GLC",
           "A"
          ],
          [
           "O2",
           50,
           3,
           "GAL",
           "A"
          ],
          [
           "O3",
           51,
           3,
           "GAL",
           "A"
          ],
          [
           "O4",
           52,
           3,
           "GAL",
           "A"
          ],
          [
           "O5",
           53,
           3,
           "GAL",
           "A"
          ],
          [
           "O6",
           54,
           3,
           "GAL",
           "A"
          ],
          [
           "O2",
           71,
           4,
           "GAL",
           "A"
          ],
          [
           "O3",
           72,
           4,
           "GAL",
           "A"
          ],
          [
           "O4",
           73,
           4,
           "GAL",
           "A"
          ],
          [
           "O5",
           74,
           4,
           "GAL",
           "A"
          ],
          [
           "O6",
           75,
           4,
           "GAL",
           "A"
          ],
          [
           "O2",
           92,
           5,
           "GAL",
           "A"
          ],
          [
           "O3",
           93,
           5,
           "GAL",
           "A"
          ],
          [
           "O4",
           94,
           5,
           "GAL",
           "A"
          ],
          [
           "O5",
           95,
           5,
           "GAL",
           "A"
          ],
          [
           "O6",
           96,
           5,
           "GAL",
           "A"
          ],
          [
           "O2",
           114,
           6,
           "MAN",
           "A"
          ],
          [
           "O3",
           115,
           6,
           "MAN",
           "A"
          ],
          [
           "O4",
           116,
           6,
           "MAN",
           "A"
          ],
          [
           "O5",
           117,
           6,
           "MAN",
           "A"
          ],
          [
           "O6",
           118,
           6,
           "MAN",
           "A"
          ],
          [
           "O2",
           135,
           7,
           "MAN",
           "A"
          ],
          [
           "O3",
           136,
           7,
           "MAN",
           "A"
          ],
          [
           "O4",
           137,
           7,
           "MAN",
           "A"
          ],
          [
           "O5",
           138,
           7,
           "MAN",
           "A"
          ],
          [
           "O6",
           139,
           7,
           "MAN",
           "A"
          ],
          [
           "O2",
           156,
           8,
           "GLC",
           "A"
          ],
          [
           "O3",
           157,
           8,
           "GLC",
           "A"
          ],
          [
           "O4",
           158,
           8,
           "GLC",
           "A"
          ],
          [
           "O5",
           159,
           8,
           "GLC",
           "A"
          ],
          [
           "O6",
           160,
           8,
           "GLC",
           "A"
          ]
         ],
         "hovertemplate": "atom_element=O<br>x=%{x}<br>y=%{y}<br>z=%{z}<br>atom_id=%{customdata[0]}<br>atom_serial=%{customdata[1]}<br>residue_serial=%{customdata[2]}<br>residue_name=%{customdata[3]}<br>chain_id=%{customdata[4]}<extra></extra>",
         "legendgroup": "O",
         "marker": {
          "color": "red",
          "opacity": 0.3,
          "symbol": "circle"
         },
         "mode": "markers",
         "name": "O",
         "scene": "scene",
         "showlegend": true,
         "type": "scatter3d",
         "x": [
          -0.6,
          -2.881,
          -2.075,
          0.658,
          0.744,
          3.506,
          2.0557165148821417,
          3.656002120222209,
          2.871911843306937,
          -0.24841655015355635,
          -1.0536800248494305,
          6.450114558946712,
          7.268059606190848,
          4.757062466408647,
          3.273024317767564,
          1.5763239118701478,
          4.613285882466256,
          5.063898568748783,
          4.866732557493382,
          5.889503553988572,
          7.734357007618713,
          3.4243256316584647,
          4.447338718774148,
          6.485886732228457,
          6.9135664546085565,
          9.739042540523323,
          5.693115178717679,
          5.114014472594498,
          3.906135796830376,
          3.6513411897599326,
          2.495838629348798,
          6.212870644604493,
          4.495757895226085,
          2.0868336909430543,
          4.212238862998239,
          1.9295561468284834,
          0.03830706276600182,
          -1.9226212522332107,
          -1.2466496147377981,
          0.8414877960416636,
          1.4740185926894052
         ],
         "y": [
          1.871,
          0.879,
          -1.866,
          -2.338,
          1.133,
          0.661,
          -3.682652200920845,
          -5.289853972410994,
          -5.263996501869976,
          -4.314104692702984,
          -4.3351816382697255,
          -5.720738560427202,
          -8.371315322648218,
          -9.56881200615805,
          -7.235385181769364,
          -8.60982886973319,
          -12.033710588156485,
          -14.370606262810867,
          -13.104595025141528,
          -10.592083898242059,
          -10.289543579286654,
          -15.852327531560723,
          -18.40477186923964,
          -18.533502597734717,
          -15.700883742571758,
          -15.879398386889584,
          -3.971488124917645,
          -6.204095885248118,
          -4.815542656683919,
          -2.325538037107531,
          -0.9244632548408718,
          -5.705523275807869,
          -4.044923593491575,
          -5.616470869902413,
          -6.855098930072359,
          -8.416952350266767,
          -4.319162696522309,
          -6.3810253820039335,
          -8.454924631817274,
          -5.672030031703391,
          -7.7201375861585175
         ],
         "z": [
          1.151,
          -0.139,
          -0.137,
          0.562,
          -0.608,
          0.035,
          -1.491352408131528,
          0.25239454801213945,
          3.002886836469637,
          1.3269380024925652,
          4.05638834753636,
          0.3547361315445263,
          1.054668790635915,
          0.7450544224477378,
          1.4982306989307572,
          3.3155142240639917,
          2.13426864926683,
          0.5467032765205952,
          -1.9419323155459867,
          -1.0146759531615985,
          -3.1651352301246685,
          2.313231912702179,
          3.102515845543121,
          1.1886933886828683,
          1.0879628607832652,
          1.317991976964079,
          -1.3611689028370517,
          -2.898398215815365,
          -5.135813473669447,
          -2.4584561007210404,
          -4.575905456271785,
          -7.823035316725585,
          -9.229058609922799,
          -8.882069653290108,
          -6.164512645991868,
          -5.7876389702316615,
          -10.250870302701871,
          -9.953974008260781,
          -8.103925834043299,
          -6.906487949251861,
          -5.031323272268194
         ]
        },
        {
         "customdata": [
          [
           "H1",
           13,
           1,
           "GLC",
           "A"
          ],
          [
           "H2",
           14,
           1,
           "GLC",
           "A"
          ],
          [
           "H3",
           15,
           1,
           "GLC",
           "A"
          ],
          [
           "H4",
           16,
           1,
           "GLC",
           "A"
          ],
          [
           "H5",
           17,
           1,
           "GLC",
           "A"
          ],
          [
           "H61",
           18,
           1,
           "GLC",
           "A"
          ],
          [
           "H62",
           19,
           1,
           "GLC",
           "A"
          ],
          [
           "HO1",
           20,
           1,
           "GLC",
           "A"
          ],
          [
           "HO2",
           21,
           1,
           "GLC",
           "A"
          ],
          [
           "HO3",
           22,
           1,
           "GLC",
           "A"
          ],
          [
           "HO6",
           23,
           1,
           "GLC",
           "A"
          ],
          [
           "H1",
           35,
           2,
           "GLC",
           "A"
          ],
          [
           "H2",
           36,
           2,
           "GLC",
           "A"
          ],
          [
           "H3",
           37,
           2,
           "GLC",
           "A"
          ],
          [
           "H4",
           38,
           2,
           "GLC",
           "A"
          ],
          [
           "H5",
           39,
           2,
           "GLC",
           "A"
          ],
          [
           "H61",
           40,
           2,
           "GLC",
           "A"
          ],
          [
           "H62",
           41,
           2,
           "GLC",
           "A"
          ],
          [
           "HO4",
           42,
           2,
           "GLC",
           "A"
          ],
          [
           "HO6",
           43,
           2,
           "GLC",
           "A"
          ],
          [
           "H1",
           55,
           3,
           "GAL",
           "A"
          ],
          [
           "H2",
           56,
           3,
           "GAL",
           "A"
          ],
          [
           "H3",
           57,
           3,
           "GAL",
           "A"
          ],
          [
           "H4",
           58,
           3,
           "GAL",
           "A"
          ],
          [
           "H5",
           59,
           3,
           "GAL",
           "A"
          ],
          [
           "H61",
           60,
           3,
           "GAL",
           "A"
          ],
          [
           "H62",
           61,
           3,
           "GAL",
           "A"
          ],
          [
           "HO2",
           62,
           3,
           "GAL",
           "A"
          ],
          [
           "HO3",
           63,
           3,
           "GAL",
           "A"
          ],
          [
           "HO6",
           64,
           3,
           "GAL",
           "A"
          ],
          [
           "H1",
           76,
           4,
           "GAL",
           "A"
          ],
          [
           "H2",
           77,
           4,
           "GAL",
           "A"
          ],
          [
           "H3",
           78,
           4,
           "GAL",
           "A"
          ],
          [
           "H4",
           79,
           4,
           "GAL",
           "A"
          ],
          [
           "H5",
           80,
           4,
           "GAL",
           "A"
          ],
          [
           "H61",
           81,
           4,
           "GAL",
           "A"
          ],
          [
           "H62",
           82,
           4,
           "GAL",
           "A"
          ],
          [
           "HO2",
           83,
           4,
           "GAL",
           "A"
          ],
          [
           "HO4",
           84,
           4,
           "GAL",
           "A"
          ],
          [
           "HO6",
           85,
           4,
           "GAL",
           "A"
          ],
          [
           "H1",
           97,
           5,
           "GAL",
           "A"
          ],
          [
           "H2",
           98,
           5,
           "GAL",
           "A"
          ],
          [
           "H3",
           99,
           5,
           "GAL",
           "A"
          ],
          [
           "H4",
           100,
           5,
           "GAL",
           "A"
          ],
          [
           "H5",
           101,
           5,
           "GAL",
           "A"
          ],
          [
           "H61",
           102,
           5,
           "GAL",
           "A"
          ],
          [
           "H62",
           103,
           5,
           "GAL",
           "A"
          ],
          [
           "HO2",
           104,
           5,
           "GAL",
           "A"
          ],
          [
           "HO3",
           105,
           5,
           "GAL",
           "A"
          ],
          [
           "HO4",
           106,
           5,
           "GAL",
           "A"
          ],
          [
           "HO6",
           107,
           5,
           "GAL",
           "A"
          ],
          [
           "H1",
           119,
           6,
           "MAN",
           "A"
          ],
          [
           "H2",
           120,
           6,
           "MAN",
           "A"
          ],
          [
           "H3",
           121,
           6,
           "MAN",
           "A"
          ],
          [
           "H4",
           122,
           6,
           "MAN",
           "A"
          ],
          [
           "H5",
           123,
           6,
           "MAN",
           "A"
          ],
          [
           "H61",
           124,
           6,
           "MAN",
           "A"
          ],
          [
           "H62",
           125,
           6,
           "MAN",
           "A"
          ],
          [
           "HO2",
           126,
           6,
           "MAN",
           "A"
          ],
          [
           "HO3",
           127,
           6,
           "MAN",
           "A"
          ],
          [
           "HO6",
           128,
           6,
           "MAN",
           "A"
          ],
          [
           "H1",
           140,
           7,
           "MAN",
           "A"
          ],
          [
           "H2",
           141,
           7,
           "MAN",
           "A"
          ],
          [
           "H3",
           142,
           7,
           "MAN",
           "A"
          ],
          [
           "H4",
           143,
           7,
           "MAN",
           "A"
          ],
          [
           "H5",
           144,
           7,
           "MAN",
           "A"
          ],
          [
           "H61",
           145,
           7,
           "MAN",
           "A"
          ],
          [
           "H62",
           146,
           7,
           "MAN",
           "A"
          ],
          [
           "HO2",
           147,
           7,
           "MAN",
           "A"
          ],
          [
           "HO3",
           148,
           7,
           "MAN",
           "A"
          ],
          [
           "HO6",
           149,
           7,
           "MAN",
           "A"
          ],
          [
           "H1",
           161,
           8,
           "GLC",
           "A"
          ],
          [
           "H2",
           162,
           8,
           "GLC",
           "A"
          ],
          [
           "H3",
           163,
           8,
           "GLC",
           "A"
          ],
          [
           "H4",
           164,
           8,
           "GLC",
           "A"
          ],
          [
           "H5",
           165,
           8,
           "GLC",
           "A"
          ],
          [
           "H61",
           166,
           8,
           "GLC",
           "A"
          ],
          [
           "H62",
           167,
           8,
           "GLC",
           "A"
          ],
          [
           "HO2",
           168,
           8,
           "GLC",
           "A"
          ],
          [
           "HO3",
           169,
           8,
           "GLC",
           "A"
          ],
          [
           "HO4",
           170,
           8,
           "GLC",
           "A"
          ],
          [
           "HO6",
           171,
           8,
           "GLC",
           "A"
          ]
         ],
         "hovertemplate": "atom_element=H<br>x=%{x}<br>y=%{y}<br>z=%{z}<br>atom_id=%{customdata[0]}<br>atom_serial=%{customdata[1]}<br>residue_serial=%{customdata[2]}<br>residue_name=%{customdata[3]}<br>chain_id=%{customdata[4]}<extra></extra>",
         "legendgroup": "H",
         "marker": {
          "color": "lightgray",
          "opacity": 0.3,
          "symbol": "circle"
         },
         "mode": "markers",
         "name": "H",
         "scene": "scene",
         "showlegend": true,
         "type": "scatter3d",
         "x": [
          -0.822,
          -1.583,
          -1.223,
          0.281,
          1.187,
          2.913,
          2.627,
          0.017,
          -3.197,
          -3,
          4.425,
          -0.4416295953503676,
          1.191975546023585,
          2.8968061322786154,
          1.6207417462584386,
          0.9993730295362183,
          0.7522731954762834,
          -0.3628865421639118,
          3.6796362109456533,
          -1.5254480198313962,
          4.45947410918213,
          5.2894487659797065,
          6.372724850492382,
          5.453656357902075,
          4.0129037309233215,
          3.1201928192922215,
          2.4326195125580155,
          6.138660697551929,
          7.969060484031798,
          0.8573331964579269,
          6.497273049932708,
          3.91586933538977,
          6.676749404343498,
          6.752111311166297,
          7.680601729368048,
          7.5971095253295005,
          6.063279431367144,
          4.05916980249675,
          4.388930815680093,
          7.940916085481296,
          5.755962247218171,
          4.491937561016936,
          5.424388827442796,
          7.141472278920311,
          7.703335398877375,
          9.341313078102724,
          8.721174348626658,
          2.971062137616494,
          3.5625552990417675,
          5.936034031854064,
          10.610602235370099,
          3.5423803632455018,
          4.150905291237018,
          3.1329316078512255,
          5.275095253770038,
          2.2777254688201856,
          4.407808504863519,
          3.1126184885617403,
          5.784390382598928,
          5.006818908150824,
          2.582990241096269,
          5.724886884762492,
          5.794990104880635,
          3.431152574440656,
          3.919310557431273,
          2.422894263718908,
          2.8016620025926593,
          1.281379094608078,
          6.964522809939713,
          4.982039170775689,
          1.429852973914624,
          1.3707270138672065,
          -0.9913924222133259,
          0.0673129752384698,
          -1.6672085761392523,
          1.2063066222945347,
          -0.16118999514393106,
          -0.4859149442886421,
          0.3424624316384577,
          -1.873554095745476,
          -2.066879108740732,
          1.4201167905380263
         ],
         "y": [
          2.466,
          0.264,
          -0.619,
          -1.429,
          0.184,
          -1.315,
          -0.503,
          2.566,
          1.682,
          -1.684,
          0.501,
          -3.5957016204844336,
          -5.388081243451282,
          -3.5219250793962225,
          -6.220381288812531,
          -3.4159166774238847,
          -5.291760896761097,
          -6.095439244578159,
          -5.749565157600492,
          -4.729868650877536,
          -5.627756418451672,
          -7.289668686159618,
          -7.227647400676437,
          -9.5089764884601,
          -7.632381632327904,
          -9.980787994570846,
          -9.689360576626797,
          -5.054095831051122,
          -7.746525027949046,
          -9.226460792618541,
          -10.594351436161784,
          -12.014988732506898,
          -13.1202060395213,
          -13.814333154915182,
          -11.607017487840857,
          -12.347118069098146,
          -11.463257089612863,
          -11.316581055109904,
          -13.937777708142,
          -10.123949627724773,
          -14.61954687988207,
          -16.92918510986124,
          -16.72396973891508,
          -18.361406670314437,
          -15.967090794617484,
          -17.706253656468846,
          -17.500760583015754,
          -15.2602464855551,
          -18.17423744776699,
          -19.320253362073178,
          -16.102964567175196,
          -2.768128489508456,
          -5.113942855256785,
          -5.627876943376505,
          -3.8088434109244536,
          -3.3811711984711703,
          -1.6398390750244094,
          -2.516009875847719,
          -3.506280047215519,
          -6.803818758841156,
          -0.32385085125660096,
          -5.756726048456004,
          -3.9377957250393587,
          -3.8624002123259533,
          -6.568506241148283,
          -5.838697120784188,
          -8.512436312634556,
          -7.592282628135922,
          -5.86995227463982,
          -3.2313332555276104,
          -9.22528768162956,
          -3.9569017600971725,
          -4.40675335502595,
          -6.928600392572842,
          -6.584084533642818,
          -7.57082423045271,
          -8.681537197098166,
          -7.077784377118048,
          -3.4042387187269085,
          -5.948402160589389,
          -8.567832760325874,
          -8.1140303895228
         ],
         "z": [
          -0.815,
          -1.626,
          1.276,
          -1.257,
          1.173,
          0.129,
          -1.428,
          1.42,
          -0.576,
          0.08,
          -0.218,
          -0.6260918905290271,
          -0.7041667123716275,
          1.0110320643095607,
          1.6623374984904262,
          2.6998268533021843,
          4.353962016094729,
          3.224400653088588,
          2.7847918422705558,
          4.801926489410683,
          2.0879859565115035,
          -0.3275865029954237,
          2.527686563607821,
          2.690341717722104,
          3.3823399935812324,
          3.3919725442112805,
          1.7764927368670185,
          -0.27264012206433397,
          0.8231242875356732,
          3.510251028057841,
          0.9653984051857825,
          0.18811586698457816,
          0.8852198399541036,
          -1.47869939104238,
          -0.8939763034224635,
          -3.2934175261840077,
          -3.4767669515955615,
          2.471459400551059,
          -1.823158950399077,
          -4.095198126147663,
          2.4409623805387852,
          0.9079442110737084,
          3.8093816629703086,
          3.1415263520297323,
          2.9747950657705187,
          2.1973764769031616,
          0.541881821832777,
          1.6975946494296,
          3.4177779280759597,
          1.3123066675158235,
          0.9637225013510948,
          -0.41616036169778703,
          -0.5983171137701269,
          -2.7627316611714585,
          -3.9592453142146766,
          -3.5709827085403956,
          -4.890177044266867,
          -5.7392480362674405,
          -0.5187133956456462,
          -2.1474217941795652,
          -5.328446709114806,
          -5.230043281472257,
          -6.840145617535461,
          -7.465986369121751,
          -8.795679921942837,
          -6.237165914995538,
          -7.657524578837808,
          -7.5671305713288675,
          -7.237831825032316,
          -9.037420192528137,
          -5.965233258006975,
          -7.953825577059062,
          -8.46027128360904,
          -9.820537213720645,
          -7.329162330096761,
          -7.640225306211818,
          -5.8479410913005765,
          -5.149428672077567,
          -10.17316813773139,
          -10.81784180048776,
          -8.604162109901397,
          -4.150350483140937
         ]
        },
        {
         "hoverinfo": "skip",
         "line": {
          "color": "black",
          "width": 1
         },
         "mode": "lines",
         "showlegend": false,
         "type": "scatter3d",
         "x": [
          -0.567,
          -1.578
         ],
         "y": [
          1.572,
          0.465
         ],
         "z": [
          -0.245,
          -0.554
         ]
        },
        {
         "hoverinfo": "skip",
         "line": {
          "color": "black",
          "width": 1
         },
         "mode": "lines",
         "showlegend": false,
         "type": "scatter3d",
         "x": [
          -0.567,
          -0.6
         ],
         "y": [
          1.572,
          1.871
         ],
         "z": [
          -0.245,
          1.151
         ]
        },
        {
         "hoverinfo": "skip",
         "line": {
          "color": "black",
          "width": 1
         },
         "mode": "lines",
         "showlegend": false,
         "type": "scatter3d",
         "x": [
          -0.567,
          0.744
         ],
         "y": [
          1.572,
          1.133
         ],
         "z": [
          -0.245,
          -0.608
         ]
        },
        {
         "hoverinfo": "skip",
         "line": {
          "color": "black",
          "width": 1
         },
         "mode": "lines",
         "showlegend": false,
         "type": "scatter3d",
         "x": [
          -0.567,
          -0.822
         ],
         "y": [
          1.572,
          2.466
         ],
         "z": [
          -0.245,
          -0.815
         ]
        },
        {
         "hoverinfo": "skip",
         "line": {
          "color": "black",
          "width": 1
         },
         "mode": "lines",
         "showlegend": false,
         "type": "scatter3d",
         "x": [
          -1.578,
          -1.179
         ],
         "y": [
          0.465,
          -0.806
         ],
         "z": [
          -0.554,
          0.203
         ]
        },
        {
         "hoverinfo": "skip",
         "line": {
          "color": "black",
          "width": 1
         },
         "mode": "lines",
         "showlegend": false,
         "type": "scatter3d",
         "x": [
          -1.578,
          -2.881
         ],
         "y": [
          0.465,
          0.879
         ],
         "z": [
          -0.554,
          -0.139
         ]
        },
        {
         "hoverinfo": "skip",
         "line": {
          "color": "black",
          "width": 1
         },
         "mode": "lines",
         "showlegend": false,
         "type": "scatter3d",
         "x": [
          -1.578,
          -1.583
         ],
         "y": [
          0.465,
          0.264
         ],
         "z": [
          -0.554,
          -1.626
         ]
        },
        {
         "hoverinfo": "skip",
         "line": {
          "color": "black",
          "width": 1
         },
         "mode": "lines",
         "showlegend": false,
         "type": "scatter3d",
         "x": [
          -1.179,
          0.249
         ],
         "y": [
          -0.806,
          -1.195
         ],
         "z": [
          0.203,
          -0.192
         ]
        },
        {
         "hoverinfo": "skip",
         "line": {
          "color": "black",
          "width": 1
         },
         "mode": "lines",
         "showlegend": false,
         "type": "scatter3d",
         "x": [
          -1.179,
          -2.075
         ],
         "y": [
          -0.806,
          -1.866
         ],
         "z": [
          0.203,
          -0.137
         ]
        },
        {
         "hoverinfo": "skip",
         "line": {
          "color": "black",
          "width": 1
         },
         "mode": "lines",
         "showlegend": false,
         "type": "scatter3d",
         "x": [
          -1.179,
          -1.223
         ],
         "y": [
          -0.806,
          -0.619
         ],
         "z": [
          0.203,
          1.276
         ]
        },
        {
         "hoverinfo": "skip",
         "line": {
          "color": "black",
          "width": 1
         },
         "mode": "lines",
         "showlegend": false,
         "type": "scatter3d",
         "x": [
          0.249,
          1.189
         ],
         "y": [
          -1.195,
          -0.024
         ],
         "z": [
          -0.192,
          0.102
         ]
        },
        {
         "hoverinfo": "skip",
         "line": {
          "color": "black",
          "width": 1
         },
         "mode": "lines",
         "showlegend": false,
         "type": "scatter3d",
         "x": [
          0.249,
          0.658
         ],
         "y": [
          -1.195,
          -2.338
         ],
         "z": [
          -0.192,
          0.562
         ]
        },
        {
         "hoverinfo": "skip",
         "line": {
          "color": "black",
          "width": 1
         },
         "mode": "lines",
         "showlegend": false,
         "type": "scatter3d",
         "x": [
          0.249,
          0.281
         ],
         "y": [
          -1.195,
          -1.429
         ],
         "z": [
          -0.192,
          -1.257
         ]
        },
        {
         "hoverinfo": "skip",
         "line": {
          "color": "black",
          "width": 1
         },
         "mode": "lines",
         "showlegend": false,
         "type": "scatter3d",
         "x": [
          1.189,
          2.607
         ],
         "y": [
          -0.024,
          -0.383
         ],
         "z": [
          0.102,
          -0.345
         ]
        },
        {
         "hoverinfo": "skip",
         "line": {
          "color": "black",
          "width": 1
         },
         "mode": "lines",
         "showlegend": false,
         "type": "scatter3d",
         "x": [
          1.189,
          0.744
         ],
         "y": [
          -0.024,
          1.133
         ],
         "z": [
          0.102,
          -0.608
         ]
        },
        {
         "hoverinfo": "skip",
         "line": {
          "color": "black",
          "width": 1
         },
         "mode": "lines",
         "showlegend": false,
         "type": "scatter3d",
         "x": [
          1.189,
          1.187
         ],
         "y": [
          -0.024,
          0.184
         ],
         "z": [
          0.102,
          1.173
         ]
        },
        {
         "hoverinfo": "skip",
         "line": {
          "color": "black",
          "width": 1
         },
         "mode": "lines",
         "showlegend": false,
         "type": "scatter3d",
         "x": [
          2.607,
          3.506
         ],
         "y": [
          -0.383,
          0.661
         ],
         "z": [
          -0.345,
          0.035
         ]
        },
        {
         "hoverinfo": "skip",
         "line": {
          "color": "black",
          "width": 1
         },
         "mode": "lines",
         "showlegend": false,
         "type": "scatter3d",
         "x": [
          2.607,
          2.913
         ],
         "y": [
          -0.383,
          -1.315
         ],
         "z": [
          -0.345,
          0.129
         ]
        },
        {
         "hoverinfo": "skip",
         "line": {
          "color": "black",
          "width": 1
         },
         "mode": "lines",
         "showlegend": false,
         "type": "scatter3d",
         "x": [
          2.607,
          2.627
         ],
         "y": [
          -0.383,
          -0.503
         ],
         "z": [
          -0.345,
          -1.428
         ]
        },
        {
         "hoverinfo": "skip",
         "line": {
          "color": "black",
          "width": 1
         },
         "mode": "lines",
         "showlegend": false,
         "type": "scatter3d",
         "x": [
          -0.6,
          0.017
         ],
         "y": [
          1.871,
          2.566
         ],
         "z": [
          1.151,
          1.42
         ]
        },
        {
         "hoverinfo": "skip",
         "line": {
          "color": "black",
          "width": 1
         },
         "mode": "lines",
         "showlegend": false,
         "type": "scatter3d",
         "x": [
          -2.881,
          -3.197
         ],
         "y": [
          0.879,
          1.682
         ],
         "z": [
          -0.139,
          -0.576
         ]
        },
        {
         "hoverinfo": "skip",
         "line": {
          "color": "black",
          "width": 1
         },
         "mode": "lines",
         "showlegend": false,
         "type": "scatter3d",
         "x": [
          -2.075,
          -3
         ],
         "y": [
          -1.866,
          -1.684
         ],
         "z": [
          -0.137,
          0.08
         ]
        },
        {
         "hoverinfo": "skip",
         "line": {
          "color": "black",
          "width": 1
         },
         "mode": "lines",
         "showlegend": false,
         "type": "scatter3d",
         "x": [
          0.658,
          0.28739188564117757
         ],
         "y": [
          -2.338,
          -3.6208883690602627
         ],
         "z": [
          0.562,
          0.17534369512279074
         ]
        },
        {
         "hoverinfo": "skip",
         "line": {
          "color": "black",
          "width": 1
         },
         "mode": "lines",
         "showlegend": false,
         "type": "scatter3d",
         "x": [
          3.506,
          4.425
         ],
         "y": [
          0.661,
          0.501
         ],
         "z": [
          0.035,
          -0.218
         ]
        },
        {
         "hoverinfo": "skip",
         "line": {
          "color": "black",
          "width": 1
         },
         "mode": "lines",
         "showlegend": false,
         "type": "scatter3d",
         "x": [
          0.28739188564117757,
          1.480320584831757
         ],
         "y": [
          -3.6208883690602627,
          -4.38081146590108
         ],
         "z": [
          0.17534369512279074,
          -0.41274579257047955
         ]
        },
        {
         "hoverinfo": "skip",
         "line": {
          "color": "black",
          "width": 1
         },
         "mode": "lines",
         "showlegend": false,
         "type": "scatter3d",
         "x": [
          0.28739188564117757,
          -0.24841655015355635
         ],
         "y": [
          -3.6208883690602627,
          -4.314104692702984
         ],
         "z": [
          0.17534369512279074,
          1.3269380024925652
         ]
        },
        {
         "hoverinfo": "skip",
         "line": {
          "color": "black",
          "width": 1
         },
         "mode": "lines",
         "showlegend": false,
         "type": "scatter3d",
         "x": [
          0.28739188564117757,
          -0.4416295953503676
         ],
         "y": [
          -3.6208883690602627,
          -3.5957016204844336
         ],
         "z": [
          0.17534369512279074,
          -0.6260918905290271
         ]
        },
        {
         "hoverinfo": "skip",
         "line": {
          "color": "black",
          "width": 1
         },
         "mode": "lines",
         "showlegend": false,
         "type": "scatter3d",
         "x": [
          1.480320584831757,
          2.551855024989353
         ],
         "y": [
          -4.38081146590108,
          -4.515665510620807
         ],
         "z": [
          -0.41274579257047955,
          0.7251602592474138
         ]
        },
        {
         "hoverinfo": "skip",
         "line": {
          "color": "black",
          "width": 1
         },
         "mode": "lines",
         "showlegend": false,
         "type": "scatter3d",
         "x": [
          1.480320584831757,
          2.0557165148821417
         ],
         "y": [
          -4.38081146590108,
          -3.682652200920845
         ],
         "z": [
          -0.41274579257047955,
          -1.491352408131528
         ]
        },
        {
         "hoverinfo": "skip",
         "line": {
          "color": "black",
          "width": 1
         },
         "mode": "lines",
         "showlegend": false,
         "type": "scatter3d",
         "x": [
          1.480320584831757,
          1.191975546023585
         ],
         "y": [
          -4.38081146590108,
          -5.388081243451282
         ],
         "z": [
          -0.41274579257047955,
          -0.7041667123716275
         ]
        },
        {
         "hoverinfo": "skip",
         "line": {
          "color": "black",
          "width": 1
         },
         "mode": "lines",
         "showlegend": false,
         "type": "scatter3d",
         "x": [
          2.551855024989353,
          1.9213705212635026
         ],
         "y": [
          -4.515665510620807,
          -5.208421548159997
         ],
         "z": [
          0.7251602592474138,
          1.937228063874931
         ]
        },
        {
         "hoverinfo": "skip",
         "line": {
          "color": "black",
          "width": 1
         },
         "mode": "lines",
         "showlegend": false,
         "type": "scatter3d",
         "x": [
          2.551855024989353,
          3.656002120222209
         ],
         "y": [
          -4.515665510620807,
          -5.289853972410994
         ],
         "z": [
          0.7251602592474138,
          0.25239454801213945
         ]
        },
        {
         "hoverinfo": "skip",
         "line": {
          "color": "black",
          "width": 1
         },
         "mode": "lines",
         "showlegend": false,
         "type": "scatter3d",
         "x": [
          2.551855024989353,
          2.8968061322786154
         ],
         "y": [
          -4.515665510620807,
          -3.5219250793962225
         ],
         "z": [
          0.7251602592474138,
          1.0110320643095607
         ]
        },
        {
         "hoverinfo": "skip",
         "line": {
          "color": "black",
          "width": 1
         },
         "mode": "lines",
         "showlegend": false,
         "type": "scatter3d",
         "x": [
          1.9213705212635026,
          0.6927362615491515
         ],
         "y": [
          -5.208421548159997,
          -4.415224134145273
         ],
         "z": [
          1.937228063874931,
          2.387308854685344
         ]
        },
        {
         "hoverinfo": "skip",
         "line": {
          "color": "black",
          "width": 1
         },
         "mode": "lines",
         "showlegend": false,
         "type": "scatter3d",
         "x": [
          1.9213705212635026,
          2.871911843306937
         ],
         "y": [
          -5.208421548159997,
          -5.263996501869976
         ],
         "z": [
          1.937228063874931,
          3.002886836469637
         ]
        },
        {
         "hoverinfo": "skip",
         "line": {
          "color": "black",
          "width": 1
         },
         "mode": "lines",
         "showlegend": false,
         "type": "scatter3d",
         "x": [
          1.9213705212635026,
          1.6207417462584386
         ],
         "y": [
          -5.208421548159997,
          -6.220381288812531
         ],
         "z": [
          1.937228063874931,
          1.6623374984904262
         ]
        },
        {
         "hoverinfo": "skip",
         "line": {
          "color": "black",
          "width": 1
         },
         "mode": "lines",
         "showlegend": false,
         "type": "scatter3d",
         "x": [
          0.6927362615491515,
          0.023121121966325875
         ],
         "y": [
          -4.415224134145273,
          -5.1331744330517735
         ],
         "z": [
          2.387308854685344,
          3.5601587739595617
         ]
        },
        {
         "hoverinfo": "skip",
         "line": {
          "color": "black",
          "width": 1
         },
         "mode": "lines",
         "showlegend": false,
         "type": "scatter3d",
         "x": [
          0.6927362615491515,
          -0.24841655015355635
         ],
         "y": [
          -4.415224134145273,
          -4.314104692702984
         ],
         "z": [
          2.387308854685344,
          1.3269380024925652
         ]
        },
        {
         "hoverinfo": "skip",
         "line": {
          "color": "black",
          "width": 1
         },
         "mode": "lines",
         "showlegend": false,
         "type": "scatter3d",
         "x": [
          0.6927362615491515,
          0.9993730295362183
         ],
         "y": [
          -4.415224134145273,
          -3.4159166774238847
         ],
         "z": [
          2.387308854685344,
          2.6998268533021843
         ]
        },
        {
         "hoverinfo": "skip",
         "line": {
          "color": "black",
          "width": 1
         },
         "mode": "lines",
         "showlegend": false,
         "type": "scatter3d",
         "x": [
          0.023121121966325875,
          -1.0536800248494305
         ],
         "y": [
          -5.1331744330517735,
          -4.3351816382697255
         ],
         "z": [
          3.5601587739595617,
          4.05638834753636
         ]
        },
        {
         "hoverinfo": "skip",
         "line": {
          "color": "black",
          "width": 1
         },
         "mode": "lines",
         "showlegend": false,
         "type": "scatter3d",
         "x": [
          0.023121121966325875,
          0.7522731954762834
         ],
         "y": [
          -5.1331744330517735,
          -5.291760896761097
         ],
         "z": [
          3.5601587739595617,
          4.353962016094729
         ]
        },
        {
         "hoverinfo": "skip",
         "line": {
          "color": "black",
          "width": 1
         },
         "mode": "lines",
         "showlegend": false,
         "type": "scatter3d",
         "x": [
          0.023121121966325875,
          -0.3628865421639118
         ],
         "y": [
          -5.1331744330517735,
          -6.095439244578159
         ],
         "z": [
          3.5601587739595617,
          3.224400653088588
         ]
        },
        {
         "hoverinfo": "skip",
         "line": {
          "color": "black",
          "width": 1
         },
         "mode": "lines",
         "showlegend": false,
         "type": "scatter3d",
         "x": [
          2.0557165148821417,
          3.370180722730016
         ],
         "y": [
          -3.682652200920845,
          -3.245639821141027
         ],
         "z": [
          -1.491352408131528,
          -1.3736236257287506
         ]
        },
        {
         "hoverinfo": "skip",
         "line": {
          "color": "black",
          "width": 1
         },
         "mode": "lines",
         "showlegend": false,
         "type": "scatter3d",
         "x": [
          3.656002120222209,
          4.237486750862175
         ],
         "y": [
          -5.289853972410994,
          -6.188240615228173
         ],
         "z": [
          0.25239454801213945,
          1.1610816637660615
         ]
        },
        {
         "hoverinfo": "skip",
         "line": {
          "color": "black",
          "width": 1
         },
         "mode": "lines",
         "showlegend": false,
         "type": "scatter3d",
         "x": [
          2.871911843306937,
          3.6796362109456533
         ],
         "y": [
          -5.263996501869976,
          -5.749565157600492
         ],
         "z": [
          3.002886836469637,
          2.7847918422705558
         ]
        },
        {
         "hoverinfo": "skip",
         "line": {
          "color": "black",
          "width": 1
         },
         "mode": "lines",
         "showlegend": false,
         "type": "scatter3d",
         "x": [
          -1.0536800248494305,
          -1.5254480198313962
         ],
         "y": [
          -4.3351816382697255,
          -4.729868650877536
         ],
         "z": [
          4.05638834753636,
          4.801926489410683
         ]
        },
        {
         "hoverinfo": "skip",
         "line": {
          "color": "black",
          "width": 1
         },
         "mode": "lines",
         "showlegend": false,
         "type": "scatter3d",
         "x": [
          4.237486750862175,
          5.523963815710901
         ],
         "y": [
          -6.188240615228173,
          -6.745677888786662
         ],
         "z": [
          1.1610816637660615,
          0.608278934335493
         ]
        },
        {
         "hoverinfo": "skip",
         "line": {
          "color": "black",
          "width": 1
         },
         "mode": "lines",
         "showlegend": false,
         "type": "scatter3d",
         "x": [
          4.237486750862175,
          3.273024317767564
         ],
         "y": [
          -6.188240615228173,
          -7.235385181769364
         ],
         "z": [
          1.1610816637660615,
          1.4982306989307572
         ]
        },
        {
         "hoverinfo": "skip",
         "line": {
          "color": "black",
          "width": 1
         },
         "mode": "lines",
         "showlegend": false,
         "type": "scatter3d",
         "x": [
          4.237486750862175,
          4.45947410918213
         ],
         "y": [
          -6.188240615228173,
          -5.627756418451672
         ],
         "z": [
          1.1610816637660615,
          2.0879859565115035
         ]
        },
        {
         "hoverinfo": "skip",
         "line": {
          "color": "black",
          "width": 1
         },
         "mode": "lines",
         "showlegend": false,
         "type": "scatter3d",
         "x": [
          5.523963815710901,
          6.10428264304959
         ],
         "y": [
          -6.745677888786662,
          -7.757267939027176
         ],
         "z": [
          0.608278934335493,
          1.6130244037803174
         ]
        },
        {
         "hoverinfo": "skip",
         "line": {
          "color": "black",
          "width": 1
         },
         "mode": "lines",
         "showlegend": false,
         "type": "scatter3d",
         "x": [
          5.523963815710901,
          6.450114558946712
         ],
         "y": [
          -6.745677888786662,
          -5.720738560427202
         ],
         "z": [
          0.608278934335493,
          0.3547361315445263
         ]
        },
        {
         "hoverinfo": "skip",
         "line": {
          "color": "black",
          "width": 1
         },
         "mode": "lines",
         "showlegend": false,
         "type": "scatter3d",
         "x": [
          5.523963815710901,
          5.2894487659797065
         ],
         "y": [
          -6.745677888786662,
          -7.289668686159618
         ],
         "z": [
          0.608278934335493,
          -0.3275865029954237
         ]
        },
        {
         "hoverinfo": "skip",
         "line": {
          "color": "black",
          "width": 1
         },
         "mode": "lines",
         "showlegend": false,
         "type": "scatter3d",
         "x": [
          6.10428264304959,
          5.060830356326786
         ],
         "y": [
          -7.757267939027176,
          -8.832623734551518
         ],
         "z": [
          1.6130244037803174,
          1.9306314540250489
         ]
        },
        {
         "hoverinfo": "skip",
         "line": {
          "color": "black",
          "width": 1
         },
         "mode": "lines",
         "showlegend": false,
         "type": "scatter3d",
         "x": [
          6.10428264304959,
          7.268059606190848
         ],
         "y": [
          -7.757267939027176,
          -8.371315322648218
         ],
         "z": [
          1.6130244037803174,
          1.054668790635915
         ]
        },
        {
         "hoverinfo": "skip",
         "line": {
          "color": "black",
          "width": 1
         },
         "mode": "lines",
         "showlegend": false,
         "type": "scatter3d",
         "x": [
          6.10428264304959,
          6.372724850492382
         ],
         "y": [
          -7.757267939027176,
          -7.227647400676437
         ],
         "z": [
          1.6130244037803174,
          2.527686563607821
         ]
        },
        {
         "hoverinfo": "skip",
         "line": {
          "color": "black",
          "width": 1
         },
         "mode": "lines",
         "showlegend": false,
         "type": "scatter3d",
         "x": [
          5.060830356326786,
          3.788838332467794
         ],
         "y": [
          -8.832623734551518,
          -8.160416923057236
         ],
         "z": [
          1.9306314540250489,
          2.4550609476843914
         ]
        },
        {
         "hoverinfo": "skip",
         "line": {
          "color": "black",
          "width": 1
         },
         "mode": "lines",
         "showlegend": false,
         "type": "scatter3d",
         "x": [
          5.060830356326786,
          4.757062466408647
         ],
         "y": [
          -8.832623734551518,
          -9.56881200615805
         ],
         "z": [
          1.9306314540250489,
          0.7450544224477378
         ]
        },
        {
         "hoverinfo": "skip",
         "line": {
          "color": "black",
          "width": 1
         },
         "mode": "lines",
         "showlegend": false,
         "type": "scatter3d",
         "x": [
          5.060830356326786,
          5.453656357902075
         ],
         "y": [
          -8.832623734551518,
          -9.5089764884601
         ],
         "z": [
          1.9306314540250489,
          2.690341717722104
         ]
        },
        {
         "hoverinfo": "skip",
         "line": {
          "color": "black",
          "width": 1
         },
         "mode": "lines",
         "showlegend": false,
         "type": "scatter3d",
         "x": [
          3.788838332467794,
          2.72096606462462
         ],
         "y": [
          -8.160416923057236,
          -9.2229501140345
         ],
         "z": [
          2.4550609476843914,
          2.718030599247359
         ]
        },
        {
         "hoverinfo": "skip",
         "line": {
          "color": "black",
          "width": 1
         },
         "mode": "lines",
         "showlegend": false,
         "type": "scatter3d",
         "x": [
          3.788838332467794,
          3.273024317767564
         ],
         "y": [
          -8.160416923057236,
          -7.235385181769364
         ],
         "z": [
          2.4550609476843914,
          1.4982306989307572
         ]
        },
        {
         "hoverinfo": "skip",
         "line": {
          "color": "black",
          "width": 1
         },
         "mode": "lines",
         "showlegend": false,
         "type": "scatter3d",
         "x": [
          3.788838332467794,
          4.0129037309233215
         ],
         "y": [
          -8.160416923057236,
          -7.632381632327904
         ],
         "z": [
          2.4550609476843914,
          3.3823399935812324
         ]
        },
        {
         "hoverinfo": "skip",
         "line": {
          "color": "black",
          "width": 1
         },
         "mode": "lines",
         "showlegend": false,
         "type": "scatter3d",
         "x": [
          2.72096606462462,
          1.5763239118701478
         ],
         "y": [
          -9.2229501140345,
          -8.60982886973319
         ],
         "z": [
          2.718030599247359,
          3.3155142240639917
         ]
        },
        {
         "hoverinfo": "skip",
         "line": {
          "color": "black",
          "width": 1
         },
         "mode": "lines",
         "showlegend": false,
         "type": "scatter3d",
         "x": [
          2.72096606462462,
          3.1201928192922215
         ],
         "y": [
          -9.2229501140345,
          -9.980787994570846
         ],
         "z": [
          2.718030599247359,
          3.3919725442112805
         ]
        },
        {
         "hoverinfo": "skip",
         "line": {
          "color": "black",
          "width": 1
         },
         "mode": "lines",
         "showlegend": false,
         "type": "scatter3d",
         "x": [
          2.72096606462462,
          2.4326195125580155
         ],
         "y": [
          -9.2229501140345,
          -9.689360576626797
         ],
         "z": [
          2.718030599247359,
          1.7764927368670185
         ]
        },
        {
         "hoverinfo": "skip",
         "line": {
          "color": "black",
          "width": 1
         },
         "mode": "lines",
         "showlegend": false,
         "type": "scatter3d",
         "x": [
          6.450114558946712,
          6.138660697551929
         ],
         "y": [
          -5.720738560427202,
          -5.054095831051122
         ],
         "z": [
          0.3547361315445263,
          -0.27264012206433397
         ]
        },
        {
         "hoverinfo": "skip",
         "line": {
          "color": "black",
          "width": 1
         },
         "mode": "lines",
         "showlegend": false,
         "type": "scatter3d",
         "x": [
          7.268059606190848,
          7.969060484031798
         ],
         "y": [
          -8.371315322648218,
          -7.746525027949046
         ],
         "z": [
          1.054668790635915,
          0.8231242875356732
         ]
        },
        {
         "hoverinfo": "skip",
         "line": {
          "color": "black",
          "width": 1
         },
         "mode": "lines",
         "showlegend": false,
         "type": "scatter3d",
         "x": [
          4.757062466408647,
          5.554273632628828
         ],
         "y": [
          -9.56881200615805,
          -10.66905801919593
         ],
         "z": [
          0.7450544224477378,
          0.3929095272013239
         ]
        },
        {
         "hoverinfo": "skip",
         "line": {
          "color": "black",
          "width": 1
         },
         "mode": "lines",
         "showlegend": false,
         "type": "scatter3d",
         "x": [
          1.5763239118701478,
          0.8573331964579269
         ],
         "y": [
          -8.60982886973319,
          -9.226460792618541
         ],
         "z": [
          3.3155142240639917,
          3.510251028057841
         ]
        },
        {
         "hoverinfo": "skip",
         "line": {
          "color": "black",
          "width": 1
         },
         "mode": "lines",
         "showlegend": false,
         "type": "scatter3d",
         "x": [
          5.554273632628828,
          4.866320224547968
         ],
         "y": [
          -10.66905801919593,
          -11.96110913350714
         ],
         "z": [
          0.3929095272013239,
          0.7516217186823118
         ]
        },
        {
         "hoverinfo": "skip",
         "line": {
          "color": "black",
          "width": 1
         },
         "mode": "lines",
         "showlegend": false,
         "type": "scatter3d",
         "x": [
          5.554273632628828,
          5.889503553988572
         ],
         "y": [
          -10.66905801919593,
          -10.592083898242059
         ],
         "z": [
          0.3929095272013239,
          -1.0146759531615985
         ]
        },
        {
         "hoverinfo": "skip",
         "line": {
          "color": "black",
          "width": 1
         },
         "mode": "lines",
         "showlegend": false,
         "type": "scatter3d",
         "x": [
          5.554273632628828,
          6.497273049932708
         ],
         "y": [
          -10.66905801919593,
          -10.594351436161784
         ],
         "z": [
          0.3929095272013239,
          0.9653984051857825
         ]
        },
        {
         "hoverinfo": "skip",
         "line": {
          "color": "black",
          "width": 1
         },
         "mode": "lines",
         "showlegend": false,
         "type": "scatter3d",
         "x": [
          4.866320224547968,
          5.751157293389989
         ],
         "y": [
          -11.96110913350714,
          -13.140014988518232
         ],
         "z": [
          0.7516217186823118,
          0.30897956916398894
         ]
        },
        {
         "hoverinfo": "skip",
         "line": {
          "color": "black",
          "width": 1
         },
         "mode": "lines",
         "showlegend": false,
         "type": "scatter3d",
         "x": [
          4.866320224547968,
          4.613285882466256
         ],
         "y": [
          -11.96110913350714,
          -12.033710588156485
         ],
         "z": [
          0.7516217186823118,
          2.13426864926683
         ]
        },
        {
         "hoverinfo": "skip",
         "line": {
          "color": "black",
          "width": 1
         },
         "mode": "lines",
         "showlegend": false,
         "type": "scatter3d",
         "x": [
          4.866320224547968,
          3.91586933538977
         ],
         "y": [
          -11.96110913350714,
          -12.014988732506898
         ],
         "z": [
          0.7516217186823118,
          0.18811586698457816
         ]
        },
        {
         "hoverinfo": "skip",
         "line": {
          "color": "black",
          "width": 1
         },
         "mode": "lines",
         "showlegend": false,
         "type": "scatter3d",
         "x": [
          5.751157293389989,
          6.07330214405259
         ],
         "y": [
          -13.140014988518232,
          -13.01384827469256
         ],
         "z": [
          0.30897956916398894,
          -1.1831201780091027
         ]
        },
        {
         "hoverinfo": "skip",
         "line": {
          "color": "black",
          "width": 1
         },
         "mode": "lines",
         "showlegend": false,
         "type": "scatter3d",
         "x": [
          5.751157293389989,
          5.063898568748783
         ],
         "y": [
          -13.140014988518232,
          -14.370606262810867
         ],
         "z": [
          0.30897956916398894,
          0.5467032765205952
         ]
        },
        {
         "hoverinfo": "skip",
         "line": {
          "color": "black",
          "width": 1
         },
         "mode": "lines",
         "showlegend": false,
         "type": "scatter3d",
         "x": [
          5.751157293389989,
          6.676749404343498
         ],
         "y": [
          -13.140014988518232,
          -13.1202060395213
         ],
         "z": [
          0.30897956916398894,
          0.8852198399541036
         ]
        },
        {
         "hoverinfo": "skip",
         "line": {
          "color": "black",
          "width": 1
         },
         "mode": "lines",
         "showlegend": false,
         "type": "scatter3d",
         "x": [
          6.07330214405259,
          6.739153388942177
         ],
         "y": [
          -13.01384827469256,
          -11.65932984087781
         ],
         "z": [
          -1.1831201780091027,
          -1.4415267029557937
         ]
        },
        {
         "hoverinfo": "skip",
         "line": {
          "color": "black",
          "width": 1
         },
         "mode": "lines",
         "showlegend": false,
         "type": "scatter3d",
         "x": [
          6.07330214405259,
          4.866732557493382
         ],
         "y": [
          -13.01384827469256,
          -13.104595025141528
         ],
         "z": [
          -1.1831201780091027,
          -1.9419323155459867
         ]
        },
        {
         "hoverinfo": "skip",
         "line": {
          "color": "black",
          "width": 1
         },
         "mode": "lines",
         "showlegend": false,
         "type": "scatter3d",
         "x": [
          6.07330214405259,
          6.752111311166297
         ],
         "y": [
          -13.01384827469256,
          -13.814333154915182
         ],
         "z": [
          -1.1831201780091027,
          -1.47869939104238
         ]
        },
        {
         "hoverinfo": "skip",
         "line": {
          "color": "black",
          "width": 1
         },
         "mode": "lines",
         "showlegend": false,
         "type": "scatter3d",
         "x": [
          6.739153388942177,
          7.009716398925608
         ],
         "y": [
          -11.65932984087781,
          -11.500539508206224
         ],
         "z": [
          -1.4415267029557937,
          -2.9382104664405033
         ]
        },
        {
         "hoverinfo": "skip",
         "line": {
          "color": "black",
          "width": 1
         },
         "mode": "lines",
         "showlegend": false,
         "type": "scatter3d",
         "x": [
          6.739153388942177,
          5.889503553988572
         ],
         "y": [
          -11.65932984087781,
          -10.592083898242059
         ],
         "z": [
          -1.4415267029557937,
          -1.0146759531615985
         ]
        },
        {
         "hoverinfo": "skip",
         "line": {
          "color": "black",
          "width": 1
         },
         "mode": "lines",
         "showlegend": false,
         "type": "scatter3d",
         "x": [
          6.739153388942177,
          7.680601729368048
         ],
         "y": [
          -11.65932984087781,
          -11.607017487840857
         ],
         "z": [
          -1.4415267029557937,
          -0.8939763034224635
         ]
        },
        {
         "hoverinfo": "skip",
         "line": {
          "color": "black",
          "width": 1
         },
         "mode": "lines",
         "showlegend": false,
         "type": "scatter3d",
         "x": [
          7.009716398925608,
          7.734357007618713
         ],
         "y": [
          -11.500539508206224,
          -10.289543579286654
         ],
         "z": [
          -2.9382104664405033,
          -3.1651352301246685
         ]
        },
        {
         "hoverinfo": "skip",
         "line": {
          "color": "black",
          "width": 1
         },
         "mode": "lines",
         "showlegend": false,
         "type": "scatter3d",
         "x": [
          7.009716398925608,
          7.5971095253295005
         ],
         "y": [
          -11.500539508206224,
          -12.347118069098146
         ],
         "z": [
          -2.9382104664405033,
          -3.2934175261840077
         ]
        },
        {
         "hoverinfo": "skip",
         "line": {
          "color": "black",
          "width": 1
         },
         "mode": "lines",
         "showlegend": false,
         "type": "scatter3d",
         "x": [
          7.009716398925608,
          6.063279431367144
         ],
         "y": [
          -11.500539508206224,
          -11.463257089612863
         ],
         "z": [
          -2.9382104664405033,
          -3.4767669515955615
         ]
        },
        {
         "hoverinfo": "skip",
         "line": {
          "color": "black",
          "width": 1
         },
         "mode": "lines",
         "showlegend": false,
         "type": "scatter3d",
         "x": [
          4.613285882466256,
          4.05916980249675
         ],
         "y": [
          -12.033710588156485,
          -11.316581055109904
         ],
         "z": [
          2.13426864926683,
          2.471459400551059
         ]
        },
        {
         "hoverinfo": "skip",
         "line": {
          "color": "black",
          "width": 1
         },
         "mode": "lines",
         "showlegend": false,
         "type": "scatter3d",
         "x": [
          5.063898568748783,
          5.6027960796688205
         ],
         "y": [
          -14.370606262810867,
          -15.220517327694829
         ],
         "z": [
          0.5467032765205952,
          1.5255678557714734
         ]
        },
        {
         "hoverinfo": "skip",
         "line": {
          "color": "black",
          "width": 1
         },
         "mode": "lines",
         "showlegend": false,
         "type": "scatter3d",
         "x": [
          4.866732557493382,
          4.388930815680093
         ],
         "y": [
          -13.104595025141528,
          -13.937777708142
         ],
         "z": [
          -1.9419323155459867,
          -1.823158950399077
         ]
        },
        {
         "hoverinfo": "skip",
         "line": {
          "color": "black",
          "width": 1
         },
         "mode": "lines",
         "showlegend": false,
         "type": "scatter3d",
         "x": [
          7.734357007618713,
          7.940916085481296
         ],
         "y": [
          -10.289543579286654,
          -10.123949627724773
         ],
         "z": [
          -3.1651352301246685,
          -4.095198126147663
         ]
        },
        {
         "hoverinfo": "skip",
         "line": {
          "color": "black",
          "width": 1
         },
         "mode": "lines",
         "showlegend": false,
         "type": "scatter3d",
         "x": [
          5.6027960796688205,
          4.649374390469096
         ],
         "y": [
          -15.220517327694829,
          -16.345365490199164
         ],
         "z": [
          1.5255678557714734,
          1.836618806379522
         ]
        },
        {
         "hoverinfo": "skip",
         "line": {
          "color": "black",
          "width": 1
         },
         "mode": "lines",
         "showlegend": false,
         "type": "scatter3d",
         "x": [
          5.6027960796688205,
          6.9135664546085565
         ],
         "y": [
          -15.220517327694829,
          -15.700883742571758
         ],
         "z": [
          1.5255678557714734,
          1.0879628607832652
         ]
        },
        {
         "hoverinfo": "skip",
         "line": {
          "color": "black",
          "width": 1
         },
         "mode": "lines",
         "showlegend": false,
         "type": "scatter3d",
         "x": [
          5.6027960796688205,
          5.755962247218171
         ],
         "y": [
          -15.220517327694829,
          -14.61954687988207
         ],
         "z": [
          1.5255678557714734,
          2.4409623805387852
         ]
        },
        {
         "hoverinfo": "skip",
         "line": {
          "color": "black",
          "width": 1
         },
         "mode": "lines",
         "showlegend": false,
         "type": "scatter3d",
         "x": [
          4.649374390469096,
          5.295886194255522
         ],
         "y": [
          -16.345365490199164,
          -17.27658699181007
         ],
         "z": [
          1.836618806379522,
          2.878109820237623
         ]
        },
        {
         "hoverinfo": "skip",
         "line": {
          "color": "black",
          "width": 1
         },
         "mode": "lines",
         "showlegend": false,
         "type": "scatter3d",
         "x": [
          4.649374390469096,
          3.4243256316584647
         ],
         "y": [
          -16.345365490199164,
          -15.852327531560723
         ],
         "z": [
          1.836618806379522,
          2.313231912702179
         ]
        },
        {
         "hoverinfo": "skip",
         "line": {
          "color": "black",
          "width": 1
         },
         "mode": "lines",
         "showlegend": false,
         "type": "scatter3d",
         "x": [
          4.649374390469096,
          4.491937561016936
         ],
         "y": [
          -16.345365490199164,
          -16.92918510986124
         ],
         "z": [
          1.836618806379522,
          0.9079442110737084
         ]
        },
        {
         "hoverinfo": "skip",
         "line": {
          "color": "black",
          "width": 1
         },
         "mode": "lines",
         "showlegend": false,
         "type": "scatter3d",
         "x": [
          5.295886194255522,
          6.660546453315635
         ],
         "y": [
          -17.27658699181007,
          -17.75512648362009
         ],
         "z": [
          2.878109820237623,
          2.3733729262817733
         ]
        },
        {
         "hoverinfo": "skip",
         "line": {
          "color": "black",
          "width": 1
         },
         "mode": "lines",
         "showlegend": false,
         "type": "scatter3d",
         "x": [
          5.295886194255522,
          4.447338718774148
         ],
         "y": [
          -17.27658699181007,
          -18.40477186923964
         ],
         "z": [
          2.878109820237623,
          3.102515845543121
         ]
        },
        {
         "hoverinfo": "skip",
         "line": {
          "color": "black",
          "width": 1
         },
         "mode": "lines",
         "showlegend": false,
         "type": "scatter3d",
         "x": [
          5.295886194255522,
          5.424388827442796
         ],
         "y": [
          -17.27658699181007,
          -16.72396973891508
         ],
         "z": [
          2.878109820237623,
          3.8093816629703086
         ]
        },
        {
         "hoverinfo": "skip",
         "line": {
          "color": "black",
          "width": 1
         },
         "mode": "lines",
         "showlegend": false,
         "type": "scatter3d",
         "x": [
          6.660546453315635,
          7.5366639424097706
         ],
         "y": [
          -17.75512648362009,
          -16.538619563471137
         ],
         "z": [
          2.3733729262817733,
          2.0613135432581084
         ]
        },
        {
         "hoverinfo": "skip",
         "line": {
          "color": "black",
          "width": 1
         },
         "mode": "lines",
         "showlegend": false,
         "type": "scatter3d",
         "x": [
          6.660546453315635,
          6.485886732228457
         ],
         "y": [
          -17.75512648362009,
          -18.533502597734717
         ],
         "z": [
          2.3733729262817733,
          1.1886933886828683
         ]
        },
        {
         "hoverinfo": "skip",
         "line": {
          "color": "black",
          "width": 1
         },
         "mode": "lines",
         "showlegend": false,
         "type": "scatter3d",
         "x": [
          6.660546453315635,
          7.141472278920311
         ],
         "y": [
          -17.75512648362009,
          -18.361406670314437
         ],
         "z": [
          2.3733729262817733,
          3.1415263520297323
         ]
        },
        {
         "hoverinfo": "skip",
         "line": {
          "color": "black",
          "width": 1
         },
         "mode": "lines",
         "showlegend": false,
         "type": "scatter3d",
         "x": [
          7.5366639424097706,
          8.879838771321644
         ],
         "y": [
          -16.538619563471137,
          -17.007092653069904
         ],
         "z": [
          2.0613135432581084,
          1.5001581785868408
         ]
        },
        {
         "hoverinfo": "skip",
         "line": {
          "color": "black",
          "width": 1
         },
         "mode": "lines",
         "showlegend": false,
         "type": "scatter3d",
         "x": [
          7.5366639424097706,
          6.9135664546085565
         ],
         "y": [
          -16.538619563471137,
          -15.700883742571758
         ],
         "z": [
          2.0613135432581084,
          1.0879628607832652
         ]
        },
        {
         "hoverinfo": "skip",
         "line": {
          "color": "black",
          "width": 1
         },
         "mode": "lines",
         "showlegend": false,
         "type": "scatter3d",
         "x": [
          7.5366639424097706,
          7.703335398877375
         ],
         "y": [
          -16.538619563471137,
          -15.967090794617484
         ],
         "z": [
          2.0613135432581084,
          2.9747950657705187
         ]
        },
        {
         "hoverinfo": "skip",
         "line": {
          "color": "black",
          "width": 1
         },
         "mode": "lines",
         "showlegend": false,
         "type": "scatter3d",
         "x": [
          8.879838771321644,
          9.739042540523323
         ],
         "y": [
          -17.007092653069904,
          -15.879398386889584
         ],
         "z": [
          1.5001581785868408,
          1.317991976964079
         ]
        },
        {
         "hoverinfo": "skip",
         "line": {
          "color": "black",
          "width": 1
         },
         "mode": "lines",
         "showlegend": false,
         "type": "scatter3d",
         "x": [
          8.879838771321644,
          9.341313078102724
         ],
         "y": [
          -17.007092653069904,
          -17.706253656468846
         ],
         "z": [
          1.5001581785868408,
          2.1973764769031616
         ]
        },
        {
         "hoverinfo": "skip",
         "line": {
          "color": "black",
          "width": 1
         },
         "mode": "lines",
         "showlegend": false,
         "type": "scatter3d",
         "x": [
          8.879838771321644,
          8.721174348626658
         ],
         "y": [
          -17.007092653069904,
          -17.500760583015754
         ],
         "z": [
          1.5001581785868408,
          0.541881821832777
         ]
        },
        {
         "hoverinfo": "skip",
         "line": {
          "color": "black",
          "width": 1
         },
         "mode": "lines",
         "showlegend": false,
         "type": "scatter3d",
         "x": [
          3.4243256316584647,
          2.971062137616494
         ],
         "y": [
          -15.852327531560723,
          -15.2602464855551
         ],
         "z": [
          2.313231912702179,
          1.6975946494296
         ]
        },
        {
         "hoverinfo": "skip",
         "line": {
          "color": "black",
          "width": 1
         },
         "mode": "lines",
         "showlegend": false,
         "type": "scatter3d",
         "x": [
          4.447338718774148,
          3.5625552990417675
         ],
         "y": [
          -18.40477186923964,
          -18.17423744776699
         ],
         "z": [
          3.102515845543121,
          3.4177779280759597
         ]
        },
        {
         "hoverinfo": "skip",
         "line": {
          "color": "black",
          "width": 1
         },
         "mode": "lines",
         "showlegend": false,
         "type": "scatter3d",
         "x": [
          6.485886732228457,
          5.936034031854064
         ],
         "y": [
          -18.533502597734717,
          -19.320253362073178
         ],
         "z": [
          1.1886933886828683,
          1.3123066675158235
         ]
        },
        {
         "hoverinfo": "skip",
         "line": {
          "color": "black",
          "width": 1
         },
         "mode": "lines",
         "showlegend": false,
         "type": "scatter3d",
         "x": [
          9.739042540523323,
          10.610602235370099
         ],
         "y": [
          -15.879398386889584,
          -16.102964567175196
         ],
         "z": [
          1.317991976964079,
          0.9637225013510948
         ]
        },
        {
         "hoverinfo": "skip",
         "line": {
          "color": "black",
          "width": 1
         },
         "mode": "lines",
         "showlegend": false,
         "type": "scatter3d",
         "x": [
          3.370180722730016,
          4.342995410058376
         ],
         "y": [
          -3.245639821141027,
          -4.428916027255673
         ],
         "z": [
          -1.3736236257287506,
          -1.3962732208940924
         ]
        },
        {
         "hoverinfo": "skip",
         "line": {
          "color": "black",
          "width": 1
         },
         "mode": "lines",
         "showlegend": false,
         "type": "scatter3d",
         "x": [
          3.370180722730016,
          3.6513411897599326
         ],
         "y": [
          -3.245639821141027,
          -2.325538037107531
         ],
         "z": [
          -1.3736236257287506,
          -2.4584561007210404
         ]
        },
        {
         "hoverinfo": "skip",
         "line": {
          "color": "black",
          "width": 1
         },
         "mode": "lines",
         "showlegend": false,
         "type": "scatter3d",
         "x": [
          3.370180722730016,
          3.5423803632455018
         ],
         "y": [
          -3.245639821141027,
          -2.768128489508456
         ],
         "z": [
          -1.3736236257287506,
          -0.41616036169778703
         ]
        },
        {
         "hoverinfo": "skip",
         "line": {
          "color": "black",
          "width": 1
         },
         "mode": "lines",
         "showlegend": false,
         "type": "scatter3d",
         "x": [
          4.342995410058376,
          4.126498442731845
         ],
         "y": [
          -4.428916027255673,
          -5.18045429619363
         ],
         "z": [
          -1.3962732208940924,
          -2.753791895336951
         ]
        },
        {
         "hoverinfo": "skip",
         "line": {
          "color": "black",
          "width": 1
         },
         "mode": "lines",
         "showlegend": false,
         "type": "scatter3d",
         "x": [
          4.342995410058376,
          5.693115178717679
         ],
         "y": [
          -4.428916027255673,
          -3.971488124917645
         ],
         "z": [
          -1.3962732208940924,
          -1.3611689028370517
         ]
        },
        {
         "hoverinfo": "skip",
         "line": {
          "color": "black",
          "width": 1
         },
         "mode": "lines",
         "showlegend": false,
         "type": "scatter3d",
         "x": [
          4.342995410058376,
          4.150905291237018
         ],
         "y": [
          -4.428916027255673,
          -5.113942855256785
         ],
         "z": [
          -1.3962732208940924,
          -0.5983171137701269
         ]
        },
        {
         "hoverinfo": "skip",
         "line": {
          "color": "black",
          "width": 1
         },
         "mode": "lines",
         "showlegend": false,
         "type": "scatter3d",
         "x": [
          4.126498442731845,
          4.250016685001658
         ],
         "y": [
          -5.18045429619363,
          -4.176529332805269
         ],
         "z": [
          -2.753791895336951,
          -3.9052083759000245
         ]
        },
        {
         "hoverinfo": "skip",
         "line": {
          "color": "black",
          "width": 1
         },
         "mode": "lines",
         "showlegend": false,
         "type": "scatter3d",
         "x": [
          4.126498442731845,
          5.114014472594498
         ],
         "y": [
          -5.18045429619363,
          -6.204095885248118
         ],
         "z": [
          -2.753791895336951,
          -2.898398215815365
         ]
        },
        {
         "hoverinfo": "skip",
         "line": {
          "color": "black",
          "width": 1
         },
         "mode": "lines",
         "showlegend": false,
         "type": "scatter3d",
         "x": [
          4.126498442731845,
          3.1329316078512255
         ],
         "y": [
          -5.18045429619363,
          -5.627876943376505
         ],
         "z": [
          -2.753791895336951,
          -2.7627316611714585
         ]
        },
        {
         "hoverinfo": "skip",
         "line": {
          "color": "black",
          "width": 1
         },
         "mode": "lines",
         "showlegend": false,
         "type": "scatter3d",
         "x": [
          4.250016685001658,
          3.2980461971580066
         ],
         "y": [
          -4.176529332805269,
          -3.0070532722253507
         ],
         "z": [
          -3.9052083759000245,
          -3.649247570296521
         ]
        },
        {
         "hoverinfo": "skip",
         "line": {
          "color": "black",
          "width": 1
         },
         "mode": "lines",
         "showlegend": false,
         "type": "scatter3d",
         "x": [
          4.250016685001658,
          3.906135796830376
         ],
         "y": [
          -4.176529332805269,
          -4.815542656683919
         ],
         "z": [
          -3.9052083759000245,
          -5.135813473669447
         ]
        },
        {
         "hoverinfo": "skip",
         "line": {
          "color": "black",
          "width": 1
         },
         "mode": "lines",
         "showlegend": false,
         "type": "scatter3d",
         "x": [
          4.250016685001658,
          5.275095253770038
         ],
         "y": [
          -4.176529332805269,
          -3.8088434109244536
         ],
         "z": [
          -3.9052083759000245,
          -3.9592453142146766
         ]
        },
        {
         "hoverinfo": "skip",
         "line": {
          "color": "black",
          "width": 1
         },
         "mode": "lines",
         "showlegend": false,
         "type": "scatter3d",
         "x": [
          3.2980461971580066,
          3.3870442548285054
         ],
         "y": [
          -3.0070532722253507,
          -2.015203681937657
         ],
         "z": [
          -3.649247570296521,
          -4.811413107548858
         ]
        },
        {
         "hoverinfo": "skip",
         "line": {
          "color": "black",
          "width": 1
         },
         "mode": "lines",
         "showlegend": false,
         "type": "scatter3d",
         "x": [
          3.2980461971580066,
          3.6513411897599326
         ],
         "y": [
          -3.0070532722253507,
          -2.325538037107531
         ],
         "z": [
          -3.649247570296521,
          -2.4584561007210404
         ]
        },
        {
         "hoverinfo": "skip",
         "line": {
          "color": "black",
          "width": 1
         },
         "mode": "lines",
         "showlegend": false,
         "type": "scatter3d",
         "x": [
          3.2980461971580066,
          2.2777254688201856
         ],
         "y": [
          -3.0070532722253507,
          -3.3811711984711703
         ],
         "z": [
          -3.649247570296521,
          -3.5709827085403956
         ]
        },
        {
         "hoverinfo": "skip",
         "line": {
          "color": "black",
          "width": 1
         },
         "mode": "lines",
         "showlegend": false,
         "type": "scatter3d",
         "x": [
          3.3870442548285054,
          2.495838629348798
         ],
         "y": [
          -2.015203681937657,
          -0.9244632548408718
         ],
         "z": [
          -4.811413107548858,
          -4.575905456271785
         ]
        },
        {
         "hoverinfo": "skip",
         "line": {
          "color": "black",
          "width": 1
         },
         "mode": "lines",
         "showlegend": false,
         "type": "scatter3d",
         "x": [
          3.3870442548285054,
          4.407808504863519
         ],
         "y": [
          -2.015203681937657,
          -1.6398390750244094
         ],
         "z": [
          -4.811413107548858,
          -4.890177044266867
         ]
        },
        {
         "hoverinfo": "skip",
         "line": {
          "color": "black",
          "width": 1
         },
         "mode": "lines",
         "showlegend": false,
         "type": "scatter3d",
         "x": [
          3.3870442548285054,
          3.1126184885617403
         ],
         "y": [
          -2.015203681937657,
          -2.516009875847719
         ],
         "z": [
          -4.811413107548858,
          -5.7392480362674405
         ]
        },
        {
         "hoverinfo": "skip",
         "line": {
          "color": "black",
          "width": 1
         },
         "mode": "lines",
         "showlegend": false,
         "type": "scatter3d",
         "x": [
          5.693115178717679,
          5.784390382598928
         ],
         "y": [
          -3.971488124917645,
          -3.506280047215519
         ],
         "z": [
          -1.3611689028370517,
          -0.5187133956456462
         ]
        },
        {
         "hoverinfo": "skip",
         "line": {
          "color": "black",
          "width": 1
         },
         "mode": "lines",
         "showlegend": false,
         "type": "scatter3d",
         "x": [
          5.114014472594498,
          5.006818908150824
         ],
         "y": [
          -6.204095885248118,
          -6.803818758841156
         ],
         "z": [
          -2.898398215815365,
          -2.1474217941795652
         ]
        },
        {
         "hoverinfo": "skip",
         "line": {
          "color": "black",
          "width": 1
         },
         "mode": "lines",
         "showlegend": false,
         "type": "scatter3d",
         "x": [
          3.906135796830376,
          4.831957159519671
         ],
         "y": [
          -4.815542656683919,
          -5.593195159440236
         ],
         "z": [
          -5.135813473669447,
          -5.8219384107945835
         ]
        },
        {
         "hoverinfo": "skip",
         "line": {
          "color": "black",
          "width": 1
         },
         "mode": "lines",
         "showlegend": false,
         "type": "scatter3d",
         "x": [
          2.495838629348798,
          2.582990241096269
         ],
         "y": [
          -0.9244632548408718,
          -0.32385085125660096
         ],
         "z": [
          -4.575905456271785,
          -5.328446709114806
         ]
        },
        {
         "hoverinfo": "skip",
         "line": {
          "color": "black",
          "width": 1
         },
         "mode": "lines",
         "showlegend": false,
         "type": "scatter3d",
         "x": [
          4.831957159519671,
          5.329187133895838
         ],
         "y": [
          -5.593195159440236,
          -4.870704998502981
         ],
         "z": [
          -5.8219384107945835,
          -7.077797304114505
         ]
        },
        {
         "hoverinfo": "skip",
         "line": {
          "color": "black",
          "width": 1
         },
         "mode": "lines",
         "showlegend": false,
         "type": "scatter3d",
         "x": [
          4.831957159519671,
          4.212238862998239
         ],
         "y": [
          -5.593195159440236,
          -6.855098930072359
         ],
         "z": [
          -5.8219384107945835,
          -6.164512645991868
         ]
        },
        {
         "hoverinfo": "skip",
         "line": {
          "color": "black",
          "width": 1
         },
         "mode": "lines",
         "showlegend": false,
         "type": "scatter3d",
         "x": [
          4.831957159519671,
          5.724886884762492
         ],
         "y": [
          -5.593195159440236,
          -5.756726048456004
         ],
         "z": [
          -5.8219384107945835,
          -5.230043281472257
         ]
        },
        {
         "hoverinfo": "skip",
         "line": {
          "color": "black",
          "width": 1
         },
         "mode": "lines",
         "showlegend": false,
         "type": "scatter3d",
         "x": [
          5.329187133895838,
          4.075547144567605
         ],
         "y": [
          -4.870704998502981,
          -4.580827415817252
         ],
         "z": [
          -7.077797304114505,
          -7.972010075359487
         ]
        },
        {
         "hoverinfo": "skip",
         "line": {
          "color": "black",
          "width": 1
         },
         "mode": "lines",
         "showlegend": false,
         "type": "scatter3d",
         "x": [
          5.329187133895838,
          6.212870644604493
         ],
         "y": [
          -4.870704998502981,
          -5.705523275807869
         ],
         "z": [
          -7.077797304114505,
          -7.823035316725585
         ]
        },
        {
         "hoverinfo": "skip",
         "line": {
          "color": "black",
          "width": 1
         },
         "mode": "lines",
         "showlegend": false,
         "type": "scatter3d",
         "x": [
          5.329187133895838,
          5.794990104880635
         ],
         "y": [
          -4.870704998502981,
          -3.9377957250393587
         ],
         "z": [
          -7.077797304114505,
          -6.840145617535461
         ]
        },
        {
         "hoverinfo": "skip",
         "line": {
          "color": "black",
          "width": 1
         },
         "mode": "lines",
         "showlegend": false,
         "type": "scatter3d",
         "x": [
          4.075547144567605,
          3.310717872479277
         ],
         "y": [
          -4.580827415817252,
          -5.889649502127884
         ],
         "z": [
          -7.972010075359487,
          -8.197626854306272
         ]
        },
        {
         "hoverinfo": "skip",
         "line": {
          "color": "black",
          "width": 1
         },
         "mode": "lines",
         "showlegend": false,
         "type": "scatter3d",
         "x": [
          4.075547144567605,
          4.495757895226085
         ],
         "y": [
          -4.580827415817252,
          -4.044923593491575
         ],
         "z": [
          -7.972010075359487,
          -9.229058609922799
         ]
        },
        {
         "hoverinfo": "skip",
         "line": {
          "color": "black",
          "width": 1
         },
         "mode": "lines",
         "showlegend": false,
         "type": "scatter3d",
         "x": [
          4.075547144567605,
          3.431152574440656
         ],
         "y": [
          -4.580827415817252,
          -3.8624002123259533
         ],
         "z": [
          -7.972010075359487,
          -7.465986369121751
         ]
        },
        {
         "hoverinfo": "skip",
         "line": {
          "color": "black",
          "width": 1
         },
         "mode": "lines",
         "showlegend": false,
         "type": "scatter3d",
         "x": [
          3.310717872479277,
          3.009905516755846
         ],
         "y": [
          -5.889649502127884,
          -6.5296736607298485
         ],
         "z": [
          -8.197626854306272,
          -6.8414118997175954
         ]
        },
        {
         "hoverinfo": "skip",
         "line": {
          "color": "black",
          "width": 1
         },
         "mode": "lines",
         "showlegend": false,
         "type": "scatter3d",
         "x": [
          3.310717872479277,
          2.0868336909430543
         ],
         "y": [
          -5.889649502127884,
          -5.616470869902413
         ],
         "z": [
          -8.197626854306272,
          -8.882069653290108
         ]
        },
        {
         "hoverinfo": "skip",
         "line": {
          "color": "black",
          "width": 1
         },
         "mode": "lines",
         "showlegend": false,
         "type": "scatter3d",
         "x": [
          3.310717872479277,
          3.919310557431273
         ],
         "y": [
          -5.889649502127884,
          -6.568506241148283
         ],
         "z": [
          -8.197626854306272,
          -8.795679921942837
         ]
        },
        {
         "hoverinfo": "skip",
         "line": {
          "color": "black",
          "width": 1
         },
         "mode": "lines",
         "showlegend": false,
         "type": "scatter3d",
         "x": [
          3.009905516755846,
          2.214689135616443
         ],
         "y": [
          -6.5296736607298485,
          -7.8200460935412845
         ],
         "z": [
          -6.8414118997175954,
          -7.0532724477388005
         ]
        },
        {
         "hoverinfo": "skip",
         "line": {
          "color": "black",
          "width": 1
         },
         "mode": "lines",
         "showlegend": false,
         "type": "scatter3d",
         "x": [
          3.009905516755846,
          4.212238862998239
         ],
         "y": [
          -6.5296736607298485,
          -6.855098930072359
         ],
         "z": [
          -6.8414118997175954,
          -6.164512645991868
         ]
        },
        {
         "hoverinfo": "skip",
         "line": {
          "color": "black",
          "width": 1
         },
         "mode": "lines",
         "showlegend": false,
         "type": "scatter3d",
         "x": [
          3.009905516755846,
          2.422894263718908
         ],
         "y": [
          -6.5296736607298485,
          -5.838697120784188
         ],
         "z": [
          -6.8414118997175954,
          -6.237165914995538
         ]
        },
        {
         "hoverinfo": "skip",
         "line": {
          "color": "black",
          "width": 1
         },
         "mode": "lines",
         "showlegend": false,
         "type": "scatter3d",
         "x": [
          2.214689135616443,
          1.9295561468284834
         ],
         "y": [
          -7.8200460935412845,
          -8.416952350266767
         ],
         "z": [
          -7.0532724477388005,
          -5.7876389702316615
         ]
        },
        {
         "hoverinfo": "skip",
         "line": {
          "color": "black",
          "width": 1
         },
         "mode": "lines",
         "showlegend": false,
         "type": "scatter3d",
         "x": [
          2.214689135616443,
          2.8016620025926593
         ],
         "y": [
          -7.8200460935412845,
          -8.512436312634556
         ],
         "z": [
          -7.0532724477388005,
          -7.657524578837808
         ]
        },
        {
         "hoverinfo": "skip",
         "line": {
          "color": "black",
          "width": 1
         },
         "mode": "lines",
         "showlegend": false,
         "type": "scatter3d",
         "x": [
          2.214689135616443,
          1.281379094608078
         ],
         "y": [
          -7.8200460935412845,
          -7.592282628135922
         ],
         "z": [
          -7.0532724477388005,
          -7.5671305713288675
         ]
        },
        {
         "hoverinfo": "skip",
         "line": {
          "color": "black",
          "width": 1
         },
         "mode": "lines",
         "showlegend": false,
         "type": "scatter3d",
         "x": [
          6.212870644604493,
          6.964522809939713
         ],
         "y": [
          -5.705523275807869,
          -5.86995227463982
         ],
         "z": [
          -7.823035316725585,
          -7.237831825032316
         ]
        },
        {
         "hoverinfo": "skip",
         "line": {
          "color": "black",
          "width": 1
         },
         "mode": "lines",
         "showlegend": false,
         "type": "scatter3d",
         "x": [
          4.495757895226085,
          4.982039170775689
         ],
         "y": [
          -4.044923593491575,
          -3.2313332555276104
         ],
         "z": [
          -9.229058609922799,
          -9.037420192528137
         ]
        },
        {
         "hoverinfo": "skip",
         "line": {
          "color": "black",
          "width": 1
         },
         "mode": "lines",
         "showlegend": false,
         "type": "scatter3d",
         "x": [
          2.0868336909430543,
          1.0468634902201872
         ],
         "y": [
          -5.616470869902413,
          -4.990154715796645
         ],
         "z": [
          -8.882069653290108,
          -8.177596079112481
         ]
        },
        {
         "hoverinfo": "skip",
         "line": {
          "color": "black",
          "width": 1
         },
         "mode": "lines",
         "showlegend": false,
         "type": "scatter3d",
         "x": [
          1.9295561468284834,
          1.429852973914624
         ],
         "y": [
          -8.416952350266767,
          -9.22528768162956
         ],
         "z": [
          -5.7876389702316615,
          -5.965233258006975
         ]
        },
        {
         "hoverinfo": "skip",
         "line": {
          "color": "black",
          "width": 1
         },
         "mode": "lines",
         "showlegend": false,
         "type": "scatter3d",
         "x": [
          1.0468634902201872,
          -0.20597664009523164
         ],
         "y": [
          -4.990154715796645,
          -4.938024944128733
         ],
         "z": [
          -8.177596079112481,
          -9.011868998951723
         ]
        },
        {
         "hoverinfo": "skip",
         "line": {
          "color": "black",
          "width": 1
         },
         "mode": "lines",
         "showlegend": false,
         "type": "scatter3d",
         "x": [
          1.0468634902201872,
          0.8414877960416636
         ],
         "y": [
          -4.990154715796645,
          -5.672030031703391
         ],
         "z": [
          -8.177596079112481,
          -6.906487949251861
         ]
        },
        {
         "hoverinfo": "skip",
         "line": {
          "color": "black",
          "width": 1
         },
         "mode": "lines",
         "showlegend": false,
         "type": "scatter3d",
         "x": [
          1.0468634902201872,
          1.3707270138672065
         ],
         "y": [
          -4.990154715796645,
          -3.9569017600971725
         ],
         "z": [
          -8.177596079112481,
          -7.953825577059062
         ]
        },
        {
         "hoverinfo": "skip",
         "line": {
          "color": "black",
          "width": 1
         },
         "mode": "lines",
         "showlegend": false,
         "type": "scatter3d",
         "x": [
          -0.20597664009523164,
          -0.6849548447210525
         ],
         "y": [
          -4.938024944128733,
          -6.394654914347475
         ],
         "z": [
          -9.011868998951723,
          -9.23982269406746
         ]
        },
        {
         "hoverinfo": "skip",
         "line": {
          "color": "black",
          "width": 1
         },
         "mode": "lines",
         "showlegend": false,
         "type": "scatter3d",
         "x": [
          -0.20597664009523164,
          0.03830706276600182
         ],
         "y": [
          -4.938024944128733,
          -4.319162696522309
         ],
         "z": [
          -9.011868998951723,
          -10.250870302701871
         ]
        },
        {
         "hoverinfo": "skip",
         "line": {
          "color": "black",
          "width": 1
         },
         "mode": "lines",
         "showlegend": false,
         "type": "scatter3d",
         "x": [
          -0.20597664009523164,
          -0.9913924222133259
         ],
         "y": [
          -4.938024944128733,
          -4.40675335502595
         ],
         "z": [
          -9.011868998951723,
          -8.46027128360904
         ]
        },
        {
         "hoverinfo": "skip",
         "line": {
          "color": "black",
          "width": 1
         },
         "mode": "lines",
         "showlegend": false,
         "type": "scatter3d",
         "x": [
          -0.6849548447210525,
          -0.8798524747248084
         ],
         "y": [
          -6.394654914347475,
          -7.090527726959769
         ],
         "z": [
          -9.23982269406746,
          -7.889153992095739
         ]
        },
        {
         "hoverinfo": "skip",
         "line": {
          "color": "black",
          "width": 1
         },
         "mode": "lines",
         "showlegend": false,
         "type": "scatter3d",
         "x": [
          -0.6849548447210525,
          -1.9226212522332107
         ],
         "y": [
          -6.394654914347475,
          -6.3810253820039335
         ],
         "z": [
          -9.23982269406746,
          -9.953974008260781
         ]
        },
        {
         "hoverinfo": "skip",
         "line": {
          "color": "black",
          "width": 1
         },
         "mode": "lines",
         "showlegend": false,
         "type": "scatter3d",
         "x": [
          -0.6849548447210525,
          0.0673129752384698
         ],
         "y": [
          -6.394654914347475,
          -6.928600392572842
         ],
         "z": [
          -9.23982269406746,
          -9.820537213720645
         ]
        },
        {
         "hoverinfo": "skip",
         "line": {
          "color": "black",
          "width": 1
         },
         "mode": "lines",
         "showlegend": false,
         "type": "scatter3d",
         "x": [
          -0.8798524747248084,
          0.4288138977185758
         ],
         "y": [
          -7.090527726959769,
          -7.030055455882299
         ],
         "z": [
          -7.889153992095739,
          -7.09857671562834
         ]
        },
        {
         "hoverinfo": "skip",
         "line": {
          "color": "black",
          "width": 1
         },
         "mode": "lines",
         "showlegend": false,
         "type": "scatter3d",
         "x": [
          -0.8798524747248084,
          -1.2466496147377981
         ],
         "y": [
          -7.090527726959769,
          -8.454924631817274
         ],
         "z": [
          -7.889153992095739,
          -8.103925834043299
         ]
        },
        {
         "hoverinfo": "skip",
         "line": {
          "color": "black",
          "width": 1
         },
         "mode": "lines",
         "showlegend": false,
         "type": "scatter3d",
         "x": [
          -0.8798524747248084,
          -1.6672085761392523
         ],
         "y": [
          -7.090527726959769,
          -6.584084533642818
         ],
         "z": [
          -7.889153992095739,
          -7.329162330096761
         ]
        },
        {
         "hoverinfo": "skip",
         "line": {
          "color": "black",
          "width": 1
         },
         "mode": "lines",
         "showlegend": false,
         "type": "scatter3d",
         "x": [
          0.4288138977185758,
          0.22522448119490424
         ],
         "y": [
          -7.030055455882299,
          -7.670400784764847
         ],
         "z": [
          -7.09857671562834,
          -5.724559536238704
         ]
        },
        {
         "hoverinfo": "skip",
         "line": {
          "color": "black",
          "width": 1
         },
         "mode": "lines",
         "showlegend": false,
         "type": "scatter3d",
         "x": [
          0.4288138977185758,
          0.8414877960416636
         ],
         "y": [
          -7.030055455882299,
          -5.672030031703391
         ],
         "z": [
          -7.09857671562834,
          -6.906487949251861
         ]
        },
        {
         "hoverinfo": "skip",
         "line": {
          "color": "black",
          "width": 1
         },
         "mode": "lines",
         "showlegend": false,
         "type": "scatter3d",
         "x": [
          0.4288138977185758,
          1.2063066222945347
         ],
         "y": [
          -7.030055455882299,
          -7.57082423045271
         ],
         "z": [
          -7.09857671562834,
          -7.640225306211818
         ]
        },
        {
         "hoverinfo": "skip",
         "line": {
          "color": "black",
          "width": 1
         },
         "mode": "lines",
         "showlegend": false,
         "type": "scatter3d",
         "x": [
          0.22522448119490424,
          1.4740185926894052
         ],
         "y": [
          -7.670400784764847,
          -7.7201375861585175
         ],
         "z": [
          -5.724559536238704,
          -5.031323272268194
         ]
        },
        {
         "hoverinfo": "skip",
         "line": {
          "color": "black",
          "width": 1
         },
         "mode": "lines",
         "showlegend": false,
         "type": "scatter3d",
         "x": [
          0.22522448119490424,
          -0.16118999514393106
         ],
         "y": [
          -7.670400784764847,
          -8.681537197098166
         ],
         "z": [
          -5.724559536238704,
          -5.8479410913005765
         ]
        },
        {
         "hoverinfo": "skip",
         "line": {
          "color": "black",
          "width": 1
         },
         "mode": "lines",
         "showlegend": false,
         "type": "scatter3d",
         "x": [
          0.22522448119490424,
          -0.4859149442886421
         ],
         "y": [
          -7.670400784764847,
          -7.077784377118048
         ],
         "z": [
          -5.724559536238704,
          -5.149428672077567
         ]
        },
        {
         "hoverinfo": "skip",
         "line": {
          "color": "black",
          "width": 1
         },
         "mode": "lines",
         "showlegend": false,
         "type": "scatter3d",
         "x": [
          0.03830706276600182,
          0.3424624316384577
         ],
         "y": [
          -4.319162696522309,
          -3.4042387187269085
         ],
         "z": [
          -10.250870302701871,
          -10.17316813773139
         ]
        },
        {
         "hoverinfo": "skip",
         "line": {
          "color": "black",
          "width": 1
         },
         "mode": "lines",
         "showlegend": false,
         "type": "scatter3d",
         "x": [
          -1.9226212522332107,
          -1.873554095745476
         ],
         "y": [
          -6.3810253820039335,
          -5.948402160589389
         ],
         "z": [
          -9.953974008260781,
          -10.81784180048776
         ]
        },
        {
         "hoverinfo": "skip",
         "line": {
          "color": "black",
          "width": 1
         },
         "mode": "lines",
         "showlegend": false,
         "type": "scatter3d",
         "x": [
          -1.2466496147377981,
          -2.066879108740732
         ],
         "y": [
          -8.454924631817274,
          -8.567832760325874
         ],
         "z": [
          -8.103925834043299,
          -8.604162109901397
         ]
        },
        {
         "hoverinfo": "skip",
         "line": {
          "color": "black",
          "width": 1
         },
         "mode": "lines",
         "showlegend": false,
         "type": "scatter3d",
         "x": [
          1.4740185926894052,
          1.4201167905380263
         ],
         "y": [
          -7.7201375861585175,
          -8.1140303895228
         ],
         "z": [
          -5.031323272268194,
          -4.150350483140937
         ]
        }
       ],
       "layout": {
        "scene": {
         "xaxis": {
          "showgrid": false,
          "showline": false,
          "showticklabels": false
         },
         "yaxis": {
          "showgrid": false,
          "showline": false,
          "showticklabels": false
         },
         "zaxis": {
          "showgrid": false,
          "showline": false,
          "showticklabels": false
         }
        },
        "template": {
         "data": {
          "bar": [
           {
            "error_x": {
             "color": "rgb(36,36,36)"
            },
            "error_y": {
             "color": "rgb(36,36,36)"
            },
            "marker": {
             "line": {
              "color": "white",
              "width": 0.5
             },
             "pattern": {
              "fillmode": "overlay",
              "size": 10,
              "solidity": 0.2
             }
            },
            "type": "bar"
           }
          ],
          "barpolar": [
           {
            "marker": {
             "line": {
              "color": "white",
              "width": 0.5
             },
             "pattern": {
              "fillmode": "overlay",
              "size": 10,
              "solidity": 0.2
             }
            },
            "type": "barpolar"
           }
          ],
          "carpet": [
           {
            "aaxis": {
             "endlinecolor": "rgb(36,36,36)",
             "gridcolor": "white",
             "linecolor": "white",
             "minorgridcolor": "white",
             "startlinecolor": "rgb(36,36,36)"
            },
            "baxis": {
             "endlinecolor": "rgb(36,36,36)",
             "gridcolor": "white",
             "linecolor": "white",
             "minorgridcolor": "white",
             "startlinecolor": "rgb(36,36,36)"
            },
            "type": "carpet"
           }
          ],
          "choropleth": [
           {
            "colorbar": {
             "outlinewidth": 1,
             "tickcolor": "rgb(36,36,36)",
             "ticks": "outside"
            },
            "type": "choropleth"
           }
          ],
          "contour": [
           {
            "colorbar": {
             "outlinewidth": 1,
             "tickcolor": "rgb(36,36,36)",
             "ticks": "outside"
            },
            "colorscale": [
             [
              0,
              "#440154"
             ],
             [
              0.1111111111111111,
              "#482878"
             ],
             [
              0.2222222222222222,
              "#3e4989"
             ],
             [
              0.3333333333333333,
              "#31688e"
             ],
             [
              0.4444444444444444,
              "#26828e"
             ],
             [
              0.5555555555555556,
              "#1f9e89"
             ],
             [
              0.6666666666666666,
              "#35b779"
             ],
             [
              0.7777777777777778,
              "#6ece58"
             ],
             [
              0.8888888888888888,
              "#b5de2b"
             ],
             [
              1,
              "#fde725"
             ]
            ],
            "type": "contour"
           }
          ],
          "contourcarpet": [
           {
            "colorbar": {
             "outlinewidth": 1,
             "tickcolor": "rgb(36,36,36)",
             "ticks": "outside"
            },
            "type": "contourcarpet"
           }
          ],
          "heatmap": [
           {
            "colorbar": {
             "outlinewidth": 1,
             "tickcolor": "rgb(36,36,36)",
             "ticks": "outside"
            },
            "colorscale": [
             [
              0,
              "#440154"
             ],
             [
              0.1111111111111111,
              "#482878"
             ],
             [
              0.2222222222222222,
              "#3e4989"
             ],
             [
              0.3333333333333333,
              "#31688e"
             ],
             [
              0.4444444444444444,
              "#26828e"
             ],
             [
              0.5555555555555556,
              "#1f9e89"
             ],
             [
              0.6666666666666666,
              "#35b779"
             ],
             [
              0.7777777777777778,
              "#6ece58"
             ],
             [
              0.8888888888888888,
              "#b5de2b"
             ],
             [
              1,
              "#fde725"
             ]
            ],
            "type": "heatmap"
           }
          ],
          "heatmapgl": [
           {
            "colorbar": {
             "outlinewidth": 1,
             "tickcolor": "rgb(36,36,36)",
             "ticks": "outside"
            },
            "colorscale": [
             [
              0,
              "#440154"
             ],
             [
              0.1111111111111111,
              "#482878"
             ],
             [
              0.2222222222222222,
              "#3e4989"
             ],
             [
              0.3333333333333333,
              "#31688e"
             ],
             [
              0.4444444444444444,
              "#26828e"
             ],
             [
              0.5555555555555556,
              "#1f9e89"
             ],
             [
              0.6666666666666666,
              "#35b779"
             ],
             [
              0.7777777777777778,
              "#6ece58"
             ],
             [
              0.8888888888888888,
              "#b5de2b"
             ],
             [
              1,
              "#fde725"
             ]
            ],
            "type": "heatmapgl"
           }
          ],
          "histogram": [
           {
            "marker": {
             "line": {
              "color": "white",
              "width": 0.6
             }
            },
            "type": "histogram"
           }
          ],
          "histogram2d": [
           {
            "colorbar": {
             "outlinewidth": 1,
             "tickcolor": "rgb(36,36,36)",
             "ticks": "outside"
            },
            "colorscale": [
             [
              0,
              "#440154"
             ],
             [
              0.1111111111111111,
              "#482878"
             ],
             [
              0.2222222222222222,
              "#3e4989"
             ],
             [
              0.3333333333333333,
              "#31688e"
             ],
             [
              0.4444444444444444,
              "#26828e"
             ],
             [
              0.5555555555555556,
              "#1f9e89"
             ],
             [
              0.6666666666666666,
              "#35b779"
             ],
             [
              0.7777777777777778,
              "#6ece58"
             ],
             [
              0.8888888888888888,
              "#b5de2b"
             ],
             [
              1,
              "#fde725"
             ]
            ],
            "type": "histogram2d"
           }
          ],
          "histogram2dcontour": [
           {
            "colorbar": {
             "outlinewidth": 1,
             "tickcolor": "rgb(36,36,36)",
             "ticks": "outside"
            },
            "colorscale": [
             [
              0,
              "#440154"
             ],
             [
              0.1111111111111111,
              "#482878"
             ],
             [
              0.2222222222222222,
              "#3e4989"
             ],
             [
              0.3333333333333333,
              "#31688e"
             ],
             [
              0.4444444444444444,
              "#26828e"
             ],
             [
              0.5555555555555556,
              "#1f9e89"
             ],
             [
              0.6666666666666666,
              "#35b779"
             ],
             [
              0.7777777777777778,
              "#6ece58"
             ],
             [
              0.8888888888888888,
              "#b5de2b"
             ],
             [
              1,
              "#fde725"
             ]
            ],
            "type": "histogram2dcontour"
           }
          ],
          "mesh3d": [
           {
            "colorbar": {
             "outlinewidth": 1,
             "tickcolor": "rgb(36,36,36)",
             "ticks": "outside"
            },
            "type": "mesh3d"
           }
          ],
          "parcoords": [
           {
            "line": {
             "colorbar": {
              "outlinewidth": 1,
              "tickcolor": "rgb(36,36,36)",
              "ticks": "outside"
             }
            },
            "type": "parcoords"
           }
          ],
          "pie": [
           {
            "automargin": true,
            "type": "pie"
           }
          ],
          "scatter": [
           {
            "fillpattern": {
             "fillmode": "overlay",
             "size": 10,
             "solidity": 0.2
            },
            "type": "scatter"
           }
          ],
          "scatter3d": [
           {
            "line": {
             "colorbar": {
              "outlinewidth": 1,
              "tickcolor": "rgb(36,36,36)",
              "ticks": "outside"
             }
            },
            "marker": {
             "colorbar": {
              "outlinewidth": 1,
              "tickcolor": "rgb(36,36,36)",
              "ticks": "outside"
             }
            },
            "type": "scatter3d"
           }
          ],
          "scattercarpet": [
           {
            "marker": {
             "colorbar": {
              "outlinewidth": 1,
              "tickcolor": "rgb(36,36,36)",
              "ticks": "outside"
             }
            },
            "type": "scattercarpet"
           }
          ],
          "scattergeo": [
           {
            "marker": {
             "colorbar": {
              "outlinewidth": 1,
              "tickcolor": "rgb(36,36,36)",
              "ticks": "outside"
             }
            },
            "type": "scattergeo"
           }
          ],
          "scattergl": [
           {
            "marker": {
             "colorbar": {
              "outlinewidth": 1,
              "tickcolor": "rgb(36,36,36)",
              "ticks": "outside"
             }
            },
            "type": "scattergl"
           }
          ],
          "scattermapbox": [
           {
            "marker": {
             "colorbar": {
              "outlinewidth": 1,
              "tickcolor": "rgb(36,36,36)",
              "ticks": "outside"
             }
            },
            "type": "scattermapbox"
           }
          ],
          "scatterpolar": [
           {
            "marker": {
             "colorbar": {
              "outlinewidth": 1,
              "tickcolor": "rgb(36,36,36)",
              "ticks": "outside"
             }
            },
            "type": "scatterpolar"
           }
          ],
          "scatterpolargl": [
           {
            "marker": {
             "colorbar": {
              "outlinewidth": 1,
              "tickcolor": "rgb(36,36,36)",
              "ticks": "outside"
             }
            },
            "type": "scatterpolargl"
           }
          ],
          "scatterternary": [
           {
            "marker": {
             "colorbar": {
              "outlinewidth": 1,
              "tickcolor": "rgb(36,36,36)",
              "ticks": "outside"
             }
            },
            "type": "scatterternary"
           }
          ],
          "surface": [
           {
            "colorbar": {
             "outlinewidth": 1,
             "tickcolor": "rgb(36,36,36)",
             "ticks": "outside"
            },
            "colorscale": [
             [
              0,
              "#440154"
             ],
             [
              0.1111111111111111,
              "#482878"
             ],
             [
              0.2222222222222222,
              "#3e4989"
             ],
             [
              0.3333333333333333,
              "#31688e"
             ],
             [
              0.4444444444444444,
              "#26828e"
             ],
             [
              0.5555555555555556,
              "#1f9e89"
             ],
             [
              0.6666666666666666,
              "#35b779"
             ],
             [
              0.7777777777777778,
              "#6ece58"
             ],
             [
              0.8888888888888888,
              "#b5de2b"
             ],
             [
              1,
              "#fde725"
             ]
            ],
            "type": "surface"
           }
          ],
          "table": [
           {
            "cells": {
             "fill": {
              "color": "rgb(237,237,237)"
             },
             "line": {
              "color": "white"
             }
            },
            "header": {
             "fill": {
              "color": "rgb(217,217,217)"
             },
             "line": {
              "color": "white"
             }
            },
            "type": "table"
           }
          ]
         },
         "layout": {
          "annotationdefaults": {
           "arrowhead": 0,
           "arrowwidth": 1
          },
          "autotypenumbers": "strict",
          "coloraxis": {
           "colorbar": {
            "outlinewidth": 1,
            "tickcolor": "rgb(36,36,36)",
            "ticks": "outside"
           }
          },
          "colorscale": {
           "diverging": [
            [
             0,
             "rgb(103,0,31)"
            ],
            [
             0.1,
             "rgb(178,24,43)"
            ],
            [
             0.2,
             "rgb(214,96,77)"
            ],
            [
             0.3,
             "rgb(244,165,130)"
            ],
            [
             0.4,
             "rgb(253,219,199)"
            ],
            [
             0.5,
             "rgb(247,247,247)"
            ],
            [
             0.6,
             "rgb(209,229,240)"
            ],
            [
             0.7,
             "rgb(146,197,222)"
            ],
            [
             0.8,
             "rgb(67,147,195)"
            ],
            [
             0.9,
             "rgb(33,102,172)"
            ],
            [
             1,
             "rgb(5,48,97)"
            ]
           ],
           "sequential": [
            [
             0,
             "#440154"
            ],
            [
             0.1111111111111111,
             "#482878"
            ],
            [
             0.2222222222222222,
             "#3e4989"
            ],
            [
             0.3333333333333333,
             "#31688e"
            ],
            [
             0.4444444444444444,
             "#26828e"
            ],
            [
             0.5555555555555556,
             "#1f9e89"
            ],
            [
             0.6666666666666666,
             "#35b779"
            ],
            [
             0.7777777777777778,
             "#6ece58"
            ],
            [
             0.8888888888888888,
             "#b5de2b"
            ],
            [
             1,
             "#fde725"
            ]
           ],
           "sequentialminus": [
            [
             0,
             "#440154"
            ],
            [
             0.1111111111111111,
             "#482878"
            ],
            [
             0.2222222222222222,
             "#3e4989"
            ],
            [
             0.3333333333333333,
             "#31688e"
            ],
            [
             0.4444444444444444,
             "#26828e"
            ],
            [
             0.5555555555555556,
             "#1f9e89"
            ],
            [
             0.6666666666666666,
             "#35b779"
            ],
            [
             0.7777777777777778,
             "#6ece58"
            ],
            [
             0.8888888888888888,
             "#b5de2b"
            ],
            [
             1,
             "#fde725"
            ]
           ]
          },
          "colorway": [
           "#1F77B4",
           "#FF7F0E",
           "#2CA02C",
           "#D62728",
           "#9467BD",
           "#8C564B",
           "#E377C2",
           "#7F7F7F",
           "#BCBD22",
           "#17BECF"
          ],
          "font": {
           "color": "rgb(36,36,36)"
          },
          "geo": {
           "bgcolor": "white",
           "lakecolor": "white",
           "landcolor": "white",
           "showlakes": true,
           "showland": true,
           "subunitcolor": "white"
          },
          "hoverlabel": {
           "align": "left"
          },
          "hovermode": "closest",
          "mapbox": {
           "style": "light"
          },
          "paper_bgcolor": "white",
          "plot_bgcolor": "white",
          "polar": {
           "angularaxis": {
            "gridcolor": "rgb(232,232,232)",
            "linecolor": "rgb(36,36,36)",
            "showgrid": false,
            "showline": true,
            "ticks": "outside"
           },
           "bgcolor": "white",
           "radialaxis": {
            "gridcolor": "rgb(232,232,232)",
            "linecolor": "rgb(36,36,36)",
            "showgrid": false,
            "showline": true,
            "ticks": "outside"
           }
          },
          "scene": {
           "xaxis": {
            "backgroundcolor": "white",
            "gridcolor": "rgb(232,232,232)",
            "gridwidth": 2,
            "linecolor": "rgb(36,36,36)",
            "showbackground": true,
            "showgrid": false,
            "showline": true,
            "ticks": "outside",
            "zeroline": false,
            "zerolinecolor": "rgb(36,36,36)"
           },
           "yaxis": {
            "backgroundcolor": "white",
            "gridcolor": "rgb(232,232,232)",
            "gridwidth": 2,
            "linecolor": "rgb(36,36,36)",
            "showbackground": true,
            "showgrid": false,
            "showline": true,
            "ticks": "outside",
            "zeroline": false,
            "zerolinecolor": "rgb(36,36,36)"
           },
           "zaxis": {
            "backgroundcolor": "white",
            "gridcolor": "rgb(232,232,232)",
            "gridwidth": 2,
            "linecolor": "rgb(36,36,36)",
            "showbackground": true,
            "showgrid": false,
            "showline": true,
            "ticks": "outside",
            "zeroline": false,
            "zerolinecolor": "rgb(36,36,36)"
           }
          },
          "shapedefaults": {
           "fillcolor": "black",
           "line": {
            "width": 0
           },
           "opacity": 0.3
          },
          "ternary": {
           "aaxis": {
            "gridcolor": "rgb(232,232,232)",
            "linecolor": "rgb(36,36,36)",
            "showgrid": false,
            "showline": true,
            "ticks": "outside"
           },
           "baxis": {
            "gridcolor": "rgb(232,232,232)",
            "linecolor": "rgb(36,36,36)",
            "showgrid": false,
            "showline": true,
            "ticks": "outside"
           },
           "bgcolor": "white",
           "caxis": {
            "gridcolor": "rgb(232,232,232)",
            "linecolor": "rgb(36,36,36)",
            "showgrid": false,
            "showline": true,
            "ticks": "outside"
           }
          },
          "title": {
           "x": 0.05
          },
          "xaxis": {
           "automargin": true,
           "gridcolor": "rgb(232,232,232)",
           "linecolor": "rgb(36,36,36)",
           "showgrid": false,
           "showline": true,
           "ticks": "outside",
           "title": {
            "standoff": 15
           },
           "zeroline": false,
           "zerolinecolor": "rgb(36,36,36)"
          },
          "yaxis": {
           "automargin": true,
           "gridcolor": "rgb(232,232,232)",
           "linecolor": "rgb(36,36,36)",
           "showgrid": false,
           "showline": true,
           "ticks": "outside",
           "title": {
            "standoff": 15
           },
           "zeroline": false,
           "zerolinecolor": "rgb(36,36,36)"
          }
         }
        }
       }
      }
     },
     "metadata": {},
     "output_type": "display_data"
    }
   ],
   "source": [
    "# start with the glucose-glucose at the top\n",
    "# remember that biobuild has pre-available linkages that \n",
    "# can be referenced by their string id directly;\n",
    "# glycosydic linkages are among them.\n",
    "glycan = bb.connect(glc, glc, link=\"14bb\")\n",
    "\n",
    "# now build the galactose branch\n",
    "gal_branch = bb.connect(gal, gal, link=\"14aa\")\n",
    "gal_branch = bb.connect(gal_branch, gal, link=\"13aa\")\n",
    "\n",
    "# now build the mannose branch\n",
    "man_branch = bb.connect(man, man, \"14bb\")\n",
    "man_branch = bb.connect(man_branch, glc, \"14ab\")\n",
    "\n",
    "# now attach both branches to the glucose-glucose\n",
    "# this time we need to specify at which residues to connect\n",
    "# since we don't want to use the default last residue\n",
    "glycan = bb.connect(glycan, gal_branch, link=\"13ab\", at_residue_b=1)\n",
    "glycan = bb.connect(glycan, man_branch, link=\"12bb\", at_residue_a=2, at_residue_b=1)\n",
    "\n",
    "# that's it! now we can visualize the glycan\n",
    "glycan.show()"
   ]
  },
  {
   "cell_type": "markdown",
   "metadata": {},
   "source": [
    "#### Using method syntax\n",
    "\n",
    "Now let's repeat the same using the method syntax. Here we will need to add more `inplace=False` statements since we want to reuse the individual molecules multiple times. We did not have to bother with this using the functional syntax since we automatically generated copies there. On the other hand, we now can work a little more efficiently since we don't create too many unnecessary copies of objects (of course, we could have achieved the same with the functional syntax by adjusting the `copy` arguments). "
   ]
  },
  {
   "cell_type": "code",
   "execution_count": 7,
   "metadata": {},
   "outputs": [
    {
     "data": {
      "application/vnd.plotly.v1+json": {
       "config": {
        "plotlyServerURL": "https://plot.ly"
       },
       "data": [
        {
         "customdata": [
          [
           "C1",
           1,
           1,
           "GLC",
           "A"
          ],
          [
           "C2",
           2,
           1,
           "GLC",
           "A"
          ],
          [
           "C3",
           3,
           1,
           "GLC",
           "A"
          ],
          [
           "C4",
           4,
           1,
           "GLC",
           "A"
          ],
          [
           "C5",
           5,
           1,
           "GLC",
           "A"
          ],
          [
           "C6",
           6,
           1,
           "GLC",
           "A"
          ],
          [
           "C1",
           24,
           2,
           "GLC",
           "A"
          ],
          [
           "C2",
           25,
           2,
           "GLC",
           "A"
          ],
          [
           "C3",
           26,
           2,
           "GLC",
           "A"
          ],
          [
           "C4",
           27,
           2,
           "GLC",
           "A"
          ],
          [
           "C5",
           28,
           2,
           "GLC",
           "A"
          ],
          [
           "C6",
           29,
           2,
           "GLC",
           "A"
          ],
          [
           "C1",
           44,
           3,
           "GAL",
           "A"
          ],
          [
           "C2",
           45,
           3,
           "GAL",
           "A"
          ],
          [
           "C3",
           46,
           3,
           "GAL",
           "A"
          ],
          [
           "C4",
           47,
           3,
           "GAL",
           "A"
          ],
          [
           "C5",
           48,
           3,
           "GAL",
           "A"
          ],
          [
           "C6",
           49,
           3,
           "GAL",
           "A"
          ],
          [
           "C1",
           65,
           4,
           "GAL",
           "A"
          ],
          [
           "C2",
           66,
           4,
           "GAL",
           "A"
          ],
          [
           "C3",
           67,
           4,
           "GAL",
           "A"
          ],
          [
           "C4",
           68,
           4,
           "GAL",
           "A"
          ],
          [
           "C5",
           69,
           4,
           "GAL",
           "A"
          ],
          [
           "C6",
           70,
           4,
           "GAL",
           "A"
          ],
          [
           "C1",
           86,
           5,
           "GAL",
           "A"
          ],
          [
           "C2",
           87,
           5,
           "GAL",
           "A"
          ],
          [
           "C3",
           88,
           5,
           "GAL",
           "A"
          ],
          [
           "C4",
           89,
           5,
           "GAL",
           "A"
          ],
          [
           "C5",
           90,
           5,
           "GAL",
           "A"
          ],
          [
           "C6",
           91,
           5,
           "GAL",
           "A"
          ],
          [
           "C1",
           108,
           6,
           "MAN",
           "A"
          ],
          [
           "C2",
           109,
           6,
           "MAN",
           "A"
          ],
          [
           "C3",
           110,
           6,
           "MAN",
           "A"
          ],
          [
           "C4",
           111,
           6,
           "MAN",
           "A"
          ],
          [
           "C5",
           112,
           6,
           "MAN",
           "A"
          ],
          [
           "C6",
           113,
           6,
           "MAN",
           "A"
          ],
          [
           "C1",
           129,
           7,
           "MAN",
           "A"
          ],
          [
           "C2",
           130,
           7,
           "MAN",
           "A"
          ],
          [
           "C3",
           131,
           7,
           "MAN",
           "A"
          ],
          [
           "C4",
           132,
           7,
           "MAN",
           "A"
          ],
          [
           "C5",
           133,
           7,
           "MAN",
           "A"
          ],
          [
           "C6",
           134,
           7,
           "MAN",
           "A"
          ],
          [
           "C1",
           150,
           8,
           "GLC",
           "A"
          ],
          [
           "C2",
           151,
           8,
           "GLC",
           "A"
          ],
          [
           "C3",
           152,
           8,
           "GLC",
           "A"
          ],
          [
           "C4",
           153,
           8,
           "GLC",
           "A"
          ],
          [
           "C5",
           154,
           8,
           "GLC",
           "A"
          ],
          [
           "C6",
           155,
           8,
           "GLC",
           "A"
          ]
         ],
         "hovertemplate": "atom_element=C<br>x=%{x}<br>y=%{y}<br>z=%{z}<br>atom_id=%{customdata[0]}<br>atom_serial=%{customdata[1]}<br>residue_serial=%{customdata[2]}<br>residue_name=%{customdata[3]}<br>chain_id=%{customdata[4]}<extra></extra>",
         "legendgroup": "C",
         "marker": {
          "color": "black",
          "opacity": 0.3,
          "symbol": "circle"
         },
         "mode": "markers",
         "name": "C",
         "scene": "scene",
         "showlegend": true,
         "type": "scatter3d",
         "x": [
          -0.567,
          -1.578,
          -1.179,
          0.249,
          1.189,
          2.607,
          0.28739188564117757,
          1.480320584831757,
          2.551855024989353,
          1.9213705212635026,
          0.6927362615491515,
          0.023121121966325875,
          4.237486750862175,
          5.523963815710901,
          6.10428264304959,
          5.060830356326786,
          3.788838332467794,
          2.72096606462462,
          5.554273632628828,
          4.866320224547968,
          5.751157293389989,
          6.07330214405259,
          6.739153388942177,
          7.009716398925608,
          5.6027960796688205,
          4.649374390469096,
          5.295886194255522,
          6.660546453315635,
          7.5366639424097706,
          8.879838771321644,
          3.370180722730016,
          4.342995410058376,
          4.126498442731845,
          4.250016685001658,
          3.2980461971580066,
          3.3870442548285054,
          4.831957159519671,
          5.329187133895838,
          4.075547144567605,
          3.310717872479277,
          3.009905516755846,
          2.214689135616443,
          1.0468634902201872,
          -0.20597664009523164,
          -0.6849548447210525,
          -0.8798524747248084,
          0.4288138977185758,
          0.22522448119490424
         ],
         "y": [
          1.572,
          0.465,
          -0.806,
          -1.195,
          -0.024,
          -0.383,
          -3.6208883690602627,
          -4.38081146590108,
          -4.515665510620807,
          -5.208421548159997,
          -4.415224134145273,
          -5.1331744330517735,
          -6.188240615228173,
          -6.745677888786662,
          -7.757267939027176,
          -8.832623734551518,
          -8.160416923057236,
          -9.2229501140345,
          -10.66905801919593,
          -11.96110913350714,
          -13.140014988518232,
          -13.01384827469256,
          -11.65932984087781,
          -11.500539508206224,
          -15.220517327694829,
          -16.345365490199164,
          -17.27658699181007,
          -17.75512648362009,
          -16.538619563471137,
          -17.007092653069904,
          -3.245639821141027,
          -4.428916027255673,
          -5.18045429619363,
          -4.176529332805269,
          -3.0070532722253507,
          -2.015203681937657,
          -5.593195159440236,
          -4.870704998502981,
          -4.580827415817252,
          -5.889649502127884,
          -6.5296736607298485,
          -7.8200460935412845,
          -4.990154715796645,
          -4.938024944128733,
          -6.394654914347475,
          -7.090527726959769,
          -7.030055455882299,
          -7.670400784764847
         ],
         "z": [
          -0.245,
          -0.554,
          0.203,
          -0.192,
          0.102,
          -0.345,
          0.17534369512279074,
          -0.41274579257047955,
          0.7251602592474138,
          1.937228063874931,
          2.387308854685344,
          3.5601587739595617,
          1.1610816637660615,
          0.608278934335493,
          1.6130244037803174,
          1.9306314540250489,
          2.4550609476843914,
          2.718030599247359,
          0.3929095272013239,
          0.7516217186823118,
          0.30897956916398894,
          -1.1831201780091027,
          -1.4415267029557937,
          -2.9382104664405033,
          1.5255678557714734,
          1.836618806379522,
          2.878109820237623,
          2.3733729262817733,
          2.0613135432581084,
          1.5001581785868408,
          -1.3736236257287506,
          -1.3962732208940924,
          -2.753791895336951,
          -3.9052083759000245,
          -3.649247570296521,
          -4.811413107548858,
          -5.8219384107945835,
          -7.077797304114505,
          -7.972010075359487,
          -8.197626854306272,
          -6.8414118997175954,
          -7.0532724477388005,
          -8.177596079112481,
          -9.011868998951723,
          -9.23982269406746,
          -7.889153992095739,
          -7.09857671562834,
          -5.724559536238704
         ]
        },
        {
         "customdata": [
          [
           "O1",
           7,
           1,
           "GLC",
           "A"
          ],
          [
           "O2",
           8,
           1,
           "GLC",
           "A"
          ],
          [
           "O3",
           9,
           1,
           "GLC",
           "A"
          ],
          [
           "O4",
           10,
           1,
           "GLC",
           "A"
          ],
          [
           "O5",
           11,
           1,
           "GLC",
           "A"
          ],
          [
           "O6",
           12,
           1,
           "GLC",
           "A"
          ],
          [
           "O2",
           30,
           2,
           "GLC",
           "A"
          ],
          [
           "O3",
           31,
           2,
           "GLC",
           "A"
          ],
          [
           "O4",
           32,
           2,
           "GLC",
           "A"
          ],
          [
           "O5",
           33,
           2,
           "GLC",
           "A"
          ],
          [
           "O6",
           34,
           2,
           "GLC",
           "A"
          ],
          [
           "O2",
           50,
           3,
           "GAL",
           "A"
          ],
          [
           "O3",
           51,
           3,
           "GAL",
           "A"
          ],
          [
           "O4",
           52,
           3,
           "GAL",
           "A"
          ],
          [
           "O5",
           53,
           3,
           "GAL",
           "A"
          ],
          [
           "O6",
           54,
           3,
           "GAL",
           "A"
          ],
          [
           "O2",
           71,
           4,
           "GAL",
           "A"
          ],
          [
           "O3",
           72,
           4,
           "GAL",
           "A"
          ],
          [
           "O4",
           73,
           4,
           "GAL",
           "A"
          ],
          [
           "O5",
           74,
           4,
           "GAL",
           "A"
          ],
          [
           "O6",
           75,
           4,
           "GAL",
           "A"
          ],
          [
           "O2",
           92,
           5,
           "GAL",
           "A"
          ],
          [
           "O3",
           93,
           5,
           "GAL",
           "A"
          ],
          [
           "O4",
           94,
           5,
           "GAL",
           "A"
          ],
          [
           "O5",
           95,
           5,
           "GAL",
           "A"
          ],
          [
           "O6",
           96,
           5,
           "GAL",
           "A"
          ],
          [
           "O2",
           114,
           6,
           "MAN",
           "A"
          ],
          [
           "O3",
           115,
           6,
           "MAN",
           "A"
          ],
          [
           "O4",
           116,
           6,
           "MAN",
           "A"
          ],
          [
           "O5",
           117,
           6,
           "MAN",
           "A"
          ],
          [
           "O6",
           118,
           6,
           "MAN",
           "A"
          ],
          [
           "O2",
           135,
           7,
           "MAN",
           "A"
          ],
          [
           "O3",
           136,
           7,
           "MAN",
           "A"
          ],
          [
           "O4",
           137,
           7,
           "MAN",
           "A"
          ],
          [
           "O5",
           138,
           7,
           "MAN",
           "A"
          ],
          [
           "O6",
           139,
           7,
           "MAN",
           "A"
          ],
          [
           "O2",
           156,
           8,
           "GLC",
           "A"
          ],
          [
           "O3",
           157,
           8,
           "GLC",
           "A"
          ],
          [
           "O4",
           158,
           8,
           "GLC",
           "A"
          ],
          [
           "O5",
           159,
           8,
           "GLC",
           "A"
          ],
          [
           "O6",
           160,
           8,
           "GLC",
           "A"
          ]
         ],
         "hovertemplate": "atom_element=O<br>x=%{x}<br>y=%{y}<br>z=%{z}<br>atom_id=%{customdata[0]}<br>atom_serial=%{customdata[1]}<br>residue_serial=%{customdata[2]}<br>residue_name=%{customdata[3]}<br>chain_id=%{customdata[4]}<extra></extra>",
         "legendgroup": "O",
         "marker": {
          "color": "red",
          "opacity": 0.3,
          "symbol": "circle"
         },
         "mode": "markers",
         "name": "O",
         "scene": "scene",
         "showlegend": true,
         "type": "scatter3d",
         "x": [
          -0.6,
          -2.881,
          -2.075,
          0.658,
          0.744,
          3.506,
          2.0557165148821417,
          3.656002120222209,
          2.871911843306937,
          -0.24841655015355635,
          -1.0536800248494305,
          6.450114558946712,
          7.268059606190848,
          4.757062466408647,
          3.273024317767564,
          1.5763239118701478,
          4.613285882466256,
          5.063898568748783,
          4.866732557493382,
          5.889503553988572,
          7.734357007618713,
          3.4243256316584647,
          4.447338718774148,
          6.485886732228457,
          6.9135664546085565,
          9.739042540523323,
          5.693115178717679,
          5.114014472594498,
          3.906135796830376,
          3.6513411897599326,
          2.495838629348798,
          6.212870644604493,
          4.495757895226085,
          2.0868336909430543,
          4.212238862998239,
          1.9295561468284834,
          0.03830706276600182,
          -1.9226212522332107,
          -1.2466496147377981,
          0.8414877960416636,
          1.4740185926894052
         ],
         "y": [
          1.871,
          0.879,
          -1.866,
          -2.338,
          1.133,
          0.661,
          -3.682652200920845,
          -5.289853972410994,
          -5.263996501869976,
          -4.314104692702984,
          -4.3351816382697255,
          -5.720738560427202,
          -8.371315322648218,
          -9.56881200615805,
          -7.235385181769364,
          -8.60982886973319,
          -12.033710588156485,
          -14.370606262810867,
          -13.104595025141528,
          -10.592083898242059,
          -10.289543579286654,
          -15.852327531560723,
          -18.40477186923964,
          -18.533502597734717,
          -15.700883742571758,
          -15.879398386889584,
          -3.971488124917645,
          -6.204095885248118,
          -4.815542656683919,
          -2.325538037107531,
          -0.9244632548408718,
          -5.705523275807869,
          -4.044923593491575,
          -5.616470869902413,
          -6.855098930072359,
          -8.416952350266767,
          -4.319162696522309,
          -6.3810253820039335,
          -8.454924631817274,
          -5.672030031703391,
          -7.7201375861585175
         ],
         "z": [
          1.151,
          -0.139,
          -0.137,
          0.562,
          -0.608,
          0.035,
          -1.491352408131528,
          0.25239454801213945,
          3.002886836469637,
          1.3269380024925652,
          4.05638834753636,
          0.3547361315445263,
          1.054668790635915,
          0.7450544224477378,
          1.4982306989307572,
          3.3155142240639917,
          2.13426864926683,
          0.5467032765205952,
          -1.9419323155459867,
          -1.0146759531615985,
          -3.1651352301246685,
          2.313231912702179,
          3.102515845543121,
          1.1886933886828683,
          1.0879628607832652,
          1.317991976964079,
          -1.3611689028370517,
          -2.898398215815365,
          -5.135813473669447,
          -2.4584561007210404,
          -4.575905456271785,
          -7.823035316725585,
          -9.229058609922799,
          -8.882069653290108,
          -6.164512645991868,
          -5.7876389702316615,
          -10.250870302701871,
          -9.953974008260781,
          -8.103925834043299,
          -6.906487949251861,
          -5.031323272268194
         ]
        },
        {
         "customdata": [
          [
           "H1",
           13,
           1,
           "GLC",
           "A"
          ],
          [
           "H2",
           14,
           1,
           "GLC",
           "A"
          ],
          [
           "H3",
           15,
           1,
           "GLC",
           "A"
          ],
          [
           "H4",
           16,
           1,
           "GLC",
           "A"
          ],
          [
           "H5",
           17,
           1,
           "GLC",
           "A"
          ],
          [
           "H61",
           18,
           1,
           "GLC",
           "A"
          ],
          [
           "H62",
           19,
           1,
           "GLC",
           "A"
          ],
          [
           "HO1",
           20,
           1,
           "GLC",
           "A"
          ],
          [
           "HO2",
           21,
           1,
           "GLC",
           "A"
          ],
          [
           "HO3",
           22,
           1,
           "GLC",
           "A"
          ],
          [
           "HO6",
           23,
           1,
           "GLC",
           "A"
          ],
          [
           "H1",
           35,
           2,
           "GLC",
           "A"
          ],
          [
           "H2",
           36,
           2,
           "GLC",
           "A"
          ],
          [
           "H3",
           37,
           2,
           "GLC",
           "A"
          ],
          [
           "H4",
           38,
           2,
           "GLC",
           "A"
          ],
          [
           "H5",
           39,
           2,
           "GLC",
           "A"
          ],
          [
           "H61",
           40,
           2,
           "GLC",
           "A"
          ],
          [
           "H62",
           41,
           2,
           "GLC",
           "A"
          ],
          [
           "HO4",
           42,
           2,
           "GLC",
           "A"
          ],
          [
           "HO6",
           43,
           2,
           "GLC",
           "A"
          ],
          [
           "H1",
           55,
           3,
           "GAL",
           "A"
          ],
          [
           "H2",
           56,
           3,
           "GAL",
           "A"
          ],
          [
           "H3",
           57,
           3,
           "GAL",
           "A"
          ],
          [
           "H4",
           58,
           3,
           "GAL",
           "A"
          ],
          [
           "H5",
           59,
           3,
           "GAL",
           "A"
          ],
          [
           "H61",
           60,
           3,
           "GAL",
           "A"
          ],
          [
           "H62",
           61,
           3,
           "GAL",
           "A"
          ],
          [
           "HO2",
           62,
           3,
           "GAL",
           "A"
          ],
          [
           "HO3",
           63,
           3,
           "GAL",
           "A"
          ],
          [
           "HO6",
           64,
           3,
           "GAL",
           "A"
          ],
          [
           "H1",
           76,
           4,
           "GAL",
           "A"
          ],
          [
           "H2",
           77,
           4,
           "GAL",
           "A"
          ],
          [
           "H3",
           78,
           4,
           "GAL",
           "A"
          ],
          [
           "H4",
           79,
           4,
           "GAL",
           "A"
          ],
          [
           "H5",
           80,
           4,
           "GAL",
           "A"
          ],
          [
           "H61",
           81,
           4,
           "GAL",
           "A"
          ],
          [
           "H62",
           82,
           4,
           "GAL",
           "A"
          ],
          [
           "HO2",
           83,
           4,
           "GAL",
           "A"
          ],
          [
           "HO4",
           84,
           4,
           "GAL",
           "A"
          ],
          [
           "HO6",
           85,
           4,
           "GAL",
           "A"
          ],
          [
           "H1",
           97,
           5,
           "GAL",
           "A"
          ],
          [
           "H2",
           98,
           5,
           "GAL",
           "A"
          ],
          [
           "H3",
           99,
           5,
           "GAL",
           "A"
          ],
          [
           "H4",
           100,
           5,
           "GAL",
           "A"
          ],
          [
           "H5",
           101,
           5,
           "GAL",
           "A"
          ],
          [
           "H61",
           102,
           5,
           "GAL",
           "A"
          ],
          [
           "H62",
           103,
           5,
           "GAL",
           "A"
          ],
          [
           "HO2",
           104,
           5,
           "GAL",
           "A"
          ],
          [
           "HO3",
           105,
           5,
           "GAL",
           "A"
          ],
          [
           "HO4",
           106,
           5,
           "GAL",
           "A"
          ],
          [
           "HO6",
           107,
           5,
           "GAL",
           "A"
          ],
          [
           "H1",
           119,
           6,
           "MAN",
           "A"
          ],
          [
           "H2",
           120,
           6,
           "MAN",
           "A"
          ],
          [
           "H3",
           121,
           6,
           "MAN",
           "A"
          ],
          [
           "H4",
           122,
           6,
           "MAN",
           "A"
          ],
          [
           "H5",
           123,
           6,
           "MAN",
           "A"
          ],
          [
           "H61",
           124,
           6,
           "MAN",
           "A"
          ],
          [
           "H62",
           125,
           6,
           "MAN",
           "A"
          ],
          [
           "HO2",
           126,
           6,
           "MAN",
           "A"
          ],
          [
           "HO3",
           127,
           6,
           "MAN",
           "A"
          ],
          [
           "HO6",
           128,
           6,
           "MAN",
           "A"
          ],
          [
           "H1",
           140,
           7,
           "MAN",
           "A"
          ],
          [
           "H2",
           141,
           7,
           "MAN",
           "A"
          ],
          [
           "H3",
           142,
           7,
           "MAN",
           "A"
          ],
          [
           "H4",
           143,
           7,
           "MAN",
           "A"
          ],
          [
           "H5",
           144,
           7,
           "MAN",
           "A"
          ],
          [
           "H61",
           145,
           7,
           "MAN",
           "A"
          ],
          [
           "H62",
           146,
           7,
           "MAN",
           "A"
          ],
          [
           "HO2",
           147,
           7,
           "MAN",
           "A"
          ],
          [
           "HO3",
           148,
           7,
           "MAN",
           "A"
          ],
          [
           "HO6",
           149,
           7,
           "MAN",
           "A"
          ],
          [
           "H1",
           161,
           8,
           "GLC",
           "A"
          ],
          [
           "H2",
           162,
           8,
           "GLC",
           "A"
          ],
          [
           "H3",
           163,
           8,
           "GLC",
           "A"
          ],
          [
           "H4",
           164,
           8,
           "GLC",
           "A"
          ],
          [
           "H5",
           165,
           8,
           "GLC",
           "A"
          ],
          [
           "H61",
           166,
           8,
           "GLC",
           "A"
          ],
          [
           "H62",
           167,
           8,
           "GLC",
           "A"
          ],
          [
           "HO2",
           168,
           8,
           "GLC",
           "A"
          ],
          [
           "HO3",
           169,
           8,
           "GLC",
           "A"
          ],
          [
           "HO4",
           170,
           8,
           "GLC",
           "A"
          ],
          [
           "HO6",
           171,
           8,
           "GLC",
           "A"
          ]
         ],
         "hovertemplate": "atom_element=H<br>x=%{x}<br>y=%{y}<br>z=%{z}<br>atom_id=%{customdata[0]}<br>atom_serial=%{customdata[1]}<br>residue_serial=%{customdata[2]}<br>residue_name=%{customdata[3]}<br>chain_id=%{customdata[4]}<extra></extra>",
         "legendgroup": "H",
         "marker": {
          "color": "lightgray",
          "opacity": 0.3,
          "symbol": "circle"
         },
         "mode": "markers",
         "name": "H",
         "scene": "scene",
         "showlegend": true,
         "type": "scatter3d",
         "x": [
          -0.822,
          -1.583,
          -1.223,
          0.281,
          1.187,
          2.913,
          2.627,
          0.017,
          -3.197,
          -3,
          4.425,
          -0.4416295953503676,
          1.191975546023585,
          2.8968061322786154,
          1.6207417462584386,
          0.9993730295362183,
          0.7522731954762834,
          -0.3628865421639118,
          3.6796362109456533,
          -1.5254480198313962,
          4.45947410918213,
          5.2894487659797065,
          6.372724850492382,
          5.453656357902075,
          4.0129037309233215,
          3.1201928192922215,
          2.4326195125580155,
          6.138660697551929,
          7.969060484031798,
          0.8573331964579269,
          6.497273049932708,
          3.91586933538977,
          6.676749404343498,
          6.752111311166297,
          7.680601729368048,
          7.5971095253295005,
          6.063279431367144,
          4.05916980249675,
          4.388930815680093,
          7.940916085481296,
          5.755962247218171,
          4.491937561016936,
          5.424388827442796,
          7.141472278920311,
          7.703335398877375,
          9.341313078102724,
          8.721174348626658,
          2.971062137616494,
          3.5625552990417675,
          5.936034031854064,
          10.610602235370099,
          3.5423803632455018,
          4.150905291237018,
          3.1329316078512255,
          5.275095253770038,
          2.2777254688201856,
          4.407808504863519,
          3.1126184885617403,
          5.784390382598928,
          5.006818908150824,
          2.582990241096269,
          5.724886884762492,
          5.794990104880635,
          3.431152574440656,
          3.919310557431273,
          2.422894263718908,
          2.8016620025926593,
          1.281379094608078,
          6.964522809939713,
          4.982039170775689,
          1.429852973914624,
          1.3707270138672065,
          -0.9913924222133259,
          0.0673129752384698,
          -1.6672085761392523,
          1.2063066222945347,
          -0.16118999514393106,
          -0.4859149442886421,
          0.3424624316384577,
          -1.873554095745476,
          -2.066879108740732,
          1.4201167905380263
         ],
         "y": [
          2.466,
          0.264,
          -0.619,
          -1.429,
          0.184,
          -1.315,
          -0.503,
          2.566,
          1.682,
          -1.684,
          0.501,
          -3.5957016204844336,
          -5.388081243451282,
          -3.5219250793962225,
          -6.220381288812531,
          -3.4159166774238847,
          -5.291760896761097,
          -6.095439244578159,
          -5.749565157600492,
          -4.729868650877536,
          -5.627756418451672,
          -7.289668686159618,
          -7.227647400676437,
          -9.5089764884601,
          -7.632381632327904,
          -9.980787994570846,
          -9.689360576626797,
          -5.054095831051122,
          -7.746525027949046,
          -9.226460792618541,
          -10.594351436161784,
          -12.014988732506898,
          -13.1202060395213,
          -13.814333154915182,
          -11.607017487840857,
          -12.347118069098146,
          -11.463257089612863,
          -11.316581055109904,
          -13.937777708142,
          -10.123949627724773,
          -14.61954687988207,
          -16.92918510986124,
          -16.72396973891508,
          -18.361406670314437,
          -15.967090794617484,
          -17.706253656468846,
          -17.500760583015754,
          -15.2602464855551,
          -18.17423744776699,
          -19.320253362073178,
          -16.102964567175196,
          -2.768128489508456,
          -5.113942855256785,
          -5.627876943376505,
          -3.8088434109244536,
          -3.3811711984711703,
          -1.6398390750244094,
          -2.516009875847719,
          -3.506280047215519,
          -6.803818758841156,
          -0.32385085125660096,
          -5.756726048456004,
          -3.9377957250393587,
          -3.8624002123259533,
          -6.568506241148283,
          -5.838697120784188,
          -8.512436312634556,
          -7.592282628135922,
          -5.86995227463982,
          -3.2313332555276104,
          -9.22528768162956,
          -3.9569017600971725,
          -4.40675335502595,
          -6.928600392572842,
          -6.584084533642818,
          -7.57082423045271,
          -8.681537197098166,
          -7.077784377118048,
          -3.4042387187269085,
          -5.948402160589389,
          -8.567832760325874,
          -8.1140303895228
         ],
         "z": [
          -0.815,
          -1.626,
          1.276,
          -1.257,
          1.173,
          0.129,
          -1.428,
          1.42,
          -0.576,
          0.08,
          -0.218,
          -0.6260918905290271,
          -0.7041667123716275,
          1.0110320643095607,
          1.6623374984904262,
          2.6998268533021843,
          4.353962016094729,
          3.224400653088588,
          2.7847918422705558,
          4.801926489410683,
          2.0879859565115035,
          -0.3275865029954237,
          2.527686563607821,
          2.690341717722104,
          3.3823399935812324,
          3.3919725442112805,
          1.7764927368670185,
          -0.27264012206433397,
          0.8231242875356732,
          3.510251028057841,
          0.9653984051857825,
          0.18811586698457816,
          0.8852198399541036,
          -1.47869939104238,
          -0.8939763034224635,
          -3.2934175261840077,
          -3.4767669515955615,
          2.471459400551059,
          -1.823158950399077,
          -4.095198126147663,
          2.4409623805387852,
          0.9079442110737084,
          3.8093816629703086,
          3.1415263520297323,
          2.9747950657705187,
          2.1973764769031616,
          0.541881821832777,
          1.6975946494296,
          3.4177779280759597,
          1.3123066675158235,
          0.9637225013510948,
          -0.41616036169778703,
          -0.5983171137701269,
          -2.7627316611714585,
          -3.9592453142146766,
          -3.5709827085403956,
          -4.890177044266867,
          -5.7392480362674405,
          -0.5187133956456462,
          -2.1474217941795652,
          -5.328446709114806,
          -5.230043281472257,
          -6.840145617535461,
          -7.465986369121751,
          -8.795679921942837,
          -6.237165914995538,
          -7.657524578837808,
          -7.5671305713288675,
          -7.237831825032316,
          -9.037420192528137,
          -5.965233258006975,
          -7.953825577059062,
          -8.46027128360904,
          -9.820537213720645,
          -7.329162330096761,
          -7.640225306211818,
          -5.8479410913005765,
          -5.149428672077567,
          -10.17316813773139,
          -10.81784180048776,
          -8.604162109901397,
          -4.150350483140937
         ]
        },
        {
         "hoverinfo": "skip",
         "line": {
          "color": "black",
          "width": 1
         },
         "mode": "lines",
         "showlegend": false,
         "type": "scatter3d",
         "x": [
          -0.567,
          -1.578
         ],
         "y": [
          1.572,
          0.465
         ],
         "z": [
          -0.245,
          -0.554
         ]
        },
        {
         "hoverinfo": "skip",
         "line": {
          "color": "black",
          "width": 1
         },
         "mode": "lines",
         "showlegend": false,
         "type": "scatter3d",
         "x": [
          -0.567,
          -0.6
         ],
         "y": [
          1.572,
          1.871
         ],
         "z": [
          -0.245,
          1.151
         ]
        },
        {
         "hoverinfo": "skip",
         "line": {
          "color": "black",
          "width": 1
         },
         "mode": "lines",
         "showlegend": false,
         "type": "scatter3d",
         "x": [
          -0.567,
          0.744
         ],
         "y": [
          1.572,
          1.133
         ],
         "z": [
          -0.245,
          -0.608
         ]
        },
        {
         "hoverinfo": "skip",
         "line": {
          "color": "black",
          "width": 1
         },
         "mode": "lines",
         "showlegend": false,
         "type": "scatter3d",
         "x": [
          -0.567,
          -0.822
         ],
         "y": [
          1.572,
          2.466
         ],
         "z": [
          -0.245,
          -0.815
         ]
        },
        {
         "hoverinfo": "skip",
         "line": {
          "color": "black",
          "width": 1
         },
         "mode": "lines",
         "showlegend": false,
         "type": "scatter3d",
         "x": [
          -1.578,
          -1.179
         ],
         "y": [
          0.465,
          -0.806
         ],
         "z": [
          -0.554,
          0.203
         ]
        },
        {
         "hoverinfo": "skip",
         "line": {
          "color": "black",
          "width": 1
         },
         "mode": "lines",
         "showlegend": false,
         "type": "scatter3d",
         "x": [
          -1.578,
          -2.881
         ],
         "y": [
          0.465,
          0.879
         ],
         "z": [
          -0.554,
          -0.139
         ]
        },
        {
         "hoverinfo": "skip",
         "line": {
          "color": "black",
          "width": 1
         },
         "mode": "lines",
         "showlegend": false,
         "type": "scatter3d",
         "x": [
          -1.578,
          -1.583
         ],
         "y": [
          0.465,
          0.264
         ],
         "z": [
          -0.554,
          -1.626
         ]
        },
        {
         "hoverinfo": "skip",
         "line": {
          "color": "black",
          "width": 1
         },
         "mode": "lines",
         "showlegend": false,
         "type": "scatter3d",
         "x": [
          -1.179,
          0.249
         ],
         "y": [
          -0.806,
          -1.195
         ],
         "z": [
          0.203,
          -0.192
         ]
        },
        {
         "hoverinfo": "skip",
         "line": {
          "color": "black",
          "width": 1
         },
         "mode": "lines",
         "showlegend": false,
         "type": "scatter3d",
         "x": [
          -1.179,
          -2.075
         ],
         "y": [
          -0.806,
          -1.866
         ],
         "z": [
          0.203,
          -0.137
         ]
        },
        {
         "hoverinfo": "skip",
         "line": {
          "color": "black",
          "width": 1
         },
         "mode": "lines",
         "showlegend": false,
         "type": "scatter3d",
         "x": [
          -1.179,
          -1.223
         ],
         "y": [
          -0.806,
          -0.619
         ],
         "z": [
          0.203,
          1.276
         ]
        },
        {
         "hoverinfo": "skip",
         "line": {
          "color": "black",
          "width": 1
         },
         "mode": "lines",
         "showlegend": false,
         "type": "scatter3d",
         "x": [
          0.249,
          1.189
         ],
         "y": [
          -1.195,
          -0.024
         ],
         "z": [
          -0.192,
          0.102
         ]
        },
        {
         "hoverinfo": "skip",
         "line": {
          "color": "black",
          "width": 1
         },
         "mode": "lines",
         "showlegend": false,
         "type": "scatter3d",
         "x": [
          0.249,
          0.658
         ],
         "y": [
          -1.195,
          -2.338
         ],
         "z": [
          -0.192,
          0.562
         ]
        },
        {
         "hoverinfo": "skip",
         "line": {
          "color": "black",
          "width": 1
         },
         "mode": "lines",
         "showlegend": false,
         "type": "scatter3d",
         "x": [
          0.249,
          0.281
         ],
         "y": [
          -1.195,
          -1.429
         ],
         "z": [
          -0.192,
          -1.257
         ]
        },
        {
         "hoverinfo": "skip",
         "line": {
          "color": "black",
          "width": 1
         },
         "mode": "lines",
         "showlegend": false,
         "type": "scatter3d",
         "x": [
          1.189,
          2.607
         ],
         "y": [
          -0.024,
          -0.383
         ],
         "z": [
          0.102,
          -0.345
         ]
        },
        {
         "hoverinfo": "skip",
         "line": {
          "color": "black",
          "width": 1
         },
         "mode": "lines",
         "showlegend": false,
         "type": "scatter3d",
         "x": [
          1.189,
          0.744
         ],
         "y": [
          -0.024,
          1.133
         ],
         "z": [
          0.102,
          -0.608
         ]
        },
        {
         "hoverinfo": "skip",
         "line": {
          "color": "black",
          "width": 1
         },
         "mode": "lines",
         "showlegend": false,
         "type": "scatter3d",
         "x": [
          1.189,
          1.187
         ],
         "y": [
          -0.024,
          0.184
         ],
         "z": [
          0.102,
          1.173
         ]
        },
        {
         "hoverinfo": "skip",
         "line": {
          "color": "black",
          "width": 1
         },
         "mode": "lines",
         "showlegend": false,
         "type": "scatter3d",
         "x": [
          2.607,
          3.506
         ],
         "y": [
          -0.383,
          0.661
         ],
         "z": [
          -0.345,
          0.035
         ]
        },
        {
         "hoverinfo": "skip",
         "line": {
          "color": "black",
          "width": 1
         },
         "mode": "lines",
         "showlegend": false,
         "type": "scatter3d",
         "x": [
          2.607,
          2.913
         ],
         "y": [
          -0.383,
          -1.315
         ],
         "z": [
          -0.345,
          0.129
         ]
        },
        {
         "hoverinfo": "skip",
         "line": {
          "color": "black",
          "width": 1
         },
         "mode": "lines",
         "showlegend": false,
         "type": "scatter3d",
         "x": [
          2.607,
          2.627
         ],
         "y": [
          -0.383,
          -0.503
         ],
         "z": [
          -0.345,
          -1.428
         ]
        },
        {
         "hoverinfo": "skip",
         "line": {
          "color": "black",
          "width": 1
         },
         "mode": "lines",
         "showlegend": false,
         "type": "scatter3d",
         "x": [
          -0.6,
          0.017
         ],
         "y": [
          1.871,
          2.566
         ],
         "z": [
          1.151,
          1.42
         ]
        },
        {
         "hoverinfo": "skip",
         "line": {
          "color": "black",
          "width": 1
         },
         "mode": "lines",
         "showlegend": false,
         "type": "scatter3d",
         "x": [
          -2.881,
          -3.197
         ],
         "y": [
          0.879,
          1.682
         ],
         "z": [
          -0.139,
          -0.576
         ]
        },
        {
         "hoverinfo": "skip",
         "line": {
          "color": "black",
          "width": 1
         },
         "mode": "lines",
         "showlegend": false,
         "type": "scatter3d",
         "x": [
          -2.075,
          -3
         ],
         "y": [
          -1.866,
          -1.684
         ],
         "z": [
          -0.137,
          0.08
         ]
        },
        {
         "hoverinfo": "skip",
         "line": {
          "color": "black",
          "width": 1
         },
         "mode": "lines",
         "showlegend": false,
         "type": "scatter3d",
         "x": [
          0.658,
          0.28739188564117757
         ],
         "y": [
          -2.338,
          -3.6208883690602627
         ],
         "z": [
          0.562,
          0.17534369512279074
         ]
        },
        {
         "hoverinfo": "skip",
         "line": {
          "color": "black",
          "width": 1
         },
         "mode": "lines",
         "showlegend": false,
         "type": "scatter3d",
         "x": [
          3.506,
          4.425
         ],
         "y": [
          0.661,
          0.501
         ],
         "z": [
          0.035,
          -0.218
         ]
        },
        {
         "hoverinfo": "skip",
         "line": {
          "color": "black",
          "width": 1
         },
         "mode": "lines",
         "showlegend": false,
         "type": "scatter3d",
         "x": [
          0.28739188564117757,
          1.480320584831757
         ],
         "y": [
          -3.6208883690602627,
          -4.38081146590108
         ],
         "z": [
          0.17534369512279074,
          -0.41274579257047955
         ]
        },
        {
         "hoverinfo": "skip",
         "line": {
          "color": "black",
          "width": 1
         },
         "mode": "lines",
         "showlegend": false,
         "type": "scatter3d",
         "x": [
          0.28739188564117757,
          -0.24841655015355635
         ],
         "y": [
          -3.6208883690602627,
          -4.314104692702984
         ],
         "z": [
          0.17534369512279074,
          1.3269380024925652
         ]
        },
        {
         "hoverinfo": "skip",
         "line": {
          "color": "black",
          "width": 1
         },
         "mode": "lines",
         "showlegend": false,
         "type": "scatter3d",
         "x": [
          0.28739188564117757,
          -0.4416295953503676
         ],
         "y": [
          -3.6208883690602627,
          -3.5957016204844336
         ],
         "z": [
          0.17534369512279074,
          -0.6260918905290271
         ]
        },
        {
         "hoverinfo": "skip",
         "line": {
          "color": "black",
          "width": 1
         },
         "mode": "lines",
         "showlegend": false,
         "type": "scatter3d",
         "x": [
          1.480320584831757,
          2.551855024989353
         ],
         "y": [
          -4.38081146590108,
          -4.515665510620807
         ],
         "z": [
          -0.41274579257047955,
          0.7251602592474138
         ]
        },
        {
         "hoverinfo": "skip",
         "line": {
          "color": "black",
          "width": 1
         },
         "mode": "lines",
         "showlegend": false,
         "type": "scatter3d",
         "x": [
          1.480320584831757,
          2.0557165148821417
         ],
         "y": [
          -4.38081146590108,
          -3.682652200920845
         ],
         "z": [
          -0.41274579257047955,
          -1.491352408131528
         ]
        },
        {
         "hoverinfo": "skip",
         "line": {
          "color": "black",
          "width": 1
         },
         "mode": "lines",
         "showlegend": false,
         "type": "scatter3d",
         "x": [
          1.480320584831757,
          1.191975546023585
         ],
         "y": [
          -4.38081146590108,
          -5.388081243451282
         ],
         "z": [
          -0.41274579257047955,
          -0.7041667123716275
         ]
        },
        {
         "hoverinfo": "skip",
         "line": {
          "color": "black",
          "width": 1
         },
         "mode": "lines",
         "showlegend": false,
         "type": "scatter3d",
         "x": [
          2.551855024989353,
          1.9213705212635026
         ],
         "y": [
          -4.515665510620807,
          -5.208421548159997
         ],
         "z": [
          0.7251602592474138,
          1.937228063874931
         ]
        },
        {
         "hoverinfo": "skip",
         "line": {
          "color": "black",
          "width": 1
         },
         "mode": "lines",
         "showlegend": false,
         "type": "scatter3d",
         "x": [
          2.551855024989353,
          3.656002120222209
         ],
         "y": [
          -4.515665510620807,
          -5.289853972410994
         ],
         "z": [
          0.7251602592474138,
          0.25239454801213945
         ]
        },
        {
         "hoverinfo": "skip",
         "line": {
          "color": "black",
          "width": 1
         },
         "mode": "lines",
         "showlegend": false,
         "type": "scatter3d",
         "x": [
          2.551855024989353,
          2.8968061322786154
         ],
         "y": [
          -4.515665510620807,
          -3.5219250793962225
         ],
         "z": [
          0.7251602592474138,
          1.0110320643095607
         ]
        },
        {
         "hoverinfo": "skip",
         "line": {
          "color": "black",
          "width": 1
         },
         "mode": "lines",
         "showlegend": false,
         "type": "scatter3d",
         "x": [
          1.9213705212635026,
          0.6927362615491515
         ],
         "y": [
          -5.208421548159997,
          -4.415224134145273
         ],
         "z": [
          1.937228063874931,
          2.387308854685344
         ]
        },
        {
         "hoverinfo": "skip",
         "line": {
          "color": "black",
          "width": 1
         },
         "mode": "lines",
         "showlegend": false,
         "type": "scatter3d",
         "x": [
          1.9213705212635026,
          2.871911843306937
         ],
         "y": [
          -5.208421548159997,
          -5.263996501869976
         ],
         "z": [
          1.937228063874931,
          3.002886836469637
         ]
        },
        {
         "hoverinfo": "skip",
         "line": {
          "color": "black",
          "width": 1
         },
         "mode": "lines",
         "showlegend": false,
         "type": "scatter3d",
         "x": [
          1.9213705212635026,
          1.6207417462584386
         ],
         "y": [
          -5.208421548159997,
          -6.220381288812531
         ],
         "z": [
          1.937228063874931,
          1.6623374984904262
         ]
        },
        {
         "hoverinfo": "skip",
         "line": {
          "color": "black",
          "width": 1
         },
         "mode": "lines",
         "showlegend": false,
         "type": "scatter3d",
         "x": [
          0.6927362615491515,
          0.023121121966325875
         ],
         "y": [
          -4.415224134145273,
          -5.1331744330517735
         ],
         "z": [
          2.387308854685344,
          3.5601587739595617
         ]
        },
        {
         "hoverinfo": "skip",
         "line": {
          "color": "black",
          "width": 1
         },
         "mode": "lines",
         "showlegend": false,
         "type": "scatter3d",
         "x": [
          0.6927362615491515,
          -0.24841655015355635
         ],
         "y": [
          -4.415224134145273,
          -4.314104692702984
         ],
         "z": [
          2.387308854685344,
          1.3269380024925652
         ]
        },
        {
         "hoverinfo": "skip",
         "line": {
          "color": "black",
          "width": 1
         },
         "mode": "lines",
         "showlegend": false,
         "type": "scatter3d",
         "x": [
          0.6927362615491515,
          0.9993730295362183
         ],
         "y": [
          -4.415224134145273,
          -3.4159166774238847
         ],
         "z": [
          2.387308854685344,
          2.6998268533021843
         ]
        },
        {
         "hoverinfo": "skip",
         "line": {
          "color": "black",
          "width": 1
         },
         "mode": "lines",
         "showlegend": false,
         "type": "scatter3d",
         "x": [
          0.023121121966325875,
          -1.0536800248494305
         ],
         "y": [
          -5.1331744330517735,
          -4.3351816382697255
         ],
         "z": [
          3.5601587739595617,
          4.05638834753636
         ]
        },
        {
         "hoverinfo": "skip",
         "line": {
          "color": "black",
          "width": 1
         },
         "mode": "lines",
         "showlegend": false,
         "type": "scatter3d",
         "x": [
          0.023121121966325875,
          0.7522731954762834
         ],
         "y": [
          -5.1331744330517735,
          -5.291760896761097
         ],
         "z": [
          3.5601587739595617,
          4.353962016094729
         ]
        },
        {
         "hoverinfo": "skip",
         "line": {
          "color": "black",
          "width": 1
         },
         "mode": "lines",
         "showlegend": false,
         "type": "scatter3d",
         "x": [
          0.023121121966325875,
          -0.3628865421639118
         ],
         "y": [
          -5.1331744330517735,
          -6.095439244578159
         ],
         "z": [
          3.5601587739595617,
          3.224400653088588
         ]
        },
        {
         "hoverinfo": "skip",
         "line": {
          "color": "black",
          "width": 1
         },
         "mode": "lines",
         "showlegend": false,
         "type": "scatter3d",
         "x": [
          2.0557165148821417,
          3.370180722730016
         ],
         "y": [
          -3.682652200920845,
          -3.245639821141027
         ],
         "z": [
          -1.491352408131528,
          -1.3736236257287506
         ]
        },
        {
         "hoverinfo": "skip",
         "line": {
          "color": "black",
          "width": 1
         },
         "mode": "lines",
         "showlegend": false,
         "type": "scatter3d",
         "x": [
          3.656002120222209,
          4.237486750862175
         ],
         "y": [
          -5.289853972410994,
          -6.188240615228173
         ],
         "z": [
          0.25239454801213945,
          1.1610816637660615
         ]
        },
        {
         "hoverinfo": "skip",
         "line": {
          "color": "black",
          "width": 1
         },
         "mode": "lines",
         "showlegend": false,
         "type": "scatter3d",
         "x": [
          2.871911843306937,
          3.6796362109456533
         ],
         "y": [
          -5.263996501869976,
          -5.749565157600492
         ],
         "z": [
          3.002886836469637,
          2.7847918422705558
         ]
        },
        {
         "hoverinfo": "skip",
         "line": {
          "color": "black",
          "width": 1
         },
         "mode": "lines",
         "showlegend": false,
         "type": "scatter3d",
         "x": [
          -1.0536800248494305,
          -1.5254480198313962
         ],
         "y": [
          -4.3351816382697255,
          -4.729868650877536
         ],
         "z": [
          4.05638834753636,
          4.801926489410683
         ]
        },
        {
         "hoverinfo": "skip",
         "line": {
          "color": "black",
          "width": 1
         },
         "mode": "lines",
         "showlegend": false,
         "type": "scatter3d",
         "x": [
          4.237486750862175,
          5.523963815710901
         ],
         "y": [
          -6.188240615228173,
          -6.745677888786662
         ],
         "z": [
          1.1610816637660615,
          0.608278934335493
         ]
        },
        {
         "hoverinfo": "skip",
         "line": {
          "color": "black",
          "width": 1
         },
         "mode": "lines",
         "showlegend": false,
         "type": "scatter3d",
         "x": [
          4.237486750862175,
          3.273024317767564
         ],
         "y": [
          -6.188240615228173,
          -7.235385181769364
         ],
         "z": [
          1.1610816637660615,
          1.4982306989307572
         ]
        },
        {
         "hoverinfo": "skip",
         "line": {
          "color": "black",
          "width": 1
         },
         "mode": "lines",
         "showlegend": false,
         "type": "scatter3d",
         "x": [
          4.237486750862175,
          4.45947410918213
         ],
         "y": [
          -6.188240615228173,
          -5.627756418451672
         ],
         "z": [
          1.1610816637660615,
          2.0879859565115035
         ]
        },
        {
         "hoverinfo": "skip",
         "line": {
          "color": "black",
          "width": 1
         },
         "mode": "lines",
         "showlegend": false,
         "type": "scatter3d",
         "x": [
          5.523963815710901,
          6.10428264304959
         ],
         "y": [
          -6.745677888786662,
          -7.757267939027176
         ],
         "z": [
          0.608278934335493,
          1.6130244037803174
         ]
        },
        {
         "hoverinfo": "skip",
         "line": {
          "color": "black",
          "width": 1
         },
         "mode": "lines",
         "showlegend": false,
         "type": "scatter3d",
         "x": [
          5.523963815710901,
          6.450114558946712
         ],
         "y": [
          -6.745677888786662,
          -5.720738560427202
         ],
         "z": [
          0.608278934335493,
          0.3547361315445263
         ]
        },
        {
         "hoverinfo": "skip",
         "line": {
          "color": "black",
          "width": 1
         },
         "mode": "lines",
         "showlegend": false,
         "type": "scatter3d",
         "x": [
          5.523963815710901,
          5.2894487659797065
         ],
         "y": [
          -6.745677888786662,
          -7.289668686159618
         ],
         "z": [
          0.608278934335493,
          -0.3275865029954237
         ]
        },
        {
         "hoverinfo": "skip",
         "line": {
          "color": "black",
          "width": 1
         },
         "mode": "lines",
         "showlegend": false,
         "type": "scatter3d",
         "x": [
          6.10428264304959,
          5.060830356326786
         ],
         "y": [
          -7.757267939027176,
          -8.832623734551518
         ],
         "z": [
          1.6130244037803174,
          1.9306314540250489
         ]
        },
        {
         "hoverinfo": "skip",
         "line": {
          "color": "black",
          "width": 1
         },
         "mode": "lines",
         "showlegend": false,
         "type": "scatter3d",
         "x": [
          6.10428264304959,
          7.268059606190848
         ],
         "y": [
          -7.757267939027176,
          -8.371315322648218
         ],
         "z": [
          1.6130244037803174,
          1.054668790635915
         ]
        },
        {
         "hoverinfo": "skip",
         "line": {
          "color": "black",
          "width": 1
         },
         "mode": "lines",
         "showlegend": false,
         "type": "scatter3d",
         "x": [
          6.10428264304959,
          6.372724850492382
         ],
         "y": [
          -7.757267939027176,
          -7.227647400676437
         ],
         "z": [
          1.6130244037803174,
          2.527686563607821
         ]
        },
        {
         "hoverinfo": "skip",
         "line": {
          "color": "black",
          "width": 1
         },
         "mode": "lines",
         "showlegend": false,
         "type": "scatter3d",
         "x": [
          5.060830356326786,
          3.788838332467794
         ],
         "y": [
          -8.832623734551518,
          -8.160416923057236
         ],
         "z": [
          1.9306314540250489,
          2.4550609476843914
         ]
        },
        {
         "hoverinfo": "skip",
         "line": {
          "color": "black",
          "width": 1
         },
         "mode": "lines",
         "showlegend": false,
         "type": "scatter3d",
         "x": [
          5.060830356326786,
          4.757062466408647
         ],
         "y": [
          -8.832623734551518,
          -9.56881200615805
         ],
         "z": [
          1.9306314540250489,
          0.7450544224477378
         ]
        },
        {
         "hoverinfo": "skip",
         "line": {
          "color": "black",
          "width": 1
         },
         "mode": "lines",
         "showlegend": false,
         "type": "scatter3d",
         "x": [
          5.060830356326786,
          5.453656357902075
         ],
         "y": [
          -8.832623734551518,
          -9.5089764884601
         ],
         "z": [
          1.9306314540250489,
          2.690341717722104
         ]
        },
        {
         "hoverinfo": "skip",
         "line": {
          "color": "black",
          "width": 1
         },
         "mode": "lines",
         "showlegend": false,
         "type": "scatter3d",
         "x": [
          3.788838332467794,
          2.72096606462462
         ],
         "y": [
          -8.160416923057236,
          -9.2229501140345
         ],
         "z": [
          2.4550609476843914,
          2.718030599247359
         ]
        },
        {
         "hoverinfo": "skip",
         "line": {
          "color": "black",
          "width": 1
         },
         "mode": "lines",
         "showlegend": false,
         "type": "scatter3d",
         "x": [
          3.788838332467794,
          3.273024317767564
         ],
         "y": [
          -8.160416923057236,
          -7.235385181769364
         ],
         "z": [
          2.4550609476843914,
          1.4982306989307572
         ]
        },
        {
         "hoverinfo": "skip",
         "line": {
          "color": "black",
          "width": 1
         },
         "mode": "lines",
         "showlegend": false,
         "type": "scatter3d",
         "x": [
          3.788838332467794,
          4.0129037309233215
         ],
         "y": [
          -8.160416923057236,
          -7.632381632327904
         ],
         "z": [
          2.4550609476843914,
          3.3823399935812324
         ]
        },
        {
         "hoverinfo": "skip",
         "line": {
          "color": "black",
          "width": 1
         },
         "mode": "lines",
         "showlegend": false,
         "type": "scatter3d",
         "x": [
          2.72096606462462,
          1.5763239118701478
         ],
         "y": [
          -9.2229501140345,
          -8.60982886973319
         ],
         "z": [
          2.718030599247359,
          3.3155142240639917
         ]
        },
        {
         "hoverinfo": "skip",
         "line": {
          "color": "black",
          "width": 1
         },
         "mode": "lines",
         "showlegend": false,
         "type": "scatter3d",
         "x": [
          2.72096606462462,
          3.1201928192922215
         ],
         "y": [
          -9.2229501140345,
          -9.980787994570846
         ],
         "z": [
          2.718030599247359,
          3.3919725442112805
         ]
        },
        {
         "hoverinfo": "skip",
         "line": {
          "color": "black",
          "width": 1
         },
         "mode": "lines",
         "showlegend": false,
         "type": "scatter3d",
         "x": [
          2.72096606462462,
          2.4326195125580155
         ],
         "y": [
          -9.2229501140345,
          -9.689360576626797
         ],
         "z": [
          2.718030599247359,
          1.7764927368670185
         ]
        },
        {
         "hoverinfo": "skip",
         "line": {
          "color": "black",
          "width": 1
         },
         "mode": "lines",
         "showlegend": false,
         "type": "scatter3d",
         "x": [
          6.450114558946712,
          6.138660697551929
         ],
         "y": [
          -5.720738560427202,
          -5.054095831051122
         ],
         "z": [
          0.3547361315445263,
          -0.27264012206433397
         ]
        },
        {
         "hoverinfo": "skip",
         "line": {
          "color": "black",
          "width": 1
         },
         "mode": "lines",
         "showlegend": false,
         "type": "scatter3d",
         "x": [
          7.268059606190848,
          7.969060484031798
         ],
         "y": [
          -8.371315322648218,
          -7.746525027949046
         ],
         "z": [
          1.054668790635915,
          0.8231242875356732
         ]
        },
        {
         "hoverinfo": "skip",
         "line": {
          "color": "black",
          "width": 1
         },
         "mode": "lines",
         "showlegend": false,
         "type": "scatter3d",
         "x": [
          4.757062466408647,
          5.554273632628828
         ],
         "y": [
          -9.56881200615805,
          -10.66905801919593
         ],
         "z": [
          0.7450544224477378,
          0.3929095272013239
         ]
        },
        {
         "hoverinfo": "skip",
         "line": {
          "color": "black",
          "width": 1
         },
         "mode": "lines",
         "showlegend": false,
         "type": "scatter3d",
         "x": [
          1.5763239118701478,
          0.8573331964579269
         ],
         "y": [
          -8.60982886973319,
          -9.226460792618541
         ],
         "z": [
          3.3155142240639917,
          3.510251028057841
         ]
        },
        {
         "hoverinfo": "skip",
         "line": {
          "color": "black",
          "width": 1
         },
         "mode": "lines",
         "showlegend": false,
         "type": "scatter3d",
         "x": [
          5.554273632628828,
          4.866320224547968
         ],
         "y": [
          -10.66905801919593,
          -11.96110913350714
         ],
         "z": [
          0.3929095272013239,
          0.7516217186823118
         ]
        },
        {
         "hoverinfo": "skip",
         "line": {
          "color": "black",
          "width": 1
         },
         "mode": "lines",
         "showlegend": false,
         "type": "scatter3d",
         "x": [
          5.554273632628828,
          5.889503553988572
         ],
         "y": [
          -10.66905801919593,
          -10.592083898242059
         ],
         "z": [
          0.3929095272013239,
          -1.0146759531615985
         ]
        },
        {
         "hoverinfo": "skip",
         "line": {
          "color": "black",
          "width": 1
         },
         "mode": "lines",
         "showlegend": false,
         "type": "scatter3d",
         "x": [
          5.554273632628828,
          6.497273049932708
         ],
         "y": [
          -10.66905801919593,
          -10.594351436161784
         ],
         "z": [
          0.3929095272013239,
          0.9653984051857825
         ]
        },
        {
         "hoverinfo": "skip",
         "line": {
          "color": "black",
          "width": 1
         },
         "mode": "lines",
         "showlegend": false,
         "type": "scatter3d",
         "x": [
          4.866320224547968,
          5.751157293389989
         ],
         "y": [
          -11.96110913350714,
          -13.140014988518232
         ],
         "z": [
          0.7516217186823118,
          0.30897956916398894
         ]
        },
        {
         "hoverinfo": "skip",
         "line": {
          "color": "black",
          "width": 1
         },
         "mode": "lines",
         "showlegend": false,
         "type": "scatter3d",
         "x": [
          4.866320224547968,
          4.613285882466256
         ],
         "y": [
          -11.96110913350714,
          -12.033710588156485
         ],
         "z": [
          0.7516217186823118,
          2.13426864926683
         ]
        },
        {
         "hoverinfo": "skip",
         "line": {
          "color": "black",
          "width": 1
         },
         "mode": "lines",
         "showlegend": false,
         "type": "scatter3d",
         "x": [
          4.866320224547968,
          3.91586933538977
         ],
         "y": [
          -11.96110913350714,
          -12.014988732506898
         ],
         "z": [
          0.7516217186823118,
          0.18811586698457816
         ]
        },
        {
         "hoverinfo": "skip",
         "line": {
          "color": "black",
          "width": 1
         },
         "mode": "lines",
         "showlegend": false,
         "type": "scatter3d",
         "x": [
          5.751157293389989,
          6.07330214405259
         ],
         "y": [
          -13.140014988518232,
          -13.01384827469256
         ],
         "z": [
          0.30897956916398894,
          -1.1831201780091027
         ]
        },
        {
         "hoverinfo": "skip",
         "line": {
          "color": "black",
          "width": 1
         },
         "mode": "lines",
         "showlegend": false,
         "type": "scatter3d",
         "x": [
          5.751157293389989,
          5.063898568748783
         ],
         "y": [
          -13.140014988518232,
          -14.370606262810867
         ],
         "z": [
          0.30897956916398894,
          0.5467032765205952
         ]
        },
        {
         "hoverinfo": "skip",
         "line": {
          "color": "black",
          "width": 1
         },
         "mode": "lines",
         "showlegend": false,
         "type": "scatter3d",
         "x": [
          5.751157293389989,
          6.676749404343498
         ],
         "y": [
          -13.140014988518232,
          -13.1202060395213
         ],
         "z": [
          0.30897956916398894,
          0.8852198399541036
         ]
        },
        {
         "hoverinfo": "skip",
         "line": {
          "color": "black",
          "width": 1
         },
         "mode": "lines",
         "showlegend": false,
         "type": "scatter3d",
         "x": [
          6.07330214405259,
          6.739153388942177
         ],
         "y": [
          -13.01384827469256,
          -11.65932984087781
         ],
         "z": [
          -1.1831201780091027,
          -1.4415267029557937
         ]
        },
        {
         "hoverinfo": "skip",
         "line": {
          "color": "black",
          "width": 1
         },
         "mode": "lines",
         "showlegend": false,
         "type": "scatter3d",
         "x": [
          6.07330214405259,
          4.866732557493382
         ],
         "y": [
          -13.01384827469256,
          -13.104595025141528
         ],
         "z": [
          -1.1831201780091027,
          -1.9419323155459867
         ]
        },
        {
         "hoverinfo": "skip",
         "line": {
          "color": "black",
          "width": 1
         },
         "mode": "lines",
         "showlegend": false,
         "type": "scatter3d",
         "x": [
          6.07330214405259,
          6.752111311166297
         ],
         "y": [
          -13.01384827469256,
          -13.814333154915182
         ],
         "z": [
          -1.1831201780091027,
          -1.47869939104238
         ]
        },
        {
         "hoverinfo": "skip",
         "line": {
          "color": "black",
          "width": 1
         },
         "mode": "lines",
         "showlegend": false,
         "type": "scatter3d",
         "x": [
          6.739153388942177,
          7.009716398925608
         ],
         "y": [
          -11.65932984087781,
          -11.500539508206224
         ],
         "z": [
          -1.4415267029557937,
          -2.9382104664405033
         ]
        },
        {
         "hoverinfo": "skip",
         "line": {
          "color": "black",
          "width": 1
         },
         "mode": "lines",
         "showlegend": false,
         "type": "scatter3d",
         "x": [
          6.739153388942177,
          5.889503553988572
         ],
         "y": [
          -11.65932984087781,
          -10.592083898242059
         ],
         "z": [
          -1.4415267029557937,
          -1.0146759531615985
         ]
        },
        {
         "hoverinfo": "skip",
         "line": {
          "color": "black",
          "width": 1
         },
         "mode": "lines",
         "showlegend": false,
         "type": "scatter3d",
         "x": [
          6.739153388942177,
          7.680601729368048
         ],
         "y": [
          -11.65932984087781,
          -11.607017487840857
         ],
         "z": [
          -1.4415267029557937,
          -0.8939763034224635
         ]
        },
        {
         "hoverinfo": "skip",
         "line": {
          "color": "black",
          "width": 1
         },
         "mode": "lines",
         "showlegend": false,
         "type": "scatter3d",
         "x": [
          7.009716398925608,
          7.734357007618713
         ],
         "y": [
          -11.500539508206224,
          -10.289543579286654
         ],
         "z": [
          -2.9382104664405033,
          -3.1651352301246685
         ]
        },
        {
         "hoverinfo": "skip",
         "line": {
          "color": "black",
          "width": 1
         },
         "mode": "lines",
         "showlegend": false,
         "type": "scatter3d",
         "x": [
          7.009716398925608,
          7.5971095253295005
         ],
         "y": [
          -11.500539508206224,
          -12.347118069098146
         ],
         "z": [
          -2.9382104664405033,
          -3.2934175261840077
         ]
        },
        {
         "hoverinfo": "skip",
         "line": {
          "color": "black",
          "width": 1
         },
         "mode": "lines",
         "showlegend": false,
         "type": "scatter3d",
         "x": [
          7.009716398925608,
          6.063279431367144
         ],
         "y": [
          -11.500539508206224,
          -11.463257089612863
         ],
         "z": [
          -2.9382104664405033,
          -3.4767669515955615
         ]
        },
        {
         "hoverinfo": "skip",
         "line": {
          "color": "black",
          "width": 1
         },
         "mode": "lines",
         "showlegend": false,
         "type": "scatter3d",
         "x": [
          4.613285882466256,
          4.05916980249675
         ],
         "y": [
          -12.033710588156485,
          -11.316581055109904
         ],
         "z": [
          2.13426864926683,
          2.471459400551059
         ]
        },
        {
         "hoverinfo": "skip",
         "line": {
          "color": "black",
          "width": 1
         },
         "mode": "lines",
         "showlegend": false,
         "type": "scatter3d",
         "x": [
          5.063898568748783,
          5.6027960796688205
         ],
         "y": [
          -14.370606262810867,
          -15.220517327694829
         ],
         "z": [
          0.5467032765205952,
          1.5255678557714734
         ]
        },
        {
         "hoverinfo": "skip",
         "line": {
          "color": "black",
          "width": 1
         },
         "mode": "lines",
         "showlegend": false,
         "type": "scatter3d",
         "x": [
          4.866732557493382,
          4.388930815680093
         ],
         "y": [
          -13.104595025141528,
          -13.937777708142
         ],
         "z": [
          -1.9419323155459867,
          -1.823158950399077
         ]
        },
        {
         "hoverinfo": "skip",
         "line": {
          "color": "black",
          "width": 1
         },
         "mode": "lines",
         "showlegend": false,
         "type": "scatter3d",
         "x": [
          7.734357007618713,
          7.940916085481296
         ],
         "y": [
          -10.289543579286654,
          -10.123949627724773
         ],
         "z": [
          -3.1651352301246685,
          -4.095198126147663
         ]
        },
        {
         "hoverinfo": "skip",
         "line": {
          "color": "black",
          "width": 1
         },
         "mode": "lines",
         "showlegend": false,
         "type": "scatter3d",
         "x": [
          5.6027960796688205,
          4.649374390469096
         ],
         "y": [
          -15.220517327694829,
          -16.345365490199164
         ],
         "z": [
          1.5255678557714734,
          1.836618806379522
         ]
        },
        {
         "hoverinfo": "skip",
         "line": {
          "color": "black",
          "width": 1
         },
         "mode": "lines",
         "showlegend": false,
         "type": "scatter3d",
         "x": [
          5.6027960796688205,
          6.9135664546085565
         ],
         "y": [
          -15.220517327694829,
          -15.700883742571758
         ],
         "z": [
          1.5255678557714734,
          1.0879628607832652
         ]
        },
        {
         "hoverinfo": "skip",
         "line": {
          "color": "black",
          "width": 1
         },
         "mode": "lines",
         "showlegend": false,
         "type": "scatter3d",
         "x": [
          5.6027960796688205,
          5.755962247218171
         ],
         "y": [
          -15.220517327694829,
          -14.61954687988207
         ],
         "z": [
          1.5255678557714734,
          2.4409623805387852
         ]
        },
        {
         "hoverinfo": "skip",
         "line": {
          "color": "black",
          "width": 1
         },
         "mode": "lines",
         "showlegend": false,
         "type": "scatter3d",
         "x": [
          4.649374390469096,
          5.295886194255522
         ],
         "y": [
          -16.345365490199164,
          -17.27658699181007
         ],
         "z": [
          1.836618806379522,
          2.878109820237623
         ]
        },
        {
         "hoverinfo": "skip",
         "line": {
          "color": "black",
          "width": 1
         },
         "mode": "lines",
         "showlegend": false,
         "type": "scatter3d",
         "x": [
          4.649374390469096,
          3.4243256316584647
         ],
         "y": [
          -16.345365490199164,
          -15.852327531560723
         ],
         "z": [
          1.836618806379522,
          2.313231912702179
         ]
        },
        {
         "hoverinfo": "skip",
         "line": {
          "color": "black",
          "width": 1
         },
         "mode": "lines",
         "showlegend": false,
         "type": "scatter3d",
         "x": [
          4.649374390469096,
          4.491937561016936
         ],
         "y": [
          -16.345365490199164,
          -16.92918510986124
         ],
         "z": [
          1.836618806379522,
          0.9079442110737084
         ]
        },
        {
         "hoverinfo": "skip",
         "line": {
          "color": "black",
          "width": 1
         },
         "mode": "lines",
         "showlegend": false,
         "type": "scatter3d",
         "x": [
          5.295886194255522,
          6.660546453315635
         ],
         "y": [
          -17.27658699181007,
          -17.75512648362009
         ],
         "z": [
          2.878109820237623,
          2.3733729262817733
         ]
        },
        {
         "hoverinfo": "skip",
         "line": {
          "color": "black",
          "width": 1
         },
         "mode": "lines",
         "showlegend": false,
         "type": "scatter3d",
         "x": [
          5.295886194255522,
          4.447338718774148
         ],
         "y": [
          -17.27658699181007,
          -18.40477186923964
         ],
         "z": [
          2.878109820237623,
          3.102515845543121
         ]
        },
        {
         "hoverinfo": "skip",
         "line": {
          "color": "black",
          "width": 1
         },
         "mode": "lines",
         "showlegend": false,
         "type": "scatter3d",
         "x": [
          5.295886194255522,
          5.424388827442796
         ],
         "y": [
          -17.27658699181007,
          -16.72396973891508
         ],
         "z": [
          2.878109820237623,
          3.8093816629703086
         ]
        },
        {
         "hoverinfo": "skip",
         "line": {
          "color": "black",
          "width": 1
         },
         "mode": "lines",
         "showlegend": false,
         "type": "scatter3d",
         "x": [
          6.660546453315635,
          7.5366639424097706
         ],
         "y": [
          -17.75512648362009,
          -16.538619563471137
         ],
         "z": [
          2.3733729262817733,
          2.0613135432581084
         ]
        },
        {
         "hoverinfo": "skip",
         "line": {
          "color": "black",
          "width": 1
         },
         "mode": "lines",
         "showlegend": false,
         "type": "scatter3d",
         "x": [
          6.660546453315635,
          6.485886732228457
         ],
         "y": [
          -17.75512648362009,
          -18.533502597734717
         ],
         "z": [
          2.3733729262817733,
          1.1886933886828683
         ]
        },
        {
         "hoverinfo": "skip",
         "line": {
          "color": "black",
          "width": 1
         },
         "mode": "lines",
         "showlegend": false,
         "type": "scatter3d",
         "x": [
          6.660546453315635,
          7.141472278920311
         ],
         "y": [
          -17.75512648362009,
          -18.361406670314437
         ],
         "z": [
          2.3733729262817733,
          3.1415263520297323
         ]
        },
        {
         "hoverinfo": "skip",
         "line": {
          "color": "black",
          "width": 1
         },
         "mode": "lines",
         "showlegend": false,
         "type": "scatter3d",
         "x": [
          7.5366639424097706,
          8.879838771321644
         ],
         "y": [
          -16.538619563471137,
          -17.007092653069904
         ],
         "z": [
          2.0613135432581084,
          1.5001581785868408
         ]
        },
        {
         "hoverinfo": "skip",
         "line": {
          "color": "black",
          "width": 1
         },
         "mode": "lines",
         "showlegend": false,
         "type": "scatter3d",
         "x": [
          7.5366639424097706,
          6.9135664546085565
         ],
         "y": [
          -16.538619563471137,
          -15.700883742571758
         ],
         "z": [
          2.0613135432581084,
          1.0879628607832652
         ]
        },
        {
         "hoverinfo": "skip",
         "line": {
          "color": "black",
          "width": 1
         },
         "mode": "lines",
         "showlegend": false,
         "type": "scatter3d",
         "x": [
          7.5366639424097706,
          7.703335398877375
         ],
         "y": [
          -16.538619563471137,
          -15.967090794617484
         ],
         "z": [
          2.0613135432581084,
          2.9747950657705187
         ]
        },
        {
         "hoverinfo": "skip",
         "line": {
          "color": "black",
          "width": 1
         },
         "mode": "lines",
         "showlegend": false,
         "type": "scatter3d",
         "x": [
          8.879838771321644,
          9.739042540523323
         ],
         "y": [
          -17.007092653069904,
          -15.879398386889584
         ],
         "z": [
          1.5001581785868408,
          1.317991976964079
         ]
        },
        {
         "hoverinfo": "skip",
         "line": {
          "color": "black",
          "width": 1
         },
         "mode": "lines",
         "showlegend": false,
         "type": "scatter3d",
         "x": [
          8.879838771321644,
          9.341313078102724
         ],
         "y": [
          -17.007092653069904,
          -17.706253656468846
         ],
         "z": [
          1.5001581785868408,
          2.1973764769031616
         ]
        },
        {
         "hoverinfo": "skip",
         "line": {
          "color": "black",
          "width": 1
         },
         "mode": "lines",
         "showlegend": false,
         "type": "scatter3d",
         "x": [
          8.879838771321644,
          8.721174348626658
         ],
         "y": [
          -17.007092653069904,
          -17.500760583015754
         ],
         "z": [
          1.5001581785868408,
          0.541881821832777
         ]
        },
        {
         "hoverinfo": "skip",
         "line": {
          "color": "black",
          "width": 1
         },
         "mode": "lines",
         "showlegend": false,
         "type": "scatter3d",
         "x": [
          3.4243256316584647,
          2.971062137616494
         ],
         "y": [
          -15.852327531560723,
          -15.2602464855551
         ],
         "z": [
          2.313231912702179,
          1.6975946494296
         ]
        },
        {
         "hoverinfo": "skip",
         "line": {
          "color": "black",
          "width": 1
         },
         "mode": "lines",
         "showlegend": false,
         "type": "scatter3d",
         "x": [
          4.447338718774148,
          3.5625552990417675
         ],
         "y": [
          -18.40477186923964,
          -18.17423744776699
         ],
         "z": [
          3.102515845543121,
          3.4177779280759597
         ]
        },
        {
         "hoverinfo": "skip",
         "line": {
          "color": "black",
          "width": 1
         },
         "mode": "lines",
         "showlegend": false,
         "type": "scatter3d",
         "x": [
          6.485886732228457,
          5.936034031854064
         ],
         "y": [
          -18.533502597734717,
          -19.320253362073178
         ],
         "z": [
          1.1886933886828683,
          1.3123066675158235
         ]
        },
        {
         "hoverinfo": "skip",
         "line": {
          "color": "black",
          "width": 1
         },
         "mode": "lines",
         "showlegend": false,
         "type": "scatter3d",
         "x": [
          9.739042540523323,
          10.610602235370099
         ],
         "y": [
          -15.879398386889584,
          -16.102964567175196
         ],
         "z": [
          1.317991976964079,
          0.9637225013510948
         ]
        },
        {
         "hoverinfo": "skip",
         "line": {
          "color": "black",
          "width": 1
         },
         "mode": "lines",
         "showlegend": false,
         "type": "scatter3d",
         "x": [
          3.370180722730016,
          4.342995410058376
         ],
         "y": [
          -3.245639821141027,
          -4.428916027255673
         ],
         "z": [
          -1.3736236257287506,
          -1.3962732208940924
         ]
        },
        {
         "hoverinfo": "skip",
         "line": {
          "color": "black",
          "width": 1
         },
         "mode": "lines",
         "showlegend": false,
         "type": "scatter3d",
         "x": [
          3.370180722730016,
          3.6513411897599326
         ],
         "y": [
          -3.245639821141027,
          -2.325538037107531
         ],
         "z": [
          -1.3736236257287506,
          -2.4584561007210404
         ]
        },
        {
         "hoverinfo": "skip",
         "line": {
          "color": "black",
          "width": 1
         },
         "mode": "lines",
         "showlegend": false,
         "type": "scatter3d",
         "x": [
          3.370180722730016,
          3.5423803632455018
         ],
         "y": [
          -3.245639821141027,
          -2.768128489508456
         ],
         "z": [
          -1.3736236257287506,
          -0.41616036169778703
         ]
        },
        {
         "hoverinfo": "skip",
         "line": {
          "color": "black",
          "width": 1
         },
         "mode": "lines",
         "showlegend": false,
         "type": "scatter3d",
         "x": [
          4.342995410058376,
          4.126498442731845
         ],
         "y": [
          -4.428916027255673,
          -5.18045429619363
         ],
         "z": [
          -1.3962732208940924,
          -2.753791895336951
         ]
        },
        {
         "hoverinfo": "skip",
         "line": {
          "color": "black",
          "width": 1
         },
         "mode": "lines",
         "showlegend": false,
         "type": "scatter3d",
         "x": [
          4.342995410058376,
          5.693115178717679
         ],
         "y": [
          -4.428916027255673,
          -3.971488124917645
         ],
         "z": [
          -1.3962732208940924,
          -1.3611689028370517
         ]
        },
        {
         "hoverinfo": "skip",
         "line": {
          "color": "black",
          "width": 1
         },
         "mode": "lines",
         "showlegend": false,
         "type": "scatter3d",
         "x": [
          4.342995410058376,
          4.150905291237018
         ],
         "y": [
          -4.428916027255673,
          -5.113942855256785
         ],
         "z": [
          -1.3962732208940924,
          -0.5983171137701269
         ]
        },
        {
         "hoverinfo": "skip",
         "line": {
          "color": "black",
          "width": 1
         },
         "mode": "lines",
         "showlegend": false,
         "type": "scatter3d",
         "x": [
          4.126498442731845,
          4.250016685001658
         ],
         "y": [
          -5.18045429619363,
          -4.176529332805269
         ],
         "z": [
          -2.753791895336951,
          -3.9052083759000245
         ]
        },
        {
         "hoverinfo": "skip",
         "line": {
          "color": "black",
          "width": 1
         },
         "mode": "lines",
         "showlegend": false,
         "type": "scatter3d",
         "x": [
          4.126498442731845,
          5.114014472594498
         ],
         "y": [
          -5.18045429619363,
          -6.204095885248118
         ],
         "z": [
          -2.753791895336951,
          -2.898398215815365
         ]
        },
        {
         "hoverinfo": "skip",
         "line": {
          "color": "black",
          "width": 1
         },
         "mode": "lines",
         "showlegend": false,
         "type": "scatter3d",
         "x": [
          4.126498442731845,
          3.1329316078512255
         ],
         "y": [
          -5.18045429619363,
          -5.627876943376505
         ],
         "z": [
          -2.753791895336951,
          -2.7627316611714585
         ]
        },
        {
         "hoverinfo": "skip",
         "line": {
          "color": "black",
          "width": 1
         },
         "mode": "lines",
         "showlegend": false,
         "type": "scatter3d",
         "x": [
          4.250016685001658,
          3.2980461971580066
         ],
         "y": [
          -4.176529332805269,
          -3.0070532722253507
         ],
         "z": [
          -3.9052083759000245,
          -3.649247570296521
         ]
        },
        {
         "hoverinfo": "skip",
         "line": {
          "color": "black",
          "width": 1
         },
         "mode": "lines",
         "showlegend": false,
         "type": "scatter3d",
         "x": [
          4.250016685001658,
          3.906135796830376
         ],
         "y": [
          -4.176529332805269,
          -4.815542656683919
         ],
         "z": [
          -3.9052083759000245,
          -5.135813473669447
         ]
        },
        {
         "hoverinfo": "skip",
         "line": {
          "color": "black",
          "width": 1
         },
         "mode": "lines",
         "showlegend": false,
         "type": "scatter3d",
         "x": [
          4.250016685001658,
          5.275095253770038
         ],
         "y": [
          -4.176529332805269,
          -3.8088434109244536
         ],
         "z": [
          -3.9052083759000245,
          -3.9592453142146766
         ]
        },
        {
         "hoverinfo": "skip",
         "line": {
          "color": "black",
          "width": 1
         },
         "mode": "lines",
         "showlegend": false,
         "type": "scatter3d",
         "x": [
          3.2980461971580066,
          3.3870442548285054
         ],
         "y": [
          -3.0070532722253507,
          -2.015203681937657
         ],
         "z": [
          -3.649247570296521,
          -4.811413107548858
         ]
        },
        {
         "hoverinfo": "skip",
         "line": {
          "color": "black",
          "width": 1
         },
         "mode": "lines",
         "showlegend": false,
         "type": "scatter3d",
         "x": [
          3.2980461971580066,
          3.6513411897599326
         ],
         "y": [
          -3.0070532722253507,
          -2.325538037107531
         ],
         "z": [
          -3.649247570296521,
          -2.4584561007210404
         ]
        },
        {
         "hoverinfo": "skip",
         "line": {
          "color": "black",
          "width": 1
         },
         "mode": "lines",
         "showlegend": false,
         "type": "scatter3d",
         "x": [
          3.2980461971580066,
          2.2777254688201856
         ],
         "y": [
          -3.0070532722253507,
          -3.3811711984711703
         ],
         "z": [
          -3.649247570296521,
          -3.5709827085403956
         ]
        },
        {
         "hoverinfo": "skip",
         "line": {
          "color": "black",
          "width": 1
         },
         "mode": "lines",
         "showlegend": false,
         "type": "scatter3d",
         "x": [
          3.3870442548285054,
          2.495838629348798
         ],
         "y": [
          -2.015203681937657,
          -0.9244632548408718
         ],
         "z": [
          -4.811413107548858,
          -4.575905456271785
         ]
        },
        {
         "hoverinfo": "skip",
         "line": {
          "color": "black",
          "width": 1
         },
         "mode": "lines",
         "showlegend": false,
         "type": "scatter3d",
         "x": [
          3.3870442548285054,
          4.407808504863519
         ],
         "y": [
          -2.015203681937657,
          -1.6398390750244094
         ],
         "z": [
          -4.811413107548858,
          -4.890177044266867
         ]
        },
        {
         "hoverinfo": "skip",
         "line": {
          "color": "black",
          "width": 1
         },
         "mode": "lines",
         "showlegend": false,
         "type": "scatter3d",
         "x": [
          3.3870442548285054,
          3.1126184885617403
         ],
         "y": [
          -2.015203681937657,
          -2.516009875847719
         ],
         "z": [
          -4.811413107548858,
          -5.7392480362674405
         ]
        },
        {
         "hoverinfo": "skip",
         "line": {
          "color": "black",
          "width": 1
         },
         "mode": "lines",
         "showlegend": false,
         "type": "scatter3d",
         "x": [
          5.693115178717679,
          5.784390382598928
         ],
         "y": [
          -3.971488124917645,
          -3.506280047215519
         ],
         "z": [
          -1.3611689028370517,
          -0.5187133956456462
         ]
        },
        {
         "hoverinfo": "skip",
         "line": {
          "color": "black",
          "width": 1
         },
         "mode": "lines",
         "showlegend": false,
         "type": "scatter3d",
         "x": [
          5.114014472594498,
          5.006818908150824
         ],
         "y": [
          -6.204095885248118,
          -6.803818758841156
         ],
         "z": [
          -2.898398215815365,
          -2.1474217941795652
         ]
        },
        {
         "hoverinfo": "skip",
         "line": {
          "color": "black",
          "width": 1
         },
         "mode": "lines",
         "showlegend": false,
         "type": "scatter3d",
         "x": [
          3.906135796830376,
          4.831957159519671
         ],
         "y": [
          -4.815542656683919,
          -5.593195159440236
         ],
         "z": [
          -5.135813473669447,
          -5.8219384107945835
         ]
        },
        {
         "hoverinfo": "skip",
         "line": {
          "color": "black",
          "width": 1
         },
         "mode": "lines",
         "showlegend": false,
         "type": "scatter3d",
         "x": [
          2.495838629348798,
          2.582990241096269
         ],
         "y": [
          -0.9244632548408718,
          -0.32385085125660096
         ],
         "z": [
          -4.575905456271785,
          -5.328446709114806
         ]
        },
        {
         "hoverinfo": "skip",
         "line": {
          "color": "black",
          "width": 1
         },
         "mode": "lines",
         "showlegend": false,
         "type": "scatter3d",
         "x": [
          4.831957159519671,
          5.329187133895838
         ],
         "y": [
          -5.593195159440236,
          -4.870704998502981
         ],
         "z": [
          -5.8219384107945835,
          -7.077797304114505
         ]
        },
        {
         "hoverinfo": "skip",
         "line": {
          "color": "black",
          "width": 1
         },
         "mode": "lines",
         "showlegend": false,
         "type": "scatter3d",
         "x": [
          4.831957159519671,
          4.212238862998239
         ],
         "y": [
          -5.593195159440236,
          -6.855098930072359
         ],
         "z": [
          -5.8219384107945835,
          -6.164512645991868
         ]
        },
        {
         "hoverinfo": "skip",
         "line": {
          "color": "black",
          "width": 1
         },
         "mode": "lines",
         "showlegend": false,
         "type": "scatter3d",
         "x": [
          4.831957159519671,
          5.724886884762492
         ],
         "y": [
          -5.593195159440236,
          -5.756726048456004
         ],
         "z": [
          -5.8219384107945835,
          -5.230043281472257
         ]
        },
        {
         "hoverinfo": "skip",
         "line": {
          "color": "black",
          "width": 1
         },
         "mode": "lines",
         "showlegend": false,
         "type": "scatter3d",
         "x": [
          5.329187133895838,
          4.075547144567605
         ],
         "y": [
          -4.870704998502981,
          -4.580827415817252
         ],
         "z": [
          -7.077797304114505,
          -7.972010075359487
         ]
        },
        {
         "hoverinfo": "skip",
         "line": {
          "color": "black",
          "width": 1
         },
         "mode": "lines",
         "showlegend": false,
         "type": "scatter3d",
         "x": [
          5.329187133895838,
          6.212870644604493
         ],
         "y": [
          -4.870704998502981,
          -5.705523275807869
         ],
         "z": [
          -7.077797304114505,
          -7.823035316725585
         ]
        },
        {
         "hoverinfo": "skip",
         "line": {
          "color": "black",
          "width": 1
         },
         "mode": "lines",
         "showlegend": false,
         "type": "scatter3d",
         "x": [
          5.329187133895838,
          5.794990104880635
         ],
         "y": [
          -4.870704998502981,
          -3.9377957250393587
         ],
         "z": [
          -7.077797304114505,
          -6.840145617535461
         ]
        },
        {
         "hoverinfo": "skip",
         "line": {
          "color": "black",
          "width": 1
         },
         "mode": "lines",
         "showlegend": false,
         "type": "scatter3d",
         "x": [
          4.075547144567605,
          3.310717872479277
         ],
         "y": [
          -4.580827415817252,
          -5.889649502127884
         ],
         "z": [
          -7.972010075359487,
          -8.197626854306272
         ]
        },
        {
         "hoverinfo": "skip",
         "line": {
          "color": "black",
          "width": 1
         },
         "mode": "lines",
         "showlegend": false,
         "type": "scatter3d",
         "x": [
          4.075547144567605,
          4.495757895226085
         ],
         "y": [
          -4.580827415817252,
          -4.044923593491575
         ],
         "z": [
          -7.972010075359487,
          -9.229058609922799
         ]
        },
        {
         "hoverinfo": "skip",
         "line": {
          "color": "black",
          "width": 1
         },
         "mode": "lines",
         "showlegend": false,
         "type": "scatter3d",
         "x": [
          4.075547144567605,
          3.431152574440656
         ],
         "y": [
          -4.580827415817252,
          -3.8624002123259533
         ],
         "z": [
          -7.972010075359487,
          -7.465986369121751
         ]
        },
        {
         "hoverinfo": "skip",
         "line": {
          "color": "black",
          "width": 1
         },
         "mode": "lines",
         "showlegend": false,
         "type": "scatter3d",
         "x": [
          3.310717872479277,
          3.009905516755846
         ],
         "y": [
          -5.889649502127884,
          -6.5296736607298485
         ],
         "z": [
          -8.197626854306272,
          -6.8414118997175954
         ]
        },
        {
         "hoverinfo": "skip",
         "line": {
          "color": "black",
          "width": 1
         },
         "mode": "lines",
         "showlegend": false,
         "type": "scatter3d",
         "x": [
          3.310717872479277,
          2.0868336909430543
         ],
         "y": [
          -5.889649502127884,
          -5.616470869902413
         ],
         "z": [
          -8.197626854306272,
          -8.882069653290108
         ]
        },
        {
         "hoverinfo": "skip",
         "line": {
          "color": "black",
          "width": 1
         },
         "mode": "lines",
         "showlegend": false,
         "type": "scatter3d",
         "x": [
          3.310717872479277,
          3.919310557431273
         ],
         "y": [
          -5.889649502127884,
          -6.568506241148283
         ],
         "z": [
          -8.197626854306272,
          -8.795679921942837
         ]
        },
        {
         "hoverinfo": "skip",
         "line": {
          "color": "black",
          "width": 1
         },
         "mode": "lines",
         "showlegend": false,
         "type": "scatter3d",
         "x": [
          3.009905516755846,
          2.214689135616443
         ],
         "y": [
          -6.5296736607298485,
          -7.8200460935412845
         ],
         "z": [
          -6.8414118997175954,
          -7.0532724477388005
         ]
        },
        {
         "hoverinfo": "skip",
         "line": {
          "color": "black",
          "width": 1
         },
         "mode": "lines",
         "showlegend": false,
         "type": "scatter3d",
         "x": [
          3.009905516755846,
          4.212238862998239
         ],
         "y": [
          -6.5296736607298485,
          -6.855098930072359
         ],
         "z": [
          -6.8414118997175954,
          -6.164512645991868
         ]
        },
        {
         "hoverinfo": "skip",
         "line": {
          "color": "black",
          "width": 1
         },
         "mode": "lines",
         "showlegend": false,
         "type": "scatter3d",
         "x": [
          3.009905516755846,
          2.422894263718908
         ],
         "y": [
          -6.5296736607298485,
          -5.838697120784188
         ],
         "z": [
          -6.8414118997175954,
          -6.237165914995538
         ]
        },
        {
         "hoverinfo": "skip",
         "line": {
          "color": "black",
          "width": 1
         },
         "mode": "lines",
         "showlegend": false,
         "type": "scatter3d",
         "x": [
          2.214689135616443,
          1.9295561468284834
         ],
         "y": [
          -7.8200460935412845,
          -8.416952350266767
         ],
         "z": [
          -7.0532724477388005,
          -5.7876389702316615
         ]
        },
        {
         "hoverinfo": "skip",
         "line": {
          "color": "black",
          "width": 1
         },
         "mode": "lines",
         "showlegend": false,
         "type": "scatter3d",
         "x": [
          2.214689135616443,
          2.8016620025926593
         ],
         "y": [
          -7.8200460935412845,
          -8.512436312634556
         ],
         "z": [
          -7.0532724477388005,
          -7.657524578837808
         ]
        },
        {
         "hoverinfo": "skip",
         "line": {
          "color": "black",
          "width": 1
         },
         "mode": "lines",
         "showlegend": false,
         "type": "scatter3d",
         "x": [
          2.214689135616443,
          1.281379094608078
         ],
         "y": [
          -7.8200460935412845,
          -7.592282628135922
         ],
         "z": [
          -7.0532724477388005,
          -7.5671305713288675
         ]
        },
        {
         "hoverinfo": "skip",
         "line": {
          "color": "black",
          "width": 1
         },
         "mode": "lines",
         "showlegend": false,
         "type": "scatter3d",
         "x": [
          6.212870644604493,
          6.964522809939713
         ],
         "y": [
          -5.705523275807869,
          -5.86995227463982
         ],
         "z": [
          -7.823035316725585,
          -7.237831825032316
         ]
        },
        {
         "hoverinfo": "skip",
         "line": {
          "color": "black",
          "width": 1
         },
         "mode": "lines",
         "showlegend": false,
         "type": "scatter3d",
         "x": [
          4.495757895226085,
          4.982039170775689
         ],
         "y": [
          -4.044923593491575,
          -3.2313332555276104
         ],
         "z": [
          -9.229058609922799,
          -9.037420192528137
         ]
        },
        {
         "hoverinfo": "skip",
         "line": {
          "color": "black",
          "width": 1
         },
         "mode": "lines",
         "showlegend": false,
         "type": "scatter3d",
         "x": [
          2.0868336909430543,
          1.0468634902201872
         ],
         "y": [
          -5.616470869902413,
          -4.990154715796645
         ],
         "z": [
          -8.882069653290108,
          -8.177596079112481
         ]
        },
        {
         "hoverinfo": "skip",
         "line": {
          "color": "black",
          "width": 1
         },
         "mode": "lines",
         "showlegend": false,
         "type": "scatter3d",
         "x": [
          1.9295561468284834,
          1.429852973914624
         ],
         "y": [
          -8.416952350266767,
          -9.22528768162956
         ],
         "z": [
          -5.7876389702316615,
          -5.965233258006975
         ]
        },
        {
         "hoverinfo": "skip",
         "line": {
          "color": "black",
          "width": 1
         },
         "mode": "lines",
         "showlegend": false,
         "type": "scatter3d",
         "x": [
          1.0468634902201872,
          -0.20597664009523164
         ],
         "y": [
          -4.990154715796645,
          -4.938024944128733
         ],
         "z": [
          -8.177596079112481,
          -9.011868998951723
         ]
        },
        {
         "hoverinfo": "skip",
         "line": {
          "color": "black",
          "width": 1
         },
         "mode": "lines",
         "showlegend": false,
         "type": "scatter3d",
         "x": [
          1.0468634902201872,
          0.8414877960416636
         ],
         "y": [
          -4.990154715796645,
          -5.672030031703391
         ],
         "z": [
          -8.177596079112481,
          -6.906487949251861
         ]
        },
        {
         "hoverinfo": "skip",
         "line": {
          "color": "black",
          "width": 1
         },
         "mode": "lines",
         "showlegend": false,
         "type": "scatter3d",
         "x": [
          1.0468634902201872,
          1.3707270138672065
         ],
         "y": [
          -4.990154715796645,
          -3.9569017600971725
         ],
         "z": [
          -8.177596079112481,
          -7.953825577059062
         ]
        },
        {
         "hoverinfo": "skip",
         "line": {
          "color": "black",
          "width": 1
         },
         "mode": "lines",
         "showlegend": false,
         "type": "scatter3d",
         "x": [
          -0.20597664009523164,
          -0.6849548447210525
         ],
         "y": [
          -4.938024944128733,
          -6.394654914347475
         ],
         "z": [
          -9.011868998951723,
          -9.23982269406746
         ]
        },
        {
         "hoverinfo": "skip",
         "line": {
          "color": "black",
          "width": 1
         },
         "mode": "lines",
         "showlegend": false,
         "type": "scatter3d",
         "x": [
          -0.20597664009523164,
          0.03830706276600182
         ],
         "y": [
          -4.938024944128733,
          -4.319162696522309
         ],
         "z": [
          -9.011868998951723,
          -10.250870302701871
         ]
        },
        {
         "hoverinfo": "skip",
         "line": {
          "color": "black",
          "width": 1
         },
         "mode": "lines",
         "showlegend": false,
         "type": "scatter3d",
         "x": [
          -0.20597664009523164,
          -0.9913924222133259
         ],
         "y": [
          -4.938024944128733,
          -4.40675335502595
         ],
         "z": [
          -9.011868998951723,
          -8.46027128360904
         ]
        },
        {
         "hoverinfo": "skip",
         "line": {
          "color": "black",
          "width": 1
         },
         "mode": "lines",
         "showlegend": false,
         "type": "scatter3d",
         "x": [
          -0.6849548447210525,
          -0.8798524747248084
         ],
         "y": [
          -6.394654914347475,
          -7.090527726959769
         ],
         "z": [
          -9.23982269406746,
          -7.889153992095739
         ]
        },
        {
         "hoverinfo": "skip",
         "line": {
          "color": "black",
          "width": 1
         },
         "mode": "lines",
         "showlegend": false,
         "type": "scatter3d",
         "x": [
          -0.6849548447210525,
          -1.9226212522332107
         ],
         "y": [
          -6.394654914347475,
          -6.3810253820039335
         ],
         "z": [
          -9.23982269406746,
          -9.953974008260781
         ]
        },
        {
         "hoverinfo": "skip",
         "line": {
          "color": "black",
          "width": 1
         },
         "mode": "lines",
         "showlegend": false,
         "type": "scatter3d",
         "x": [
          -0.6849548447210525,
          0.0673129752384698
         ],
         "y": [
          -6.394654914347475,
          -6.928600392572842
         ],
         "z": [
          -9.23982269406746,
          -9.820537213720645
         ]
        },
        {
         "hoverinfo": "skip",
         "line": {
          "color": "black",
          "width": 1
         },
         "mode": "lines",
         "showlegend": false,
         "type": "scatter3d",
         "x": [
          -0.8798524747248084,
          0.4288138977185758
         ],
         "y": [
          -7.090527726959769,
          -7.030055455882299
         ],
         "z": [
          -7.889153992095739,
          -7.09857671562834
         ]
        },
        {
         "hoverinfo": "skip",
         "line": {
          "color": "black",
          "width": 1
         },
         "mode": "lines",
         "showlegend": false,
         "type": "scatter3d",
         "x": [
          -0.8798524747248084,
          -1.2466496147377981
         ],
         "y": [
          -7.090527726959769,
          -8.454924631817274
         ],
         "z": [
          -7.889153992095739,
          -8.103925834043299
         ]
        },
        {
         "hoverinfo": "skip",
         "line": {
          "color": "black",
          "width": 1
         },
         "mode": "lines",
         "showlegend": false,
         "type": "scatter3d",
         "x": [
          -0.8798524747248084,
          -1.6672085761392523
         ],
         "y": [
          -7.090527726959769,
          -6.584084533642818
         ],
         "z": [
          -7.889153992095739,
          -7.329162330096761
         ]
        },
        {
         "hoverinfo": "skip",
         "line": {
          "color": "black",
          "width": 1
         },
         "mode": "lines",
         "showlegend": false,
         "type": "scatter3d",
         "x": [
          0.4288138977185758,
          0.22522448119490424
         ],
         "y": [
          -7.030055455882299,
          -7.670400784764847
         ],
         "z": [
          -7.09857671562834,
          -5.724559536238704
         ]
        },
        {
         "hoverinfo": "skip",
         "line": {
          "color": "black",
          "width": 1
         },
         "mode": "lines",
         "showlegend": false,
         "type": "scatter3d",
         "x": [
          0.4288138977185758,
          0.8414877960416636
         ],
         "y": [
          -7.030055455882299,
          -5.672030031703391
         ],
         "z": [
          -7.09857671562834,
          -6.906487949251861
         ]
        },
        {
         "hoverinfo": "skip",
         "line": {
          "color": "black",
          "width": 1
         },
         "mode": "lines",
         "showlegend": false,
         "type": "scatter3d",
         "x": [
          0.4288138977185758,
          1.2063066222945347
         ],
         "y": [
          -7.030055455882299,
          -7.57082423045271
         ],
         "z": [
          -7.09857671562834,
          -7.640225306211818
         ]
        },
        {
         "hoverinfo": "skip",
         "line": {
          "color": "black",
          "width": 1
         },
         "mode": "lines",
         "showlegend": false,
         "type": "scatter3d",
         "x": [
          0.22522448119490424,
          1.4740185926894052
         ],
         "y": [
          -7.670400784764847,
          -7.7201375861585175
         ],
         "z": [
          -5.724559536238704,
          -5.031323272268194
         ]
        },
        {
         "hoverinfo": "skip",
         "line": {
          "color": "black",
          "width": 1
         },
         "mode": "lines",
         "showlegend": false,
         "type": "scatter3d",
         "x": [
          0.22522448119490424,
          -0.16118999514393106
         ],
         "y": [
          -7.670400784764847,
          -8.681537197098166
         ],
         "z": [
          -5.724559536238704,
          -5.8479410913005765
         ]
        },
        {
         "hoverinfo": "skip",
         "line": {
          "color": "black",
          "width": 1
         },
         "mode": "lines",
         "showlegend": false,
         "type": "scatter3d",
         "x": [
          0.22522448119490424,
          -0.4859149442886421
         ],
         "y": [
          -7.670400784764847,
          -7.077784377118048
         ],
         "z": [
          -5.724559536238704,
          -5.149428672077567
         ]
        },
        {
         "hoverinfo": "skip",
         "line": {
          "color": "black",
          "width": 1
         },
         "mode": "lines",
         "showlegend": false,
         "type": "scatter3d",
         "x": [
          0.03830706276600182,
          0.3424624316384577
         ],
         "y": [
          -4.319162696522309,
          -3.4042387187269085
         ],
         "z": [
          -10.250870302701871,
          -10.17316813773139
         ]
        },
        {
         "hoverinfo": "skip",
         "line": {
          "color": "black",
          "width": 1
         },
         "mode": "lines",
         "showlegend": false,
         "type": "scatter3d",
         "x": [
          -1.9226212522332107,
          -1.873554095745476
         ],
         "y": [
          -6.3810253820039335,
          -5.948402160589389
         ],
         "z": [
          -9.953974008260781,
          -10.81784180048776
         ]
        },
        {
         "hoverinfo": "skip",
         "line": {
          "color": "black",
          "width": 1
         },
         "mode": "lines",
         "showlegend": false,
         "type": "scatter3d",
         "x": [
          -1.2466496147377981,
          -2.066879108740732
         ],
         "y": [
          -8.454924631817274,
          -8.567832760325874
         ],
         "z": [
          -8.103925834043299,
          -8.604162109901397
         ]
        },
        {
         "hoverinfo": "skip",
         "line": {
          "color": "black",
          "width": 1
         },
         "mode": "lines",
         "showlegend": false,
         "type": "scatter3d",
         "x": [
          1.4740185926894052,
          1.4201167905380263
         ],
         "y": [
          -7.7201375861585175,
          -8.1140303895228
         ],
         "z": [
          -5.031323272268194,
          -4.150350483140937
         ]
        }
       ],
       "layout": {
        "scene": {
         "xaxis": {
          "showgrid": false,
          "showline": false,
          "showticklabels": false
         },
         "yaxis": {
          "showgrid": false,
          "showline": false,
          "showticklabels": false
         },
         "zaxis": {
          "showgrid": false,
          "showline": false,
          "showticklabels": false
         }
        },
        "template": {
         "data": {
          "bar": [
           {
            "error_x": {
             "color": "rgb(36,36,36)"
            },
            "error_y": {
             "color": "rgb(36,36,36)"
            },
            "marker": {
             "line": {
              "color": "white",
              "width": 0.5
             },
             "pattern": {
              "fillmode": "overlay",
              "size": 10,
              "solidity": 0.2
             }
            },
            "type": "bar"
           }
          ],
          "barpolar": [
           {
            "marker": {
             "line": {
              "color": "white",
              "width": 0.5
             },
             "pattern": {
              "fillmode": "overlay",
              "size": 10,
              "solidity": 0.2
             }
            },
            "type": "barpolar"
           }
          ],
          "carpet": [
           {
            "aaxis": {
             "endlinecolor": "rgb(36,36,36)",
             "gridcolor": "white",
             "linecolor": "white",
             "minorgridcolor": "white",
             "startlinecolor": "rgb(36,36,36)"
            },
            "baxis": {
             "endlinecolor": "rgb(36,36,36)",
             "gridcolor": "white",
             "linecolor": "white",
             "minorgridcolor": "white",
             "startlinecolor": "rgb(36,36,36)"
            },
            "type": "carpet"
           }
          ],
          "choropleth": [
           {
            "colorbar": {
             "outlinewidth": 1,
             "tickcolor": "rgb(36,36,36)",
             "ticks": "outside"
            },
            "type": "choropleth"
           }
          ],
          "contour": [
           {
            "colorbar": {
             "outlinewidth": 1,
             "tickcolor": "rgb(36,36,36)",
             "ticks": "outside"
            },
            "colorscale": [
             [
              0,
              "#440154"
             ],
             [
              0.1111111111111111,
              "#482878"
             ],
             [
              0.2222222222222222,
              "#3e4989"
             ],
             [
              0.3333333333333333,
              "#31688e"
             ],
             [
              0.4444444444444444,
              "#26828e"
             ],
             [
              0.5555555555555556,
              "#1f9e89"
             ],
             [
              0.6666666666666666,
              "#35b779"
             ],
             [
              0.7777777777777778,
              "#6ece58"
             ],
             [
              0.8888888888888888,
              "#b5de2b"
             ],
             [
              1,
              "#fde725"
             ]
            ],
            "type": "contour"
           }
          ],
          "contourcarpet": [
           {
            "colorbar": {
             "outlinewidth": 1,
             "tickcolor": "rgb(36,36,36)",
             "ticks": "outside"
            },
            "type": "contourcarpet"
           }
          ],
          "heatmap": [
           {
            "colorbar": {
             "outlinewidth": 1,
             "tickcolor": "rgb(36,36,36)",
             "ticks": "outside"
            },
            "colorscale": [
             [
              0,
              "#440154"
             ],
             [
              0.1111111111111111,
              "#482878"
             ],
             [
              0.2222222222222222,
              "#3e4989"
             ],
             [
              0.3333333333333333,
              "#31688e"
             ],
             [
              0.4444444444444444,
              "#26828e"
             ],
             [
              0.5555555555555556,
              "#1f9e89"
             ],
             [
              0.6666666666666666,
              "#35b779"
             ],
             [
              0.7777777777777778,
              "#6ece58"
             ],
             [
              0.8888888888888888,
              "#b5de2b"
             ],
             [
              1,
              "#fde725"
             ]
            ],
            "type": "heatmap"
           }
          ],
          "heatmapgl": [
           {
            "colorbar": {
             "outlinewidth": 1,
             "tickcolor": "rgb(36,36,36)",
             "ticks": "outside"
            },
            "colorscale": [
             [
              0,
              "#440154"
             ],
             [
              0.1111111111111111,
              "#482878"
             ],
             [
              0.2222222222222222,
              "#3e4989"
             ],
             [
              0.3333333333333333,
              "#31688e"
             ],
             [
              0.4444444444444444,
              "#26828e"
             ],
             [
              0.5555555555555556,
              "#1f9e89"
             ],
             [
              0.6666666666666666,
              "#35b779"
             ],
             [
              0.7777777777777778,
              "#6ece58"
             ],
             [
              0.8888888888888888,
              "#b5de2b"
             ],
             [
              1,
              "#fde725"
             ]
            ],
            "type": "heatmapgl"
           }
          ],
          "histogram": [
           {
            "marker": {
             "line": {
              "color": "white",
              "width": 0.6
             }
            },
            "type": "histogram"
           }
          ],
          "histogram2d": [
           {
            "colorbar": {
             "outlinewidth": 1,
             "tickcolor": "rgb(36,36,36)",
             "ticks": "outside"
            },
            "colorscale": [
             [
              0,
              "#440154"
             ],
             [
              0.1111111111111111,
              "#482878"
             ],
             [
              0.2222222222222222,
              "#3e4989"
             ],
             [
              0.3333333333333333,
              "#31688e"
             ],
             [
              0.4444444444444444,
              "#26828e"
             ],
             [
              0.5555555555555556,
              "#1f9e89"
             ],
             [
              0.6666666666666666,
              "#35b779"
             ],
             [
              0.7777777777777778,
              "#6ece58"
             ],
             [
              0.8888888888888888,
              "#b5de2b"
             ],
             [
              1,
              "#fde725"
             ]
            ],
            "type": "histogram2d"
           }
          ],
          "histogram2dcontour": [
           {
            "colorbar": {
             "outlinewidth": 1,
             "tickcolor": "rgb(36,36,36)",
             "ticks": "outside"
            },
            "colorscale": [
             [
              0,
              "#440154"
             ],
             [
              0.1111111111111111,
              "#482878"
             ],
             [
              0.2222222222222222,
              "#3e4989"
             ],
             [
              0.3333333333333333,
              "#31688e"
             ],
             [
              0.4444444444444444,
              "#26828e"
             ],
             [
              0.5555555555555556,
              "#1f9e89"
             ],
             [
              0.6666666666666666,
              "#35b779"
             ],
             [
              0.7777777777777778,
              "#6ece58"
             ],
             [
              0.8888888888888888,
              "#b5de2b"
             ],
             [
              1,
              "#fde725"
             ]
            ],
            "type": "histogram2dcontour"
           }
          ],
          "mesh3d": [
           {
            "colorbar": {
             "outlinewidth": 1,
             "tickcolor": "rgb(36,36,36)",
             "ticks": "outside"
            },
            "type": "mesh3d"
           }
          ],
          "parcoords": [
           {
            "line": {
             "colorbar": {
              "outlinewidth": 1,
              "tickcolor": "rgb(36,36,36)",
              "ticks": "outside"
             }
            },
            "type": "parcoords"
           }
          ],
          "pie": [
           {
            "automargin": true,
            "type": "pie"
           }
          ],
          "scatter": [
           {
            "fillpattern": {
             "fillmode": "overlay",
             "size": 10,
             "solidity": 0.2
            },
            "type": "scatter"
           }
          ],
          "scatter3d": [
           {
            "line": {
             "colorbar": {
              "outlinewidth": 1,
              "tickcolor": "rgb(36,36,36)",
              "ticks": "outside"
             }
            },
            "marker": {
             "colorbar": {
              "outlinewidth": 1,
              "tickcolor": "rgb(36,36,36)",
              "ticks": "outside"
             }
            },
            "type": "scatter3d"
           }
          ],
          "scattercarpet": [
           {
            "marker": {
             "colorbar": {
              "outlinewidth": 1,
              "tickcolor": "rgb(36,36,36)",
              "ticks": "outside"
             }
            },
            "type": "scattercarpet"
           }
          ],
          "scattergeo": [
           {
            "marker": {
             "colorbar": {
              "outlinewidth": 1,
              "tickcolor": "rgb(36,36,36)",
              "ticks": "outside"
             }
            },
            "type": "scattergeo"
           }
          ],
          "scattergl": [
           {
            "marker": {
             "colorbar": {
              "outlinewidth": 1,
              "tickcolor": "rgb(36,36,36)",
              "ticks": "outside"
             }
            },
            "type": "scattergl"
           }
          ],
          "scattermapbox": [
           {
            "marker": {
             "colorbar": {
              "outlinewidth": 1,
              "tickcolor": "rgb(36,36,36)",
              "ticks": "outside"
             }
            },
            "type": "scattermapbox"
           }
          ],
          "scatterpolar": [
           {
            "marker": {
             "colorbar": {
              "outlinewidth": 1,
              "tickcolor": "rgb(36,36,36)",
              "ticks": "outside"
             }
            },
            "type": "scatterpolar"
           }
          ],
          "scatterpolargl": [
           {
            "marker": {
             "colorbar": {
              "outlinewidth": 1,
              "tickcolor": "rgb(36,36,36)",
              "ticks": "outside"
             }
            },
            "type": "scatterpolargl"
           }
          ],
          "scatterternary": [
           {
            "marker": {
             "colorbar": {
              "outlinewidth": 1,
              "tickcolor": "rgb(36,36,36)",
              "ticks": "outside"
             }
            },
            "type": "scatterternary"
           }
          ],
          "surface": [
           {
            "colorbar": {
             "outlinewidth": 1,
             "tickcolor": "rgb(36,36,36)",
             "ticks": "outside"
            },
            "colorscale": [
             [
              0,
              "#440154"
             ],
             [
              0.1111111111111111,
              "#482878"
             ],
             [
              0.2222222222222222,
              "#3e4989"
             ],
             [
              0.3333333333333333,
              "#31688e"
             ],
             [
              0.4444444444444444,
              "#26828e"
             ],
             [
              0.5555555555555556,
              "#1f9e89"
             ],
             [
              0.6666666666666666,
              "#35b779"
             ],
             [
              0.7777777777777778,
              "#6ece58"
             ],
             [
              0.8888888888888888,
              "#b5de2b"
             ],
             [
              1,
              "#fde725"
             ]
            ],
            "type": "surface"
           }
          ],
          "table": [
           {
            "cells": {
             "fill": {
              "color": "rgb(237,237,237)"
             },
             "line": {
              "color": "white"
             }
            },
            "header": {
             "fill": {
              "color": "rgb(217,217,217)"
             },
             "line": {
              "color": "white"
             }
            },
            "type": "table"
           }
          ]
         },
         "layout": {
          "annotationdefaults": {
           "arrowhead": 0,
           "arrowwidth": 1
          },
          "autotypenumbers": "strict",
          "coloraxis": {
           "colorbar": {
            "outlinewidth": 1,
            "tickcolor": "rgb(36,36,36)",
            "ticks": "outside"
           }
          },
          "colorscale": {
           "diverging": [
            [
             0,
             "rgb(103,0,31)"
            ],
            [
             0.1,
             "rgb(178,24,43)"
            ],
            [
             0.2,
             "rgb(214,96,77)"
            ],
            [
             0.3,
             "rgb(244,165,130)"
            ],
            [
             0.4,
             "rgb(253,219,199)"
            ],
            [
             0.5,
             "rgb(247,247,247)"
            ],
            [
             0.6,
             "rgb(209,229,240)"
            ],
            [
             0.7,
             "rgb(146,197,222)"
            ],
            [
             0.8,
             "rgb(67,147,195)"
            ],
            [
             0.9,
             "rgb(33,102,172)"
            ],
            [
             1,
             "rgb(5,48,97)"
            ]
           ],
           "sequential": [
            [
             0,
             "#440154"
            ],
            [
             0.1111111111111111,
             "#482878"
            ],
            [
             0.2222222222222222,
             "#3e4989"
            ],
            [
             0.3333333333333333,
             "#31688e"
            ],
            [
             0.4444444444444444,
             "#26828e"
            ],
            [
             0.5555555555555556,
             "#1f9e89"
            ],
            [
             0.6666666666666666,
             "#35b779"
            ],
            [
             0.7777777777777778,
             "#6ece58"
            ],
            [
             0.8888888888888888,
             "#b5de2b"
            ],
            [
             1,
             "#fde725"
            ]
           ],
           "sequentialminus": [
            [
             0,
             "#440154"
            ],
            [
             0.1111111111111111,
             "#482878"
            ],
            [
             0.2222222222222222,
             "#3e4989"
            ],
            [
             0.3333333333333333,
             "#31688e"
            ],
            [
             0.4444444444444444,
             "#26828e"
            ],
            [
             0.5555555555555556,
             "#1f9e89"
            ],
            [
             0.6666666666666666,
             "#35b779"
            ],
            [
             0.7777777777777778,
             "#6ece58"
            ],
            [
             0.8888888888888888,
             "#b5de2b"
            ],
            [
             1,
             "#fde725"
            ]
           ]
          },
          "colorway": [
           "#1F77B4",
           "#FF7F0E",
           "#2CA02C",
           "#D62728",
           "#9467BD",
           "#8C564B",
           "#E377C2",
           "#7F7F7F",
           "#BCBD22",
           "#17BECF"
          ],
          "font": {
           "color": "rgb(36,36,36)"
          },
          "geo": {
           "bgcolor": "white",
           "lakecolor": "white",
           "landcolor": "white",
           "showlakes": true,
           "showland": true,
           "subunitcolor": "white"
          },
          "hoverlabel": {
           "align": "left"
          },
          "hovermode": "closest",
          "mapbox": {
           "style": "light"
          },
          "paper_bgcolor": "white",
          "plot_bgcolor": "white",
          "polar": {
           "angularaxis": {
            "gridcolor": "rgb(232,232,232)",
            "linecolor": "rgb(36,36,36)",
            "showgrid": false,
            "showline": true,
            "ticks": "outside"
           },
           "bgcolor": "white",
           "radialaxis": {
            "gridcolor": "rgb(232,232,232)",
            "linecolor": "rgb(36,36,36)",
            "showgrid": false,
            "showline": true,
            "ticks": "outside"
           }
          },
          "scene": {
           "xaxis": {
            "backgroundcolor": "white",
            "gridcolor": "rgb(232,232,232)",
            "gridwidth": 2,
            "linecolor": "rgb(36,36,36)",
            "showbackground": true,
            "showgrid": false,
            "showline": true,
            "ticks": "outside",
            "zeroline": false,
            "zerolinecolor": "rgb(36,36,36)"
           },
           "yaxis": {
            "backgroundcolor": "white",
            "gridcolor": "rgb(232,232,232)",
            "gridwidth": 2,
            "linecolor": "rgb(36,36,36)",
            "showbackground": true,
            "showgrid": false,
            "showline": true,
            "ticks": "outside",
            "zeroline": false,
            "zerolinecolor": "rgb(36,36,36)"
           },
           "zaxis": {
            "backgroundcolor": "white",
            "gridcolor": "rgb(232,232,232)",
            "gridwidth": 2,
            "linecolor": "rgb(36,36,36)",
            "showbackground": true,
            "showgrid": false,
            "showline": true,
            "ticks": "outside",
            "zeroline": false,
            "zerolinecolor": "rgb(36,36,36)"
           }
          },
          "shapedefaults": {
           "fillcolor": "black",
           "line": {
            "width": 0
           },
           "opacity": 0.3
          },
          "ternary": {
           "aaxis": {
            "gridcolor": "rgb(232,232,232)",
            "linecolor": "rgb(36,36,36)",
            "showgrid": false,
            "showline": true,
            "ticks": "outside"
           },
           "baxis": {
            "gridcolor": "rgb(232,232,232)",
            "linecolor": "rgb(36,36,36)",
            "showgrid": false,
            "showline": true,
            "ticks": "outside"
           },
           "bgcolor": "white",
           "caxis": {
            "gridcolor": "rgb(232,232,232)",
            "linecolor": "rgb(36,36,36)",
            "showgrid": false,
            "showline": true,
            "ticks": "outside"
           }
          },
          "title": {
           "x": 0.05
          },
          "xaxis": {
           "automargin": true,
           "gridcolor": "rgb(232,232,232)",
           "linecolor": "rgb(36,36,36)",
           "showgrid": false,
           "showline": true,
           "ticks": "outside",
           "title": {
            "standoff": 15
           },
           "zeroline": false,
           "zerolinecolor": "rgb(36,36,36)"
          },
          "yaxis": {
           "automargin": true,
           "gridcolor": "rgb(232,232,232)",
           "linecolor": "rgb(36,36,36)",
           "showgrid": false,
           "showline": true,
           "ticks": "outside",
           "title": {
            "standoff": 15
           },
           "zeroline": false,
           "zerolinecolor": "rgb(36,36,36)"
          }
         }
        }
       }
      }
     },
     "metadata": {},
     "output_type": "display_data"
    }
   ],
   "source": [
    "glycan2 = glc.attach(glc, link=\"14bb\", inplace=False)\n",
    "\n",
    "# now build the galactose branch\n",
    "gal_branch2 = gal.attach(gal, link=\"14aa\", inplace=False)\n",
    "gal_branch2.attach(gal, link=\"13aa\")\n",
    "\n",
    "# now build the mannose branch\n",
    "man_branch2 = man.attach(man, \"14bb\", inplace=False)\n",
    "man_branch2.attach(glc, \"14ab\")\n",
    "\n",
    "# now attach both branches to the glucose-glucose\n",
    "glycan2.attach(gal_branch2, link=\"13ab\", other_residue=1)\n",
    "glycan2.attach(man_branch2, link=\"12bb\", at_residue=2, other_residue=1)\n",
    "\n",
    "# that's it! now we can visualize the glycan\n",
    "glycan2.show()"
   ]
  },
  {
   "cell_type": "markdown",
   "metadata": {},
   "source": [
    "#### Using operator syntax \n",
    "\n",
    "Now for one final version using the operator based syntax. This one is the shortest but also the most cryptic. It requires us to first set the linkage and residues before we can use `+` or `*` operators. "
   ]
  },
  {
   "cell_type": "code",
   "execution_count": 10,
   "metadata": {},
   "outputs": [
    {
     "data": {
      "application/vnd.plotly.v1+json": {
       "config": {
        "plotlyServerURL": "https://plot.ly"
       },
       "data": [
        {
         "customdata": [
          [
           "C1",
           1,
           1,
           "GLC",
           "A"
          ],
          [
           "C2",
           2,
           1,
           "GLC",
           "A"
          ],
          [
           "C3",
           3,
           1,
           "GLC",
           "A"
          ],
          [
           "C4",
           4,
           1,
           "GLC",
           "A"
          ],
          [
           "C5",
           5,
           1,
           "GLC",
           "A"
          ],
          [
           "C6",
           6,
           1,
           "GLC",
           "A"
          ],
          [
           "C1",
           24,
           2,
           "GLC",
           "A"
          ],
          [
           "C2",
           25,
           2,
           "GLC",
           "A"
          ],
          [
           "C3",
           26,
           2,
           "GLC",
           "A"
          ],
          [
           "C4",
           27,
           2,
           "GLC",
           "A"
          ],
          [
           "C5",
           28,
           2,
           "GLC",
           "A"
          ],
          [
           "C6",
           29,
           2,
           "GLC",
           "A"
          ],
          [
           "C1",
           44,
           3,
           "GAL",
           "A"
          ],
          [
           "C2",
           45,
           3,
           "GAL",
           "A"
          ],
          [
           "C3",
           46,
           3,
           "GAL",
           "A"
          ],
          [
           "C4",
           47,
           3,
           "GAL",
           "A"
          ],
          [
           "C5",
           48,
           3,
           "GAL",
           "A"
          ],
          [
           "C6",
           49,
           3,
           "GAL",
           "A"
          ],
          [
           "C1",
           65,
           4,
           "GAL",
           "A"
          ],
          [
           "C2",
           66,
           4,
           "GAL",
           "A"
          ],
          [
           "C3",
           67,
           4,
           "GAL",
           "A"
          ],
          [
           "C4",
           68,
           4,
           "GAL",
           "A"
          ],
          [
           "C5",
           69,
           4,
           "GAL",
           "A"
          ],
          [
           "C6",
           70,
           4,
           "GAL",
           "A"
          ],
          [
           "C1",
           86,
           5,
           "GAL",
           "A"
          ],
          [
           "C2",
           87,
           5,
           "GAL",
           "A"
          ],
          [
           "C3",
           88,
           5,
           "GAL",
           "A"
          ],
          [
           "C4",
           89,
           5,
           "GAL",
           "A"
          ],
          [
           "C5",
           90,
           5,
           "GAL",
           "A"
          ],
          [
           "C6",
           91,
           5,
           "GAL",
           "A"
          ],
          [
           "C1",
           108,
           6,
           "MAN",
           "A"
          ],
          [
           "C2",
           109,
           6,
           "MAN",
           "A"
          ],
          [
           "C3",
           110,
           6,
           "MAN",
           "A"
          ],
          [
           "C4",
           111,
           6,
           "MAN",
           "A"
          ],
          [
           "C5",
           112,
           6,
           "MAN",
           "A"
          ],
          [
           "C6",
           113,
           6,
           "MAN",
           "A"
          ],
          [
           "C1",
           129,
           7,
           "MAN",
           "A"
          ],
          [
           "C2",
           130,
           7,
           "MAN",
           "A"
          ],
          [
           "C3",
           131,
           7,
           "MAN",
           "A"
          ],
          [
           "C4",
           132,
           7,
           "MAN",
           "A"
          ],
          [
           "C5",
           133,
           7,
           "MAN",
           "A"
          ],
          [
           "C6",
           134,
           7,
           "MAN",
           "A"
          ],
          [
           "C1",
           150,
           8,
           "GLC",
           "A"
          ],
          [
           "C2",
           151,
           8,
           "GLC",
           "A"
          ],
          [
           "C3",
           152,
           8,
           "GLC",
           "A"
          ],
          [
           "C4",
           153,
           8,
           "GLC",
           "A"
          ],
          [
           "C5",
           154,
           8,
           "GLC",
           "A"
          ],
          [
           "C6",
           155,
           8,
           "GLC",
           "A"
          ]
         ],
         "hovertemplate": "atom_element=C<br>x=%{x}<br>y=%{y}<br>z=%{z}<br>atom_id=%{customdata[0]}<br>atom_serial=%{customdata[1]}<br>residue_serial=%{customdata[2]}<br>residue_name=%{customdata[3]}<br>chain_id=%{customdata[4]}<extra></extra>",
         "legendgroup": "C",
         "marker": {
          "color": "black",
          "opacity": 0.3,
          "symbol": "circle"
         },
         "mode": "markers",
         "name": "C",
         "scene": "scene",
         "showlegend": true,
         "type": "scatter3d",
         "x": [
          -0.567,
          -1.578,
          -1.179,
          0.249,
          1.189,
          2.607,
          0.28739188564117757,
          1.480320584831757,
          2.551855024989353,
          1.9213705212635026,
          0.6927362615491515,
          0.023121121966325875,
          4.237486750862175,
          5.523963815710901,
          6.10428264304959,
          5.060830356326786,
          3.788838332467794,
          2.72096606462462,
          5.554273632628828,
          4.866320224547968,
          5.751157293389989,
          6.07330214405259,
          6.739153388942177,
          7.009716398925608,
          5.6027960796688205,
          4.649374390469096,
          5.295886194255522,
          6.660546453315635,
          7.5366639424097706,
          8.879838771321644,
          3.370180722730016,
          4.342995410058376,
          4.126498442731845,
          4.250016685001658,
          3.2980461971580066,
          3.3870442548285054,
          4.831957159519671,
          5.329187133895838,
          4.075547144567605,
          3.310717872479277,
          3.009905516755846,
          2.214689135616443,
          1.0468634902201872,
          -0.20597664009523164,
          -0.6849548447210525,
          -0.8798524747248084,
          0.4288138977185758,
          0.22522448119490424
         ],
         "y": [
          1.572,
          0.465,
          -0.806,
          -1.195,
          -0.024,
          -0.383,
          -3.6208883690602627,
          -4.38081146590108,
          -4.515665510620807,
          -5.208421548159997,
          -4.415224134145273,
          -5.1331744330517735,
          -6.188240615228173,
          -6.745677888786662,
          -7.757267939027176,
          -8.832623734551518,
          -8.160416923057236,
          -9.2229501140345,
          -10.66905801919593,
          -11.96110913350714,
          -13.140014988518232,
          -13.01384827469256,
          -11.65932984087781,
          -11.500539508206224,
          -15.220517327694829,
          -16.345365490199164,
          -17.27658699181007,
          -17.75512648362009,
          -16.538619563471137,
          -17.007092653069904,
          -3.245639821141027,
          -4.428916027255673,
          -5.18045429619363,
          -4.176529332805269,
          -3.0070532722253507,
          -2.015203681937657,
          -5.593195159440236,
          -4.870704998502981,
          -4.580827415817252,
          -5.889649502127884,
          -6.5296736607298485,
          -7.8200460935412845,
          -4.990154715796645,
          -4.938024944128733,
          -6.394654914347475,
          -7.090527726959769,
          -7.030055455882299,
          -7.670400784764847
         ],
         "z": [
          -0.245,
          -0.554,
          0.203,
          -0.192,
          0.102,
          -0.345,
          0.17534369512279074,
          -0.41274579257047955,
          0.7251602592474138,
          1.937228063874931,
          2.387308854685344,
          3.5601587739595617,
          1.1610816637660615,
          0.608278934335493,
          1.6130244037803174,
          1.9306314540250489,
          2.4550609476843914,
          2.718030599247359,
          0.3929095272013239,
          0.7516217186823118,
          0.30897956916398894,
          -1.1831201780091027,
          -1.4415267029557937,
          -2.9382104664405033,
          1.5255678557714734,
          1.836618806379522,
          2.878109820237623,
          2.3733729262817733,
          2.0613135432581084,
          1.5001581785868408,
          -1.3736236257287506,
          -1.3962732208940924,
          -2.753791895336951,
          -3.9052083759000245,
          -3.649247570296521,
          -4.811413107548858,
          -5.8219384107945835,
          -7.077797304114505,
          -7.972010075359487,
          -8.197626854306272,
          -6.8414118997175954,
          -7.0532724477388005,
          -8.177596079112481,
          -9.011868998951723,
          -9.23982269406746,
          -7.889153992095739,
          -7.09857671562834,
          -5.724559536238704
         ]
        },
        {
         "customdata": [
          [
           "O1",
           7,
           1,
           "GLC",
           "A"
          ],
          [
           "O2",
           8,
           1,
           "GLC",
           "A"
          ],
          [
           "O3",
           9,
           1,
           "GLC",
           "A"
          ],
          [
           "O4",
           10,
           1,
           "GLC",
           "A"
          ],
          [
           "O5",
           11,
           1,
           "GLC",
           "A"
          ],
          [
           "O6",
           12,
           1,
           "GLC",
           "A"
          ],
          [
           "O2",
           30,
           2,
           "GLC",
           "A"
          ],
          [
           "O3",
           31,
           2,
           "GLC",
           "A"
          ],
          [
           "O4",
           32,
           2,
           "GLC",
           "A"
          ],
          [
           "O5",
           33,
           2,
           "GLC",
           "A"
          ],
          [
           "O6",
           34,
           2,
           "GLC",
           "A"
          ],
          [
           "O2",
           50,
           3,
           "GAL",
           "A"
          ],
          [
           "O3",
           51,
           3,
           "GAL",
           "A"
          ],
          [
           "O4",
           52,
           3,
           "GAL",
           "A"
          ],
          [
           "O5",
           53,
           3,
           "GAL",
           "A"
          ],
          [
           "O6",
           54,
           3,
           "GAL",
           "A"
          ],
          [
           "O2",
           71,
           4,
           "GAL",
           "A"
          ],
          [
           "O3",
           72,
           4,
           "GAL",
           "A"
          ],
          [
           "O4",
           73,
           4,
           "GAL",
           "A"
          ],
          [
           "O5",
           74,
           4,
           "GAL",
           "A"
          ],
          [
           "O6",
           75,
           4,
           "GAL",
           "A"
          ],
          [
           "O2",
           92,
           5,
           "GAL",
           "A"
          ],
          [
           "O3",
           93,
           5,
           "GAL",
           "A"
          ],
          [
           "O4",
           94,
           5,
           "GAL",
           "A"
          ],
          [
           "O5",
           95,
           5,
           "GAL",
           "A"
          ],
          [
           "O6",
           96,
           5,
           "GAL",
           "A"
          ],
          [
           "O2",
           114,
           6,
           "MAN",
           "A"
          ],
          [
           "O3",
           115,
           6,
           "MAN",
           "A"
          ],
          [
           "O4",
           116,
           6,
           "MAN",
           "A"
          ],
          [
           "O5",
           117,
           6,
           "MAN",
           "A"
          ],
          [
           "O6",
           118,
           6,
           "MAN",
           "A"
          ],
          [
           "O2",
           135,
           7,
           "MAN",
           "A"
          ],
          [
           "O3",
           136,
           7,
           "MAN",
           "A"
          ],
          [
           "O4",
           137,
           7,
           "MAN",
           "A"
          ],
          [
           "O5",
           138,
           7,
           "MAN",
           "A"
          ],
          [
           "O6",
           139,
           7,
           "MAN",
           "A"
          ],
          [
           "O2",
           156,
           8,
           "GLC",
           "A"
          ],
          [
           "O3",
           157,
           8,
           "GLC",
           "A"
          ],
          [
           "O4",
           158,
           8,
           "GLC",
           "A"
          ],
          [
           "O5",
           159,
           8,
           "GLC",
           "A"
          ],
          [
           "O6",
           160,
           8,
           "GLC",
           "A"
          ]
         ],
         "hovertemplate": "atom_element=O<br>x=%{x}<br>y=%{y}<br>z=%{z}<br>atom_id=%{customdata[0]}<br>atom_serial=%{customdata[1]}<br>residue_serial=%{customdata[2]}<br>residue_name=%{customdata[3]}<br>chain_id=%{customdata[4]}<extra></extra>",
         "legendgroup": "O",
         "marker": {
          "color": "red",
          "opacity": 0.3,
          "symbol": "circle"
         },
         "mode": "markers",
         "name": "O",
         "scene": "scene",
         "showlegend": true,
         "type": "scatter3d",
         "x": [
          -0.6,
          -2.881,
          -2.075,
          0.658,
          0.744,
          3.506,
          2.0557165148821417,
          3.656002120222209,
          2.871911843306937,
          -0.24841655015355635,
          -1.0536800248494305,
          6.450114558946712,
          7.268059606190848,
          4.757062466408647,
          3.273024317767564,
          1.5763239118701478,
          4.613285882466256,
          5.063898568748783,
          4.866732557493382,
          5.889503553988572,
          7.734357007618713,
          3.4243256316584647,
          4.447338718774148,
          6.485886732228457,
          6.9135664546085565,
          9.739042540523323,
          5.693115178717679,
          5.114014472594498,
          3.906135796830376,
          3.6513411897599326,
          2.495838629348798,
          6.212870644604493,
          4.495757895226085,
          2.0868336909430543,
          4.212238862998239,
          1.9295561468284834,
          0.03830706276600182,
          -1.9226212522332107,
          -1.2466496147377981,
          0.8414877960416636,
          1.4740185926894052
         ],
         "y": [
          1.871,
          0.879,
          -1.866,
          -2.338,
          1.133,
          0.661,
          -3.682652200920845,
          -5.289853972410994,
          -5.263996501869976,
          -4.314104692702984,
          -4.3351816382697255,
          -5.720738560427202,
          -8.371315322648218,
          -9.56881200615805,
          -7.235385181769364,
          -8.60982886973319,
          -12.033710588156485,
          -14.370606262810867,
          -13.104595025141528,
          -10.592083898242059,
          -10.289543579286654,
          -15.852327531560723,
          -18.40477186923964,
          -18.533502597734717,
          -15.700883742571758,
          -15.879398386889584,
          -3.971488124917645,
          -6.204095885248118,
          -4.815542656683919,
          -2.325538037107531,
          -0.9244632548408718,
          -5.705523275807869,
          -4.044923593491575,
          -5.616470869902413,
          -6.855098930072359,
          -8.416952350266767,
          -4.319162696522309,
          -6.3810253820039335,
          -8.454924631817274,
          -5.672030031703391,
          -7.7201375861585175
         ],
         "z": [
          1.151,
          -0.139,
          -0.137,
          0.562,
          -0.608,
          0.035,
          -1.491352408131528,
          0.25239454801213945,
          3.002886836469637,
          1.3269380024925652,
          4.05638834753636,
          0.3547361315445263,
          1.054668790635915,
          0.7450544224477378,
          1.4982306989307572,
          3.3155142240639917,
          2.13426864926683,
          0.5467032765205952,
          -1.9419323155459867,
          -1.0146759531615985,
          -3.1651352301246685,
          2.313231912702179,
          3.102515845543121,
          1.1886933886828683,
          1.0879628607832652,
          1.317991976964079,
          -1.3611689028370517,
          -2.898398215815365,
          -5.135813473669447,
          -2.4584561007210404,
          -4.575905456271785,
          -7.823035316725585,
          -9.229058609922799,
          -8.882069653290108,
          -6.164512645991868,
          -5.7876389702316615,
          -10.250870302701871,
          -9.953974008260781,
          -8.103925834043299,
          -6.906487949251861,
          -5.031323272268194
         ]
        },
        {
         "customdata": [
          [
           "H1",
           13,
           1,
           "GLC",
           "A"
          ],
          [
           "H2",
           14,
           1,
           "GLC",
           "A"
          ],
          [
           "H3",
           15,
           1,
           "GLC",
           "A"
          ],
          [
           "H4",
           16,
           1,
           "GLC",
           "A"
          ],
          [
           "H5",
           17,
           1,
           "GLC",
           "A"
          ],
          [
           "H61",
           18,
           1,
           "GLC",
           "A"
          ],
          [
           "H62",
           19,
           1,
           "GLC",
           "A"
          ],
          [
           "HO1",
           20,
           1,
           "GLC",
           "A"
          ],
          [
           "HO2",
           21,
           1,
           "GLC",
           "A"
          ],
          [
           "HO3",
           22,
           1,
           "GLC",
           "A"
          ],
          [
           "HO6",
           23,
           1,
           "GLC",
           "A"
          ],
          [
           "H1",
           35,
           2,
           "GLC",
           "A"
          ],
          [
           "H2",
           36,
           2,
           "GLC",
           "A"
          ],
          [
           "H3",
           37,
           2,
           "GLC",
           "A"
          ],
          [
           "H4",
           38,
           2,
           "GLC",
           "A"
          ],
          [
           "H5",
           39,
           2,
           "GLC",
           "A"
          ],
          [
           "H61",
           40,
           2,
           "GLC",
           "A"
          ],
          [
           "H62",
           41,
           2,
           "GLC",
           "A"
          ],
          [
           "HO4",
           42,
           2,
           "GLC",
           "A"
          ],
          [
           "HO6",
           43,
           2,
           "GLC",
           "A"
          ],
          [
           "H1",
           55,
           3,
           "GAL",
           "A"
          ],
          [
           "H2",
           56,
           3,
           "GAL",
           "A"
          ],
          [
           "H3",
           57,
           3,
           "GAL",
           "A"
          ],
          [
           "H4",
           58,
           3,
           "GAL",
           "A"
          ],
          [
           "H5",
           59,
           3,
           "GAL",
           "A"
          ],
          [
           "H61",
           60,
           3,
           "GAL",
           "A"
          ],
          [
           "H62",
           61,
           3,
           "GAL",
           "A"
          ],
          [
           "HO2",
           62,
           3,
           "GAL",
           "A"
          ],
          [
           "HO3",
           63,
           3,
           "GAL",
           "A"
          ],
          [
           "HO6",
           64,
           3,
           "GAL",
           "A"
          ],
          [
           "H1",
           76,
           4,
           "GAL",
           "A"
          ],
          [
           "H2",
           77,
           4,
           "GAL",
           "A"
          ],
          [
           "H3",
           78,
           4,
           "GAL",
           "A"
          ],
          [
           "H4",
           79,
           4,
           "GAL",
           "A"
          ],
          [
           "H5",
           80,
           4,
           "GAL",
           "A"
          ],
          [
           "H61",
           81,
           4,
           "GAL",
           "A"
          ],
          [
           "H62",
           82,
           4,
           "GAL",
           "A"
          ],
          [
           "HO2",
           83,
           4,
           "GAL",
           "A"
          ],
          [
           "HO4",
           84,
           4,
           "GAL",
           "A"
          ],
          [
           "HO6",
           85,
           4,
           "GAL",
           "A"
          ],
          [
           "H1",
           97,
           5,
           "GAL",
           "A"
          ],
          [
           "H2",
           98,
           5,
           "GAL",
           "A"
          ],
          [
           "H3",
           99,
           5,
           "GAL",
           "A"
          ],
          [
           "H4",
           100,
           5,
           "GAL",
           "A"
          ],
          [
           "H5",
           101,
           5,
           "GAL",
           "A"
          ],
          [
           "H61",
           102,
           5,
           "GAL",
           "A"
          ],
          [
           "H62",
           103,
           5,
           "GAL",
           "A"
          ],
          [
           "HO2",
           104,
           5,
           "GAL",
           "A"
          ],
          [
           "HO3",
           105,
           5,
           "GAL",
           "A"
          ],
          [
           "HO4",
           106,
           5,
           "GAL",
           "A"
          ],
          [
           "HO6",
           107,
           5,
           "GAL",
           "A"
          ],
          [
           "H1",
           119,
           6,
           "MAN",
           "A"
          ],
          [
           "H2",
           120,
           6,
           "MAN",
           "A"
          ],
          [
           "H3",
           121,
           6,
           "MAN",
           "A"
          ],
          [
           "H4",
           122,
           6,
           "MAN",
           "A"
          ],
          [
           "H5",
           123,
           6,
           "MAN",
           "A"
          ],
          [
           "H61",
           124,
           6,
           "MAN",
           "A"
          ],
          [
           "H62",
           125,
           6,
           "MAN",
           "A"
          ],
          [
           "HO2",
           126,
           6,
           "MAN",
           "A"
          ],
          [
           "HO3",
           127,
           6,
           "MAN",
           "A"
          ],
          [
           "HO6",
           128,
           6,
           "MAN",
           "A"
          ],
          [
           "H1",
           140,
           7,
           "MAN",
           "A"
          ],
          [
           "H2",
           141,
           7,
           "MAN",
           "A"
          ],
          [
           "H3",
           142,
           7,
           "MAN",
           "A"
          ],
          [
           "H4",
           143,
           7,
           "MAN",
           "A"
          ],
          [
           "H5",
           144,
           7,
           "MAN",
           "A"
          ],
          [
           "H61",
           145,
           7,
           "MAN",
           "A"
          ],
          [
           "H62",
           146,
           7,
           "MAN",
           "A"
          ],
          [
           "HO2",
           147,
           7,
           "MAN",
           "A"
          ],
          [
           "HO3",
           148,
           7,
           "MAN",
           "A"
          ],
          [
           "HO6",
           149,
           7,
           "MAN",
           "A"
          ],
          [
           "H1",
           161,
           8,
           "GLC",
           "A"
          ],
          [
           "H2",
           162,
           8,
           "GLC",
           "A"
          ],
          [
           "H3",
           163,
           8,
           "GLC",
           "A"
          ],
          [
           "H4",
           164,
           8,
           "GLC",
           "A"
          ],
          [
           "H5",
           165,
           8,
           "GLC",
           "A"
          ],
          [
           "H61",
           166,
           8,
           "GLC",
           "A"
          ],
          [
           "H62",
           167,
           8,
           "GLC",
           "A"
          ],
          [
           "HO2",
           168,
           8,
           "GLC",
           "A"
          ],
          [
           "HO3",
           169,
           8,
           "GLC",
           "A"
          ],
          [
           "HO4",
           170,
           8,
           "GLC",
           "A"
          ],
          [
           "HO6",
           171,
           8,
           "GLC",
           "A"
          ]
         ],
         "hovertemplate": "atom_element=H<br>x=%{x}<br>y=%{y}<br>z=%{z}<br>atom_id=%{customdata[0]}<br>atom_serial=%{customdata[1]}<br>residue_serial=%{customdata[2]}<br>residue_name=%{customdata[3]}<br>chain_id=%{customdata[4]}<extra></extra>",
         "legendgroup": "H",
         "marker": {
          "color": "lightgray",
          "opacity": 0.3,
          "symbol": "circle"
         },
         "mode": "markers",
         "name": "H",
         "scene": "scene",
         "showlegend": true,
         "type": "scatter3d",
         "x": [
          -0.822,
          -1.583,
          -1.223,
          0.281,
          1.187,
          2.913,
          2.627,
          0.017,
          -3.197,
          -3,
          4.425,
          -0.4416295953503676,
          1.191975546023585,
          2.8968061322786154,
          1.6207417462584386,
          0.9993730295362183,
          0.7522731954762834,
          -0.3628865421639118,
          3.6796362109456533,
          -1.5254480198313962,
          4.45947410918213,
          5.2894487659797065,
          6.372724850492382,
          5.453656357902075,
          4.0129037309233215,
          3.1201928192922215,
          2.4326195125580155,
          6.138660697551929,
          7.969060484031798,
          0.8573331964579269,
          6.497273049932708,
          3.91586933538977,
          6.676749404343498,
          6.752111311166297,
          7.680601729368048,
          7.5971095253295005,
          6.063279431367144,
          4.05916980249675,
          4.388930815680093,
          7.940916085481296,
          5.755962247218171,
          4.491937561016936,
          5.424388827442796,
          7.141472278920311,
          7.703335398877375,
          9.341313078102724,
          8.721174348626658,
          2.971062137616494,
          3.5625552990417675,
          5.936034031854064,
          10.610602235370099,
          3.5423803632455018,
          4.150905291237018,
          3.1329316078512255,
          5.275095253770038,
          2.2777254688201856,
          4.407808504863519,
          3.1126184885617403,
          5.784390382598928,
          5.006818908150824,
          2.582990241096269,
          5.724886884762492,
          5.794990104880635,
          3.431152574440656,
          3.919310557431273,
          2.422894263718908,
          2.8016620025926593,
          1.281379094608078,
          6.964522809939713,
          4.982039170775689,
          1.429852973914624,
          1.3707270138672065,
          -0.9913924222133259,
          0.0673129752384698,
          -1.6672085761392523,
          1.2063066222945347,
          -0.16118999514393106,
          -0.4859149442886421,
          0.3424624316384577,
          -1.873554095745476,
          -2.066879108740732,
          1.4201167905380263
         ],
         "y": [
          2.466,
          0.264,
          -0.619,
          -1.429,
          0.184,
          -1.315,
          -0.503,
          2.566,
          1.682,
          -1.684,
          0.501,
          -3.5957016204844336,
          -5.388081243451282,
          -3.5219250793962225,
          -6.220381288812531,
          -3.4159166774238847,
          -5.291760896761097,
          -6.095439244578159,
          -5.749565157600492,
          -4.729868650877536,
          -5.627756418451672,
          -7.289668686159618,
          -7.227647400676437,
          -9.5089764884601,
          -7.632381632327904,
          -9.980787994570846,
          -9.689360576626797,
          -5.054095831051122,
          -7.746525027949046,
          -9.226460792618541,
          -10.594351436161784,
          -12.014988732506898,
          -13.1202060395213,
          -13.814333154915182,
          -11.607017487840857,
          -12.347118069098146,
          -11.463257089612863,
          -11.316581055109904,
          -13.937777708142,
          -10.123949627724773,
          -14.61954687988207,
          -16.92918510986124,
          -16.72396973891508,
          -18.361406670314437,
          -15.967090794617484,
          -17.706253656468846,
          -17.500760583015754,
          -15.2602464855551,
          -18.17423744776699,
          -19.320253362073178,
          -16.102964567175196,
          -2.768128489508456,
          -5.113942855256785,
          -5.627876943376505,
          -3.8088434109244536,
          -3.3811711984711703,
          -1.6398390750244094,
          -2.516009875847719,
          -3.506280047215519,
          -6.803818758841156,
          -0.32385085125660096,
          -5.756726048456004,
          -3.9377957250393587,
          -3.8624002123259533,
          -6.568506241148283,
          -5.838697120784188,
          -8.512436312634556,
          -7.592282628135922,
          -5.86995227463982,
          -3.2313332555276104,
          -9.22528768162956,
          -3.9569017600971725,
          -4.40675335502595,
          -6.928600392572842,
          -6.584084533642818,
          -7.57082423045271,
          -8.681537197098166,
          -7.077784377118048,
          -3.4042387187269085,
          -5.948402160589389,
          -8.567832760325874,
          -8.1140303895228
         ],
         "z": [
          -0.815,
          -1.626,
          1.276,
          -1.257,
          1.173,
          0.129,
          -1.428,
          1.42,
          -0.576,
          0.08,
          -0.218,
          -0.6260918905290271,
          -0.7041667123716275,
          1.0110320643095607,
          1.6623374984904262,
          2.6998268533021843,
          4.353962016094729,
          3.224400653088588,
          2.7847918422705558,
          4.801926489410683,
          2.0879859565115035,
          -0.3275865029954237,
          2.527686563607821,
          2.690341717722104,
          3.3823399935812324,
          3.3919725442112805,
          1.7764927368670185,
          -0.27264012206433397,
          0.8231242875356732,
          3.510251028057841,
          0.9653984051857825,
          0.18811586698457816,
          0.8852198399541036,
          -1.47869939104238,
          -0.8939763034224635,
          -3.2934175261840077,
          -3.4767669515955615,
          2.471459400551059,
          -1.823158950399077,
          -4.095198126147663,
          2.4409623805387852,
          0.9079442110737084,
          3.8093816629703086,
          3.1415263520297323,
          2.9747950657705187,
          2.1973764769031616,
          0.541881821832777,
          1.6975946494296,
          3.4177779280759597,
          1.3123066675158235,
          0.9637225013510948,
          -0.41616036169778703,
          -0.5983171137701269,
          -2.7627316611714585,
          -3.9592453142146766,
          -3.5709827085403956,
          -4.890177044266867,
          -5.7392480362674405,
          -0.5187133956456462,
          -2.1474217941795652,
          -5.328446709114806,
          -5.230043281472257,
          -6.840145617535461,
          -7.465986369121751,
          -8.795679921942837,
          -6.237165914995538,
          -7.657524578837808,
          -7.5671305713288675,
          -7.237831825032316,
          -9.037420192528137,
          -5.965233258006975,
          -7.953825577059062,
          -8.46027128360904,
          -9.820537213720645,
          -7.329162330096761,
          -7.640225306211818,
          -5.8479410913005765,
          -5.149428672077567,
          -10.17316813773139,
          -10.81784180048776,
          -8.604162109901397,
          -4.150350483140937
         ]
        },
        {
         "hoverinfo": "skip",
         "line": {
          "color": "black",
          "width": 1
         },
         "mode": "lines",
         "showlegend": false,
         "type": "scatter3d",
         "x": [
          -0.567,
          -1.578
         ],
         "y": [
          1.572,
          0.465
         ],
         "z": [
          -0.245,
          -0.554
         ]
        },
        {
         "hoverinfo": "skip",
         "line": {
          "color": "black",
          "width": 1
         },
         "mode": "lines",
         "showlegend": false,
         "type": "scatter3d",
         "x": [
          -0.567,
          -0.6
         ],
         "y": [
          1.572,
          1.871
         ],
         "z": [
          -0.245,
          1.151
         ]
        },
        {
         "hoverinfo": "skip",
         "line": {
          "color": "black",
          "width": 1
         },
         "mode": "lines",
         "showlegend": false,
         "type": "scatter3d",
         "x": [
          -0.567,
          0.744
         ],
         "y": [
          1.572,
          1.133
         ],
         "z": [
          -0.245,
          -0.608
         ]
        },
        {
         "hoverinfo": "skip",
         "line": {
          "color": "black",
          "width": 1
         },
         "mode": "lines",
         "showlegend": false,
         "type": "scatter3d",
         "x": [
          -0.567,
          -0.822
         ],
         "y": [
          1.572,
          2.466
         ],
         "z": [
          -0.245,
          -0.815
         ]
        },
        {
         "hoverinfo": "skip",
         "line": {
          "color": "black",
          "width": 1
         },
         "mode": "lines",
         "showlegend": false,
         "type": "scatter3d",
         "x": [
          -1.578,
          -1.179
         ],
         "y": [
          0.465,
          -0.806
         ],
         "z": [
          -0.554,
          0.203
         ]
        },
        {
         "hoverinfo": "skip",
         "line": {
          "color": "black",
          "width": 1
         },
         "mode": "lines",
         "showlegend": false,
         "type": "scatter3d",
         "x": [
          -1.578,
          -2.881
         ],
         "y": [
          0.465,
          0.879
         ],
         "z": [
          -0.554,
          -0.139
         ]
        },
        {
         "hoverinfo": "skip",
         "line": {
          "color": "black",
          "width": 1
         },
         "mode": "lines",
         "showlegend": false,
         "type": "scatter3d",
         "x": [
          -1.578,
          -1.583
         ],
         "y": [
          0.465,
          0.264
         ],
         "z": [
          -0.554,
          -1.626
         ]
        },
        {
         "hoverinfo": "skip",
         "line": {
          "color": "black",
          "width": 1
         },
         "mode": "lines",
         "showlegend": false,
         "type": "scatter3d",
         "x": [
          -1.179,
          0.249
         ],
         "y": [
          -0.806,
          -1.195
         ],
         "z": [
          0.203,
          -0.192
         ]
        },
        {
         "hoverinfo": "skip",
         "line": {
          "color": "black",
          "width": 1
         },
         "mode": "lines",
         "showlegend": false,
         "type": "scatter3d",
         "x": [
          -1.179,
          -2.075
         ],
         "y": [
          -0.806,
          -1.866
         ],
         "z": [
          0.203,
          -0.137
         ]
        },
        {
         "hoverinfo": "skip",
         "line": {
          "color": "black",
          "width": 1
         },
         "mode": "lines",
         "showlegend": false,
         "type": "scatter3d",
         "x": [
          -1.179,
          -1.223
         ],
         "y": [
          -0.806,
          -0.619
         ],
         "z": [
          0.203,
          1.276
         ]
        },
        {
         "hoverinfo": "skip",
         "line": {
          "color": "black",
          "width": 1
         },
         "mode": "lines",
         "showlegend": false,
         "type": "scatter3d",
         "x": [
          0.249,
          1.189
         ],
         "y": [
          -1.195,
          -0.024
         ],
         "z": [
          -0.192,
          0.102
         ]
        },
        {
         "hoverinfo": "skip",
         "line": {
          "color": "black",
          "width": 1
         },
         "mode": "lines",
         "showlegend": false,
         "type": "scatter3d",
         "x": [
          0.249,
          0.658
         ],
         "y": [
          -1.195,
          -2.338
         ],
         "z": [
          -0.192,
          0.562
         ]
        },
        {
         "hoverinfo": "skip",
         "line": {
          "color": "black",
          "width": 1
         },
         "mode": "lines",
         "showlegend": false,
         "type": "scatter3d",
         "x": [
          0.249,
          0.281
         ],
         "y": [
          -1.195,
          -1.429
         ],
         "z": [
          -0.192,
          -1.257
         ]
        },
        {
         "hoverinfo": "skip",
         "line": {
          "color": "black",
          "width": 1
         },
         "mode": "lines",
         "showlegend": false,
         "type": "scatter3d",
         "x": [
          1.189,
          2.607
         ],
         "y": [
          -0.024,
          -0.383
         ],
         "z": [
          0.102,
          -0.345
         ]
        },
        {
         "hoverinfo": "skip",
         "line": {
          "color": "black",
          "width": 1
         },
         "mode": "lines",
         "showlegend": false,
         "type": "scatter3d",
         "x": [
          1.189,
          0.744
         ],
         "y": [
          -0.024,
          1.133
         ],
         "z": [
          0.102,
          -0.608
         ]
        },
        {
         "hoverinfo": "skip",
         "line": {
          "color": "black",
          "width": 1
         },
         "mode": "lines",
         "showlegend": false,
         "type": "scatter3d",
         "x": [
          1.189,
          1.187
         ],
         "y": [
          -0.024,
          0.184
         ],
         "z": [
          0.102,
          1.173
         ]
        },
        {
         "hoverinfo": "skip",
         "line": {
          "color": "black",
          "width": 1
         },
         "mode": "lines",
         "showlegend": false,
         "type": "scatter3d",
         "x": [
          2.607,
          3.506
         ],
         "y": [
          -0.383,
          0.661
         ],
         "z": [
          -0.345,
          0.035
         ]
        },
        {
         "hoverinfo": "skip",
         "line": {
          "color": "black",
          "width": 1
         },
         "mode": "lines",
         "showlegend": false,
         "type": "scatter3d",
         "x": [
          2.607,
          2.913
         ],
         "y": [
          -0.383,
          -1.315
         ],
         "z": [
          -0.345,
          0.129
         ]
        },
        {
         "hoverinfo": "skip",
         "line": {
          "color": "black",
          "width": 1
         },
         "mode": "lines",
         "showlegend": false,
         "type": "scatter3d",
         "x": [
          2.607,
          2.627
         ],
         "y": [
          -0.383,
          -0.503
         ],
         "z": [
          -0.345,
          -1.428
         ]
        },
        {
         "hoverinfo": "skip",
         "line": {
          "color": "black",
          "width": 1
         },
         "mode": "lines",
         "showlegend": false,
         "type": "scatter3d",
         "x": [
          -0.6,
          0.017
         ],
         "y": [
          1.871,
          2.566
         ],
         "z": [
          1.151,
          1.42
         ]
        },
        {
         "hoverinfo": "skip",
         "line": {
          "color": "black",
          "width": 1
         },
         "mode": "lines",
         "showlegend": false,
         "type": "scatter3d",
         "x": [
          -2.881,
          -3.197
         ],
         "y": [
          0.879,
          1.682
         ],
         "z": [
          -0.139,
          -0.576
         ]
        },
        {
         "hoverinfo": "skip",
         "line": {
          "color": "black",
          "width": 1
         },
         "mode": "lines",
         "showlegend": false,
         "type": "scatter3d",
         "x": [
          -2.075,
          -3
         ],
         "y": [
          -1.866,
          -1.684
         ],
         "z": [
          -0.137,
          0.08
         ]
        },
        {
         "hoverinfo": "skip",
         "line": {
          "color": "black",
          "width": 1
         },
         "mode": "lines",
         "showlegend": false,
         "type": "scatter3d",
         "x": [
          0.658,
          0.28739188564117757
         ],
         "y": [
          -2.338,
          -3.6208883690602627
         ],
         "z": [
          0.562,
          0.17534369512279074
         ]
        },
        {
         "hoverinfo": "skip",
         "line": {
          "color": "black",
          "width": 1
         },
         "mode": "lines",
         "showlegend": false,
         "type": "scatter3d",
         "x": [
          3.506,
          4.425
         ],
         "y": [
          0.661,
          0.501
         ],
         "z": [
          0.035,
          -0.218
         ]
        },
        {
         "hoverinfo": "skip",
         "line": {
          "color": "black",
          "width": 1
         },
         "mode": "lines",
         "showlegend": false,
         "type": "scatter3d",
         "x": [
          0.28739188564117757,
          1.480320584831757
         ],
         "y": [
          -3.6208883690602627,
          -4.38081146590108
         ],
         "z": [
          0.17534369512279074,
          -0.41274579257047955
         ]
        },
        {
         "hoverinfo": "skip",
         "line": {
          "color": "black",
          "width": 1
         },
         "mode": "lines",
         "showlegend": false,
         "type": "scatter3d",
         "x": [
          0.28739188564117757,
          -0.24841655015355635
         ],
         "y": [
          -3.6208883690602627,
          -4.314104692702984
         ],
         "z": [
          0.17534369512279074,
          1.3269380024925652
         ]
        },
        {
         "hoverinfo": "skip",
         "line": {
          "color": "black",
          "width": 1
         },
         "mode": "lines",
         "showlegend": false,
         "type": "scatter3d",
         "x": [
          0.28739188564117757,
          -0.4416295953503676
         ],
         "y": [
          -3.6208883690602627,
          -3.5957016204844336
         ],
         "z": [
          0.17534369512279074,
          -0.6260918905290271
         ]
        },
        {
         "hoverinfo": "skip",
         "line": {
          "color": "black",
          "width": 1
         },
         "mode": "lines",
         "showlegend": false,
         "type": "scatter3d",
         "x": [
          1.480320584831757,
          2.551855024989353
         ],
         "y": [
          -4.38081146590108,
          -4.515665510620807
         ],
         "z": [
          -0.41274579257047955,
          0.7251602592474138
         ]
        },
        {
         "hoverinfo": "skip",
         "line": {
          "color": "black",
          "width": 1
         },
         "mode": "lines",
         "showlegend": false,
         "type": "scatter3d",
         "x": [
          1.480320584831757,
          2.0557165148821417
         ],
         "y": [
          -4.38081146590108,
          -3.682652200920845
         ],
         "z": [
          -0.41274579257047955,
          -1.491352408131528
         ]
        },
        {
         "hoverinfo": "skip",
         "line": {
          "color": "black",
          "width": 1
         },
         "mode": "lines",
         "showlegend": false,
         "type": "scatter3d",
         "x": [
          1.480320584831757,
          1.191975546023585
         ],
         "y": [
          -4.38081146590108,
          -5.388081243451282
         ],
         "z": [
          -0.41274579257047955,
          -0.7041667123716275
         ]
        },
        {
         "hoverinfo": "skip",
         "line": {
          "color": "black",
          "width": 1
         },
         "mode": "lines",
         "showlegend": false,
         "type": "scatter3d",
         "x": [
          2.551855024989353,
          1.9213705212635026
         ],
         "y": [
          -4.515665510620807,
          -5.208421548159997
         ],
         "z": [
          0.7251602592474138,
          1.937228063874931
         ]
        },
        {
         "hoverinfo": "skip",
         "line": {
          "color": "black",
          "width": 1
         },
         "mode": "lines",
         "showlegend": false,
         "type": "scatter3d",
         "x": [
          2.551855024989353,
          3.656002120222209
         ],
         "y": [
          -4.515665510620807,
          -5.289853972410994
         ],
         "z": [
          0.7251602592474138,
          0.25239454801213945
         ]
        },
        {
         "hoverinfo": "skip",
         "line": {
          "color": "black",
          "width": 1
         },
         "mode": "lines",
         "showlegend": false,
         "type": "scatter3d",
         "x": [
          2.551855024989353,
          2.8968061322786154
         ],
         "y": [
          -4.515665510620807,
          -3.5219250793962225
         ],
         "z": [
          0.7251602592474138,
          1.0110320643095607
         ]
        },
        {
         "hoverinfo": "skip",
         "line": {
          "color": "black",
          "width": 1
         },
         "mode": "lines",
         "showlegend": false,
         "type": "scatter3d",
         "x": [
          1.9213705212635026,
          0.6927362615491515
         ],
         "y": [
          -5.208421548159997,
          -4.415224134145273
         ],
         "z": [
          1.937228063874931,
          2.387308854685344
         ]
        },
        {
         "hoverinfo": "skip",
         "line": {
          "color": "black",
          "width": 1
         },
         "mode": "lines",
         "showlegend": false,
         "type": "scatter3d",
         "x": [
          1.9213705212635026,
          2.871911843306937
         ],
         "y": [
          -5.208421548159997,
          -5.263996501869976
         ],
         "z": [
          1.937228063874931,
          3.002886836469637
         ]
        },
        {
         "hoverinfo": "skip",
         "line": {
          "color": "black",
          "width": 1
         },
         "mode": "lines",
         "showlegend": false,
         "type": "scatter3d",
         "x": [
          1.9213705212635026,
          1.6207417462584386
         ],
         "y": [
          -5.208421548159997,
          -6.220381288812531
         ],
         "z": [
          1.937228063874931,
          1.6623374984904262
         ]
        },
        {
         "hoverinfo": "skip",
         "line": {
          "color": "black",
          "width": 1
         },
         "mode": "lines",
         "showlegend": false,
         "type": "scatter3d",
         "x": [
          0.6927362615491515,
          0.023121121966325875
         ],
         "y": [
          -4.415224134145273,
          -5.1331744330517735
         ],
         "z": [
          2.387308854685344,
          3.5601587739595617
         ]
        },
        {
         "hoverinfo": "skip",
         "line": {
          "color": "black",
          "width": 1
         },
         "mode": "lines",
         "showlegend": false,
         "type": "scatter3d",
         "x": [
          0.6927362615491515,
          -0.24841655015355635
         ],
         "y": [
          -4.415224134145273,
          -4.314104692702984
         ],
         "z": [
          2.387308854685344,
          1.3269380024925652
         ]
        },
        {
         "hoverinfo": "skip",
         "line": {
          "color": "black",
          "width": 1
         },
         "mode": "lines",
         "showlegend": false,
         "type": "scatter3d",
         "x": [
          0.6927362615491515,
          0.9993730295362183
         ],
         "y": [
          -4.415224134145273,
          -3.4159166774238847
         ],
         "z": [
          2.387308854685344,
          2.6998268533021843
         ]
        },
        {
         "hoverinfo": "skip",
         "line": {
          "color": "black",
          "width": 1
         },
         "mode": "lines",
         "showlegend": false,
         "type": "scatter3d",
         "x": [
          0.023121121966325875,
          -1.0536800248494305
         ],
         "y": [
          -5.1331744330517735,
          -4.3351816382697255
         ],
         "z": [
          3.5601587739595617,
          4.05638834753636
         ]
        },
        {
         "hoverinfo": "skip",
         "line": {
          "color": "black",
          "width": 1
         },
         "mode": "lines",
         "showlegend": false,
         "type": "scatter3d",
         "x": [
          0.023121121966325875,
          0.7522731954762834
         ],
         "y": [
          -5.1331744330517735,
          -5.291760896761097
         ],
         "z": [
          3.5601587739595617,
          4.353962016094729
         ]
        },
        {
         "hoverinfo": "skip",
         "line": {
          "color": "black",
          "width": 1
         },
         "mode": "lines",
         "showlegend": false,
         "type": "scatter3d",
         "x": [
          0.023121121966325875,
          -0.3628865421639118
         ],
         "y": [
          -5.1331744330517735,
          -6.095439244578159
         ],
         "z": [
          3.5601587739595617,
          3.224400653088588
         ]
        },
        {
         "hoverinfo": "skip",
         "line": {
          "color": "black",
          "width": 1
         },
         "mode": "lines",
         "showlegend": false,
         "type": "scatter3d",
         "x": [
          2.0557165148821417,
          3.370180722730016
         ],
         "y": [
          -3.682652200920845,
          -3.245639821141027
         ],
         "z": [
          -1.491352408131528,
          -1.3736236257287506
         ]
        },
        {
         "hoverinfo": "skip",
         "line": {
          "color": "black",
          "width": 1
         },
         "mode": "lines",
         "showlegend": false,
         "type": "scatter3d",
         "x": [
          3.656002120222209,
          4.237486750862175
         ],
         "y": [
          -5.289853972410994,
          -6.188240615228173
         ],
         "z": [
          0.25239454801213945,
          1.1610816637660615
         ]
        },
        {
         "hoverinfo": "skip",
         "line": {
          "color": "black",
          "width": 1
         },
         "mode": "lines",
         "showlegend": false,
         "type": "scatter3d",
         "x": [
          2.871911843306937,
          3.6796362109456533
         ],
         "y": [
          -5.263996501869976,
          -5.749565157600492
         ],
         "z": [
          3.002886836469637,
          2.7847918422705558
         ]
        },
        {
         "hoverinfo": "skip",
         "line": {
          "color": "black",
          "width": 1
         },
         "mode": "lines",
         "showlegend": false,
         "type": "scatter3d",
         "x": [
          -1.0536800248494305,
          -1.5254480198313962
         ],
         "y": [
          -4.3351816382697255,
          -4.729868650877536
         ],
         "z": [
          4.05638834753636,
          4.801926489410683
         ]
        },
        {
         "hoverinfo": "skip",
         "line": {
          "color": "black",
          "width": 1
         },
         "mode": "lines",
         "showlegend": false,
         "type": "scatter3d",
         "x": [
          4.237486750862175,
          5.523963815710901
         ],
         "y": [
          -6.188240615228173,
          -6.745677888786662
         ],
         "z": [
          1.1610816637660615,
          0.608278934335493
         ]
        },
        {
         "hoverinfo": "skip",
         "line": {
          "color": "black",
          "width": 1
         },
         "mode": "lines",
         "showlegend": false,
         "type": "scatter3d",
         "x": [
          4.237486750862175,
          3.273024317767564
         ],
         "y": [
          -6.188240615228173,
          -7.235385181769364
         ],
         "z": [
          1.1610816637660615,
          1.4982306989307572
         ]
        },
        {
         "hoverinfo": "skip",
         "line": {
          "color": "black",
          "width": 1
         },
         "mode": "lines",
         "showlegend": false,
         "type": "scatter3d",
         "x": [
          4.237486750862175,
          4.45947410918213
         ],
         "y": [
          -6.188240615228173,
          -5.627756418451672
         ],
         "z": [
          1.1610816637660615,
          2.0879859565115035
         ]
        },
        {
         "hoverinfo": "skip",
         "line": {
          "color": "black",
          "width": 1
         },
         "mode": "lines",
         "showlegend": false,
         "type": "scatter3d",
         "x": [
          5.523963815710901,
          6.10428264304959
         ],
         "y": [
          -6.745677888786662,
          -7.757267939027176
         ],
         "z": [
          0.608278934335493,
          1.6130244037803174
         ]
        },
        {
         "hoverinfo": "skip",
         "line": {
          "color": "black",
          "width": 1
         },
         "mode": "lines",
         "showlegend": false,
         "type": "scatter3d",
         "x": [
          5.523963815710901,
          6.450114558946712
         ],
         "y": [
          -6.745677888786662,
          -5.720738560427202
         ],
         "z": [
          0.608278934335493,
          0.3547361315445263
         ]
        },
        {
         "hoverinfo": "skip",
         "line": {
          "color": "black",
          "width": 1
         },
         "mode": "lines",
         "showlegend": false,
         "type": "scatter3d",
         "x": [
          5.523963815710901,
          5.2894487659797065
         ],
         "y": [
          -6.745677888786662,
          -7.289668686159618
         ],
         "z": [
          0.608278934335493,
          -0.3275865029954237
         ]
        },
        {
         "hoverinfo": "skip",
         "line": {
          "color": "black",
          "width": 1
         },
         "mode": "lines",
         "showlegend": false,
         "type": "scatter3d",
         "x": [
          6.10428264304959,
          5.060830356326786
         ],
         "y": [
          -7.757267939027176,
          -8.832623734551518
         ],
         "z": [
          1.6130244037803174,
          1.9306314540250489
         ]
        },
        {
         "hoverinfo": "skip",
         "line": {
          "color": "black",
          "width": 1
         },
         "mode": "lines",
         "showlegend": false,
         "type": "scatter3d",
         "x": [
          6.10428264304959,
          7.268059606190848
         ],
         "y": [
          -7.757267939027176,
          -8.371315322648218
         ],
         "z": [
          1.6130244037803174,
          1.054668790635915
         ]
        },
        {
         "hoverinfo": "skip",
         "line": {
          "color": "black",
          "width": 1
         },
         "mode": "lines",
         "showlegend": false,
         "type": "scatter3d",
         "x": [
          6.10428264304959,
          6.372724850492382
         ],
         "y": [
          -7.757267939027176,
          -7.227647400676437
         ],
         "z": [
          1.6130244037803174,
          2.527686563607821
         ]
        },
        {
         "hoverinfo": "skip",
         "line": {
          "color": "black",
          "width": 1
         },
         "mode": "lines",
         "showlegend": false,
         "type": "scatter3d",
         "x": [
          5.060830356326786,
          3.788838332467794
         ],
         "y": [
          -8.832623734551518,
          -8.160416923057236
         ],
         "z": [
          1.9306314540250489,
          2.4550609476843914
         ]
        },
        {
         "hoverinfo": "skip",
         "line": {
          "color": "black",
          "width": 1
         },
         "mode": "lines",
         "showlegend": false,
         "type": "scatter3d",
         "x": [
          5.060830356326786,
          4.757062466408647
         ],
         "y": [
          -8.832623734551518,
          -9.56881200615805
         ],
         "z": [
          1.9306314540250489,
          0.7450544224477378
         ]
        },
        {
         "hoverinfo": "skip",
         "line": {
          "color": "black",
          "width": 1
         },
         "mode": "lines",
         "showlegend": false,
         "type": "scatter3d",
         "x": [
          5.060830356326786,
          5.453656357902075
         ],
         "y": [
          -8.832623734551518,
          -9.5089764884601
         ],
         "z": [
          1.9306314540250489,
          2.690341717722104
         ]
        },
        {
         "hoverinfo": "skip",
         "line": {
          "color": "black",
          "width": 1
         },
         "mode": "lines",
         "showlegend": false,
         "type": "scatter3d",
         "x": [
          3.788838332467794,
          2.72096606462462
         ],
         "y": [
          -8.160416923057236,
          -9.2229501140345
         ],
         "z": [
          2.4550609476843914,
          2.718030599247359
         ]
        },
        {
         "hoverinfo": "skip",
         "line": {
          "color": "black",
          "width": 1
         },
         "mode": "lines",
         "showlegend": false,
         "type": "scatter3d",
         "x": [
          3.788838332467794,
          3.273024317767564
         ],
         "y": [
          -8.160416923057236,
          -7.235385181769364
         ],
         "z": [
          2.4550609476843914,
          1.4982306989307572
         ]
        },
        {
         "hoverinfo": "skip",
         "line": {
          "color": "black",
          "width": 1
         },
         "mode": "lines",
         "showlegend": false,
         "type": "scatter3d",
         "x": [
          3.788838332467794,
          4.0129037309233215
         ],
         "y": [
          -8.160416923057236,
          -7.632381632327904
         ],
         "z": [
          2.4550609476843914,
          3.3823399935812324
         ]
        },
        {
         "hoverinfo": "skip",
         "line": {
          "color": "black",
          "width": 1
         },
         "mode": "lines",
         "showlegend": false,
         "type": "scatter3d",
         "x": [
          2.72096606462462,
          1.5763239118701478
         ],
         "y": [
          -9.2229501140345,
          -8.60982886973319
         ],
         "z": [
          2.718030599247359,
          3.3155142240639917
         ]
        },
        {
         "hoverinfo": "skip",
         "line": {
          "color": "black",
          "width": 1
         },
         "mode": "lines",
         "showlegend": false,
         "type": "scatter3d",
         "x": [
          2.72096606462462,
          3.1201928192922215
         ],
         "y": [
          -9.2229501140345,
          -9.980787994570846
         ],
         "z": [
          2.718030599247359,
          3.3919725442112805
         ]
        },
        {
         "hoverinfo": "skip",
         "line": {
          "color": "black",
          "width": 1
         },
         "mode": "lines",
         "showlegend": false,
         "type": "scatter3d",
         "x": [
          2.72096606462462,
          2.4326195125580155
         ],
         "y": [
          -9.2229501140345,
          -9.689360576626797
         ],
         "z": [
          2.718030599247359,
          1.7764927368670185
         ]
        },
        {
         "hoverinfo": "skip",
         "line": {
          "color": "black",
          "width": 1
         },
         "mode": "lines",
         "showlegend": false,
         "type": "scatter3d",
         "x": [
          6.450114558946712,
          6.138660697551929
         ],
         "y": [
          -5.720738560427202,
          -5.054095831051122
         ],
         "z": [
          0.3547361315445263,
          -0.27264012206433397
         ]
        },
        {
         "hoverinfo": "skip",
         "line": {
          "color": "black",
          "width": 1
         },
         "mode": "lines",
         "showlegend": false,
         "type": "scatter3d",
         "x": [
          7.268059606190848,
          7.969060484031798
         ],
         "y": [
          -8.371315322648218,
          -7.746525027949046
         ],
         "z": [
          1.054668790635915,
          0.8231242875356732
         ]
        },
        {
         "hoverinfo": "skip",
         "line": {
          "color": "black",
          "width": 1
         },
         "mode": "lines",
         "showlegend": false,
         "type": "scatter3d",
         "x": [
          4.757062466408647,
          5.554273632628828
         ],
         "y": [
          -9.56881200615805,
          -10.66905801919593
         ],
         "z": [
          0.7450544224477378,
          0.3929095272013239
         ]
        },
        {
         "hoverinfo": "skip",
         "line": {
          "color": "black",
          "width": 1
         },
         "mode": "lines",
         "showlegend": false,
         "type": "scatter3d",
         "x": [
          1.5763239118701478,
          0.8573331964579269
         ],
         "y": [
          -8.60982886973319,
          -9.226460792618541
         ],
         "z": [
          3.3155142240639917,
          3.510251028057841
         ]
        },
        {
         "hoverinfo": "skip",
         "line": {
          "color": "black",
          "width": 1
         },
         "mode": "lines",
         "showlegend": false,
         "type": "scatter3d",
         "x": [
          5.554273632628828,
          4.866320224547968
         ],
         "y": [
          -10.66905801919593,
          -11.96110913350714
         ],
         "z": [
          0.3929095272013239,
          0.7516217186823118
         ]
        },
        {
         "hoverinfo": "skip",
         "line": {
          "color": "black",
          "width": 1
         },
         "mode": "lines",
         "showlegend": false,
         "type": "scatter3d",
         "x": [
          5.554273632628828,
          5.889503553988572
         ],
         "y": [
          -10.66905801919593,
          -10.592083898242059
         ],
         "z": [
          0.3929095272013239,
          -1.0146759531615985
         ]
        },
        {
         "hoverinfo": "skip",
         "line": {
          "color": "black",
          "width": 1
         },
         "mode": "lines",
         "showlegend": false,
         "type": "scatter3d",
         "x": [
          5.554273632628828,
          6.497273049932708
         ],
         "y": [
          -10.66905801919593,
          -10.594351436161784
         ],
         "z": [
          0.3929095272013239,
          0.9653984051857825
         ]
        },
        {
         "hoverinfo": "skip",
         "line": {
          "color": "black",
          "width": 1
         },
         "mode": "lines",
         "showlegend": false,
         "type": "scatter3d",
         "x": [
          4.866320224547968,
          5.751157293389989
         ],
         "y": [
          -11.96110913350714,
          -13.140014988518232
         ],
         "z": [
          0.7516217186823118,
          0.30897956916398894
         ]
        },
        {
         "hoverinfo": "skip",
         "line": {
          "color": "black",
          "width": 1
         },
         "mode": "lines",
         "showlegend": false,
         "type": "scatter3d",
         "x": [
          4.866320224547968,
          4.613285882466256
         ],
         "y": [
          -11.96110913350714,
          -12.033710588156485
         ],
         "z": [
          0.7516217186823118,
          2.13426864926683
         ]
        },
        {
         "hoverinfo": "skip",
         "line": {
          "color": "black",
          "width": 1
         },
         "mode": "lines",
         "showlegend": false,
         "type": "scatter3d",
         "x": [
          4.866320224547968,
          3.91586933538977
         ],
         "y": [
          -11.96110913350714,
          -12.014988732506898
         ],
         "z": [
          0.7516217186823118,
          0.18811586698457816
         ]
        },
        {
         "hoverinfo": "skip",
         "line": {
          "color": "black",
          "width": 1
         },
         "mode": "lines",
         "showlegend": false,
         "type": "scatter3d",
         "x": [
          5.751157293389989,
          6.07330214405259
         ],
         "y": [
          -13.140014988518232,
          -13.01384827469256
         ],
         "z": [
          0.30897956916398894,
          -1.1831201780091027
         ]
        },
        {
         "hoverinfo": "skip",
         "line": {
          "color": "black",
          "width": 1
         },
         "mode": "lines",
         "showlegend": false,
         "type": "scatter3d",
         "x": [
          5.751157293389989,
          5.063898568748783
         ],
         "y": [
          -13.140014988518232,
          -14.370606262810867
         ],
         "z": [
          0.30897956916398894,
          0.5467032765205952
         ]
        },
        {
         "hoverinfo": "skip",
         "line": {
          "color": "black",
          "width": 1
         },
         "mode": "lines",
         "showlegend": false,
         "type": "scatter3d",
         "x": [
          5.751157293389989,
          6.676749404343498
         ],
         "y": [
          -13.140014988518232,
          -13.1202060395213
         ],
         "z": [
          0.30897956916398894,
          0.8852198399541036
         ]
        },
        {
         "hoverinfo": "skip",
         "line": {
          "color": "black",
          "width": 1
         },
         "mode": "lines",
         "showlegend": false,
         "type": "scatter3d",
         "x": [
          6.07330214405259,
          6.739153388942177
         ],
         "y": [
          -13.01384827469256,
          -11.65932984087781
         ],
         "z": [
          -1.1831201780091027,
          -1.4415267029557937
         ]
        },
        {
         "hoverinfo": "skip",
         "line": {
          "color": "black",
          "width": 1
         },
         "mode": "lines",
         "showlegend": false,
         "type": "scatter3d",
         "x": [
          6.07330214405259,
          4.866732557493382
         ],
         "y": [
          -13.01384827469256,
          -13.104595025141528
         ],
         "z": [
          -1.1831201780091027,
          -1.9419323155459867
         ]
        },
        {
         "hoverinfo": "skip",
         "line": {
          "color": "black",
          "width": 1
         },
         "mode": "lines",
         "showlegend": false,
         "type": "scatter3d",
         "x": [
          6.07330214405259,
          6.752111311166297
         ],
         "y": [
          -13.01384827469256,
          -13.814333154915182
         ],
         "z": [
          -1.1831201780091027,
          -1.47869939104238
         ]
        },
        {
         "hoverinfo": "skip",
         "line": {
          "color": "black",
          "width": 1
         },
         "mode": "lines",
         "showlegend": false,
         "type": "scatter3d",
         "x": [
          6.739153388942177,
          7.009716398925608
         ],
         "y": [
          -11.65932984087781,
          -11.500539508206224
         ],
         "z": [
          -1.4415267029557937,
          -2.9382104664405033
         ]
        },
        {
         "hoverinfo": "skip",
         "line": {
          "color": "black",
          "width": 1
         },
         "mode": "lines",
         "showlegend": false,
         "type": "scatter3d",
         "x": [
          6.739153388942177,
          5.889503553988572
         ],
         "y": [
          -11.65932984087781,
          -10.592083898242059
         ],
         "z": [
          -1.4415267029557937,
          -1.0146759531615985
         ]
        },
        {
         "hoverinfo": "skip",
         "line": {
          "color": "black",
          "width": 1
         },
         "mode": "lines",
         "showlegend": false,
         "type": "scatter3d",
         "x": [
          6.739153388942177,
          7.680601729368048
         ],
         "y": [
          -11.65932984087781,
          -11.607017487840857
         ],
         "z": [
          -1.4415267029557937,
          -0.8939763034224635
         ]
        },
        {
         "hoverinfo": "skip",
         "line": {
          "color": "black",
          "width": 1
         },
         "mode": "lines",
         "showlegend": false,
         "type": "scatter3d",
         "x": [
          7.009716398925608,
          7.734357007618713
         ],
         "y": [
          -11.500539508206224,
          -10.289543579286654
         ],
         "z": [
          -2.9382104664405033,
          -3.1651352301246685
         ]
        },
        {
         "hoverinfo": "skip",
         "line": {
          "color": "black",
          "width": 1
         },
         "mode": "lines",
         "showlegend": false,
         "type": "scatter3d",
         "x": [
          7.009716398925608,
          7.5971095253295005
         ],
         "y": [
          -11.500539508206224,
          -12.347118069098146
         ],
         "z": [
          -2.9382104664405033,
          -3.2934175261840077
         ]
        },
        {
         "hoverinfo": "skip",
         "line": {
          "color": "black",
          "width": 1
         },
         "mode": "lines",
         "showlegend": false,
         "type": "scatter3d",
         "x": [
          7.009716398925608,
          6.063279431367144
         ],
         "y": [
          -11.500539508206224,
          -11.463257089612863
         ],
         "z": [
          -2.9382104664405033,
          -3.4767669515955615
         ]
        },
        {
         "hoverinfo": "skip",
         "line": {
          "color": "black",
          "width": 1
         },
         "mode": "lines",
         "showlegend": false,
         "type": "scatter3d",
         "x": [
          4.613285882466256,
          4.05916980249675
         ],
         "y": [
          -12.033710588156485,
          -11.316581055109904
         ],
         "z": [
          2.13426864926683,
          2.471459400551059
         ]
        },
        {
         "hoverinfo": "skip",
         "line": {
          "color": "black",
          "width": 1
         },
         "mode": "lines",
         "showlegend": false,
         "type": "scatter3d",
         "x": [
          5.063898568748783,
          5.6027960796688205
         ],
         "y": [
          -14.370606262810867,
          -15.220517327694829
         ],
         "z": [
          0.5467032765205952,
          1.5255678557714734
         ]
        },
        {
         "hoverinfo": "skip",
         "line": {
          "color": "black",
          "width": 1
         },
         "mode": "lines",
         "showlegend": false,
         "type": "scatter3d",
         "x": [
          4.866732557493382,
          4.388930815680093
         ],
         "y": [
          -13.104595025141528,
          -13.937777708142
         ],
         "z": [
          -1.9419323155459867,
          -1.823158950399077
         ]
        },
        {
         "hoverinfo": "skip",
         "line": {
          "color": "black",
          "width": 1
         },
         "mode": "lines",
         "showlegend": false,
         "type": "scatter3d",
         "x": [
          7.734357007618713,
          7.940916085481296
         ],
         "y": [
          -10.289543579286654,
          -10.123949627724773
         ],
         "z": [
          -3.1651352301246685,
          -4.095198126147663
         ]
        },
        {
         "hoverinfo": "skip",
         "line": {
          "color": "black",
          "width": 1
         },
         "mode": "lines",
         "showlegend": false,
         "type": "scatter3d",
         "x": [
          5.6027960796688205,
          4.649374390469096
         ],
         "y": [
          -15.220517327694829,
          -16.345365490199164
         ],
         "z": [
          1.5255678557714734,
          1.836618806379522
         ]
        },
        {
         "hoverinfo": "skip",
         "line": {
          "color": "black",
          "width": 1
         },
         "mode": "lines",
         "showlegend": false,
         "type": "scatter3d",
         "x": [
          5.6027960796688205,
          6.9135664546085565
         ],
         "y": [
          -15.220517327694829,
          -15.700883742571758
         ],
         "z": [
          1.5255678557714734,
          1.0879628607832652
         ]
        },
        {
         "hoverinfo": "skip",
         "line": {
          "color": "black",
          "width": 1
         },
         "mode": "lines",
         "showlegend": false,
         "type": "scatter3d",
         "x": [
          5.6027960796688205,
          5.755962247218171
         ],
         "y": [
          -15.220517327694829,
          -14.61954687988207
         ],
         "z": [
          1.5255678557714734,
          2.4409623805387852
         ]
        },
        {
         "hoverinfo": "skip",
         "line": {
          "color": "black",
          "width": 1
         },
         "mode": "lines",
         "showlegend": false,
         "type": "scatter3d",
         "x": [
          4.649374390469096,
          5.295886194255522
         ],
         "y": [
          -16.345365490199164,
          -17.27658699181007
         ],
         "z": [
          1.836618806379522,
          2.878109820237623
         ]
        },
        {
         "hoverinfo": "skip",
         "line": {
          "color": "black",
          "width": 1
         },
         "mode": "lines",
         "showlegend": false,
         "type": "scatter3d",
         "x": [
          4.649374390469096,
          3.4243256316584647
         ],
         "y": [
          -16.345365490199164,
          -15.852327531560723
         ],
         "z": [
          1.836618806379522,
          2.313231912702179
         ]
        },
        {
         "hoverinfo": "skip",
         "line": {
          "color": "black",
          "width": 1
         },
         "mode": "lines",
         "showlegend": false,
         "type": "scatter3d",
         "x": [
          4.649374390469096,
          4.491937561016936
         ],
         "y": [
          -16.345365490199164,
          -16.92918510986124
         ],
         "z": [
          1.836618806379522,
          0.9079442110737084
         ]
        },
        {
         "hoverinfo": "skip",
         "line": {
          "color": "black",
          "width": 1
         },
         "mode": "lines",
         "showlegend": false,
         "type": "scatter3d",
         "x": [
          5.295886194255522,
          6.660546453315635
         ],
         "y": [
          -17.27658699181007,
          -17.75512648362009
         ],
         "z": [
          2.878109820237623,
          2.3733729262817733
         ]
        },
        {
         "hoverinfo": "skip",
         "line": {
          "color": "black",
          "width": 1
         },
         "mode": "lines",
         "showlegend": false,
         "type": "scatter3d",
         "x": [
          5.295886194255522,
          4.447338718774148
         ],
         "y": [
          -17.27658699181007,
          -18.40477186923964
         ],
         "z": [
          2.878109820237623,
          3.102515845543121
         ]
        },
        {
         "hoverinfo": "skip",
         "line": {
          "color": "black",
          "width": 1
         },
         "mode": "lines",
         "showlegend": false,
         "type": "scatter3d",
         "x": [
          5.295886194255522,
          5.424388827442796
         ],
         "y": [
          -17.27658699181007,
          -16.72396973891508
         ],
         "z": [
          2.878109820237623,
          3.8093816629703086
         ]
        },
        {
         "hoverinfo": "skip",
         "line": {
          "color": "black",
          "width": 1
         },
         "mode": "lines",
         "showlegend": false,
         "type": "scatter3d",
         "x": [
          6.660546453315635,
          7.5366639424097706
         ],
         "y": [
          -17.75512648362009,
          -16.538619563471137
         ],
         "z": [
          2.3733729262817733,
          2.0613135432581084
         ]
        },
        {
         "hoverinfo": "skip",
         "line": {
          "color": "black",
          "width": 1
         },
         "mode": "lines",
         "showlegend": false,
         "type": "scatter3d",
         "x": [
          6.660546453315635,
          6.485886732228457
         ],
         "y": [
          -17.75512648362009,
          -18.533502597734717
         ],
         "z": [
          2.3733729262817733,
          1.1886933886828683
         ]
        },
        {
         "hoverinfo": "skip",
         "line": {
          "color": "black",
          "width": 1
         },
         "mode": "lines",
         "showlegend": false,
         "type": "scatter3d",
         "x": [
          6.660546453315635,
          7.141472278920311
         ],
         "y": [
          -17.75512648362009,
          -18.361406670314437
         ],
         "z": [
          2.3733729262817733,
          3.1415263520297323
         ]
        },
        {
         "hoverinfo": "skip",
         "line": {
          "color": "black",
          "width": 1
         },
         "mode": "lines",
         "showlegend": false,
         "type": "scatter3d",
         "x": [
          7.5366639424097706,
          8.879838771321644
         ],
         "y": [
          -16.538619563471137,
          -17.007092653069904
         ],
         "z": [
          2.0613135432581084,
          1.5001581785868408
         ]
        },
        {
         "hoverinfo": "skip",
         "line": {
          "color": "black",
          "width": 1
         },
         "mode": "lines",
         "showlegend": false,
         "type": "scatter3d",
         "x": [
          7.5366639424097706,
          6.9135664546085565
         ],
         "y": [
          -16.538619563471137,
          -15.700883742571758
         ],
         "z": [
          2.0613135432581084,
          1.0879628607832652
         ]
        },
        {
         "hoverinfo": "skip",
         "line": {
          "color": "black",
          "width": 1
         },
         "mode": "lines",
         "showlegend": false,
         "type": "scatter3d",
         "x": [
          7.5366639424097706,
          7.703335398877375
         ],
         "y": [
          -16.538619563471137,
          -15.967090794617484
         ],
         "z": [
          2.0613135432581084,
          2.9747950657705187
         ]
        },
        {
         "hoverinfo": "skip",
         "line": {
          "color": "black",
          "width": 1
         },
         "mode": "lines",
         "showlegend": false,
         "type": "scatter3d",
         "x": [
          8.879838771321644,
          9.739042540523323
         ],
         "y": [
          -17.007092653069904,
          -15.879398386889584
         ],
         "z": [
          1.5001581785868408,
          1.317991976964079
         ]
        },
        {
         "hoverinfo": "skip",
         "line": {
          "color": "black",
          "width": 1
         },
         "mode": "lines",
         "showlegend": false,
         "type": "scatter3d",
         "x": [
          8.879838771321644,
          9.341313078102724
         ],
         "y": [
          -17.007092653069904,
          -17.706253656468846
         ],
         "z": [
          1.5001581785868408,
          2.1973764769031616
         ]
        },
        {
         "hoverinfo": "skip",
         "line": {
          "color": "black",
          "width": 1
         },
         "mode": "lines",
         "showlegend": false,
         "type": "scatter3d",
         "x": [
          8.879838771321644,
          8.721174348626658
         ],
         "y": [
          -17.007092653069904,
          -17.500760583015754
         ],
         "z": [
          1.5001581785868408,
          0.541881821832777
         ]
        },
        {
         "hoverinfo": "skip",
         "line": {
          "color": "black",
          "width": 1
         },
         "mode": "lines",
         "showlegend": false,
         "type": "scatter3d",
         "x": [
          3.4243256316584647,
          2.971062137616494
         ],
         "y": [
          -15.852327531560723,
          -15.2602464855551
         ],
         "z": [
          2.313231912702179,
          1.6975946494296
         ]
        },
        {
         "hoverinfo": "skip",
         "line": {
          "color": "black",
          "width": 1
         },
         "mode": "lines",
         "showlegend": false,
         "type": "scatter3d",
         "x": [
          4.447338718774148,
          3.5625552990417675
         ],
         "y": [
          -18.40477186923964,
          -18.17423744776699
         ],
         "z": [
          3.102515845543121,
          3.4177779280759597
         ]
        },
        {
         "hoverinfo": "skip",
         "line": {
          "color": "black",
          "width": 1
         },
         "mode": "lines",
         "showlegend": false,
         "type": "scatter3d",
         "x": [
          6.485886732228457,
          5.936034031854064
         ],
         "y": [
          -18.533502597734717,
          -19.320253362073178
         ],
         "z": [
          1.1886933886828683,
          1.3123066675158235
         ]
        },
        {
         "hoverinfo": "skip",
         "line": {
          "color": "black",
          "width": 1
         },
         "mode": "lines",
         "showlegend": false,
         "type": "scatter3d",
         "x": [
          9.739042540523323,
          10.610602235370099
         ],
         "y": [
          -15.879398386889584,
          -16.102964567175196
         ],
         "z": [
          1.317991976964079,
          0.9637225013510948
         ]
        },
        {
         "hoverinfo": "skip",
         "line": {
          "color": "black",
          "width": 1
         },
         "mode": "lines",
         "showlegend": false,
         "type": "scatter3d",
         "x": [
          3.370180722730016,
          4.342995410058376
         ],
         "y": [
          -3.245639821141027,
          -4.428916027255673
         ],
         "z": [
          -1.3736236257287506,
          -1.3962732208940924
         ]
        },
        {
         "hoverinfo": "skip",
         "line": {
          "color": "black",
          "width": 1
         },
         "mode": "lines",
         "showlegend": false,
         "type": "scatter3d",
         "x": [
          3.370180722730016,
          3.6513411897599326
         ],
         "y": [
          -3.245639821141027,
          -2.325538037107531
         ],
         "z": [
          -1.3736236257287506,
          -2.4584561007210404
         ]
        },
        {
         "hoverinfo": "skip",
         "line": {
          "color": "black",
          "width": 1
         },
         "mode": "lines",
         "showlegend": false,
         "type": "scatter3d",
         "x": [
          3.370180722730016,
          3.5423803632455018
         ],
         "y": [
          -3.245639821141027,
          -2.768128489508456
         ],
         "z": [
          -1.3736236257287506,
          -0.41616036169778703
         ]
        },
        {
         "hoverinfo": "skip",
         "line": {
          "color": "black",
          "width": 1
         },
         "mode": "lines",
         "showlegend": false,
         "type": "scatter3d",
         "x": [
          4.342995410058376,
          4.126498442731845
         ],
         "y": [
          -4.428916027255673,
          -5.18045429619363
         ],
         "z": [
          -1.3962732208940924,
          -2.753791895336951
         ]
        },
        {
         "hoverinfo": "skip",
         "line": {
          "color": "black",
          "width": 1
         },
         "mode": "lines",
         "showlegend": false,
         "type": "scatter3d",
         "x": [
          4.342995410058376,
          5.693115178717679
         ],
         "y": [
          -4.428916027255673,
          -3.971488124917645
         ],
         "z": [
          -1.3962732208940924,
          -1.3611689028370517
         ]
        },
        {
         "hoverinfo": "skip",
         "line": {
          "color": "black",
          "width": 1
         },
         "mode": "lines",
         "showlegend": false,
         "type": "scatter3d",
         "x": [
          4.342995410058376,
          4.150905291237018
         ],
         "y": [
          -4.428916027255673,
          -5.113942855256785
         ],
         "z": [
          -1.3962732208940924,
          -0.5983171137701269
         ]
        },
        {
         "hoverinfo": "skip",
         "line": {
          "color": "black",
          "width": 1
         },
         "mode": "lines",
         "showlegend": false,
         "type": "scatter3d",
         "x": [
          4.126498442731845,
          4.250016685001658
         ],
         "y": [
          -5.18045429619363,
          -4.176529332805269
         ],
         "z": [
          -2.753791895336951,
          -3.9052083759000245
         ]
        },
        {
         "hoverinfo": "skip",
         "line": {
          "color": "black",
          "width": 1
         },
         "mode": "lines",
         "showlegend": false,
         "type": "scatter3d",
         "x": [
          4.126498442731845,
          5.114014472594498
         ],
         "y": [
          -5.18045429619363,
          -6.204095885248118
         ],
         "z": [
          -2.753791895336951,
          -2.898398215815365
         ]
        },
        {
         "hoverinfo": "skip",
         "line": {
          "color": "black",
          "width": 1
         },
         "mode": "lines",
         "showlegend": false,
         "type": "scatter3d",
         "x": [
          4.126498442731845,
          3.1329316078512255
         ],
         "y": [
          -5.18045429619363,
          -5.627876943376505
         ],
         "z": [
          -2.753791895336951,
          -2.7627316611714585
         ]
        },
        {
         "hoverinfo": "skip",
         "line": {
          "color": "black",
          "width": 1
         },
         "mode": "lines",
         "showlegend": false,
         "type": "scatter3d",
         "x": [
          4.250016685001658,
          3.2980461971580066
         ],
         "y": [
          -4.176529332805269,
          -3.0070532722253507
         ],
         "z": [
          -3.9052083759000245,
          -3.649247570296521
         ]
        },
        {
         "hoverinfo": "skip",
         "line": {
          "color": "black",
          "width": 1
         },
         "mode": "lines",
         "showlegend": false,
         "type": "scatter3d",
         "x": [
          4.250016685001658,
          3.906135796830376
         ],
         "y": [
          -4.176529332805269,
          -4.815542656683919
         ],
         "z": [
          -3.9052083759000245,
          -5.135813473669447
         ]
        },
        {
         "hoverinfo": "skip",
         "line": {
          "color": "black",
          "width": 1
         },
         "mode": "lines",
         "showlegend": false,
         "type": "scatter3d",
         "x": [
          4.250016685001658,
          5.275095253770038
         ],
         "y": [
          -4.176529332805269,
          -3.8088434109244536
         ],
         "z": [
          -3.9052083759000245,
          -3.9592453142146766
         ]
        },
        {
         "hoverinfo": "skip",
         "line": {
          "color": "black",
          "width": 1
         },
         "mode": "lines",
         "showlegend": false,
         "type": "scatter3d",
         "x": [
          3.2980461971580066,
          3.3870442548285054
         ],
         "y": [
          -3.0070532722253507,
          -2.015203681937657
         ],
         "z": [
          -3.649247570296521,
          -4.811413107548858
         ]
        },
        {
         "hoverinfo": "skip",
         "line": {
          "color": "black",
          "width": 1
         },
         "mode": "lines",
         "showlegend": false,
         "type": "scatter3d",
         "x": [
          3.2980461971580066,
          3.6513411897599326
         ],
         "y": [
          -3.0070532722253507,
          -2.325538037107531
         ],
         "z": [
          -3.649247570296521,
          -2.4584561007210404
         ]
        },
        {
         "hoverinfo": "skip",
         "line": {
          "color": "black",
          "width": 1
         },
         "mode": "lines",
         "showlegend": false,
         "type": "scatter3d",
         "x": [
          3.2980461971580066,
          2.2777254688201856
         ],
         "y": [
          -3.0070532722253507,
          -3.3811711984711703
         ],
         "z": [
          -3.649247570296521,
          -3.5709827085403956
         ]
        },
        {
         "hoverinfo": "skip",
         "line": {
          "color": "black",
          "width": 1
         },
         "mode": "lines",
         "showlegend": false,
         "type": "scatter3d",
         "x": [
          3.3870442548285054,
          2.495838629348798
         ],
         "y": [
          -2.015203681937657,
          -0.9244632548408718
         ],
         "z": [
          -4.811413107548858,
          -4.575905456271785
         ]
        },
        {
         "hoverinfo": "skip",
         "line": {
          "color": "black",
          "width": 1
         },
         "mode": "lines",
         "showlegend": false,
         "type": "scatter3d",
         "x": [
          3.3870442548285054,
          4.407808504863519
         ],
         "y": [
          -2.015203681937657,
          -1.6398390750244094
         ],
         "z": [
          -4.811413107548858,
          -4.890177044266867
         ]
        },
        {
         "hoverinfo": "skip",
         "line": {
          "color": "black",
          "width": 1
         },
         "mode": "lines",
         "showlegend": false,
         "type": "scatter3d",
         "x": [
          3.3870442548285054,
          3.1126184885617403
         ],
         "y": [
          -2.015203681937657,
          -2.516009875847719
         ],
         "z": [
          -4.811413107548858,
          -5.7392480362674405
         ]
        },
        {
         "hoverinfo": "skip",
         "line": {
          "color": "black",
          "width": 1
         },
         "mode": "lines",
         "showlegend": false,
         "type": "scatter3d",
         "x": [
          5.693115178717679,
          5.784390382598928
         ],
         "y": [
          -3.971488124917645,
          -3.506280047215519
         ],
         "z": [
          -1.3611689028370517,
          -0.5187133956456462
         ]
        },
        {
         "hoverinfo": "skip",
         "line": {
          "color": "black",
          "width": 1
         },
         "mode": "lines",
         "showlegend": false,
         "type": "scatter3d",
         "x": [
          5.114014472594498,
          5.006818908150824
         ],
         "y": [
          -6.204095885248118,
          -6.803818758841156
         ],
         "z": [
          -2.898398215815365,
          -2.1474217941795652
         ]
        },
        {
         "hoverinfo": "skip",
         "line": {
          "color": "black",
          "width": 1
         },
         "mode": "lines",
         "showlegend": false,
         "type": "scatter3d",
         "x": [
          3.906135796830376,
          4.831957159519671
         ],
         "y": [
          -4.815542656683919,
          -5.593195159440236
         ],
         "z": [
          -5.135813473669447,
          -5.8219384107945835
         ]
        },
        {
         "hoverinfo": "skip",
         "line": {
          "color": "black",
          "width": 1
         },
         "mode": "lines",
         "showlegend": false,
         "type": "scatter3d",
         "x": [
          2.495838629348798,
          2.582990241096269
         ],
         "y": [
          -0.9244632548408718,
          -0.32385085125660096
         ],
         "z": [
          -4.575905456271785,
          -5.328446709114806
         ]
        },
        {
         "hoverinfo": "skip",
         "line": {
          "color": "black",
          "width": 1
         },
         "mode": "lines",
         "showlegend": false,
         "type": "scatter3d",
         "x": [
          4.831957159519671,
          5.329187133895838
         ],
         "y": [
          -5.593195159440236,
          -4.870704998502981
         ],
         "z": [
          -5.8219384107945835,
          -7.077797304114505
         ]
        },
        {
         "hoverinfo": "skip",
         "line": {
          "color": "black",
          "width": 1
         },
         "mode": "lines",
         "showlegend": false,
         "type": "scatter3d",
         "x": [
          4.831957159519671,
          4.212238862998239
         ],
         "y": [
          -5.593195159440236,
          -6.855098930072359
         ],
         "z": [
          -5.8219384107945835,
          -6.164512645991868
         ]
        },
        {
         "hoverinfo": "skip",
         "line": {
          "color": "black",
          "width": 1
         },
         "mode": "lines",
         "showlegend": false,
         "type": "scatter3d",
         "x": [
          4.831957159519671,
          5.724886884762492
         ],
         "y": [
          -5.593195159440236,
          -5.756726048456004
         ],
         "z": [
          -5.8219384107945835,
          -5.230043281472257
         ]
        },
        {
         "hoverinfo": "skip",
         "line": {
          "color": "black",
          "width": 1
         },
         "mode": "lines",
         "showlegend": false,
         "type": "scatter3d",
         "x": [
          5.329187133895838,
          4.075547144567605
         ],
         "y": [
          -4.870704998502981,
          -4.580827415817252
         ],
         "z": [
          -7.077797304114505,
          -7.972010075359487
         ]
        },
        {
         "hoverinfo": "skip",
         "line": {
          "color": "black",
          "width": 1
         },
         "mode": "lines",
         "showlegend": false,
         "type": "scatter3d",
         "x": [
          5.329187133895838,
          6.212870644604493
         ],
         "y": [
          -4.870704998502981,
          -5.705523275807869
         ],
         "z": [
          -7.077797304114505,
          -7.823035316725585
         ]
        },
        {
         "hoverinfo": "skip",
         "line": {
          "color": "black",
          "width": 1
         },
         "mode": "lines",
         "showlegend": false,
         "type": "scatter3d",
         "x": [
          5.329187133895838,
          5.794990104880635
         ],
         "y": [
          -4.870704998502981,
          -3.9377957250393587
         ],
         "z": [
          -7.077797304114505,
          -6.840145617535461
         ]
        },
        {
         "hoverinfo": "skip",
         "line": {
          "color": "black",
          "width": 1
         },
         "mode": "lines",
         "showlegend": false,
         "type": "scatter3d",
         "x": [
          4.075547144567605,
          3.310717872479277
         ],
         "y": [
          -4.580827415817252,
          -5.889649502127884
         ],
         "z": [
          -7.972010075359487,
          -8.197626854306272
         ]
        },
        {
         "hoverinfo": "skip",
         "line": {
          "color": "black",
          "width": 1
         },
         "mode": "lines",
         "showlegend": false,
         "type": "scatter3d",
         "x": [
          4.075547144567605,
          4.495757895226085
         ],
         "y": [
          -4.580827415817252,
          -4.044923593491575
         ],
         "z": [
          -7.972010075359487,
          -9.229058609922799
         ]
        },
        {
         "hoverinfo": "skip",
         "line": {
          "color": "black",
          "width": 1
         },
         "mode": "lines",
         "showlegend": false,
         "type": "scatter3d",
         "x": [
          4.075547144567605,
          3.431152574440656
         ],
         "y": [
          -4.580827415817252,
          -3.8624002123259533
         ],
         "z": [
          -7.972010075359487,
          -7.465986369121751
         ]
        },
        {
         "hoverinfo": "skip",
         "line": {
          "color": "black",
          "width": 1
         },
         "mode": "lines",
         "showlegend": false,
         "type": "scatter3d",
         "x": [
          3.310717872479277,
          3.009905516755846
         ],
         "y": [
          -5.889649502127884,
          -6.5296736607298485
         ],
         "z": [
          -8.197626854306272,
          -6.8414118997175954
         ]
        },
        {
         "hoverinfo": "skip",
         "line": {
          "color": "black",
          "width": 1
         },
         "mode": "lines",
         "showlegend": false,
         "type": "scatter3d",
         "x": [
          3.310717872479277,
          2.0868336909430543
         ],
         "y": [
          -5.889649502127884,
          -5.616470869902413
         ],
         "z": [
          -8.197626854306272,
          -8.882069653290108
         ]
        },
        {
         "hoverinfo": "skip",
         "line": {
          "color": "black",
          "width": 1
         },
         "mode": "lines",
         "showlegend": false,
         "type": "scatter3d",
         "x": [
          3.310717872479277,
          3.919310557431273
         ],
         "y": [
          -5.889649502127884,
          -6.568506241148283
         ],
         "z": [
          -8.197626854306272,
          -8.795679921942837
         ]
        },
        {
         "hoverinfo": "skip",
         "line": {
          "color": "black",
          "width": 1
         },
         "mode": "lines",
         "showlegend": false,
         "type": "scatter3d",
         "x": [
          3.009905516755846,
          2.214689135616443
         ],
         "y": [
          -6.5296736607298485,
          -7.8200460935412845
         ],
         "z": [
          -6.8414118997175954,
          -7.0532724477388005
         ]
        },
        {
         "hoverinfo": "skip",
         "line": {
          "color": "black",
          "width": 1
         },
         "mode": "lines",
         "showlegend": false,
         "type": "scatter3d",
         "x": [
          3.009905516755846,
          4.212238862998239
         ],
         "y": [
          -6.5296736607298485,
          -6.855098930072359
         ],
         "z": [
          -6.8414118997175954,
          -6.164512645991868
         ]
        },
        {
         "hoverinfo": "skip",
         "line": {
          "color": "black",
          "width": 1
         },
         "mode": "lines",
         "showlegend": false,
         "type": "scatter3d",
         "x": [
          3.009905516755846,
          2.422894263718908
         ],
         "y": [
          -6.5296736607298485,
          -5.838697120784188
         ],
         "z": [
          -6.8414118997175954,
          -6.237165914995538
         ]
        },
        {
         "hoverinfo": "skip",
         "line": {
          "color": "black",
          "width": 1
         },
         "mode": "lines",
         "showlegend": false,
         "type": "scatter3d",
         "x": [
          2.214689135616443,
          1.9295561468284834
         ],
         "y": [
          -7.8200460935412845,
          -8.416952350266767
         ],
         "z": [
          -7.0532724477388005,
          -5.7876389702316615
         ]
        },
        {
         "hoverinfo": "skip",
         "line": {
          "color": "black",
          "width": 1
         },
         "mode": "lines",
         "showlegend": false,
         "type": "scatter3d",
         "x": [
          2.214689135616443,
          2.8016620025926593
         ],
         "y": [
          -7.8200460935412845,
          -8.512436312634556
         ],
         "z": [
          -7.0532724477388005,
          -7.657524578837808
         ]
        },
        {
         "hoverinfo": "skip",
         "line": {
          "color": "black",
          "width": 1
         },
         "mode": "lines",
         "showlegend": false,
         "type": "scatter3d",
         "x": [
          2.214689135616443,
          1.281379094608078
         ],
         "y": [
          -7.8200460935412845,
          -7.592282628135922
         ],
         "z": [
          -7.0532724477388005,
          -7.5671305713288675
         ]
        },
        {
         "hoverinfo": "skip",
         "line": {
          "color": "black",
          "width": 1
         },
         "mode": "lines",
         "showlegend": false,
         "type": "scatter3d",
         "x": [
          6.212870644604493,
          6.964522809939713
         ],
         "y": [
          -5.705523275807869,
          -5.86995227463982
         ],
         "z": [
          -7.823035316725585,
          -7.237831825032316
         ]
        },
        {
         "hoverinfo": "skip",
         "line": {
          "color": "black",
          "width": 1
         },
         "mode": "lines",
         "showlegend": false,
         "type": "scatter3d",
         "x": [
          4.495757895226085,
          4.982039170775689
         ],
         "y": [
          -4.044923593491575,
          -3.2313332555276104
         ],
         "z": [
          -9.229058609922799,
          -9.037420192528137
         ]
        },
        {
         "hoverinfo": "skip",
         "line": {
          "color": "black",
          "width": 1
         },
         "mode": "lines",
         "showlegend": false,
         "type": "scatter3d",
         "x": [
          2.0868336909430543,
          1.0468634902201872
         ],
         "y": [
          -5.616470869902413,
          -4.990154715796645
         ],
         "z": [
          -8.882069653290108,
          -8.177596079112481
         ]
        },
        {
         "hoverinfo": "skip",
         "line": {
          "color": "black",
          "width": 1
         },
         "mode": "lines",
         "showlegend": false,
         "type": "scatter3d",
         "x": [
          1.9295561468284834,
          1.429852973914624
         ],
         "y": [
          -8.416952350266767,
          -9.22528768162956
         ],
         "z": [
          -5.7876389702316615,
          -5.965233258006975
         ]
        },
        {
         "hoverinfo": "skip",
         "line": {
          "color": "black",
          "width": 1
         },
         "mode": "lines",
         "showlegend": false,
         "type": "scatter3d",
         "x": [
          1.0468634902201872,
          -0.20597664009523164
         ],
         "y": [
          -4.990154715796645,
          -4.938024944128733
         ],
         "z": [
          -8.177596079112481,
          -9.011868998951723
         ]
        },
        {
         "hoverinfo": "skip",
         "line": {
          "color": "black",
          "width": 1
         },
         "mode": "lines",
         "showlegend": false,
         "type": "scatter3d",
         "x": [
          1.0468634902201872,
          0.8414877960416636
         ],
         "y": [
          -4.990154715796645,
          -5.672030031703391
         ],
         "z": [
          -8.177596079112481,
          -6.906487949251861
         ]
        },
        {
         "hoverinfo": "skip",
         "line": {
          "color": "black",
          "width": 1
         },
         "mode": "lines",
         "showlegend": false,
         "type": "scatter3d",
         "x": [
          1.0468634902201872,
          1.3707270138672065
         ],
         "y": [
          -4.990154715796645,
          -3.9569017600971725
         ],
         "z": [
          -8.177596079112481,
          -7.953825577059062
         ]
        },
        {
         "hoverinfo": "skip",
         "line": {
          "color": "black",
          "width": 1
         },
         "mode": "lines",
         "showlegend": false,
         "type": "scatter3d",
         "x": [
          -0.20597664009523164,
          -0.6849548447210525
         ],
         "y": [
          -4.938024944128733,
          -6.394654914347475
         ],
         "z": [
          -9.011868998951723,
          -9.23982269406746
         ]
        },
        {
         "hoverinfo": "skip",
         "line": {
          "color": "black",
          "width": 1
         },
         "mode": "lines",
         "showlegend": false,
         "type": "scatter3d",
         "x": [
          -0.20597664009523164,
          0.03830706276600182
         ],
         "y": [
          -4.938024944128733,
          -4.319162696522309
         ],
         "z": [
          -9.011868998951723,
          -10.250870302701871
         ]
        },
        {
         "hoverinfo": "skip",
         "line": {
          "color": "black",
          "width": 1
         },
         "mode": "lines",
         "showlegend": false,
         "type": "scatter3d",
         "x": [
          -0.20597664009523164,
          -0.9913924222133259
         ],
         "y": [
          -4.938024944128733,
          -4.40675335502595
         ],
         "z": [
          -9.011868998951723,
          -8.46027128360904
         ]
        },
        {
         "hoverinfo": "skip",
         "line": {
          "color": "black",
          "width": 1
         },
         "mode": "lines",
         "showlegend": false,
         "type": "scatter3d",
         "x": [
          -0.6849548447210525,
          -0.8798524747248084
         ],
         "y": [
          -6.394654914347475,
          -7.090527726959769
         ],
         "z": [
          -9.23982269406746,
          -7.889153992095739
         ]
        },
        {
         "hoverinfo": "skip",
         "line": {
          "color": "black",
          "width": 1
         },
         "mode": "lines",
         "showlegend": false,
         "type": "scatter3d",
         "x": [
          -0.6849548447210525,
          -1.9226212522332107
         ],
         "y": [
          -6.394654914347475,
          -6.3810253820039335
         ],
         "z": [
          -9.23982269406746,
          -9.953974008260781
         ]
        },
        {
         "hoverinfo": "skip",
         "line": {
          "color": "black",
          "width": 1
         },
         "mode": "lines",
         "showlegend": false,
         "type": "scatter3d",
         "x": [
          -0.6849548447210525,
          0.0673129752384698
         ],
         "y": [
          -6.394654914347475,
          -6.928600392572842
         ],
         "z": [
          -9.23982269406746,
          -9.820537213720645
         ]
        },
        {
         "hoverinfo": "skip",
         "line": {
          "color": "black",
          "width": 1
         },
         "mode": "lines",
         "showlegend": false,
         "type": "scatter3d",
         "x": [
          -0.8798524747248084,
          0.4288138977185758
         ],
         "y": [
          -7.090527726959769,
          -7.030055455882299
         ],
         "z": [
          -7.889153992095739,
          -7.09857671562834
         ]
        },
        {
         "hoverinfo": "skip",
         "line": {
          "color": "black",
          "width": 1
         },
         "mode": "lines",
         "showlegend": false,
         "type": "scatter3d",
         "x": [
          -0.8798524747248084,
          -1.2466496147377981
         ],
         "y": [
          -7.090527726959769,
          -8.454924631817274
         ],
         "z": [
          -7.889153992095739,
          -8.103925834043299
         ]
        },
        {
         "hoverinfo": "skip",
         "line": {
          "color": "black",
          "width": 1
         },
         "mode": "lines",
         "showlegend": false,
         "type": "scatter3d",
         "x": [
          -0.8798524747248084,
          -1.6672085761392523
         ],
         "y": [
          -7.090527726959769,
          -6.584084533642818
         ],
         "z": [
          -7.889153992095739,
          -7.329162330096761
         ]
        },
        {
         "hoverinfo": "skip",
         "line": {
          "color": "black",
          "width": 1
         },
         "mode": "lines",
         "showlegend": false,
         "type": "scatter3d",
         "x": [
          0.4288138977185758,
          0.22522448119490424
         ],
         "y": [
          -7.030055455882299,
          -7.670400784764847
         ],
         "z": [
          -7.09857671562834,
          -5.724559536238704
         ]
        },
        {
         "hoverinfo": "skip",
         "line": {
          "color": "black",
          "width": 1
         },
         "mode": "lines",
         "showlegend": false,
         "type": "scatter3d",
         "x": [
          0.4288138977185758,
          0.8414877960416636
         ],
         "y": [
          -7.030055455882299,
          -5.672030031703391
         ],
         "z": [
          -7.09857671562834,
          -6.906487949251861
         ]
        },
        {
         "hoverinfo": "skip",
         "line": {
          "color": "black",
          "width": 1
         },
         "mode": "lines",
         "showlegend": false,
         "type": "scatter3d",
         "x": [
          0.4288138977185758,
          1.2063066222945347
         ],
         "y": [
          -7.030055455882299,
          -7.57082423045271
         ],
         "z": [
          -7.09857671562834,
          -7.640225306211818
         ]
        },
        {
         "hoverinfo": "skip",
         "line": {
          "color": "black",
          "width": 1
         },
         "mode": "lines",
         "showlegend": false,
         "type": "scatter3d",
         "x": [
          0.22522448119490424,
          1.4740185926894052
         ],
         "y": [
          -7.670400784764847,
          -7.7201375861585175
         ],
         "z": [
          -5.724559536238704,
          -5.031323272268194
         ]
        },
        {
         "hoverinfo": "skip",
         "line": {
          "color": "black",
          "width": 1
         },
         "mode": "lines",
         "showlegend": false,
         "type": "scatter3d",
         "x": [
          0.22522448119490424,
          -0.16118999514393106
         ],
         "y": [
          -7.670400784764847,
          -8.681537197098166
         ],
         "z": [
          -5.724559536238704,
          -5.8479410913005765
         ]
        },
        {
         "hoverinfo": "skip",
         "line": {
          "color": "black",
          "width": 1
         },
         "mode": "lines",
         "showlegend": false,
         "type": "scatter3d",
         "x": [
          0.22522448119490424,
          -0.4859149442886421
         ],
         "y": [
          -7.670400784764847,
          -7.077784377118048
         ],
         "z": [
          -5.724559536238704,
          -5.149428672077567
         ]
        },
        {
         "hoverinfo": "skip",
         "line": {
          "color": "black",
          "width": 1
         },
         "mode": "lines",
         "showlegend": false,
         "type": "scatter3d",
         "x": [
          0.03830706276600182,
          0.3424624316384577
         ],
         "y": [
          -4.319162696522309,
          -3.4042387187269085
         ],
         "z": [
          -10.250870302701871,
          -10.17316813773139
         ]
        },
        {
         "hoverinfo": "skip",
         "line": {
          "color": "black",
          "width": 1
         },
         "mode": "lines",
         "showlegend": false,
         "type": "scatter3d",
         "x": [
          -1.9226212522332107,
          -1.873554095745476
         ],
         "y": [
          -6.3810253820039335,
          -5.948402160589389
         ],
         "z": [
          -9.953974008260781,
          -10.81784180048776
         ]
        },
        {
         "hoverinfo": "skip",
         "line": {
          "color": "black",
          "width": 1
         },
         "mode": "lines",
         "showlegend": false,
         "type": "scatter3d",
         "x": [
          -1.2466496147377981,
          -2.066879108740732
         ],
         "y": [
          -8.454924631817274,
          -8.567832760325874
         ],
         "z": [
          -8.103925834043299,
          -8.604162109901397
         ]
        },
        {
         "hoverinfo": "skip",
         "line": {
          "color": "black",
          "width": 1
         },
         "mode": "lines",
         "showlegend": false,
         "type": "scatter3d",
         "x": [
          1.4740185926894052,
          1.4201167905380263
         ],
         "y": [
          -7.7201375861585175,
          -8.1140303895228
         ],
         "z": [
          -5.031323272268194,
          -4.150350483140937
         ]
        }
       ],
       "layout": {
        "scene": {
         "xaxis": {
          "showgrid": false,
          "showline": false,
          "showticklabels": false
         },
         "yaxis": {
          "showgrid": false,
          "showline": false,
          "showticklabels": false
         },
         "zaxis": {
          "showgrid": false,
          "showline": false,
          "showticklabels": false
         }
        },
        "template": {
         "data": {
          "bar": [
           {
            "error_x": {
             "color": "rgb(36,36,36)"
            },
            "error_y": {
             "color": "rgb(36,36,36)"
            },
            "marker": {
             "line": {
              "color": "white",
              "width": 0.5
             },
             "pattern": {
              "fillmode": "overlay",
              "size": 10,
              "solidity": 0.2
             }
            },
            "type": "bar"
           }
          ],
          "barpolar": [
           {
            "marker": {
             "line": {
              "color": "white",
              "width": 0.5
             },
             "pattern": {
              "fillmode": "overlay",
              "size": 10,
              "solidity": 0.2
             }
            },
            "type": "barpolar"
           }
          ],
          "carpet": [
           {
            "aaxis": {
             "endlinecolor": "rgb(36,36,36)",
             "gridcolor": "white",
             "linecolor": "white",
             "minorgridcolor": "white",
             "startlinecolor": "rgb(36,36,36)"
            },
            "baxis": {
             "endlinecolor": "rgb(36,36,36)",
             "gridcolor": "white",
             "linecolor": "white",
             "minorgridcolor": "white",
             "startlinecolor": "rgb(36,36,36)"
            },
            "type": "carpet"
           }
          ],
          "choropleth": [
           {
            "colorbar": {
             "outlinewidth": 1,
             "tickcolor": "rgb(36,36,36)",
             "ticks": "outside"
            },
            "type": "choropleth"
           }
          ],
          "contour": [
           {
            "colorbar": {
             "outlinewidth": 1,
             "tickcolor": "rgb(36,36,36)",
             "ticks": "outside"
            },
            "colorscale": [
             [
              0,
              "#440154"
             ],
             [
              0.1111111111111111,
              "#482878"
             ],
             [
              0.2222222222222222,
              "#3e4989"
             ],
             [
              0.3333333333333333,
              "#31688e"
             ],
             [
              0.4444444444444444,
              "#26828e"
             ],
             [
              0.5555555555555556,
              "#1f9e89"
             ],
             [
              0.6666666666666666,
              "#35b779"
             ],
             [
              0.7777777777777778,
              "#6ece58"
             ],
             [
              0.8888888888888888,
              "#b5de2b"
             ],
             [
              1,
              "#fde725"
             ]
            ],
            "type": "contour"
           }
          ],
          "contourcarpet": [
           {
            "colorbar": {
             "outlinewidth": 1,
             "tickcolor": "rgb(36,36,36)",
             "ticks": "outside"
            },
            "type": "contourcarpet"
           }
          ],
          "heatmap": [
           {
            "colorbar": {
             "outlinewidth": 1,
             "tickcolor": "rgb(36,36,36)",
             "ticks": "outside"
            },
            "colorscale": [
             [
              0,
              "#440154"
             ],
             [
              0.1111111111111111,
              "#482878"
             ],
             [
              0.2222222222222222,
              "#3e4989"
             ],
             [
              0.3333333333333333,
              "#31688e"
             ],
             [
              0.4444444444444444,
              "#26828e"
             ],
             [
              0.5555555555555556,
              "#1f9e89"
             ],
             [
              0.6666666666666666,
              "#35b779"
             ],
             [
              0.7777777777777778,
              "#6ece58"
             ],
             [
              0.8888888888888888,
              "#b5de2b"
             ],
             [
              1,
              "#fde725"
             ]
            ],
            "type": "heatmap"
           }
          ],
          "heatmapgl": [
           {
            "colorbar": {
             "outlinewidth": 1,
             "tickcolor": "rgb(36,36,36)",
             "ticks": "outside"
            },
            "colorscale": [
             [
              0,
              "#440154"
             ],
             [
              0.1111111111111111,
              "#482878"
             ],
             [
              0.2222222222222222,
              "#3e4989"
             ],
             [
              0.3333333333333333,
              "#31688e"
             ],
             [
              0.4444444444444444,
              "#26828e"
             ],
             [
              0.5555555555555556,
              "#1f9e89"
             ],
             [
              0.6666666666666666,
              "#35b779"
             ],
             [
              0.7777777777777778,
              "#6ece58"
             ],
             [
              0.8888888888888888,
              "#b5de2b"
             ],
             [
              1,
              "#fde725"
             ]
            ],
            "type": "heatmapgl"
           }
          ],
          "histogram": [
           {
            "marker": {
             "line": {
              "color": "white",
              "width": 0.6
             }
            },
            "type": "histogram"
           }
          ],
          "histogram2d": [
           {
            "colorbar": {
             "outlinewidth": 1,
             "tickcolor": "rgb(36,36,36)",
             "ticks": "outside"
            },
            "colorscale": [
             [
              0,
              "#440154"
             ],
             [
              0.1111111111111111,
              "#482878"
             ],
             [
              0.2222222222222222,
              "#3e4989"
             ],
             [
              0.3333333333333333,
              "#31688e"
             ],
             [
              0.4444444444444444,
              "#26828e"
             ],
             [
              0.5555555555555556,
              "#1f9e89"
             ],
             [
              0.6666666666666666,
              "#35b779"
             ],
             [
              0.7777777777777778,
              "#6ece58"
             ],
             [
              0.8888888888888888,
              "#b5de2b"
             ],
             [
              1,
              "#fde725"
             ]
            ],
            "type": "histogram2d"
           }
          ],
          "histogram2dcontour": [
           {
            "colorbar": {
             "outlinewidth": 1,
             "tickcolor": "rgb(36,36,36)",
             "ticks": "outside"
            },
            "colorscale": [
             [
              0,
              "#440154"
             ],
             [
              0.1111111111111111,
              "#482878"
             ],
             [
              0.2222222222222222,
              "#3e4989"
             ],
             [
              0.3333333333333333,
              "#31688e"
             ],
             [
              0.4444444444444444,
              "#26828e"
             ],
             [
              0.5555555555555556,
              "#1f9e89"
             ],
             [
              0.6666666666666666,
              "#35b779"
             ],
             [
              0.7777777777777778,
              "#6ece58"
             ],
             [
              0.8888888888888888,
              "#b5de2b"
             ],
             [
              1,
              "#fde725"
             ]
            ],
            "type": "histogram2dcontour"
           }
          ],
          "mesh3d": [
           {
            "colorbar": {
             "outlinewidth": 1,
             "tickcolor": "rgb(36,36,36)",
             "ticks": "outside"
            },
            "type": "mesh3d"
           }
          ],
          "parcoords": [
           {
            "line": {
             "colorbar": {
              "outlinewidth": 1,
              "tickcolor": "rgb(36,36,36)",
              "ticks": "outside"
             }
            },
            "type": "parcoords"
           }
          ],
          "pie": [
           {
            "automargin": true,
            "type": "pie"
           }
          ],
          "scatter": [
           {
            "fillpattern": {
             "fillmode": "overlay",
             "size": 10,
             "solidity": 0.2
            },
            "type": "scatter"
           }
          ],
          "scatter3d": [
           {
            "line": {
             "colorbar": {
              "outlinewidth": 1,
              "tickcolor": "rgb(36,36,36)",
              "ticks": "outside"
             }
            },
            "marker": {
             "colorbar": {
              "outlinewidth": 1,
              "tickcolor": "rgb(36,36,36)",
              "ticks": "outside"
             }
            },
            "type": "scatter3d"
           }
          ],
          "scattercarpet": [
           {
            "marker": {
             "colorbar": {
              "outlinewidth": 1,
              "tickcolor": "rgb(36,36,36)",
              "ticks": "outside"
             }
            },
            "type": "scattercarpet"
           }
          ],
          "scattergeo": [
           {
            "marker": {
             "colorbar": {
              "outlinewidth": 1,
              "tickcolor": "rgb(36,36,36)",
              "ticks": "outside"
             }
            },
            "type": "scattergeo"
           }
          ],
          "scattergl": [
           {
            "marker": {
             "colorbar": {
              "outlinewidth": 1,
              "tickcolor": "rgb(36,36,36)",
              "ticks": "outside"
             }
            },
            "type": "scattergl"
           }
          ],
          "scattermapbox": [
           {
            "marker": {
             "colorbar": {
              "outlinewidth": 1,
              "tickcolor": "rgb(36,36,36)",
              "ticks": "outside"
             }
            },
            "type": "scattermapbox"
           }
          ],
          "scatterpolar": [
           {
            "marker": {
             "colorbar": {
              "outlinewidth": 1,
              "tickcolor": "rgb(36,36,36)",
              "ticks": "outside"
             }
            },
            "type": "scatterpolar"
           }
          ],
          "scatterpolargl": [
           {
            "marker": {
             "colorbar": {
              "outlinewidth": 1,
              "tickcolor": "rgb(36,36,36)",
              "ticks": "outside"
             }
            },
            "type": "scatterpolargl"
           }
          ],
          "scatterternary": [
           {
            "marker": {
             "colorbar": {
              "outlinewidth": 1,
              "tickcolor": "rgb(36,36,36)",
              "ticks": "outside"
             }
            },
            "type": "scatterternary"
           }
          ],
          "surface": [
           {
            "colorbar": {
             "outlinewidth": 1,
             "tickcolor": "rgb(36,36,36)",
             "ticks": "outside"
            },
            "colorscale": [
             [
              0,
              "#440154"
             ],
             [
              0.1111111111111111,
              "#482878"
             ],
             [
              0.2222222222222222,
              "#3e4989"
             ],
             [
              0.3333333333333333,
              "#31688e"
             ],
             [
              0.4444444444444444,
              "#26828e"
             ],
             [
              0.5555555555555556,
              "#1f9e89"
             ],
             [
              0.6666666666666666,
              "#35b779"
             ],
             [
              0.7777777777777778,
              "#6ece58"
             ],
             [
              0.8888888888888888,
              "#b5de2b"
             ],
             [
              1,
              "#fde725"
             ]
            ],
            "type": "surface"
           }
          ],
          "table": [
           {
            "cells": {
             "fill": {
              "color": "rgb(237,237,237)"
             },
             "line": {
              "color": "white"
             }
            },
            "header": {
             "fill": {
              "color": "rgb(217,217,217)"
             },
             "line": {
              "color": "white"
             }
            },
            "type": "table"
           }
          ]
         },
         "layout": {
          "annotationdefaults": {
           "arrowhead": 0,
           "arrowwidth": 1
          },
          "autotypenumbers": "strict",
          "coloraxis": {
           "colorbar": {
            "outlinewidth": 1,
            "tickcolor": "rgb(36,36,36)",
            "ticks": "outside"
           }
          },
          "colorscale": {
           "diverging": [
            [
             0,
             "rgb(103,0,31)"
            ],
            [
             0.1,
             "rgb(178,24,43)"
            ],
            [
             0.2,
             "rgb(214,96,77)"
            ],
            [
             0.3,
             "rgb(244,165,130)"
            ],
            [
             0.4,
             "rgb(253,219,199)"
            ],
            [
             0.5,
             "rgb(247,247,247)"
            ],
            [
             0.6,
             "rgb(209,229,240)"
            ],
            [
             0.7,
             "rgb(146,197,222)"
            ],
            [
             0.8,
             "rgb(67,147,195)"
            ],
            [
             0.9,
             "rgb(33,102,172)"
            ],
            [
             1,
             "rgb(5,48,97)"
            ]
           ],
           "sequential": [
            [
             0,
             "#440154"
            ],
            [
             0.1111111111111111,
             "#482878"
            ],
            [
             0.2222222222222222,
             "#3e4989"
            ],
            [
             0.3333333333333333,
             "#31688e"
            ],
            [
             0.4444444444444444,
             "#26828e"
            ],
            [
             0.5555555555555556,
             "#1f9e89"
            ],
            [
             0.6666666666666666,
             "#35b779"
            ],
            [
             0.7777777777777778,
             "#6ece58"
            ],
            [
             0.8888888888888888,
             "#b5de2b"
            ],
            [
             1,
             "#fde725"
            ]
           ],
           "sequentialminus": [
            [
             0,
             "#440154"
            ],
            [
             0.1111111111111111,
             "#482878"
            ],
            [
             0.2222222222222222,
             "#3e4989"
            ],
            [
             0.3333333333333333,
             "#31688e"
            ],
            [
             0.4444444444444444,
             "#26828e"
            ],
            [
             0.5555555555555556,
             "#1f9e89"
            ],
            [
             0.6666666666666666,
             "#35b779"
            ],
            [
             0.7777777777777778,
             "#6ece58"
            ],
            [
             0.8888888888888888,
             "#b5de2b"
            ],
            [
             1,
             "#fde725"
            ]
           ]
          },
          "colorway": [
           "#1F77B4",
           "#FF7F0E",
           "#2CA02C",
           "#D62728",
           "#9467BD",
           "#8C564B",
           "#E377C2",
           "#7F7F7F",
           "#BCBD22",
           "#17BECF"
          ],
          "font": {
           "color": "rgb(36,36,36)"
          },
          "geo": {
           "bgcolor": "white",
           "lakecolor": "white",
           "landcolor": "white",
           "showlakes": true,
           "showland": true,
           "subunitcolor": "white"
          },
          "hoverlabel": {
           "align": "left"
          },
          "hovermode": "closest",
          "mapbox": {
           "style": "light"
          },
          "paper_bgcolor": "white",
          "plot_bgcolor": "white",
          "polar": {
           "angularaxis": {
            "gridcolor": "rgb(232,232,232)",
            "linecolor": "rgb(36,36,36)",
            "showgrid": false,
            "showline": true,
            "ticks": "outside"
           },
           "bgcolor": "white",
           "radialaxis": {
            "gridcolor": "rgb(232,232,232)",
            "linecolor": "rgb(36,36,36)",
            "showgrid": false,
            "showline": true,
            "ticks": "outside"
           }
          },
          "scene": {
           "xaxis": {
            "backgroundcolor": "white",
            "gridcolor": "rgb(232,232,232)",
            "gridwidth": 2,
            "linecolor": "rgb(36,36,36)",
            "showbackground": true,
            "showgrid": false,
            "showline": true,
            "ticks": "outside",
            "zeroline": false,
            "zerolinecolor": "rgb(36,36,36)"
           },
           "yaxis": {
            "backgroundcolor": "white",
            "gridcolor": "rgb(232,232,232)",
            "gridwidth": 2,
            "linecolor": "rgb(36,36,36)",
            "showbackground": true,
            "showgrid": false,
            "showline": true,
            "ticks": "outside",
            "zeroline": false,
            "zerolinecolor": "rgb(36,36,36)"
           },
           "zaxis": {
            "backgroundcolor": "white",
            "gridcolor": "rgb(232,232,232)",
            "gridwidth": 2,
            "linecolor": "rgb(36,36,36)",
            "showbackground": true,
            "showgrid": false,
            "showline": true,
            "ticks": "outside",
            "zeroline": false,
            "zerolinecolor": "rgb(36,36,36)"
           }
          },
          "shapedefaults": {
           "fillcolor": "black",
           "line": {
            "width": 0
           },
           "opacity": 0.3
          },
          "ternary": {
           "aaxis": {
            "gridcolor": "rgb(232,232,232)",
            "linecolor": "rgb(36,36,36)",
            "showgrid": false,
            "showline": true,
            "ticks": "outside"
           },
           "baxis": {
            "gridcolor": "rgb(232,232,232)",
            "linecolor": "rgb(36,36,36)",
            "showgrid": false,
            "showline": true,
            "ticks": "outside"
           },
           "bgcolor": "white",
           "caxis": {
            "gridcolor": "rgb(232,232,232)",
            "linecolor": "rgb(36,36,36)",
            "showgrid": false,
            "showline": true,
            "ticks": "outside"
           }
          },
          "title": {
           "x": 0.05
          },
          "xaxis": {
           "automargin": true,
           "gridcolor": "rgb(232,232,232)",
           "linecolor": "rgb(36,36,36)",
           "showgrid": false,
           "showline": true,
           "ticks": "outside",
           "title": {
            "standoff": 15
           },
           "zeroline": false,
           "zerolinecolor": "rgb(36,36,36)"
          },
          "yaxis": {
           "automargin": true,
           "gridcolor": "rgb(232,232,232)",
           "linecolor": "rgb(36,36,36)",
           "showgrid": false,
           "showline": true,
           "ticks": "outside",
           "title": {
            "standoff": 15
           },
           "zeroline": false,
           "zerolinecolor": "rgb(36,36,36)"
          }
         }
        }
       }
      }
     },
     "metadata": {},
     "output_type": "display_data"
    }
   ],
   "source": [
    "# start again with the glucose-glucose at the top\n",
    "# first set the linkage using %, then add the next molecule\n",
    "glycan3 = glc % \"14bb\" + glc\n",
    "\n",
    "# now build the galactose branch\n",
    "# we can separate the statements into multiple lines\n",
    "gal % \"14aa\"\n",
    "gal_branch3 = gal + gal\n",
    "gal_branch3 % \"13aa\"\n",
    "gal_branch3 += gal\n",
    "\n",
    "# now build the mannose branch\n",
    "# or we can \"chain\" the statements together using ()\n",
    "man_branch3 = (man % \"14bb\" + man) % \"14ab\" + glc\n",
    "\n",
    "# now attach both branches to the glucose-glucose\n",
    "# now we also need to set the attach residues using @\n",
    "glycan3 = glycan3 % \"13ab\" + gal_branch3 @ 1\n",
    "glycan3 = glycan3 % \"12bb\" @ 2 + man_branch3 @ 1\n",
    "\n",
    "# that's it! now we can visualize the glycan\n",
    "glycan3.show()"
   ]
  },
  {
   "cell_type": "markdown",
   "metadata": {},
   "source": [
    "Naturally, we can combine all three syntaxes together if we like. Whatever bits and pieces you like best about the three. So, if you don't like the `mol_a % \"14bb\"` syntax just use `mol_a.set_linkage(\"14bb\")` instead, it will not affect your ability to use `mol_a + mol_b` or `mol_a.attach(mol_b)` or `bb.connect(mol_a, mol_b)` later on. By the way, if you set the linkage beforehand, there is no need to specify it again when calling the `attach` method or `connect` function. Same thing goes for the attach residue. "
   ]
  },
  {
   "cell_type": "markdown",
   "metadata": {},
   "source": [
    "With that we are at the end of this little tour through the three different ways to construct molecules in biobuild. Of course, there are many more functions and methods than there are operators, and it may not help readability to rely on the operators too much, especially when chaining many statements together. Nevertheless, they are a handy way to very concisely construct molecules. Please, feel free to use whichever syntax you prefer. Good luck in your project using biobuild! "
   ]
  }
 ],
 "metadata": {
  "kernelspec": {
   "display_name": "glyco2",
   "language": "python",
   "name": "python3"
  },
  "language_info": {
   "codemirror_mode": {
    "name": "ipython",
    "version": 3
   },
   "file_extension": ".py",
   "mimetype": "text/x-python",
   "name": "python",
   "nbconvert_exporter": "python",
   "pygments_lexer": "ipython3",
   "version": "3.11.2"
  },
  "orig_nbformat": 4
 },
 "nbformat": 4,
 "nbformat_minor": 2
}
